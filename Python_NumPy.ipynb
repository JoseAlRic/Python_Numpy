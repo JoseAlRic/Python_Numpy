{
  "nbformat": 4,
  "nbformat_minor": 0,
  "metadata": {
    "colab": {
      "provenance": [],
      "collapsed_sections": [
        "Nx8bR11TAtgr",
        "ticzPwOK8tdx",
        "RYYAABM9EF1_",
        "K50-ICpEGmKE",
        "QEnccHVzOIl5",
        "xIZjOegx7WLc"
      ]
    },
    "kernelspec": {
      "name": "python3",
      "display_name": "Python 3"
    },
    "language_info": {
      "name": "python"
    }
  },
  "cells": [
    {
      "cell_type": "markdown",
      "source": [
        "#**1. NumPy**"
      ],
      "metadata": {
        "id": "Nx8bR11TAtgr"
      }
    },
    {
      "cell_type": "markdown",
      "source": [
        "NumPy (Numerical Python) es una biblioteca fundamental en Python para el procesamiento y la manipulación eficiente de datos numéricos. Fue creado para proporcionar a los científicos de datos, ingenieros y desarrolladores una herramienta poderosa y versátil para realizar cálculos matemáticos y numéricos de manera eficiente en Python.\n",
        "\n",
        "**Caracteristicas:**"
      ],
      "metadata": {
        "id": "VoU5h5g6A0De"
      }
    },
    {
      "cell_type": "markdown",
      "source": [
        "**1.1. Arreglos Numéricos:**"
      ],
      "metadata": {
        "id": "sM_CKvAgCIYb"
      }
    },
    {
      "cell_type": "markdown",
      "source": [
        "1. El núcleo de NumPy es el objeto **ndarray** (arreglo multidimensional), que permite representar datos en forma de matrices y tensores.\n",
        "\n",
        "2. Los arreglos NumPy son homogéneos, lo que significa que todos sus elementos son del mismo tipo de dato, lo que los hace eficientes y adecuados para cálculos numéricos."
      ],
      "metadata": {
        "id": "mu32d2vGCOIF"
      }
    },
    {
      "cell_type": "markdown",
      "source": [
        "**1.2. Eficiencia y Velocidad:**"
      ],
      "metadata": {
        "id": "xaGsj4nDCdPe"
      }
    },
    {
      "cell_type": "markdown",
      "source": [
        "1. NumPy está implementado en C y Fortran, lo que lo hace altamente eficiente y rápido para operaciones numéricas y matemáticas.\n",
        "\n",
        "2. Permite realizar operaciones en arreglos completos de datos en lugar de iterar explícitamente sobre elementos, lo que mejora significativamente el rendimiento."
      ],
      "metadata": {
        "id": "wrbqYN3rCdMD"
      }
    },
    {
      "cell_type": "markdown",
      "source": [
        "**1.3. Manipulación de Datos:**\n",
        "\n"
      ],
      "metadata": {
        "id": "HvkWtDGCCdId"
      }
    },
    {
      "cell_type": "markdown",
      "source": [
        "1. NumPy proporciona una amplia gama de funciones para manipular y transformar arreglos, incluyendo transposición, concatenación, división, indexación y filtrado de datos."
      ],
      "metadata": {
        "id": "wbhKO9g0CdEQ"
      }
    },
    {
      "cell_type": "markdown",
      "source": [
        "**1.4. Funciones Matemáticas y Estadísticas:**"
      ],
      "metadata": {
        "id": "3UGKLvTECdAf"
      }
    },
    {
      "cell_type": "markdown",
      "source": [
        "1. Incluye un conjunto extenso de funciones matemáticas para realizar operaciones como suma, resta, multiplicación, trigonometría, álgebra lineal, estadísticas, entre otras.\n"
      ],
      "metadata": {
        "id": "GvWCO6QuCc5X"
      }
    },
    {
      "cell_type": "markdown",
      "source": [
        "**1.5. Operaciones de Álgebra Lineal:**"
      ],
      "metadata": {
        "id": "dnnjRa80Cc8v"
      }
    },
    {
      "cell_type": "markdown",
      "source": [
        "1. NumPy es ampliamente utilizado en álgebra lineal y proporciona funciones para realizar operaciones como multiplicación de matrices, descomposiciones de matrices (SVD, QR, LU), cálculo de valores propios y más.\n"
      ],
      "metadata": {
        "id": "XPbLRPWwCc1-"
      }
    },
    {
      "cell_type": "markdown",
      "source": [
        "**1.6. Integración con Otras Bibliotecas:**\n"
      ],
      "metadata": {
        "id": "Om_eOdnqCcrE"
      }
    },
    {
      "cell_type": "markdown",
      "source": [
        "1. NumPy se integra de manera nativa con otras bibliotecas populares de Python utilizadas en ciencia de datos y aprendizaje automático, como pandas, matplotlib y scikit-learn.\n"
      ],
      "metadata": {
        "id": "0pYmoA9zCvbE"
      }
    },
    {
      "cell_type": "markdown",
      "source": [
        "**1.7. Reproducibilidad:**\n"
      ],
      "metadata": {
        "id": "Wc9kJBIaCxQQ"
      }
    },
    {
      "cell_type": "markdown",
      "source": [
        "1. NumPy garantiza la reproducibilidad de resultados en investigaciones y análisis de datos al generar números pseudoaleatorios de manera determinista.\n"
      ],
      "metadata": {
        "id": "QyiXihjBCx1t"
      }
    },
    {
      "cell_type": "markdown",
      "source": [
        "# **2. Cargando documentos a nuestro Google Colab**"
      ],
      "metadata": {
        "id": "ticzPwOK8tdx"
      }
    },
    {
      "cell_type": "markdown",
      "source": [
        "**¿Como cargar datos externos?**"
      ],
      "metadata": {
        "id": "4a0TTAA8KW_x"
      }
    },
    {
      "cell_type": "markdown",
      "source": [
        "\n",
        "Para cargar datos desde un archivo en Python usando la biblioteca NumPy, puedes utilizar la función **numpy.loadtxt()**. Esta función te permite cargar datos desde un archivo de texto en una matriz NumPy, lo que facilita el procesamiento y análisis de los datos. Aquí está la sintaxis básica:"
      ],
      "metadata": {
        "id": "llFZzj8hDRXX"
      }
    },
    {
      "cell_type": "code",
      "source": [
        "'''\n",
        "import numpy as np\n",
        "\n",
        "nombre_de_la_matriz = np.loadtxt('nombre_del_archivo.txt')\n",
        "'''"
      ],
      "metadata": {
        "colab": {
          "base_uri": "https://localhost:8080/",
          "height": 35
        },
        "id": "vqceEGnpDYLH",
        "outputId": "9f84c229-f00f-4e81-8be4-8586099c1345"
      },
      "execution_count": 133,
      "outputs": [
        {
          "output_type": "execute_result",
          "data": {
            "text/plain": [
              "\"\\nimport numpy as np\\n\\nnombre_de_la_matriz = np.loadtxt('nombre_del_archivo.txt')\\n\""
            ],
            "application/vnd.google.colaboratory.intrinsic+json": {
              "type": "string"
            }
          },
          "metadata": {},
          "execution_count": 133
        }
      ]
    },
    {
      "cell_type": "markdown",
      "source": [
        "**Donde:**\n",
        "\n",
        "1. **nombre_de_la_matriz** es el nombre que le das a la matriz NumPy donde se almacenarán los datos.\n",
        "\n",
        "2. **'nombre_del_archivo.txt'** es el nombre del archivo desde el cual deseas cargar los datos. Asegúrate de que el archivo esté en el directorio de trabajo actual o proporciona la ruta completa al archivo si está en otro lugar.\n",
        "\n",
        "Además, **numpy.loadtxt()** tiene parámetros adicionales que te permiten personalizar la forma en que se cargan los datos, como el delimitador, el tipo de datos, la omisión de líneas de encabezado, etc.\n",
        "\n",
        "Aquí tienes un ejemplo básico de cómo cargar datos desde un archivo txt con NumPy:"
      ],
      "metadata": {
        "id": "AdPbj-xjDmCl"
      }
    },
    {
      "cell_type": "code",
      "source": [
        "import numpy as np\n",
        "#Cargando los archivos en las variable para trabar con los datos\n",
        "km = np.loadtxt('carros-km.txt',dtype=int)"
      ],
      "metadata": {
        "id": "VL6bzHboFoo3"
      },
      "execution_count": 134,
      "outputs": []
    },
    {
      "cell_type": "markdown",
      "source": [
        "1. **np.loadtxt(...):** Carga datos desde un archivo de texto en un array NumPy. Esta función toma varios parámetros, pero en este caso, se están utilizando los siguientes:\n",
        "\n",
        "2. **'carros-km.txt':** Es el nombre del archivo de texto desde el cual se cargarán los datos.\n",
        "\n",
        "3. **dtype=int:** Este parámetro especifica que los datos deben ser interpretados como números enteros (integer) al cargarlos en el array NumPy. Si no se especifica, NumPy intentará determinar automáticamente el tipo de dato, pero aquí se ha especificado para asegurarse de que los datos se interpreten como enteros.\n",
        "\n",
        "4. **km = ...:** El resultado de np.loadtxt(...) se asigna a la variable km, que se convierte en un array NumPy que contiene los datos cargados desde el archivo de texto."
      ],
      "metadata": {
        "id": "zwdUv77IIb70"
      }
    },
    {
      "cell_type": "code",
      "source": [
        "km"
      ],
      "metadata": {
        "id": "hgOMhJvJI2u4",
        "outputId": "7bd538b8-ebfc-4e88-a328-f68b4b163812",
        "colab": {
          "base_uri": "https://localhost:8080/"
        }
      },
      "execution_count": 135,
      "outputs": [
        {
          "output_type": "execute_result",
          "data": {
            "text/plain": [
              "array([ 44410,   5712,  37123,      0,  25757,  10728,      0,  77599,\n",
              "        99197,  37978,  12859,   8052,  89773,      0,  41457, 115607,\n",
              "        46449,      0,  37086,  15173, 101193,      0,  98079, 102959,\n",
              "            0,      0,   5795,      0,  58848,  94381,  30163,  53332,\n",
              "        17720,  33808,  90684,  43975,      0,      0,   5526,      0,\n",
              "        93415,  40762,      0,  86302,      0,   9755,  69945,   2395,\n",
              "            0,  80349,  85554,  50496,  67716,  93947,  35345,  81007,\n",
              "       119513,      0,      0,      0,      0,      0, 118895,  48509,\n",
              "       100912,  95649,      0,  90495,      0,  29132,  23802,  84992,\n",
              "        54395,  26731,  44329, 118236, 113808,    610,      0,      0,\n",
              "        12887,  79607,  90924,  42733,      0,      0, 117714, 113885,\n",
              "            0,  30511,  74867, 119760,   8356,  64247,  88661,   4539,\n",
              "       110116,  33215,  92001,      0,  81708,  70641,      0,  91277,\n",
              "        26544,  52596,  47503,  89056,  28834, 110564,  56638,  17357,\n",
              "        74015,  15196,      0,  10821,      0,      0,   9595,  99052,\n",
              "        52389, 119945,  96005,  31639,      0,  80187,      0,  58212,\n",
              "        61672,  32017,      0,  56944,      0,  86519,   4821, 101025,\n",
              "        30705,      0,  32555, 103389,      0,  55289,      0,      0,\n",
              "       115930,  66437,  96800,  14237,  19896, 113045, 114942,   3173,\n",
              "        83611,  25356,  88634,   2314,   2627,  52034,      0,      0,\n",
              "        79577, 108201,  76453,  57683,  96610, 109001,  26212,  45971,\n",
              "        49182,  49907,  38620,  60996,  73914, 107392,   9146,      0,\n",
              "        17924,      0, 116949,  20476,  52804,   8849,  91724,  32056,\n",
              "        74886,      0,      0,  52189,  83559,      0,  20328,      0,\n",
              "        75577,  33659, 104341,  25510,  18965,  87161,   6652,  55738,\n",
              "            0,      0,      0,  64320,      0,  68678,  71697,      0,\n",
              "        34783,  33772,  85127,  13606,  35647,  95128,  14046,  41194,\n",
              "            0,  96100, 103900,  43814,  24638,      0, 110966,  15987,\n",
              "        53369,  10077,  71544,    107,   8394,  41498, 116002, 100858,\n",
              "        67475,   8497,   4420,      0,  58537,      0,      0, 112016,\n",
              "        91840, 112787,      0,      0,   9293,      0,  55083,  48796,\n",
              "            0,  89685,  85384,  98108,  71280,  27505,  29981,  52637,\n",
              "         7685,  50188])"
            ]
          },
          "metadata": {},
          "execution_count": 135
        }
      ]
    },
    {
      "cell_type": "code",
      "source": [
        "años = np.loadtxt('carros-años.txt',dtype=int)"
      ],
      "metadata": {
        "id": "uGTzzgc1I8WJ"
      },
      "execution_count": 136,
      "outputs": []
    },
    {
      "cell_type": "code",
      "source": [
        "años"
      ],
      "metadata": {
        "colab": {
          "base_uri": "https://localhost:8080/"
        },
        "id": "btYHbUG5JHdF",
        "outputId": "d525cce5-20b4-42ae-f399-c1b0ea0b07bd"
      },
      "execution_count": 137,
      "outputs": [
        {
          "output_type": "execute_result",
          "data": {
            "text/plain": [
              "array([2003, 1991, 1990, 2020, 2006, 2012, 2020, 2009, 2010, 2011, 2002,\n",
              "       2007, 2001, 2020, 2009, 2016, 2012, 2020, 2016, 2017, 2002, 2020,\n",
              "       1994, 1991, 2020, 2020, 2016, 2020, 2002, 1991, 1997, 1995, 2018,\n",
              "       1991, 2014, 1995, 2020, 2020, 2009, 2020, 2013, 2003, 2020, 2002,\n",
              "       2020, 2002, 2004, 2001, 2020, 2003, 2009, 2006, 2000, 2006, 2010,\n",
              "       1994, 2007, 2020, 2020, 2020, 2020, 2020, 2017, 2011, 2001, 1996,\n",
              "       2020, 1994, 2020, 2007, 1994, 2007, 1997, 2006, 2013, 1994, 2008,\n",
              "       2008, 2020, 2020, 1999, 2007, 1993, 1995, 2020, 2020, 2016, 2011,\n",
              "       2020, 2002, 2013, 2017, 2016, 2008, 2018, 2003, 2003, 2004, 2010,\n",
              "       2020, 2006, 2001, 2020, 2015, 2018, 2017, 1992, 2001, 1993, 1995,\n",
              "       2003, 2014, 2008, 2013, 2020, 2017, 2020, 2020, 2006, 2015, 2007,\n",
              "       2005, 2017, 1998, 2020, 1999, 2020, 2009, 2003, 1994, 2020, 1994,\n",
              "       2020, 2015, 1996, 1997, 1993, 2020, 1992, 1995, 2020, 1990, 2020,\n",
              "       2020, 1991, 1990, 2012, 2007, 2013, 2000, 2002, 1996, 1996, 2015,\n",
              "       1993, 2013, 2013, 2009, 2020, 2020, 2002, 1997, 1998, 2004, 1996,\n",
              "       2015, 2016, 2005, 1999, 1995, 1993, 2004, 2013, 1998, 2018, 2020,\n",
              "       2018, 2020, 1990, 2009, 1990, 2006, 2002, 1991, 1992, 2020, 2020,\n",
              "       2005, 2010, 2020, 2016, 2020, 2010, 1994, 2001, 2014, 1996, 1993,\n",
              "       1993, 2001, 2020, 2020, 2020, 2007, 2020, 2016, 2014, 2020, 2015,\n",
              "       2015, 1996, 2002, 2005, 1995, 1999, 2005, 2020, 1997, 1990, 2001,\n",
              "       2013, 2020, 2017, 2011, 2005, 2007, 1993, 1991, 1991, 1997, 2000,\n",
              "       2007, 2006, 2015, 2008, 2020, 1996, 2020, 2020, 2014, 2004, 2008,\n",
              "       2020, 2020, 2012, 2020, 1996, 2011, 2020, 2010, 2007, 1994, 2007,\n",
              "       2014, 1991, 2002, 1996, 1992])"
            ]
          },
          "metadata": {},
          "execution_count": 137
        }
      ]
    },
    {
      "cell_type": "markdown",
      "source": [
        "Ahora que hemos cargado los documentos '**km**' y '**años**', procederemos a realizar un sencillo cálculo para determinar el promedio de kilómetros recorridos por año. Esta es solo una de las muchas aplicaciones de NumPy que exploraremos para aprender sobre las diversas capacidades de esta biblioteca"
      ],
      "metadata": {
        "id": "JqYZ9qgZE-Jz"
      }
    },
    {
      "cell_type": "markdown",
      "source": [
        "**¿Cual es el promedio de kilometros recorridos por año?**"
      ],
      "metadata": {
        "id": "4HFehBTzJOXb"
      }
    },
    {
      "cell_type": "markdown",
      "source": [
        "**Formula:**\n",
        "\n",
        "*   km_promedio = km_total / (Año_actual - Año_fabricacion)"
      ],
      "metadata": {
        "id": "VUy8-ou2JWg9"
      }
    },
    {
      "cell_type": "code",
      "source": [
        "km_promedio = km / (2023 - años)"
      ],
      "metadata": {
        "id": "4kPiTiR9JJik"
      },
      "execution_count": 138,
      "outputs": []
    },
    {
      "cell_type": "code",
      "source": [
        "km_promedio"
      ],
      "metadata": {
        "id": "tCrzqQfGJJd3",
        "outputId": "16ffee65-a0f8-4d73-eb8d-cca9616989fa",
        "colab": {
          "base_uri": "https://localhost:8080/"
        }
      },
      "execution_count": 139,
      "outputs": [
        {
          "output_type": "execute_result",
          "data": {
            "text/plain": [
              "array([2.22050000e+03, 1.78500000e+02, 1.12493939e+03, 0.00000000e+00,\n",
              "       1.51511765e+03, 9.75272727e+02, 0.00000000e+00, 5.54278571e+03,\n",
              "       7.63053846e+03, 3.16483333e+03, 6.12333333e+02, 5.03250000e+02,\n",
              "       4.08059091e+03, 0.00000000e+00, 2.96121429e+03, 1.65152857e+04,\n",
              "       4.22263636e+03, 0.00000000e+00, 5.29800000e+03, 2.52883333e+03,\n",
              "       4.81871429e+03, 0.00000000e+00, 3.38203448e+03, 3.21746875e+03,\n",
              "       0.00000000e+00, 0.00000000e+00, 8.27857143e+02, 0.00000000e+00,\n",
              "       2.80228571e+03, 2.94940625e+03, 1.16011538e+03, 1.90471429e+03,\n",
              "       3.54400000e+03, 1.05650000e+03, 1.00760000e+04, 1.57053571e+03,\n",
              "       0.00000000e+00, 0.00000000e+00, 3.94714286e+02, 0.00000000e+00,\n",
              "       9.34150000e+03, 2.03810000e+03, 0.00000000e+00, 4.10961905e+03,\n",
              "       0.00000000e+00, 4.64523810e+02, 3.68131579e+03, 1.08863636e+02,\n",
              "       0.00000000e+00, 4.01745000e+03, 6.11100000e+03, 2.97035294e+03,\n",
              "       2.94417391e+03, 5.52629412e+03, 2.71884615e+03, 2.79334483e+03,\n",
              "       7.46956250e+03, 0.00000000e+00, 0.00000000e+00, 0.00000000e+00,\n",
              "       0.00000000e+00, 0.00000000e+00, 1.98158333e+04, 4.04241667e+03,\n",
              "       4.58690909e+03, 3.54255556e+03, 0.00000000e+00, 3.12051724e+03,\n",
              "       0.00000000e+00, 1.82075000e+03, 8.20758621e+02, 5.31200000e+03,\n",
              "       2.09211538e+03, 1.57241176e+03, 4.43290000e+03, 4.07710345e+03,\n",
              "       7.58720000e+03, 4.06666667e+01, 0.00000000e+00, 0.00000000e+00,\n",
              "       5.36958333e+02, 4.97543750e+03, 3.03080000e+03, 1.52617857e+03,\n",
              "       0.00000000e+00, 0.00000000e+00, 1.68162857e+04, 9.49041667e+03,\n",
              "       0.00000000e+00, 1.45290476e+03, 7.48670000e+03, 1.99600000e+04,\n",
              "       1.19371429e+03, 4.28313333e+03, 1.77322000e+04, 2.26950000e+02,\n",
              "       5.50580000e+03, 1.74815789e+03, 7.07700000e+03, 0.00000000e+00,\n",
              "       4.80635294e+03, 3.21095455e+03, 0.00000000e+00, 1.14096250e+04,\n",
              "       5.30880000e+03, 8.76600000e+03, 1.53235484e+03, 4.04800000e+03,\n",
              "       9.61133333e+02, 3.94871429e+03, 2.83190000e+03, 1.92855556e+03,\n",
              "       4.93433333e+03, 1.51960000e+03, 0.00000000e+00, 1.80350000e+03,\n",
              "       0.00000000e+00, 0.00000000e+00, 5.64411765e+02, 1.23815000e+04,\n",
              "       3.27431250e+03, 6.66361111e+03, 1.60008333e+04, 1.26556000e+03,\n",
              "       0.00000000e+00, 3.34112500e+03, 0.00000000e+00, 4.15800000e+03,\n",
              "       3.08360000e+03, 1.10403448e+03, 0.00000000e+00, 1.96358621e+03,\n",
              "       0.00000000e+00, 1.08148750e+04, 1.78555556e+02, 3.88557692e+03,\n",
              "       1.02350000e+03, 0.00000000e+00, 1.05016129e+03, 3.69246429e+03,\n",
              "       0.00000000e+00, 1.67542424e+03, 0.00000000e+00, 0.00000000e+00,\n",
              "       3.62281250e+03, 2.01324242e+03, 8.80000000e+03, 8.89812500e+02,\n",
              "       1.98960000e+03, 4.91500000e+03, 5.47342857e+03, 1.17518519e+02,\n",
              "       3.09670370e+03, 3.16950000e+03, 2.95446667e+03, 2.31400000e+02,\n",
              "       2.62700000e+02, 3.71671429e+03, 0.00000000e+00, 0.00000000e+00,\n",
              "       3.78938095e+03, 4.16157692e+03, 3.05812000e+03, 3.03594737e+03,\n",
              "       3.57814815e+03, 1.36251250e+04, 3.74457143e+03, 2.55394444e+03,\n",
              "       2.04925000e+03, 1.78239286e+03, 1.28733333e+03, 3.21031579e+03,\n",
              "       7.39140000e+03, 4.29568000e+03, 1.82920000e+03, 0.00000000e+00,\n",
              "       3.58480000e+03, 0.00000000e+00, 3.54390909e+03, 1.46257143e+03,\n",
              "       1.60012121e+03, 5.20529412e+02, 4.36780952e+03, 1.00175000e+03,\n",
              "       2.41567742e+03, 0.00000000e+00, 0.00000000e+00, 2.89938889e+03,\n",
              "       6.42761538e+03, 0.00000000e+00, 2.90400000e+03, 0.00000000e+00,\n",
              "       5.81361538e+03, 1.16065517e+03, 4.74277273e+03, 2.83444444e+03,\n",
              "       7.02407407e+02, 2.90536667e+03, 2.21733333e+02, 2.53354545e+03,\n",
              "       0.00000000e+00, 0.00000000e+00, 0.00000000e+00, 4.02000000e+03,\n",
              "       0.00000000e+00, 9.81114286e+03, 7.96633333e+03, 0.00000000e+00,\n",
              "       4.34787500e+03, 4.22150000e+03, 3.15285185e+03, 6.47904762e+02,\n",
              "       1.98038889e+03, 3.39742857e+03, 5.85250000e+02, 2.28855556e+03,\n",
              "       0.00000000e+00, 3.69615385e+03, 3.14848485e+03, 1.99154545e+03,\n",
              "       2.46380000e+03, 0.00000000e+00, 1.84943333e+04, 1.33225000e+03,\n",
              "       2.96494444e+03, 6.29812500e+02, 2.38480000e+03, 3.34375000e+00,\n",
              "       2.62312500e+02, 1.59607692e+03, 5.04356522e+03, 6.30362500e+03,\n",
              "       3.96911765e+03, 1.06212500e+03, 2.94666667e+02, 0.00000000e+00,\n",
              "       2.16803704e+03, 0.00000000e+00, 0.00000000e+00, 1.24462222e+04,\n",
              "       4.83368421e+03, 7.51913333e+03, 0.00000000e+00, 0.00000000e+00,\n",
              "       8.44818182e+02, 0.00000000e+00, 2.04011111e+03, 4.06633333e+03,\n",
              "       0.00000000e+00, 6.89884615e+03, 5.33650000e+03, 3.38303448e+03,\n",
              "       4.45500000e+03, 3.05611111e+03, 9.36906250e+02, 2.50652381e+03,\n",
              "       2.84629630e+02, 1.61896774e+03])"
            ]
          },
          "metadata": {},
          "execution_count": 139
        }
      ]
    },
    {
      "cell_type": "markdown",
      "source": [
        "El método **type()** en Python se utiliza para determinar el tipo de un objeto o variable en un programa. Proporciona información sobre si una variable es una cadena de texto, un número, una lista, un diccionario, una función, o cualquier otro tipo de objeto."
      ],
      "metadata": {
        "id": "Kz3kvdEAFUYy"
      }
    },
    {
      "cell_type": "code",
      "source": [
        "type(km_promedio)"
      ],
      "metadata": {
        "colab": {
          "base_uri": "https://localhost:8080/"
        },
        "id": "HsbABE_HJJYy",
        "outputId": "17bf3fbd-3bd4-4d61-d4c6-b650914cd176"
      },
      "execution_count": 140,
      "outputs": [
        {
          "output_type": "execute_result",
          "data": {
            "text/plain": [
              "numpy.ndarray"
            ]
          },
          "metadata": {},
          "execution_count": 140
        }
      ]
    },
    {
      "cell_type": "markdown",
      "source": [
        "El atributo **dtype** en NumPy se utiliza para obtener el tipo de datos de los elementos contenidos en un arreglo NumPy. Este atributo es útil para conocer el tipo de datos de un arreglo, especialmente cuando trabajas con datos multidimensionales en análisis numéricos y científicos."
      ],
      "metadata": {
        "id": "w3QWyf4qFp7f"
      }
    },
    {
      "cell_type": "code",
      "source": [
        "km.dtype"
      ],
      "metadata": {
        "colab": {
          "base_uri": "https://localhost:8080/"
        },
        "id": "A721UfUa9tNu",
        "outputId": "5dcc0a1e-3dd0-49e8-a39c-3b3e3d20a2b8"
      },
      "execution_count": 141,
      "outputs": [
        {
          "output_type": "execute_result",
          "data": {
            "text/plain": [
              "dtype('int64')"
            ]
          },
          "metadata": {},
          "execution_count": 141
        }
      ]
    },
    {
      "cell_type": "markdown",
      "source": [
        "En este caso nuestra variable km es de tipo **array** y el tipo de dato que contiene es enteros **int**"
      ],
      "metadata": {
        "id": "tc9k-h6be6qI"
      }
    },
    {
      "cell_type": "code",
      "source": [
        "type(km)"
      ],
      "metadata": {
        "colab": {
          "base_uri": "https://localhost:8080/"
        },
        "id": "gVye6ITk9nso",
        "outputId": "3297ad86-ff00-4838-c6c9-8cca7e132349"
      },
      "execution_count": 142,
      "outputs": [
        {
          "output_type": "execute_result",
          "data": {
            "text/plain": [
              "numpy.ndarray"
            ]
          },
          "metadata": {},
          "execution_count": 142
        }
      ]
    },
    {
      "cell_type": "markdown",
      "source": [
        "#**3. Arrays**"
      ],
      "metadata": {
        "id": "RYYAABM9EF1_"
      }
    },
    {
      "cell_type": "markdown",
      "source": [
        "**3.1. ¿Que es un array?**"
      ],
      "metadata": {
        "id": "nxQpf6GkEN84"
      }
    },
    {
      "cell_type": "markdown",
      "source": [
        "Es una estructura de datos fundamental que representa una colección de elementos numéricos organizados en una o más dimensiones. Los arrays en NumPy son similares a las listas de Python, pero tienen la ventaja de ser homogéneos, lo que significa que todos sus elementos son del mismo tipo de dato, lo que los hace más eficientes y adecuados para operaciones numéricas y matemáticas.\n",
        "\n",
        "**Caracteristicas:**\n",
        "\n"
      ],
      "metadata": {
        "id": "bTJKYhkBEchf"
      }
    },
    {
      "cell_type": "markdown",
      "source": [
        "1. **Homogeneidad:** Todos los elementos de un array NumPy deben ser del mismo tipo de dato, lo que permite un almacenamiento eficiente en memoria y operaciones numéricas optimizadas.\n",
        "\n",
        "2. **Multidimensionalidad:** Los arrays NumPy pueden tener una o más dimensiones (1D, 2D, 3D, etc.), lo que permite representar datos en forma de vectores, matrices y tensores.\n",
        "\n",
        "3. **Indexación y Slicing:** Puedes acceder a elementos individuales en un array utilizando índices, y puedes realizar operaciones de \"slicing\" para seleccionar subconjuntos de elementos.\n",
        "\n",
        "4. **Operaciones Vectorizadas:** NumPy permite realizar operaciones matemáticas y numéricas en arrays completos sin necesidad de bucles explícitos, lo que mejora la eficiencia y velocidad de cómputo.\n",
        "\n",
        "5. **Funciones Matemáticas y Estadísticas:** NumPy incluye un amplio conjunto de funciones matemáticas y estadísticas para operar en los datos contenidos en los arrays.\n",
        "\n",
        "6. **Operaciones de Álgebra Lineal:** NumPy es ampliamente utilizado en álgebra lineal y proporciona funciones para realizar operaciones como multiplicación de matrices, descomposiciones de matrices y más.\n",
        "\n",
        "7. **Compatibilidad con Otras Bibliotecas:** Los arrays NumPy se integran de manera nativa con otras bibliotecas populares de Python utilizadas en ciencia de datos y análisis numérico, lo que facilita la interoperabilidad."
      ],
      "metadata": {
        "id": "q3WDcSbkE3-p"
      }
    },
    {
      "cell_type": "markdown",
      "source": [
        "**Tip 1:** Verficando la version de python que estamos utilizando"
      ],
      "metadata": {
        "id": "qHru4aFF-Qlw"
      }
    },
    {
      "cell_type": "code",
      "source": [
        "!python -V"
      ],
      "metadata": {
        "colab": {
          "base_uri": "https://localhost:8080/"
        },
        "id": "2-YiDLWCGFoO",
        "outputId": "8347ba51-9ea5-41f6-cdb5-2299c1519989"
      },
      "execution_count": 143,
      "outputs": [
        {
          "output_type": "stream",
          "name": "stdout",
          "text": [
            "Python 3.10.12\n"
          ]
        }
      ]
    },
    {
      "cell_type": "markdown",
      "source": [
        "Importando Numpy y asignandole un nuevo nombre"
      ],
      "metadata": {
        "id": "KnORmGS38TJ9"
      }
    },
    {
      "cell_type": "code",
      "source": [
        "# Importando la biblioteca NumPy y asignando el nombre np\n",
        "import numpy as np"
      ],
      "metadata": {
        "id": "tYHdPauQ8Mtp"
      },
      "execution_count": 144,
      "outputs": []
    },
    {
      "cell_type": "markdown",
      "source": [
        "**3.2. np.arange()**"
      ],
      "metadata": {
        "id": "0d1WRrF67Ziw"
      }
    },
    {
      "cell_type": "markdown",
      "source": [
        "La función **numpy.arange()** es una función en la biblioteca NumPy de Python que se utiliza para crear secuencias de números en forma de arreglo NumPy. Esta función es muy útil para generar secuencias de números con un valor de inicio, un valor de parada y un paso específico. La sintaxis básica de **numpy.arange()** es la siguiente:"
      ],
      "metadata": {
        "id": "I1qoI9hXLKCR"
      }
    },
    {
      "cell_type": "code",
      "source": [
        "'''\n",
        "numpy.arange([inicio, ] fin [, paso])\n",
        "'''"
      ],
      "metadata": {
        "colab": {
          "base_uri": "https://localhost:8080/",
          "height": 35
        },
        "id": "fl75giEjLWBS",
        "outputId": "e70b19d0-4b87-4ca0-d2db-0bc523aa8e6b"
      },
      "execution_count": 145,
      "outputs": [
        {
          "output_type": "execute_result",
          "data": {
            "text/plain": [
              "'\\nnumpy.arange([inicio, ] fin [, paso])\\n'"
            ],
            "application/vnd.google.colaboratory.intrinsic+json": {
              "type": "string"
            }
          },
          "metadata": {},
          "execution_count": 145
        }
      ]
    },
    {
      "cell_type": "markdown",
      "source": [
        "**Donde:**\n",
        "\n",
        "1. **inicio (opcional)** es el valor inicial de la secuencia. Si no se proporciona, se asume que comienza desde 0.\n",
        "2. **fin** es el valor final de la secuencia, que no se incluye en el resultado.\n",
        "3. **paso (opcional)** es el incremento entre los números sucesivos de la secuencia. Si no se proporciona, el valor predeterminado es 1."
      ],
      "metadata": {
        "id": "_H6YjBZILe2X"
      }
    },
    {
      "cell_type": "markdown",
      "source": [
        "Importando parte del paquete en este caso arange"
      ],
      "metadata": {
        "id": "ZE9QzVsA8Y_Z"
      }
    },
    {
      "cell_type": "markdown",
      "source": [
        "**Ejemplo 1:**\n",
        "\n",
        "Crear una secuencia de números del 0 al 10 (0 a 10, excluyendo el 10) con un paso de 1:"
      ],
      "metadata": {
        "id": "riz5oF9fL01n"
      }
    },
    {
      "cell_type": "code",
      "source": [
        "# En este caso solo importamos el paquete ARANGE de Numpy\n",
        "from numpy import arange"
      ],
      "metadata": {
        "id": "2U-bmtPF8Yex"
      },
      "execution_count": 146,
      "outputs": []
    },
    {
      "cell_type": "code",
      "source": [
        "secuencia = np.arange(10)\n",
        "print(secuencia)"
      ],
      "metadata": {
        "colab": {
          "base_uri": "https://localhost:8080/"
        },
        "id": "H00AfsS8L605",
        "outputId": "54ddf661-edd8-4bf8-c5ca-b86557ecfb97"
      },
      "execution_count": 147,
      "outputs": [
        {
          "output_type": "stream",
          "name": "stdout",
          "text": [
            "[0 1 2 3 4 5 6 7 8 9]\n"
          ]
        }
      ]
    },
    {
      "cell_type": "markdown",
      "source": [
        "**Ejemplo 2:**\n",
        "\n",
        "Crear una secuencia de números pares del 2 al 10 (2 a 10, excluyendo el 10) con un paso de 2:"
      ],
      "metadata": {
        "id": "78TYDJLbMNMp"
      }
    },
    {
      "cell_type": "code",
      "source": [
        "secuencia = np.arange(2, 10, 2)\n",
        "print(secuencia)"
      ],
      "metadata": {
        "colab": {
          "base_uri": "https://localhost:8080/"
        },
        "id": "mzxygqNGMXg-",
        "outputId": "7f07e854-8147-4fa5-b332-d8089ed4af8b"
      },
      "execution_count": 148,
      "outputs": [
        {
          "output_type": "stream",
          "name": "stdout",
          "text": [
            "[2 4 6 8]\n"
          ]
        }
      ]
    },
    {
      "cell_type": "markdown",
      "source": [
        "El resultado de ambos ejemplos será un arreglo NumPy que contiene la secuencia de números especificada.\n",
        "\n",
        "La función **numpy.arange()** es una forma eficiente y conveniente de crear secuencias de números para su uso en cálculos matemáticos y análisis de datos."
      ],
      "metadata": {
        "id": "Mgu4VYQ0Mcld"
      }
    },
    {
      "cell_type": "markdown",
      "source": [
        "**3.3. Creando arrays Numpy**"
      ],
      "metadata": {
        "id": "iHnAp3jn9D5L"
      }
    },
    {
      "cell_type": "markdown",
      "source": [
        "En NumPy, puedes crear arreglos (arrays) de varias formas. Aquí tienes algunos métodos comunes para crear arreglos NumPy:"
      ],
      "metadata": {
        "id": "WPwOSEe2MpvK"
      }
    },
    {
      "cell_type": "markdown",
      "source": [
        "\n",
        "**3.3.1. np.array()**"
      ],
      "metadata": {
        "id": "HJQgdeOx9ODq"
      }
    },
    {
      "cell_type": "markdown",
      "source": [
        "**A partir de listas o tuplas:** Puedes crear un arreglo NumPy a partir de una lista o tupla existente utilizando la función **numpy.array()**."
      ],
      "metadata": {
        "id": "NlZ89izHM0MB"
      }
    },
    {
      "cell_type": "code",
      "source": [
        "km = np.array([1000,2300,4987,1500])"
      ],
      "metadata": {
        "id": "EvM2yq8L9Oaq"
      },
      "execution_count": 149,
      "outputs": []
    },
    {
      "cell_type": "code",
      "source": [
        "km"
      ],
      "metadata": {
        "colab": {
          "base_uri": "https://localhost:8080/"
        },
        "id": "2uRX9fzu9aDF",
        "outputId": "327272f4-ba7c-4750-fac6-33ba84493203"
      },
      "execution_count": 150,
      "outputs": [
        {
          "output_type": "execute_result",
          "data": {
            "text/plain": [
              "array([1000, 2300, 4987, 1500])"
            ]
          },
          "metadata": {},
          "execution_count": 150
        }
      ]
    },
    {
      "cell_type": "markdown",
      "source": [
        "**3.3.2. Funciones generadoras**"
      ],
      "metadata": {
        "id": "pqn7m-uGNLts"
      }
    },
    {
      "cell_type": "markdown",
      "source": [
        "**Usando funciones generadoras:** NumPy proporciona funciones generadoras como **numpy.zeros(), numpy.ones(), numpy.empty(), numpy.linspace(), y numpy.logspace()** para crear arreglos con valores específicos."
      ],
      "metadata": {
        "id": "lQ8tpMdhNLV9"
      }
    },
    {
      "cell_type": "code",
      "source": [
        "arreglo_ceros = np.zeros(5)  # Crea un arreglo de 5 ceros\n",
        "arreglo_unos = np.ones(3)  # Crea un arreglo de 3 unos"
      ],
      "metadata": {
        "id": "3fbXOh2KNYsN"
      },
      "execution_count": 151,
      "outputs": []
    },
    {
      "cell_type": "code",
      "source": [
        "arreglo_ceros"
      ],
      "metadata": {
        "colab": {
          "base_uri": "https://localhost:8080/"
        },
        "id": "YUgx2PAwNcN9",
        "outputId": "33c9dd70-298a-4e6f-8e9a-d93ab6c43920"
      },
      "execution_count": 152,
      "outputs": [
        {
          "output_type": "execute_result",
          "data": {
            "text/plain": [
              "array([0., 0., 0., 0., 0.])"
            ]
          },
          "metadata": {},
          "execution_count": 152
        }
      ]
    },
    {
      "cell_type": "code",
      "source": [
        "arreglo_unos"
      ],
      "metadata": {
        "colab": {
          "base_uri": "https://localhost:8080/"
        },
        "id": "R7MsvZdANd4n",
        "outputId": "87b8e332-804e-4e26-c2c5-bd3a5dcf7246"
      },
      "execution_count": 153,
      "outputs": [
        {
          "output_type": "execute_result",
          "data": {
            "text/plain": [
              "array([1., 1., 1.])"
            ]
          },
          "metadata": {},
          "execution_count": 153
        }
      ]
    },
    {
      "cell_type": "markdown",
      "source": [
        "**3.3.3. Numeros Aleatorios**"
      ],
      "metadata": {
        "id": "VsNNB0cuNgph"
      }
    },
    {
      "cell_type": "markdown",
      "source": [
        "**Usando números aleatorios:** NumPy proporciona funciones para generar arreglos con valores aleatorios, como **numpy.random.rand() o numpy.random.randint()**."
      ],
      "metadata": {
        "id": "82kBPvRSNga5"
      }
    },
    {
      "cell_type": "code",
      "source": [
        "aleatorios = np.random.rand(3, 2)  # Crea un arreglo de 3x2 con valores aleatorios entre 0 y 1"
      ],
      "metadata": {
        "id": "Qsqj3ESaNtUf"
      },
      "execution_count": 154,
      "outputs": []
    },
    {
      "cell_type": "code",
      "source": [
        "aleatorios"
      ],
      "metadata": {
        "colab": {
          "base_uri": "https://localhost:8080/"
        },
        "id": "4S27aQCQg_wd",
        "outputId": "7726ad11-a9bc-4a51-b9c2-bb922ace8f93"
      },
      "execution_count": 155,
      "outputs": [
        {
          "output_type": "execute_result",
          "data": {
            "text/plain": [
              "array([[0.29481552, 0.32863566],\n",
              "       [0.57150026, 0.61096739],\n",
              "       [0.67197812, 0.1618963 ]])"
            ]
          },
          "metadata": {},
          "execution_count": 155
        }
      ]
    },
    {
      "cell_type": "markdown",
      "source": [
        "**3.3.4. A partir de datos externos**"
      ],
      "metadata": {
        "id": "loS7lo52_62X"
      }
    },
    {
      "cell_type": "markdown",
      "source": [
        "Los arreglos de una dimensión, también conocidos como vectores o matrices unidimensionales, son una estructura fundamental en NumPy. Son una colección ordenada de elementos que tienen un solo eje o dimensión."
      ],
      "metadata": {
        "id": "sbDbGyM-OAzl"
      }
    },
    {
      "cell_type": "code",
      "source": [
        "km = np.loadtxt(fname = 'carros-km.txt', dtype = int)"
      ],
      "metadata": {
        "id": "tlhfR4ZrABmL"
      },
      "execution_count": 156,
      "outputs": []
    },
    {
      "cell_type": "code",
      "source": [
        "km"
      ],
      "metadata": {
        "colab": {
          "base_uri": "https://localhost:8080/"
        },
        "id": "_3IUw-9pAPH0",
        "outputId": "69ed2db0-0221-4467-cd6e-3c66447c8378"
      },
      "execution_count": 157,
      "outputs": [
        {
          "output_type": "execute_result",
          "data": {
            "text/plain": [
              "array([ 44410,   5712,  37123,      0,  25757,  10728,      0,  77599,\n",
              "        99197,  37978,  12859,   8052,  89773,      0,  41457, 115607,\n",
              "        46449,      0,  37086,  15173, 101193,      0,  98079, 102959,\n",
              "            0,      0,   5795,      0,  58848,  94381,  30163,  53332,\n",
              "        17720,  33808,  90684,  43975,      0,      0,   5526,      0,\n",
              "        93415,  40762,      0,  86302,      0,   9755,  69945,   2395,\n",
              "            0,  80349,  85554,  50496,  67716,  93947,  35345,  81007,\n",
              "       119513,      0,      0,      0,      0,      0, 118895,  48509,\n",
              "       100912,  95649,      0,  90495,      0,  29132,  23802,  84992,\n",
              "        54395,  26731,  44329, 118236, 113808,    610,      0,      0,\n",
              "        12887,  79607,  90924,  42733,      0,      0, 117714, 113885,\n",
              "            0,  30511,  74867, 119760,   8356,  64247,  88661,   4539,\n",
              "       110116,  33215,  92001,      0,  81708,  70641,      0,  91277,\n",
              "        26544,  52596,  47503,  89056,  28834, 110564,  56638,  17357,\n",
              "        74015,  15196,      0,  10821,      0,      0,   9595,  99052,\n",
              "        52389, 119945,  96005,  31639,      0,  80187,      0,  58212,\n",
              "        61672,  32017,      0,  56944,      0,  86519,   4821, 101025,\n",
              "        30705,      0,  32555, 103389,      0,  55289,      0,      0,\n",
              "       115930,  66437,  96800,  14237,  19896, 113045, 114942,   3173,\n",
              "        83611,  25356,  88634,   2314,   2627,  52034,      0,      0,\n",
              "        79577, 108201,  76453,  57683,  96610, 109001,  26212,  45971,\n",
              "        49182,  49907,  38620,  60996,  73914, 107392,   9146,      0,\n",
              "        17924,      0, 116949,  20476,  52804,   8849,  91724,  32056,\n",
              "        74886,      0,      0,  52189,  83559,      0,  20328,      0,\n",
              "        75577,  33659, 104341,  25510,  18965,  87161,   6652,  55738,\n",
              "            0,      0,      0,  64320,      0,  68678,  71697,      0,\n",
              "        34783,  33772,  85127,  13606,  35647,  95128,  14046,  41194,\n",
              "            0,  96100, 103900,  43814,  24638,      0, 110966,  15987,\n",
              "        53369,  10077,  71544,    107,   8394,  41498, 116002, 100858,\n",
              "        67475,   8497,   4420,      0,  58537,      0,      0, 112016,\n",
              "        91840, 112787,      0,      0,   9293,      0,  55083,  48796,\n",
              "            0,  89685,  85384,  98108,  71280,  27505,  29981,  52637,\n",
              "         7685,  50188])"
            ]
          },
          "metadata": {},
          "execution_count": 157
        }
      ]
    },
    {
      "cell_type": "markdown",
      "source": [
        "Tipo de dato que contiene"
      ],
      "metadata": {
        "id": "N4oPLJI6AWbK"
      }
    },
    {
      "cell_type": "code",
      "source": [
        "km.dtype"
      ],
      "metadata": {
        "colab": {
          "base_uri": "https://localhost:8080/"
        },
        "id": "2QMZCucXAPB3",
        "outputId": "26075bb5-ce9b-4478-83ad-818ec76f3a04"
      },
      "execution_count": 158,
      "outputs": [
        {
          "output_type": "execute_result",
          "data": {
            "text/plain": [
              "dtype('int64')"
            ]
          },
          "metadata": {},
          "execution_count": 158
        }
      ]
    },
    {
      "cell_type": "markdown",
      "source": [
        "**3.3.5. Arrays con mas dimensiones**"
      ],
      "metadata": {
        "id": "qwWMjSpRAdsH"
      }
    },
    {
      "cell_type": "markdown",
      "source": [
        "En NumPy, puedes crear arreglos multidimensionales, también conocidos como matrices, que contienen elementos organizados en filas y columnas."
      ],
      "metadata": {
        "id": "mqwbHUFXOPDG"
      }
    },
    {
      "cell_type": "markdown",
      "source": [
        "En este ejemplo, crearemos una lista que contendrá tres listas anidadas, y luego la convertiremos en un arreglo multidimensional."
      ],
      "metadata": {
        "id": "09LM61-pPNiI"
      }
    },
    {
      "cell_type": "code",
      "source": [
        "datos = [\n",
        "    ['LLantas de aleacion', 'Cerraduras electricas', 'Piloto automatico', 'Asiento de cuero','Aire acondicionado','Sensor de estacionamiento','Sensor de crepusculo','Sensor de lluvia'],\n",
        "    ['Central multimedia','Techo panoramico','Freno ABS','4 X 4','Panel digital', 'Piloto automatico','Asiento de cuero', 'Camara de estacionamiento'],\n",
        "    ['Piloto automatico','Control de estabilidad','Sensor crepuscula','Freno ABS','Asiento de cuero','Central multimedia','Ventanas electricas','4 X 4']\n",
        "]\n",
        "\n",
        "datos"
      ],
      "metadata": {
        "colab": {
          "base_uri": "https://localhost:8080/"
        },
        "id": "Xj9C0mRXAO8R",
        "outputId": "147512d3-d616-4a12-c034-f7b27b4e3fed"
      },
      "execution_count": 159,
      "outputs": [
        {
          "output_type": "execute_result",
          "data": {
            "text/plain": [
              "[['LLantas de aleacion',\n",
              "  'Cerraduras electricas',\n",
              "  'Piloto automatico',\n",
              "  'Asiento de cuero',\n",
              "  'Aire acondicionado',\n",
              "  'Sensor de estacionamiento',\n",
              "  'Sensor de crepusculo',\n",
              "  'Sensor de lluvia'],\n",
              " ['Central multimedia',\n",
              "  'Techo panoramico',\n",
              "  'Freno ABS',\n",
              "  '4 X 4',\n",
              "  'Panel digital',\n",
              "  'Piloto automatico',\n",
              "  'Asiento de cuero',\n",
              "  'Camara de estacionamiento'],\n",
              " ['Piloto automatico',\n",
              "  'Control de estabilidad',\n",
              "  'Sensor crepuscula',\n",
              "  'Freno ABS',\n",
              "  'Asiento de cuero',\n",
              "  'Central multimedia',\n",
              "  'Ventanas electricas',\n",
              "  '4 X 4']]"
            ]
          },
          "metadata": {},
          "execution_count": 159
        }
      ]
    },
    {
      "cell_type": "markdown",
      "source": [
        "Convertir nuestra lista a un array"
      ],
      "metadata": {
        "id": "Ov9Ye35zCm4s"
      }
    },
    {
      "cell_type": "code",
      "source": [
        "Accesorios = np.array(datos)"
      ],
      "metadata": {
        "id": "Waboi1yyAOuw"
      },
      "execution_count": 160,
      "outputs": []
    },
    {
      "cell_type": "code",
      "source": [
        "Accesorios"
      ],
      "metadata": {
        "colab": {
          "base_uri": "https://localhost:8080/"
        },
        "id": "8ejd5U9OCwbX",
        "outputId": "0d186182-8eb7-4dab-f361-41c490de1493"
      },
      "execution_count": 161,
      "outputs": [
        {
          "output_type": "execute_result",
          "data": {
            "text/plain": [
              "array([['LLantas de aleacion', 'Cerraduras electricas',\n",
              "        'Piloto automatico', 'Asiento de cuero', 'Aire acondicionado',\n",
              "        'Sensor de estacionamiento', 'Sensor de crepusculo',\n",
              "        'Sensor de lluvia'],\n",
              "       ['Central multimedia', 'Techo panoramico', 'Freno ABS', '4 X 4',\n",
              "        'Panel digital', 'Piloto automatico', 'Asiento de cuero',\n",
              "        'Camara de estacionamiento'],\n",
              "       ['Piloto automatico', 'Control de estabilidad',\n",
              "        'Sensor crepuscula', 'Freno ABS', 'Asiento de cuero',\n",
              "        'Central multimedia', 'Ventanas electricas', '4 X 4']],\n",
              "      dtype='<U25')"
            ]
          },
          "metadata": {},
          "execution_count": 161
        }
      ]
    },
    {
      "cell_type": "markdown",
      "source": [
        "**3.4. shape**"
      ],
      "metadata": {
        "id": "yWhbFgafPcfZ"
      }
    },
    {
      "cell_type": "markdown",
      "source": [
        "El método **shape** en NumPy se utiliza para conocer las dimensiones de un arreglo NumPy, es decir, el número de elementos en cada dimensión del arreglo. Devuelve una tupla que especifica la cantidad de filas y columnas (y dimensiones adicionales en arreglos multidimensionales) en el arreglo.\n",
        "\n",
        "La sintaxis para usar el método **shape** es la siguiente:"
      ],
      "metadata": {
        "id": "KA8sk96WDH8_"
      }
    },
    {
      "cell_type": "code",
      "source": [
        "Accesorios.shape"
      ],
      "metadata": {
        "colab": {
          "base_uri": "https://localhost:8080/"
        },
        "id": "jOoTX6RmCw1u",
        "outputId": "f7807175-604b-4742-8f99-000d17e39f48"
      },
      "execution_count": 162,
      "outputs": [
        {
          "output_type": "execute_result",
          "data": {
            "text/plain": [
              "(3, 8)"
            ]
          },
          "metadata": {},
          "execution_count": 162
        }
      ]
    },
    {
      "cell_type": "markdown",
      "source": [
        "En este ejemplo, hemos creado una matriz de **3x8** y utilizamos el método **shape** para obtener sus dimensiones. La tupla resultante (3, 8) indica que la matriz tiene 3 filas y 8 columnas.\n",
        "\n",
        "El método **shape** es útil para comprender la estructura de un arreglo NumPy, lo que es esencial al realizar operaciones matriciales, redimensionar arreglos y trabajar con datos multidimensionales."
      ],
      "metadata": {
        "id": "X5QIhUYAPqZr"
      }
    },
    {
      "cell_type": "markdown",
      "source": [
        "**3.5 List vs Array**\n"
      ],
      "metadata": {
        "id": "Ac3oXmMcEaHd"
      }
    },
    {
      "cell_type": "markdown",
      "source": [
        "Cuando se trata de comparar una lista estándar de Python con un arreglo NumPy en términos de desempeño, los arreglos NumPy generalmente ofrecen un mejor rendimiento en la mayoría de las operaciones. Esto se debe a la forma en que NumPy está diseñado internamente para aprovechar operaciones vectorizadas y optimizaciones de bajo nivel. Aquí hay algunas razones por las que los arreglos NumPy tienden a ser más eficientes:\n",
        "\n",
        "1. **Operaciones vectorizadas:** NumPy permite realizar operaciones en todos los elementos de un arreglo de una sola vez, lo que evita la necesidad de bucles explícitos. Esto es más eficiente que recorrer una lista en un bucle en Python estándar.\n",
        "\n",
        "2. **Tipo de datos homogéneos:** Los arreglos NumPy contienen elementos del mismo tipo de datos, lo que permite un almacenamiento más eficiente y un acceso rápido a los elementos.\n",
        "\n",
        "3. **Optimizaciones de bajo nivel:** NumPy está implementado en lenguajes de bajo nivel como C y Fortran, lo que permite aprovechar optimizaciones de rendimiento a nivel de máquina.\n",
        "\n",
        "4. **Funciones específicas para operaciones matemáticas:** NumPy proporciona una amplia gama de funciones específicas para operaciones matemáticas, lo que facilita el trabajo con datos numéricos.\n",
        "\n",
        "Veamos un ejemplo simple que compara el tiempo de ejecución de una operación básica en una lista y en un arreglo NumPy:"
      ],
      "metadata": {
        "id": "9sPHOz_rRbtO"
      }
    },
    {
      "cell_type": "markdown",
      "source": [
        "Generaremos un arreglo con 1,000,000 de elementos y una lista con 1,000,000 de elementos."
      ],
      "metadata": {
        "id": "5hzSI_8IEraK"
      }
    },
    {
      "cell_type": "code",
      "source": [
        "# Crear un arreglo NumPy con 1,000,000 de elementos\n",
        "np_array = np.random.rand(1000000)\n",
        "\n",
        "# Medir el tiempo para multiplicar todos los elementos del arreglo NumPy\n",
        "%time for _ in range(100): np_array *= 2"
      ],
      "metadata": {
        "colab": {
          "base_uri": "https://localhost:8080/"
        },
        "id": "MlPTaFnVTFiS",
        "outputId": "b2cd000d-9931-4fcf-c8c5-4b545a1d368c"
      },
      "execution_count": 163,
      "outputs": [
        {
          "output_type": "stream",
          "name": "stdout",
          "text": [
            "CPU times: user 46.1 ms, sys: 875 µs, total: 46.9 ms\n",
            "Wall time: 63.5 ms\n"
          ]
        }
      ]
    },
    {
      "cell_type": "code",
      "source": [
        "# Crear una lista con 1,000,000 de elementos\n",
        "py_list = [x for x in range(1000000)]\n",
        "\n",
        "# Medir el tiempo para multiplicar todos los elementos de la lista\n",
        "%time for _ in range(100): py_list = [x * 2 for x in py_list]"
      ],
      "metadata": {
        "colab": {
          "base_uri": "https://localhost:8080/"
        },
        "id": "00MFOb2bTF5F",
        "outputId": "4e11a51d-69f6-4343-eb5f-5939a664af47"
      },
      "execution_count": 164,
      "outputs": [
        {
          "output_type": "stream",
          "name": "stdout",
          "text": [
            "CPU times: user 8.87 s, sys: 1.95 s, total: 10.8 s\n",
            "Wall time: 12 s\n"
          ]
        }
      ]
    },
    {
      "cell_type": "markdown",
      "source": [
        "\n",
        "La magia **%time** en un entorno Jupyter Notebook se utiliza para medir el tiempo de ejecución de una única línea de código o de una única instrucción. Cuando utilizas **%time** seguido de una instrucción, Jupyter calculará y mostrará el tiempo que tomó para que esa instrucción se ejecute."
      ],
      "metadata": {
        "id": "z46zJjV2TLxx"
      }
    },
    {
      "cell_type": "markdown",
      "source": [
        "Sobre los arrays Numpy:\n",
        "\n",
        "1. No es posible tener más de un tipo de dato en un único array Numpy. A diferencia de las listas de Python, que pueden contener tipos variados en una misma secuencia, arrays Numpy soportan solamente un tipo de dato por vez.\n",
        "\n",
        "2. Es posible crear arrays Numpy a partir de datos externos, en el formato TXT, utilizando la función loadtxt() de Numpy.  Como vimos en nuestras clases, sólo necesitamos proporcionar el camino del archivo TXT que contiene las informaciones, para cargar un array Numpy con los datos."
      ],
      "metadata": {
        "id": "W-0ijwhAGyhj"
      }
    },
    {
      "cell_type": "markdown",
      "source": [
        "# **4. Operaciones aritmeticas con Numpy**"
      ],
      "metadata": {
        "id": "K50-ICpEGmKE"
      }
    },
    {
      "cell_type": "markdown",
      "source": [
        "NumPy es una biblioteca de Python que proporciona una amplia variedad de operaciones aritméticas y matemáticas para trabajar con arreglos multidimensionales. Aquí tienes algunas de las operaciones aritméticas más comunes que puedes realizar con NumPy:"
      ],
      "metadata": {
        "id": "O53i2WbpUOl_"
      }
    },
    {
      "cell_type": "markdown",
      "source": [
        "**4.1. Suma:** Puedes sumar dos arreglos NumPy elemento por elemento utilizando el operador **+** o la función **numpy.add()**"
      ],
      "metadata": {
        "id": "ZsHkFzRRUT_g"
      }
    },
    {
      "cell_type": "code",
      "source": [
        "arreglo1 = np.array([1, 2, 3])\n",
        "arreglo2 = np.array([4, 5, 6])\n",
        "\n",
        "# Operador +\n",
        "suma_elemental = arreglo1 + arreglo2\n",
        "# Funcion np.add()\n",
        "suma_funcion = np.add(arreglo1, arreglo2)"
      ],
      "metadata": {
        "id": "htTzNRcEUUsI"
      },
      "execution_count": 165,
      "outputs": []
    },
    {
      "cell_type": "code",
      "source": [
        "suma_elemental"
      ],
      "metadata": {
        "colab": {
          "base_uri": "https://localhost:8080/"
        },
        "id": "AvurrvW-iSYA",
        "outputId": "1da8564d-0639-4f5a-d574-a17f8e9bd83b"
      },
      "execution_count": 166,
      "outputs": [
        {
          "output_type": "execute_result",
          "data": {
            "text/plain": [
              "array([5, 7, 9])"
            ]
          },
          "metadata": {},
          "execution_count": 166
        }
      ]
    },
    {
      "cell_type": "code",
      "source": [
        "suma_funcion"
      ],
      "metadata": {
        "colab": {
          "base_uri": "https://localhost:8080/"
        },
        "id": "b2l9VLETUgfg",
        "outputId": "4db5de69-8729-417c-f188-bd9b86bdf5a9"
      },
      "execution_count": 167,
      "outputs": [
        {
          "output_type": "execute_result",
          "data": {
            "text/plain": [
              "array([5, 7, 9])"
            ]
          },
          "metadata": {},
          "execution_count": 167
        }
      ]
    },
    {
      "cell_type": "markdown",
      "source": [
        "**4.2. Resta:** Puedes restar dos arreglos NumPy elemento por elemento utilizando el operador **-** o la función **numpy.subtract().**\n",
        "\n"
      ],
      "metadata": {
        "id": "cI1H4db6UVQe"
      }
    },
    {
      "cell_type": "code",
      "source": [
        "arreglo1 = np.array([1, 2, 3])\n",
        "arreglo2 = np.array([4, 5, 6])\n",
        "\n",
        "# Operador -\n",
        "resta_elemental = arreglo1 - arreglo2\n",
        "# Funcion np.subtract()\n",
        "resta_funcion = np.subtract(arreglo1, arreglo2)"
      ],
      "metadata": {
        "id": "4tzdbXYZUVq_"
      },
      "execution_count": 168,
      "outputs": []
    },
    {
      "cell_type": "code",
      "source": [
        "resta_elemental"
      ],
      "metadata": {
        "colab": {
          "base_uri": "https://localhost:8080/"
        },
        "id": "H6qBIOfFikBs",
        "outputId": "8301896c-7fd5-4445-aa2e-4a08af1bc330"
      },
      "execution_count": 169,
      "outputs": [
        {
          "output_type": "execute_result",
          "data": {
            "text/plain": [
              "array([-3, -3, -3])"
            ]
          },
          "metadata": {},
          "execution_count": 169
        }
      ]
    },
    {
      "cell_type": "code",
      "source": [
        "resta_funcion"
      ],
      "metadata": {
        "colab": {
          "base_uri": "https://localhost:8080/"
        },
        "id": "XQqS04cxUosi",
        "outputId": "ade91e47-1017-4751-8068-271068daf819"
      },
      "execution_count": 170,
      "outputs": [
        {
          "output_type": "execute_result",
          "data": {
            "text/plain": [
              "array([-3, -3, -3])"
            ]
          },
          "metadata": {},
          "execution_count": 170
        }
      ]
    },
    {
      "cell_type": "markdown",
      "source": [
        "**4.3. Multiplicación:** Puedes multiplicar dos arreglos NumPy elemento por elemento utilizando el operador * o la función numpy.multiply()"
      ],
      "metadata": {
        "id": "-vPUTxiPUWF2"
      }
    },
    {
      "cell_type": "code",
      "source": [
        "arreglo1 = np.array([1, 2, 3])\n",
        "arreglo2 = np.array([4, 5, 6])\n",
        "\n",
        "# Operador *\n",
        "multiplicacion_elemental = arreglo1 * arreglo2\n",
        "# Funcion np.multiply()\n",
        "multiplicacion_funcion = np.multiply(arreglo1, arreglo2)"
      ],
      "metadata": {
        "id": "ndFDGkupUWmq"
      },
      "execution_count": 171,
      "outputs": []
    },
    {
      "cell_type": "code",
      "source": [
        "multiplicacion_elemental"
      ],
      "metadata": {
        "colab": {
          "base_uri": "https://localhost:8080/"
        },
        "id": "GbFdGeT_isv3",
        "outputId": "85416316-69a7-433a-fc53-69a0fea4c74a"
      },
      "execution_count": 172,
      "outputs": [
        {
          "output_type": "execute_result",
          "data": {
            "text/plain": [
              "array([ 4, 10, 18])"
            ]
          },
          "metadata": {},
          "execution_count": 172
        }
      ]
    },
    {
      "cell_type": "code",
      "source": [
        "multiplicacion_funcion"
      ],
      "metadata": {
        "colab": {
          "base_uri": "https://localhost:8080/"
        },
        "id": "u5-bgWsIUpan",
        "outputId": "b201ba4d-25d8-4b0d-dc7e-6f6d9295eeb0"
      },
      "execution_count": 173,
      "outputs": [
        {
          "output_type": "execute_result",
          "data": {
            "text/plain": [
              "array([ 4, 10, 18])"
            ]
          },
          "metadata": {},
          "execution_count": 173
        }
      ]
    },
    {
      "cell_type": "markdown",
      "source": [
        "**4.4. División:** Puedes dividir dos arreglos NumPy elemento por elemento utilizando el operador **/** o la función **numpy.divide()**."
      ],
      "metadata": {
        "id": "cZTGczduVNo0"
      }
    },
    {
      "cell_type": "code",
      "source": [
        "arreglo1 = np.array([1, 2, 3])\n",
        "arreglo2 = np.array([4, 5, 6])\n",
        "\n",
        "# Operador /\n",
        "division_elemental = arreglo1 / arreglo2\n",
        "# Funcion np.divide()\n",
        "division_funcion = np.divide(arreglo1, arreglo2)"
      ],
      "metadata": {
        "id": "y1-LuS0wVOCW"
      },
      "execution_count": 174,
      "outputs": []
    },
    {
      "cell_type": "code",
      "source": [
        "division_elemental"
      ],
      "metadata": {
        "colab": {
          "base_uri": "https://localhost:8080/"
        },
        "id": "0l15Q2pmi4rm",
        "outputId": "fb4375ce-ff59-44da-9fdd-40c8efdbbccd"
      },
      "execution_count": 175,
      "outputs": [
        {
          "output_type": "execute_result",
          "data": {
            "text/plain": [
              "array([0.25, 0.4 , 0.5 ])"
            ]
          },
          "metadata": {},
          "execution_count": 175
        }
      ]
    },
    {
      "cell_type": "code",
      "source": [
        "division_funcion"
      ],
      "metadata": {
        "colab": {
          "base_uri": "https://localhost:8080/"
        },
        "id": "oEhF_F9gVOWT",
        "outputId": "ceb13bd6-c681-4f5d-8ffa-97a7e6597eeb"
      },
      "execution_count": 176,
      "outputs": [
        {
          "output_type": "execute_result",
          "data": {
            "text/plain": [
              "array([0.25, 0.4 , 0.5 ])"
            ]
          },
          "metadata": {},
          "execution_count": 176
        }
      ]
    },
    {
      "cell_type": "markdown",
      "source": [
        "**4.5. Potenciación:** Puedes elevar un arreglo NumPy a una potencia utilizando el operador ** o la función numpy.power()"
      ],
      "metadata": {
        "id": "LD_lXHs7VOuL"
      }
    },
    {
      "cell_type": "code",
      "source": [
        "arreglo = np.array([2, 3, 4])\n",
        "\n",
        "# Operador ***\n",
        "potencia_elemental = arreglo ** 2\n",
        "# Funcioon np.power()\n",
        "potencia_funcion = np.power(arreglo, 2)"
      ],
      "metadata": {
        "id": "zSkI2uP9VPOk"
      },
      "execution_count": 177,
      "outputs": []
    },
    {
      "cell_type": "code",
      "source": [
        "potencia_elemental"
      ],
      "metadata": {
        "colab": {
          "base_uri": "https://localhost:8080/"
        },
        "id": "9f2Jg7f2jDe0",
        "outputId": "97241345-430f-45b8-cb5f-ad6733325e2b"
      },
      "execution_count": 178,
      "outputs": [
        {
          "output_type": "execute_result",
          "data": {
            "text/plain": [
              "array([ 4,  9, 16])"
            ]
          },
          "metadata": {},
          "execution_count": 178
        }
      ]
    },
    {
      "cell_type": "code",
      "source": [
        "potencia_funcion"
      ],
      "metadata": {
        "colab": {
          "base_uri": "https://localhost:8080/"
        },
        "id": "cRS9k87GVPif",
        "outputId": "a0dd4dea-62b3-451e-f6b0-3e7619abd17f"
      },
      "execution_count": 179,
      "outputs": [
        {
          "output_type": "execute_result",
          "data": {
            "text/plain": [
              "array([ 4,  9, 16])"
            ]
          },
          "metadata": {},
          "execution_count": 179
        }
      ]
    },
    {
      "cell_type": "markdown",
      "source": [
        "**4.6. Raíz cuadrada:** Puedes calcular la raíz cuadrada de un arreglo NumPy utilizando la función **numpy.sqrt().**"
      ],
      "metadata": {
        "id": "2sIjicn9VQNj"
      }
    },
    {
      "cell_type": "code",
      "source": [
        "arreglo = np.array([4, 9, 16])\n",
        "\n",
        "# Funcion np.sqrt()\n",
        "raiz_cuadrada = np.sqrt(arreglo)"
      ],
      "metadata": {
        "id": "6QWh6FTqVQmi"
      },
      "execution_count": 180,
      "outputs": []
    },
    {
      "cell_type": "code",
      "source": [
        "raiz_cuadrada"
      ],
      "metadata": {
        "colab": {
          "base_uri": "https://localhost:8080/"
        },
        "id": "QyojDy6JVQ8M",
        "outputId": "05fabb0d-575d-4af5-83a4-78df9ada1984"
      },
      "execution_count": 181,
      "outputs": [
        {
          "output_type": "execute_result",
          "data": {
            "text/plain": [
              "array([2., 3., 4.])"
            ]
          },
          "metadata": {},
          "execution_count": 181
        }
      ]
    },
    {
      "cell_type": "markdown",
      "source": [
        "Estas son solo algunas de las operaciones aritméticas disponibles en NumPy. La biblioteca ofrece una amplia gama de funciones matemáticas, estadísticas y trigonométricas para el procesamiento eficiente de datos numéricos en arreglos multidimensionales."
      ],
      "metadata": {
        "id": "cln8AJclVzev"
      }
    },
    {
      "cell_type": "markdown",
      "source": [
        "**4.7. Operaciones entre arrays y constantes**"
      ],
      "metadata": {
        "id": "IbkMPxMZHUWS"
      }
    },
    {
      "cell_type": "markdown",
      "source": [
        "NumPy permite realizar operaciones entre arreglos y constantes de una manera muy intuitiva. Puedes realizar las operaciones aritméticas básicas, como suma, resta, multiplicación y división, entre un arreglo y una constante.\n"
      ],
      "metadata": {
        "id": "dYIe7_WlWKJu"
      }
    },
    {
      "cell_type": "markdown",
      "source": [
        "En cambio de las lista que no pueden hacer operaciones con las constantes\n",
        "\n",
        "**Ejemplo**"
      ],
      "metadata": {
        "id": "fdLmhjTtjV--"
      }
    },
    {
      "cell_type": "code",
      "source": [
        "km = [44410.,5712.,37123.,0.,25757.]\n",
        "\n",
        "años = [2003,1991,1990,2019,2006]"
      ],
      "metadata": {
        "id": "b5BYPMymHZqE"
      },
      "execution_count": 182,
      "outputs": []
    },
    {
      "cell_type": "code",
      "source": [
        "'''\n",
        "Estamos calculando la edad actual usando listas\n",
        "\n",
        " edad = 2023 - años\n",
        "\n",
        "  MARCARA ERROR\n",
        "  Nos sale error por que no podemos combinar dos tipos de datos diferentes\n",
        "  en este caso estamos haciendo una operacion con un int y una list\n",
        "'''"
      ],
      "metadata": {
        "colab": {
          "base_uri": "https://localhost:8080/",
          "height": 53
        },
        "id": "rUrRhO2OHrm4",
        "outputId": "bb5d5a3a-ba8b-4219-b1c9-4e508b117e01"
      },
      "execution_count": 183,
      "outputs": [
        {
          "output_type": "execute_result",
          "data": {
            "text/plain": [
              "'\\nEstamos calculando la edad actual usando listas\\n\\n edad = 2023 - años\\n\\n  MARCARA ERROR\\n  Nos sale error por que no podemos combinar dos tipos de datos diferentes\\n  en este caso estamos haciendo una operacion con un int y una list\\n'"
            ],
            "application/vnd.google.colaboratory.intrinsic+json": {
              "type": "string"
            }
          },
          "metadata": {},
          "execution_count": 183
        }
      ]
    },
    {
      "cell_type": "code",
      "source": [
        "# Veamos que pasa si utilizamos ARRAYS\n",
        "km = np.array([44410.,5712.,37123.,0.,25757.])\n",
        "años = np.array([2003,1991,1990,2019,2006])"
      ],
      "metadata": {
        "id": "dH6rLy11Hrg5"
      },
      "execution_count": 184,
      "outputs": []
    },
    {
      "cell_type": "code",
      "source": [
        "edad = 2023 - años\n",
        "edad"
      ],
      "metadata": {
        "colab": {
          "base_uri": "https://localhost:8080/"
        },
        "id": "JouYTAynHrcc",
        "outputId": "a7df8f7b-b76c-45fe-e175-1984e44718b2"
      },
      "execution_count": 185,
      "outputs": [
        {
          "output_type": "execute_result",
          "data": {
            "text/plain": [
              "array([20, 32, 33,  4, 17])"
            ]
          },
          "metadata": {},
          "execution_count": 185
        }
      ]
    },
    {
      "cell_type": "markdown",
      "source": [
        "Con arrays NumPy podemos combinar enteros con tipos de datos NumPy. Es posible realizar este tipo de operación."
      ],
      "metadata": {
        "id": "nvtcMdLMJKXX"
      }
    },
    {
      "cell_type": "markdown",
      "source": [
        "**4.8. Operaciones entre arrays**"
      ],
      "metadata": {
        "id": "BRrQ9IXvJYPv"
      }
    },
    {
      "cell_type": "markdown",
      "source": [
        "NumPy permite realizar una variedad de operaciones entre arreglos (arrays) de manera sencilla. Estas operaciones se realizan elemento por elemento y siguen las reglas de la broadcasting (transmisión) de NumPy, que facilita el trabajo con arreglos de diferentes tamaños."
      ],
      "metadata": {
        "id": "t0n5MxlxWhjh"
      }
    },
    {
      "cell_type": "markdown",
      "source": [
        "Calcularemos el Km promedio de cada vehiculo"
      ],
      "metadata": {
        "id": "sk14oA6CJfjv"
      }
    },
    {
      "cell_type": "code",
      "source": [
        "km = np.array([44410.,5712.,37123.,0.,25757.])\n",
        "años = np.array([2003,1991,1990,2019,2006])"
      ],
      "metadata": {
        "id": "3OJEtE-GNI3g"
      },
      "execution_count": 186,
      "outputs": []
    },
    {
      "cell_type": "code",
      "source": [
        "type(km)"
      ],
      "metadata": {
        "colab": {
          "base_uri": "https://localhost:8080/"
        },
        "id": "TUpk_JoCJuGD",
        "outputId": "f177cc62-568f-4300-b75b-33e62300904f"
      },
      "execution_count": 187,
      "outputs": [
        {
          "output_type": "execute_result",
          "data": {
            "text/plain": [
              "numpy.ndarray"
            ]
          },
          "metadata": {},
          "execution_count": 187
        }
      ]
    },
    {
      "cell_type": "code",
      "source": [
        "type(edad)"
      ],
      "metadata": {
        "colab": {
          "base_uri": "https://localhost:8080/"
        },
        "id": "cHwIpE6MJt6u",
        "outputId": "7e0fb6d2-aee3-4fdb-e894-35d01223c5be"
      },
      "execution_count": 188,
      "outputs": [
        {
          "output_type": "execute_result",
          "data": {
            "text/plain": [
              "numpy.ndarray"
            ]
          },
          "metadata": {},
          "execution_count": 188
        }
      ]
    },
    {
      "cell_type": "markdown",
      "source": [
        "La operacion entre arrays siempre nos devolvera otro array"
      ],
      "metadata": {
        "id": "cTEKyBabJ0HF"
      }
    },
    {
      "cell_type": "code",
      "source": [
        "km_media = km / edad\n",
        "km_media"
      ],
      "metadata": {
        "colab": {
          "base_uri": "https://localhost:8080/"
        },
        "id": "58xWTsSFHrUQ",
        "outputId": "8cac08d4-f4de-4fe4-cd9a-217c568edc8d"
      },
      "execution_count": 189,
      "outputs": [
        {
          "output_type": "execute_result",
          "data": {
            "text/plain": [
              "array([2220.5       ,  178.5       , 1124.93939394,    0.        ,\n",
              "       1515.11764706])"
            ]
          },
          "metadata": {},
          "execution_count": 189
        }
      ]
    },
    {
      "cell_type": "code",
      "source": [
        "type(km_media)"
      ],
      "metadata": {
        "colab": {
          "base_uri": "https://localhost:8080/"
        },
        "id": "CQ4ogeu9HrNA",
        "outputId": "eee7640c-9523-41f0-ac1c-a78b9dbdd18d"
      },
      "execution_count": 190,
      "outputs": [
        {
          "output_type": "execute_result",
          "data": {
            "text/plain": [
              "numpy.ndarray"
            ]
          },
          "metadata": {},
          "execution_count": 190
        }
      ]
    },
    {
      "cell_type": "markdown",
      "source": [
        "**4.9. Operaciones con arrays de dos dimensiones**"
      ],
      "metadata": {
        "id": "u-ixWOidKdrf"
      }
    },
    {
      "cell_type": "markdown",
      "source": [
        "En NumPy, puedes realizar una variedad de operaciones con arreglos de dos dimensiones (también conocidos como matrices). Estas operaciones pueden involucrar aritmética, transposición, cálculo de determinantes, inversión de matrices y mucho más."
      ],
      "metadata": {
        "id": "ZEdUtdiAW16A"
      }
    },
    {
      "cell_type": "code",
      "source": [
        "datos = np.array([km,años])"
      ],
      "metadata": {
        "id": "ESWx_y2fKdGy"
      },
      "execution_count": 191,
      "outputs": []
    },
    {
      "cell_type": "code",
      "source": [
        "datos"
      ],
      "metadata": {
        "colab": {
          "base_uri": "https://localhost:8080/"
        },
        "id": "Ew3-FkLYHrFQ",
        "outputId": "9b1b89b9-92dd-4fe2-cfb4-e246b2693401"
      },
      "execution_count": 192,
      "outputs": [
        {
          "output_type": "execute_result",
          "data": {
            "text/plain": [
              "array([[44410.,  5712., 37123.,     0., 25757.],\n",
              "       [ 2003.,  1991.,  1990.,  2019.,  2006.]])"
            ]
          },
          "metadata": {},
          "execution_count": 192
        }
      ]
    },
    {
      "cell_type": "code",
      "source": [
        "datos.shape"
      ],
      "metadata": {
        "colab": {
          "base_uri": "https://localhost:8080/"
        },
        "id": "_zpqtLXZHq64",
        "outputId": "ce406801-3386-463f-f3c1-12a3526a172c"
      },
      "execution_count": 193,
      "outputs": [
        {
          "output_type": "execute_result",
          "data": {
            "text/plain": [
              "(2, 5)"
            ]
          },
          "metadata": {},
          "execution_count": 193
        }
      ]
    },
    {
      "cell_type": "markdown",
      "source": [
        "![Numpy1.png](data:image/png;base64,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)}"
      ],
      "metadata": {
        "id": "ApMpjAPULeC7"
      }
    },
    {
      "cell_type": "code",
      "source": [
        "#Seleccionamos la primera dimension\n",
        "datos[0]"
      ],
      "metadata": {
        "colab": {
          "base_uri": "https://localhost:8080/"
        },
        "id": "M_RXNS-SMUSJ",
        "outputId": "59434d0b-0afc-48a4-d2ca-e5a0e1007198"
      },
      "execution_count": 194,
      "outputs": [
        {
          "output_type": "execute_result",
          "data": {
            "text/plain": [
              "array([44410.,  5712., 37123.,     0., 25757.])"
            ]
          },
          "metadata": {},
          "execution_count": 194
        }
      ]
    },
    {
      "cell_type": "code",
      "source": [
        "#Seleccionamos la segunda dimension\n",
        "datos[1]"
      ],
      "metadata": {
        "colab": {
          "base_uri": "https://localhost:8080/"
        },
        "id": "u7JRGuYhMq-o",
        "outputId": "77e3c2db-500d-4411-ec1d-45d979315942"
      },
      "execution_count": 195,
      "outputs": [
        {
          "output_type": "execute_result",
          "data": {
            "text/plain": [
              "array([2003., 1991., 1990., 2019., 2006.])"
            ]
          },
          "metadata": {},
          "execution_count": 195
        }
      ]
    },
    {
      "cell_type": "markdown",
      "source": [
        "**Formula:** km_media = km_total / (año_actual - año_fabricacion)"
      ],
      "metadata": {
        "id": "EADslEW4Nch-"
      }
    },
    {
      "cell_type": "code",
      "source": [
        "km_media = datos[0] / (2023 - datos[1])\n",
        "km_media"
      ],
      "metadata": {
        "colab": {
          "base_uri": "https://localhost:8080/"
        },
        "id": "qI5m9oEbMqxV",
        "outputId": "ca47276d-e666-47ed-86f8-d349153d727b"
      },
      "execution_count": 196,
      "outputs": [
        {
          "output_type": "execute_result",
          "data": {
            "text/plain": [
              "array([2220.5       ,  178.5       , 1124.93939394,    0.        ,\n",
              "       1515.11764706])"
            ]
          },
          "metadata": {},
          "execution_count": 196
        }
      ]
    },
    {
      "cell_type": "markdown",
      "source": [
        "# **5. Indexado con Arrays**"
      ],
      "metadata": {
        "id": "QEnccHVzOIl5"
      }
    },
    {
      "cell_type": "markdown",
      "source": [
        "La selección o indexado de elementos en arreglos NumPy te permite acceder a elementos específicos, rebanadas (slices) o subconjuntos de un arreglo."
      ],
      "metadata": {
        "id": "OLP5crTyYTkl"
      }
    },
    {
      "cell_type": "markdown",
      "source": [
        "![Numpy1.png](data:image/png;base64,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)"
      ],
      "metadata": {
        "id": "CUTdKJmvOSWb"
      }
    },
    {
      "cell_type": "code",
      "source": [
        "'''\n",
        "La primera dimesion tenemos los datos del km_total\n",
        "La segunda dimension tenemos los datos del año_fabricacion\n",
        "\n",
        "'''"
      ],
      "metadata": {
        "colab": {
          "base_uri": "https://localhost:8080/",
          "height": 35
        },
        "id": "J70FEl6ZOQlg",
        "outputId": "709a504c-af94-42b5-b41a-c2a50fc36677"
      },
      "execution_count": 197,
      "outputs": [
        {
          "output_type": "execute_result",
          "data": {
            "text/plain": [
              "'\\nLa primera dimesion tenemos los datos del km_total\\nLa segunda dimension tenemos los datos del año_fabricacion\\n\\n'"
            ],
            "application/vnd.google.colaboratory.intrinsic+json": {
              "type": "string"
            }
          },
          "metadata": {},
          "execution_count": 197
        }
      ]
    },
    {
      "cell_type": "code",
      "source": [
        "datos"
      ],
      "metadata": {
        "colab": {
          "base_uri": "https://localhost:8080/"
        },
        "id": "MYo-PynrOwAW",
        "outputId": "98500a6b-c2c9-4c13-d577-13172775ea4f"
      },
      "execution_count": 198,
      "outputs": [
        {
          "output_type": "execute_result",
          "data": {
            "text/plain": [
              "array([[44410.,  5712., 37123.,     0., 25757.],\n",
              "       [ 2003.,  1991.,  1990.,  2019.,  2006.]])"
            ]
          },
          "metadata": {},
          "execution_count": 198
        }
      ]
    },
    {
      "cell_type": "markdown",
      "source": [
        "**5.1. Acceder a un elemento específico:** Puedes acceder a un elemento específico de un arreglo utilizando índices. Recuerda que en Python, los índices comienzan en 0."
      ],
      "metadata": {
        "id": "fiZNmB8COz5r"
      }
    },
    {
      "cell_type": "code",
      "source": [
        "contador = np.arange(10)\n",
        "contador"
      ],
      "metadata": {
        "colab": {
          "base_uri": "https://localhost:8080/"
        },
        "id": "_OBedDgNO-xG",
        "outputId": "45b0ac98-c3b9-4aa4-fac3-5b10a5c1a3f9"
      },
      "execution_count": 199,
      "outputs": [
        {
          "output_type": "execute_result",
          "data": {
            "text/plain": [
              "array([0, 1, 2, 3, 4, 5, 6, 7, 8, 9])"
            ]
          },
          "metadata": {},
          "execution_count": 199
        }
      ]
    },
    {
      "cell_type": "code",
      "source": [
        "contador[0]"
      ],
      "metadata": {
        "colab": {
          "base_uri": "https://localhost:8080/"
        },
        "id": "NXrhDUkNPFcP",
        "outputId": "6cf0da8b-c103-4686-9a21-67e482003059"
      },
      "execution_count": 200,
      "outputs": [
        {
          "output_type": "execute_result",
          "data": {
            "text/plain": [
              "0"
            ]
          },
          "metadata": {},
          "execution_count": 200
        }
      ]
    },
    {
      "cell_type": "code",
      "source": [
        "contador[9]"
      ],
      "metadata": {
        "colab": {
          "base_uri": "https://localhost:8080/"
        },
        "id": "-LVI67-3PFVj",
        "outputId": "5ef034fc-6ec0-404c-97e5-21258a55644b"
      },
      "execution_count": 201,
      "outputs": [
        {
          "output_type": "execute_result",
          "data": {
            "text/plain": [
              "9"
            ]
          },
          "metadata": {},
          "execution_count": 201
        }
      ]
    },
    {
      "cell_type": "code",
      "source": [
        "contador[-1]"
      ],
      "metadata": {
        "colab": {
          "base_uri": "https://localhost:8080/"
        },
        "id": "VeQa-nbxPFNh",
        "outputId": "d1d3f922-cea4-4177-8bad-78194d6fa6fa"
      },
      "execution_count": 202,
      "outputs": [
        {
          "output_type": "execute_result",
          "data": {
            "text/plain": [
              "9"
            ]
          },
          "metadata": {},
          "execution_count": 202
        }
      ]
    },
    {
      "cell_type": "markdown",
      "source": [
        "**5.2. Selección de elementos de una matriz (arreglo de dos dimensiones):** Si estás trabajando con una matriz, puedes acceder a elementos específicos utilizando dos índices, uno para la fila y otro para la columna."
      ],
      "metadata": {
        "id": "GStK1JkcZPGP"
      }
    },
    {
      "cell_type": "code",
      "source": [
        "datos"
      ],
      "metadata": {
        "colab": {
          "base_uri": "https://localhost:8080/"
        },
        "id": "9-1boRLFY_4k",
        "outputId": "334f1ce8-ede7-4d91-942f-4875b0d348b5"
      },
      "execution_count": 203,
      "outputs": [
        {
          "output_type": "execute_result",
          "data": {
            "text/plain": [
              "array([[44410.,  5712., 37123.,     0., 25757.],\n",
              "       [ 2003.,  1991.,  1990.,  2019.,  2006.]])"
            ]
          },
          "metadata": {},
          "execution_count": 203
        }
      ]
    },
    {
      "cell_type": "code",
      "source": [
        "datos[0]"
      ],
      "metadata": {
        "colab": {
          "base_uri": "https://localhost:8080/"
        },
        "id": "LGzyiPbVPFG7",
        "outputId": "9093d1be-2bb8-46b0-e5a4-6b20f0349c23"
      },
      "execution_count": 204,
      "outputs": [
        {
          "output_type": "execute_result",
          "data": {
            "text/plain": [
              "array([44410.,  5712., 37123.,     0., 25757.])"
            ]
          },
          "metadata": {},
          "execution_count": 204
        }
      ]
    },
    {
      "cell_type": "code",
      "source": [
        "datos[1]"
      ],
      "metadata": {
        "colab": {
          "base_uri": "https://localhost:8080/"
        },
        "id": "wxf3St1lPE_j",
        "outputId": "aea638c8-2ddd-4fdc-8e68-057706ae43d4"
      },
      "execution_count": 205,
      "outputs": [
        {
          "output_type": "execute_result",
          "data": {
            "text/plain": [
              "array([2003., 1991., 1990., 2019., 2006.])"
            ]
          },
          "metadata": {},
          "execution_count": 205
        }
      ]
    },
    {
      "cell_type": "markdown",
      "source": [
        "**Consejo:**\n",
        "\n",
        "ndarray[linea][columna] o ndarray [linea,columna]"
      ],
      "metadata": {
        "id": "m1u4JAfXP2Oo"
      }
    },
    {
      "cell_type": "markdown",
      "source": [
        "ndarray[linea][columna]"
      ],
      "metadata": {
        "id": "O-IXsuFHQFSO"
      }
    },
    {
      "cell_type": "code",
      "source": [
        "datos"
      ],
      "metadata": {
        "colab": {
          "base_uri": "https://localhost:8080/"
        },
        "id": "Iz7KVHtMQWDn",
        "outputId": "4a93497b-ea21-4137-fa2c-eaed527d4498"
      },
      "execution_count": 206,
      "outputs": [
        {
          "output_type": "execute_result",
          "data": {
            "text/plain": [
              "array([[44410.,  5712., 37123.,     0., 25757.],\n",
              "       [ 2003.,  1991.,  1990.,  2019.,  2006.]])"
            ]
          },
          "metadata": {},
          "execution_count": 206
        }
      ]
    },
    {
      "cell_type": "code",
      "source": [
        "datos[0][0]"
      ],
      "metadata": {
        "colab": {
          "base_uri": "https://localhost:8080/"
        },
        "id": "-fEgNLsxPkqC",
        "outputId": "fcbdf986-7022-4408-e932-7907add87542"
      },
      "execution_count": 207,
      "outputs": [
        {
          "output_type": "execute_result",
          "data": {
            "text/plain": [
              "44410.0"
            ]
          },
          "metadata": {},
          "execution_count": 207
        }
      ]
    },
    {
      "cell_type": "code",
      "source": [
        "datos[1][0]"
      ],
      "metadata": {
        "colab": {
          "base_uri": "https://localhost:8080/"
        },
        "id": "hgn6D1oAPE2j",
        "outputId": "4b1a83e5-3e27-4a26-9532-1825588f34a3"
      },
      "execution_count": 208,
      "outputs": [
        {
          "output_type": "execute_result",
          "data": {
            "text/plain": [
              "2003.0"
            ]
          },
          "metadata": {},
          "execution_count": 208
        }
      ]
    },
    {
      "cell_type": "markdown",
      "source": [
        "**5.3. Rebanadas (slices):** Puedes obtener un subconjunto de elementos de un arreglo utilizando rebanadas."
      ],
      "metadata": {
        "id": "08_NppoeQl7f"
      }
    },
    {
      "cell_type": "markdown",
      "source": [
        "La sintaxis para realizar particiones en un array Numpy es **i : j : k**\n",
        "\n",
        "**Donde:**\n",
        "\n",
        "1. i: es el indice inicial\n",
        "2. j: es el indice final\n",
        "3. j: es el inicador de intervalo (k ≠ 0)\n",
        "\n",
        "**Observacion:** En las particiones (slices) es el objeto con indice **i es incluido** y el objeto con indice **j no es incluido** en el resultado"
      ],
      "metadata": {
        "id": "krGioKubQo41"
      }
    },
    {
      "cell_type": "markdown",
      "source": [
        "![Numpy1.png](data:image/png;base64,iVBORw0KGgoAAAANSUhEUgAABmAAAAGxCAIAAAD6Wu4SAAAAAXNSR0IArs4c6QAAAARnQU1BAACxjwv8YQUAAAAJcEhZcwAADsMAAA7DAcdvqGQAAP+lSURBVHhe7J0FeFTXFoVLXHF3txZpi7u1UKRFWqCCu7tDcXd3d5cIGgHiCSHu7u7J+PD2uWcyBIr2UZgk62e/6Z07d+7wfW+xzz7rHvnqBQAAAAAAAAAAAAAAxRgYZAAAAAAAAAAAAACgWAODDAAAAAAAAAAAAAAUa2CQAQAAAAAAAAAAAIBiDQwyAAAAAAAAAAAAAFCsgUEGAAAAAAAAAAAAAIo1MMgAAAAAAAAAAAAAQLEGBhkAAAAAAAAAAAAAKNbAIAMAAAAAAAAAAAAAxRoYZAAUQZQKpeoIAE0CygQAAAAAAABoJjDIACjiKOQKsUiSm52bk5WjiuwceivKFYnzxBKRRCqRKuWwLcBn4TWh0dvXAoDPglKhlEpkuTkFEmOBoAwpEUuUCtXFAPwXUOssk8pIadQW5+XkkerYK2mSt9F5IqlYSg20XCaHFEFhQvGCqkqSt1ymoFf2YAyNOwCg8ACDDIAih1CIUNlN3bzU5NSY6JiQoBBfH19vLx8ePt6+fr5+Af6BwYHBYSFh0ZHRdJkoV0R1jPB9AP5LlC+oaKa+H3UCszKzC0Z2FgUzcOlTErDqegA+HWrtpaakxkTFBPgF+HhTVvR+LShhhgSHxMXEpaemZ2dmi/LEcpkcfTzwSVDIFBKxhESYlJAUHRUTHhZObbS/X4AvNc0+fqQ9Cn8//6DAoNCQMPqUdJiWmpaXmyeTvipCCBJoAIIXxoL0KRVLKVvmZOdS2szKyMoUgg7obW5OrlgkppadLqNXuh4CBgBoJjDIAChSUC+Oun/U9wsLDXN1cbMwtzhz+szePft27ti5Y/uO12L3rt2HDhw6f+68tZV1gH9AYkJiVmaWRCRB1QL+O+RSeWZGZkR4pJ+vn4e7x+vx3NPbyzssJCwlKYW6karvAPD/oGSqo8SYkZ4RGxNLuc7F2eXe3Xvnz56n3EiZcPu27a8FJcwD+w+eP3eBLnNzfRYcFJwQlyDKFSE3gn+PklljvIGOjIj0eO5x59adc2fOHTt67OCBg7t37WHa27p965ZtW7ds5Q30vr37Duw/cPXyVbundoEBgaTetNQ0iVjyAqkRaAjKF2KRODMjKyU5JSE+MTYmLioiKiQohNKsn4+fj7evl4cXteyeHp6+Pr7BgcGREVHxcfEkY/oW0ikAQDOBQQZAEUEqkaanZUSERzxze2ZhbnHyxMmN6zeOHzeh709927Vt16Z1mzat2rRu1bpgtGvTrlPHTj2795wxbcaRw0duXL/55PETqmlSklLycvPYiAkAPiHKF9lZ2eFhEY4OjpcuXjp86Mie3Xtfi7179rIO4ZVrLk4uaanpWLMM/D8oFdR5kyQnJQcHBbs4uzy494Ckdezo8U0bN40fN75nj57t23Wg3PhaYqSgkx3adfih1w9//vHn5o2bz5w+a2lh6ebqFhkRmZWZxaalQ5ngw1DKleI8cUZ6RnRUjI+Xz9MnT6mBPn/2/NbNW3/79bce3Xt27tS5Y/uO1ByT8Fp936rVd62+/+57Om7bum37tu07tO/w+/A/Vv698ujho1evXH14/6Gnh2dMdEx2Vg7aaPBloTSYk5UTHBhsb2dvYWZx6+ata1evXbpw6dTJU0ePHD108NChA4f27d23e9fuvbv30vGJ4ycvnL94/dqN+3fvk4wT4hKkYilsMgCApgGDDICigChPFBcb5/7M/fq161s2b5k6ZeqvQ37t3KlLtarVtLW0v3ofNWvUHPjLwLFjxi5dvJRqGrun9qEhoWkpaZjmBj4VMqk8PS3dy9P76pVra1evHTVy1KCBg/r369+vL0U/Hv379h/Qb8DPA36ePWvO6VOng4OCc3NyVd8H4KNQvpCIJGmpaeFh4fZP7c+ePrtm9ZqZM2aOGT2GcmO3rt2qVKqiSn/vRF9Pv2vnrn/98dfsWbM3rt949fLV58+ex0THZmVmyaWwJ8B7kMvkqSmpJEJqne/cvrN3995FCxZNnjT59+G/d+nc5UNaZ6Jc2XJt27SlNnrMqDHz5s7bt3e/pbmlj7dvanKqVCJV/RIAnx1Rroi0TWXn+nUbpkyeMmH8hDGjx474a8TQ34YOGjj4lwG//PLzQGrlf+rzU9+f+v3y8y+//frbX3/+RaUmNfHHjhxzsHdMTkyWSWTwyAAAGgUMMgAKOcoXebl5QYFBFuYWmzdtHjRwUO2atU2MTHR1dHnxraOlY6BvwELPQP/VMDQw1NfV5yU4XUzXmBqb1q/XYMH8BRfOX3BxdonHrCLwf6NUKCViSUR4hNUjq21bt/Xp/VMp01K6OnokUT1dPa0SWiW+KsFDW0uHTmqV0G71Xasli5fY29knxidSD5AtVqJgUgfgQyC9paakBgYEWj+yPnH8xNIly7p16WZqUtLY0FhfT58nRpbxhBxoZGhkZGhsZGD0ShgaGRsZ89xIytTT0aOTZcuU69un76aNm2/euOnt5Z2ZkYl1G8HboLyXm5MbHRlNee/M6TPr163/8/c/WzRrYWJsQiLU0dbh6iIEWbIG2lDf0KBA0FtBn8a62rp0GYmQ2uhyZcq1a9Nu/Njxe3bveWz7mPJqXk5e/k+q/gvA5yE+Lv7B/YeTJ01u3qw5rzNZbamrT+04KZyKTwrKtNSma5fQpjOkYT1dfdJ/lcpVRo0Ydfrk6QD/gOysbCRSAIBGAYMMgEKMTCpLSUp55vbs1MlTM6bP7NCuQ/ly5XnNrYbqEiqyX6u8hWAVOdUrqusK0LhRk+HDhm/auOmu5b2gwKCc7BxsoQX+HVKxNDUl1d8v4NrVa4sXLe7SuUvpkqVVOns79evWnz5t+oN7D8LDwrMysyViCSug0f0D70XxIjszOzAg6OH9h4cOHJoyeWrXLl2/bvq1kaHK7SoI9dMoKBka0R9KkvkhGGTGxkbGWiW0VJfmU6ZUmXZt240bO/7I4SOUeJOTkrFoI/gnUomUtOHx3OPC+YsjR4zs3q37ty2+rVK5qlaJ14eMaWtpk/zUUuTBrTG1Gkt8VUJ1tQC13bVq1u7RrcfyZctvXLvh7+efkZ4hlciwMBn4nIjyxKTwPbv3tmzRsqDh+yFQau3Xt9/uXbvdXJ9RESsWieGRAQA0BxhkABRW5FJ5Ynyik6PTtq3bhg8d3rhRY1Xp8SpUWwsP8VRP8/Kf6bHHeiWoSvmqhPY/SnaiXNnyXbt0mztn7tUrV0NDQrOzcrBiOvhYRHmimOhYZyfno0eOTpo4udV3rUh7KoW9k7p16k6eOPnO7Tt+vv7Jicm5ObmYzgbej/JFbnZugH/AhfMXKXf179e/etXqKkn9A3Xq0/qKsiHLh+qgt7o6uvmDcF/xJjg1q9ccNnTYgX0HXF1cE+IT2KLp8MhAPlKJNCkxycXJ5fChw3/+8ae+nmqY9j/RKqElNMfaJEI6JkG+FCG11Nos6Pg1g4xDF7Ru1XrWzFmXLlzy9fFNS02DxQA+H0o2fOz2rduTJ01+h8LfBgn+xx9+3LJpi91T+9jo2OzMbDZZGFkUAKAZwCADoFAik8oS4hNtrG3Wrl5bv159HWEKhpGBkaGBEfXreAlSoKpWHdAZHsIZOmAVOZ/jxi+gYz1dPX1dfTpPJ40MjagfeP3a9ZCgEKpgUL6AD0X5IjMjy9vLm8SzdMmyJo2bCOMgtEyMTQz0DbjY8lFr8iveIaSD2rVqjx0zjq335P6cVc9Z2VgOD7yXvFxRWEjYxQsXhwwaQrmLsiKFnq6+oYEhdeG0X1nvibKeFnMi8i0JLSET8hDOMGNCyJMvoYuFWZlGdFy2TNkunbrs3b3Xwd4hMT5RtYwOD1CcUb5ISUpxcXLZvm1Hr5691GO0jY2MWcNaQIT8ARUPJr+vtNTJUAiuRkGWwpXCV5hu6S3pmY8sq1en3u/D/zh39ryfr58oT6T6OwDwH0Nic3RwWr1qdbu27bieqfLkKn0HdAEvUKmh79mj1/p1G2ysbcPDwtNT08Ui7M0KANAUYJABUPiQSmRJCUlPHz/dsG5Dj+491EUJX1JHT1ePn6FX3tnjz6jZE2nhQB3CWx26hq7kX6FynAp6quOFYp3RqGGj2bPmmJtZhASHsrVO0P0D70OUK4qOjLZ7Yrdj+44///jr66Zfcy0RwholL9XF4fKj4I4GnalVs/boUWMuXbzk7ubOF0RnBgQAb0chV0SER9y8cfO3X3+rVLESlxYlNNXSTnoGvP9Gwc0Iei2YDAUzQhUq10x4SEA3YV8RniWQOEnAdDd+87Klyw4fNvzAvgMuzi4pySkSsUQpV2J3y2IOycDH2+fokaO9evYqaVqSS0VHW8fIgM2jpAMmMGGUIgXXHh2QOCl4AhSCNc0vm2xhCScuS34xXySB7kx3q1+vwby588zumMVGx2LNfvAZoCwXFxt39vTZX4f8SmlQSKfs2SolVcH2LRiqxp0HaVit265duq1etebRw0dBgUHJSSmiPBHlT9UPAADAFwUGGQCFDeWL9NR0D3ePvXv29uvbr6SJqgQnhMqb1dNUiNBbelXV4vmTNVjlXcAjU3UU8+sY4R68jqGL2GX0ngrx1q3abNqwydbGNiE+AfU3eAdyqTwjPcPfz596a+vWru/ZvWe5suUEXanI1xtzHPIlx+DHXKV0UKtmrdGjRl+8wAwy6vVlZmRCeODdsBEN9o4rlq9Qp0TSkh79EbyGgmmQv2VnVFlRsCEKjiBTe2f5J/PPsO/S9ephQXXr1Bszesy5M+cC/AMy0jPlMjn6eMWc7KzsB/ceTJs6TT1UlppdXWHvEVIRT3SCqFRDw+gkF6GucJlKkK+eUQtPaL6FjwQ3jd+f7tmlc5eNGza5urhS+oUCwX9NVmbWMzf3ZUuXNfu6GSlQ2PSJTTvgIn+ZOYVWvkCwclT976JTx05/r/j73t17fr5+iQmJebl5mCMMANAQYJABUMiQSqTUGTt/7vzvw3+vVbMW1Rm8L0f1Bx1TUUI1NB2/ZkC8A1bTUN1SoJShk8Kr6usmxiZ//P7HyRMn/X1fLgbMlu1HHQ4KQAVuZESk3VO7A/sPjBszrmWLlnrCHqmCOFVDxkhXvHMonOECe6k63i2kg9o1a48eOVrYStU1MjwyPS1DKoZBBt4F9dlu3bj15x9/6grulYGegeAscFeLuWO6OrrqHdb0dPVeCx1tXe5fCPpkEmXffdU1oxvSAd2cPqKv0K3ouEXzFvPnzbd6aBUTFYNldEBqSiq1lT/0+oFEQvIQpKVW4Bu2xHkHpEa+229BJfMDOqObP96W8/OAny9fvBweFq6aaAkdgv8GmVQeHBh84dyFX34eWKF8BdIeqZGkyN1eIbvqq9MpFychtPKvG2TLli4zu2Pm4+2TEJ8AgwwAoDnAIAOgMKFUKFOSUx49fLR86fImjZpQ8U11BquV6Y/gi/EqpGBdQtBlpsampUuVLlumLAUdmJqUNDJkK+moYfVNgbmWBB1QxcOPmzdrMW/uPEsLy8jwyOysbLZiOtXfKMGBgEKmSE9L9/P1u37txoplK3p071GrZm39/IV79Vm5rJrJyzt43GUguN540FuhzuYjyGqPGjnq/Lnzzk4uEWERdHO2DjoAbyczI/PKpSuDBw0mgZGEjAyMSGYUwqCbV7pq7yZfoszRYMcvPTJ2hlu9dNJAGDRBx2VKl+nTu8/xo8efuz/PSMvAbhLFnOSk5IMHDnZo30FQ01dsLTyhaeZvC2JsZGxibGJqYlrStGTpkqXLlCpTulQZemtoYMg1zKHGXVeb7RfBRUjaY5oUWnn+ll/WsnnL1avWONo7JiUmqUYyooEGnxzli4z0DGsrm2VLlzVs0FD1DCxfk1ylXO2CPlUNPcHe/tMgW7Lszu073l4wyAAAmgUMMgAKE6Jckb9fwNHDR6kfSEWzUGawKoR7ZFQu/7MQr1C+QovmLTp26Nita7ce3Xv27NGrR/ceXTp3af1966pVqqouEryJgsUNQV1BtcdBVf6PP/y4Y/sO92fuVH9LRHArQD4Ktij182fPz54+O33a9O+/a8U1o4aUqa2lk9+jo9eCRTM7yYPeFjDIao0cMer82fPOTs4vDTL098DbeWmQCZYBdcNUkns5VvGD4F8hZXI15hsTLOhYUC/lWTaCjITNv1K3Tt2li5fetbgbFRlN3TwsNV2cSUpIOrD/QId2KoPMUN+QJzc1JCFDA6M6teq0bdO2U8fOXTp37dqla/du3aldpqAzrb5v1aBeA/XoMBIb6ZA3zfRdfsA/IkiEvJmuVLHyr0N+vXL5SlBgEIlQLhMeYgHwSZFKZGGhYSeOnxg0cDAfEcmXrGVp89XGneXJ/E2reVLlKRQGGQBA84FBBkDhQcmmbzy492DWzFmNGjTiRYZgKLBymeoPqpV18isSznfffjd86PD58xasXbN2y6Yt27dt37lj587tO7ds3rJ82fLRo0a3b9dedakwdIIPjM+vxVk5rqejxx8S1qxRc+SIkRbmluGh4bk5uaq/EijmKF+kp6U7OTjt2b2330/9alSrwbVEqItjkhMf6lgQXlLTQb7S2DG3JOgABhn4WF4bQWZsZMwTV0GMDIzKlytfvWr1OrXr1qtbTx30lk6qe24cIR++YpAJiVHVFVR/SlcaGRoPGTzkyKEjvt6+aalpWC+v+KJ8kRifePDAIer8cxXxzMapWL5is2+a9erZ6/fhv8+cPnPl3ys3rt+4edNmao63bd1GrTO9bli/YfGixWPHjO3cqXPZMq8s4EioU6Uadc4kqlapumnjJsqZGemZbNtfJEzwqaH8ZvXIeuH8hc2/ac5VJ6TZl404hzItpVNKj1RP8uD5k87AIAMAaD4wyAAoNIhyRcFBwYcPHv6p909UZFA5QmWHehQDQYUyvaUqhI719fS/bvr1uLHjNqzbcPzY8SuXr9y6edvczPyu5V0KczOLa1ev7d+3f+6cuW3btDU1MaWv8LvpsH0t86sZNlBCn69IrfWVVotmLegrbi5uKckpbE0oFDPFHplUHhYadunipUkTJ1WvVp2pUICUo+62vdajKwi3G9S1tbqzB4MMfCyvT7F8dQo5Jcz69epTl+ynPn2HDB4y8q+Ro0eNVseoEaOGDx3eo3vPJo2bli9bno+DoIxHaqS78WSoCmGXCX5AIuedPVJv9249Nm3c7OjgRD09th0b9rIslijlysSExCOHj3Tr0k3QnYqyZco2bfJ17x96jx45etGCRdu2bmON8iVqlG/duW1mdsfcwtzCkv6YW9y8fvP8ufMH9h2gy/r82KdK5ZejvAl1qlRDOlQP2zHUN5wze+79ew+SE5NZAw0Ngk9KXm5eUEDQwQMH+/XtZ2JsQpIjNVKSJAXyPElnjAyN69Wt17BBo9KlStNbNjNdnUUL5EwCBhkAQGOBQQZAIUH5Iikx6Yntkzmz5zRs0JDKCz1dPSo1uKHAoRJEqEXYmcaNGlPHb8f2HZcuXrp39/6Tx0+cHJ3cXJ95uHt4PPf0eO7h/szdxtqGavEli5e0bdOWSh1Vxy8/qKbRFfaep/P8/tTnnD9vPtXxUZFRWZlZWJEaiEViUtTOHTt7/9ibal+uE11h68DXOnIcEhWJ1tDAkL/ltTUF1xi95XqGQQY+ltemWKqfHJAODfUNv/v2u1EjRy2Yv2DNqjXbtm47dPDQsSPHjh2lOH782PGjR47t27t/3Zp106ZO7/1Db2710hdVyVBtihUI/qlaye3atlu+bPnD+w8jI6JysnLQ0yueKGSK5MTkM6fP9OvbjydASneUzbp36z5u7LilS5bu2Lbj5IlTt2/dtnpk5WDv4Ors+sz1GbXFlEU9hXbZ1cXV0cHJ1saWxLx65eoB/QeYGrPHVwSTXP4TBX7mNfR09MaMHnP1yrXoqGi2VD80CD4dSoUyPi7h0UOrSRMn1aldh+lNV5+qUEqD1KyzVRQEg6x+3fr9+/bv1bNX5UqV6S1lY0rF3CBjDb2weiMTawGDzAcGGQBAw4BBBkDhQClXBgUEUV+OemJ86hCVGlQQqyeyEeq6uUnjpn/9+Rf1A69duUaFuJOjs6eHp7+ff3BQcFhoWFREVEx0TGREZIB/ANXily5emj5tRrNv2HbdangVLuyT9dLpoOPhw4afPnk6MCAwLTVNIpKwvSxBMYaKWurRrVuzrn1b1VxdfT19Vg3nm6pqKpSv0LlT55/6/NSpY+d6devxkzDIwKciI50ZZEMGDymYEmtUr9H7x95jRo9dumTprp27Tp86fe3qNbM7Znct7z588NDaysbG2uax7WOKB/cf3r51my5YvWr1kEFDqJvH+3scng/pjNqhINFS349vZEl81/K7ObPm3Lh2I9CfcmM6m+AGih9KhTI9Nf3e3XvTp0030DcsV7Zcty7dxowes2L5in179509c/bWjVskPAd7h+fPnvv5+AUFBoWGhEWER1BzHB0VHRMdGx0ZHR4WTk2zk6PT5UuX/17+d8cOnUqaliKNUWpl2VW10ihrlFWyFFZXoLeUPH8f/vupk6cC/AIyMzLZMmQAfCLEIrHnc8+dO3bWrlWbpTy+/h39YTtIqFJurRq1+v7Ub8qkKUN/HVq7JruMilUSreCOCTnzTVMshV0sE2GQAQA0BxhkABQGlC9ysnLsntr/vWJl5UpVeHlB8LmQqjf56GjpUI2y8u+VFy9ctLaydnVxpfojNCSUKu/4uPjkpGTqv2WkZ6SmpMbHJYQEh9g9tdu9a/eggYOodlHdQnVn1dh4KmtUZ7/6qnu37lu3bHVzdUtMSBTlilDQFHOoqHVxclm9anXrVq25QowMjKgg5seEjrZutarVvvn6m58H/Dxj+oy5c+YOHza8ZYuWqo/zvQYYZOD/hDLk/Xv3p06ZamRorKerRxJq9X2r34f//vfyv/fu2Xvm1Jmb128+fPDwyeOnTg5OlBWfuz/39vL28fb18/Xz9/WnYzrjYOdw/dr1NavXDOg3QC1j7kHwV+FAZenywRH8mq+bfj1p4qRzZ87RfSjHMrmCYkleTp77M/dDBw4NHjSY5Ld44WJqXkkYd27fefTwkb2dPX3q7+dPLXJUZFRcbBy1pCnJKakpaenULqdlCE1zWkJ8QlhomJOj07mz50aNHFWzRk3SmKGwrpOQMF8JqgG4UUuN9dDfhh47cszby4fuJpVgGTLwaZCIJLExsTdv3Jw4YdLLAeDCPr+kQP6W6Nih4+RJk6n4HDN6bIN6DegM3+33vQZZIgwyAIAmAYMMgEIA1Q0JcQm3btyaMH4CHz6mhpfI1FXjFgNRoVyFSRMnHz505OH9h24ubtT9Cw8Np6+npqRmZWRRFSIWiancoYPszGzqywUGBFLdM2vmbEN9Vd1DN9RhY8f4wHjV4hH8o2bfNFu4YOGjh1bRUdE52TnYKquYQ73BfIOsDVeIro4uSZQXzTraOk0bN/3t16Hz583fvGnz/n37d2zfMXXy1Hb5w804MMjA/49YJHnu/nznjp3fNP3m++++//OPP5cuWbp3z96LFy6Z3Tbj3sQzN3cvT28/XzaWNjwsPCqSjaWNjYmLi42j7l9sdGxEeKTHc49rV68vnL9QvckvpUE+RIJUypJhfhQ0yBrUbzB65OhjR489f/ZcmC4kglyLJ9Qmkq6ePH5C6evM6TNXLl+xtLC0tbZ1cnQiffr7+oeFhpHekhKTqEXOSM+gVjg3J5cEI6LIE1HTLM4T52bnpqWmRYRHPH3ydOXfq0jPpDF9PYN8vb10xyhIitzMJaH+OuS3I4ePeHl4pSanspwJwwH83yjlSlIjtcXr1q7r0L4j1YQkNl02feEVd6xUyVLDfhu2ZvWa3bv2TJ0ytXGjJnTSQF8wyIQHDDDIAACFBRhkAGg2Qi+L6oaw0PBTJ05R+cv3qdTN3wOeoMojf9rFV2VLl+3RvcfaNWuvXrnm6ODo5+MXGR5JtXhWZhbV31KJlG6lVCgp5FI5vaWTVKY7OTpv3LCplDCPg9+QCnEKoaYpQTWNenPMGtVrjB0z7uqVqyHBIVmZ2XIZ3UiJrmCxhbp2r40g45gYm3zz9Tf9+w2YMW3Gls1bTp86ffP6TSqFT588vWD+gq6du6quY7C6GQYZ+D+hnJaYkOTs6Lxv775tW7cd2H/g4vmLZrfNhMWeHN2fufv6+IaFhPFhO8lJyemp6ZnpmZQYszOzs7Oy6SArI4uUFh8b7+bidvLEyUEDB1WsUInUqKfL1tRjSn3NICvQ2atXt/5ff444dOAQ/QWio6LphgpKjKD4QTrMSM+grOXp4enm6ubq4vrM7Zmnh1eAfwC1xaSulOQUkgd7UpXHnlRRKyyTyuQyuRAK1kDLlQqZgj5NTUnz9/U/dfLUsKHDKpSvwJXGG3ohbaoOSIp8XScqAwYPGnLwwEH3Z8/p3wJzHGRwHMD/C9WKlDZPHD/R+8feguSYCPX12ORKdW40NTZt17bdwgWLDh86QoqdM3tO0yZN6TwfQcYrSRhkAIDCAgwyAAoBVCtTB2/r5q3du3XnZTHVJbzI4IUyXyyM3lSvVn34sOHURbxreZeq5NCQUCqUc7JyJGIJVTnMzFKjpFKeLSpMNXpwYPDZM2c7tOugrl3YOCAdPV7WUE2j9uMqVaxE9z95/KS3l3dqSioV98wjQ1VTXPmnQVbKtFTtWnW6dek2dsxYOn/wwKErl6/cZ9tEPH365On1a9dXLF/Ro3uP/DGJqroZBhn4/6EuVmx0rIuzi421jdVDqyePnzjaO7q5PvP18Q0OCo4Mj0xMSExNScvMyMzJzhXlivhYWpKWVCyVSmQSsVSUJ8rOyg4LDSPFzpszjw+CoA6eeiff1wwy/fwFp+vWqffnH38d2H/A3s4+PCyCfgKdvWILCSkjLSMuNo6UEBIUQq1wRHhEbEwsaS8rMys3J08mkQlPqtijL2qUWQNKye3V/EZNM2XXqMgoCzOLmTNmNW7UmCtNR4utCsqDn1EbZHQweODgA/sOkObj4xLo61iGDPz/kJgpqS5euLhJY5YPeU1IYqMq0VDfkI9erFG9BlWGu3buunrlKrX4ixYsavY1W9aWGWTCiHIhYJABAAoHMMgAKARQd+vRw0ezZ85u1LARry10ddjmQdxZoMqDahRedlA/bcL4iadPnba1sfX19o2Oiqbvyrg1xqvwf6J8kRCfaP3IeuaMmfXr1c+/vy7/Cbo/M8jyZxKVLll6QP8Be3fvdXZyiYuNp/6kTCpTKmBdFFPycvKeuT3bvHFzj+49ypQqU6NajS6duoweOXr50uX79u6/dPEym15kY+vs6Mz3aLt39966tet+6PmDtjBNQ9AwDDLwaZDLFDlZOQnxCeGh4f5+/r4+fvQaFBgcGSGMGktM5nPMSUtszI5UNWBHwRwKQVuUI+UK+ig5KdnVxZVU3er7VqRGyq7Ux2PJ8NWgxKh+UFG3Tt2/BIPs6RO7sJCw9LQMDN4pzkjF0qzMrOSklPi4BLbup2DLUnNJ50l4r6Syt6c1qUSalJj02PbximUruBQJapfVdgM/Q1LkRi0dDBo4eP++/a4ubiR41RoIAPwfSCWy0JDQK5eu/Dzgl/Jly5PMDPQMdIQnpsITArYGPx1/9+13C+YtuHDuwv279+/curNs6fIWzVrwiz/EIMMulgAAjQIGGQCFgJTk1EsXL/3Upy9VFVSaUInMFwjjJTJVHlSF8JVTGzdqPGf2nGtXr7k4uYQEh1Jpnpcreu8IL6rdvb28Dx081KlDJ35D9RpkPLhtwWnTuu3aNWttrG0jwyOpBJdJYJAVX8QicXBg8MXzF+fPnT982PBxY8cvX7b84P6DFy9cNDczt7G2cXJ08njuEeAfEBEeQeHk4LR92/beP/YmUZGWqEfH62YYZOAToHhBOqFslpiQyPYEjIqJExZBT0tNy8zIys3JlYiEgbSUr96pJeqqkWL37tnboV0HUiP16Hgfj/ti6iAN88XRifr16o/4awQp3w4GGSCUzCMT5Ymo/RXnicVsoKJULpOzIWPvk58aupJSn91Tu7+X//3SINNmSx/wsbf8DB1zHWqX0B4yaMiB/QfcXN3iYuKys7LZbqpIm+Bfo3yRlZlla/N46eKllStW5mrT1WHFIT/m1KtT7/fhv+/aucvsjtkT2yf3795fuWJly+ZsK54PMci8Pb3j4+IpP8MgAwBoCDDIANB0lHJldGQ0db06tGe9NX09A6owdLR0tPLXHaNX7i8QLVu0pGLawtzC08MzKjIqIz2D6vL3lsjUIQwPi7h65eqPP7A1JuiGbASZqhBnb3W0ddQ/0ahho9mzZt+1uBsaEspKcBhkxRi5VJ4Qn+Bo73jh/AXqmB05fOTC+YuW5pY21jaODo4e7h7+fgHhYeHxsfGpKalJiUnuz9x379z9U5+f8g0ypmEYZODToBTmjIsllJfSUtMoMtIyqIOXl5MnEbFRY2wg7QeoiHImJTfSc8cOHUmNBsI0IpZm/2GQqbdMadig4eiRow8fPGz3FAYZEGCLGCjZDEoe3Bf7mCSmVLwgDT96+GjC+Al88A7Bp1jSAX8tCLXaw4cNP3r4KKXZuNh47KID/k8ol1ImPHn85JDBQ/hCtLzyVBef7Iy2zg+9fli2dNnF8xep3ecz3NeuXvvdt9/Rpx9ikHl5elOFwAwy5EwAgGYAgwwATUcskgT4B27csOn779gzZEMDQ6ow1KvyE3wcGadrl65bt2y1fmTt7+cfH5dfIr8PmUSWEJ9oaWHZv19/ugn1/fR09XSFZXc42lo6dIZv5Va1StU/fv/z+rXrgf6BmRlZUokUBlnxRfkiJzs3Oiray9PL0cHJ7qmdvZ09lcjP3T38fP3CQsNiY2L5otTiPHFWRpanh+ee3Xv7/tSXT7GkcpnXzTDIwKdBEIlcKueDd+iVlMNGjX3MXiJSsZSke3D/wY7tmUFGKVdfz4CEWtAdoxAMMlWSbNyoybgx444dPWb/1B4GGfgkkIQS4xOvX73ep3cfLjNC/aSKtfyCTaauBEqVLD1u7Lgzp85Qmk0Q1iDDThHg36N8kZGe8dj28aKFi74RFhQjjAyNeZOtVl2F8hUmjp948MChB/ceuLm4eXt5O9g7bNywkY95VA+/5d+CQQYAKBTAIANA08nJzvHy8Fq5YmVz9ZoOemxBHHWBojbI6tdrMHrk6KNHjtrb2YcEh6QkpYhF4g/a6F3JZllaW1kP/GUg3YdKcOr4MY9MW5d+iH6BfktHW4eKG/rUxNikR7cep0+e9vTwSk1JFYskMMiKM3KpPCcrJykxKTwsPMA/0Nfb19/PPzQ4NCYqJiU5ha/6xFfBowMfb9/9+/b379efa0kYDUFKhkEGPjXC+J23Lrz4TihtqkaQCQaZkYERdeooB6qtMR7aJV4uzvhN028mT5p8+tRpBzsHGGTg/0UQLSU9asf37t7brm070hi1yDw9FoQSKT9JVUGL5i2WLF5649oNSrOJCYl5OXlomsG/RiqWUpt+/NjxH3r9wMVGUE1IeU9PR4+nvrJlyvXq2Wv92vVXr1x1sHcIDAikrzx3f751y7Y2rdvQBTDIAACFERhkAGg6aalpTo5OixYs4lsI6enqU6Es2AqvG2Stvm89Y/qMM6fPuLq4RoRHpKWmyyQy1V3eR252rpOD07DfhtF9qIjha68Ki01wX0y1bxF9SufbtW1/5PARN1c3qsKpM/neNc5A0UYuk1NnLDUllcrc6Kjo2OjYpISkjPQMNrVNGL/D+3viPLGvj++B/QcG9BsgiIo5YjDIgKaRl5sXHBT80iAzZAYZSfSlO8ZFK+zjRhcQzZs1nzZ12rmz56iXCIMMfBIohTo7uSxetLhpk6akMcEge2XtJ4IUyOf5Vihfoe9Pfbdv3f7g/gNSb3JSsihXhJwJ/jXJSSlPnzydN3eeem8o4SGBNn+sxc80+7rZ1CnTThw/8ejBI8/nnpERkbExsd5e3tu3bW/TSjDIMMUSAFAIgUEGgGajfJGYkGhjbTNrxqz69RpQVaGno0fBCw5eZ3BzgaCCY/68BRcvXHzu/jw6KiYzPfPDN7GiYprqmxF/jaD76Gjr8HFqVAnpsj0B2GJk2mzhCfZD9OutW7U+sO+Ak6NTXGycOO/DBqmBIg3zyHLzsjKzqFOXmZFJxS5flLrg1DaxSOLr4/eKQYYRZEDzyMnK8fP127VzV7s2bOQOH0H20h0TRu9S0IF6Hnqr71rNmT3n8qXLlBXDQsMy0jLk6OyB/wNKnuFh4devXf91yK98fXTSG5+ZzpwK1X/YaqHcNatbp+64seNOHj/pYO8QFRmVlpLGxo8jZ4J/hVQs9ffzP3ni1A+9fixdqjQJjHIdLwVJh4L6vippWrJvn75bNm81u23m4uwSFBgUH5dA9aqfj9/2bdupSqRr9GGQAQAKITDIANB0EuITHt5/OHH8xNo1a1NV8QaDLL9e6dG9x4plK25ev+nx3CMmOiY7M/vDdwWiYpr6hCNHjKT70J31dNkIMq0Sqi0s6YzaIKNy5/tvv9+9a7fdE7voqJi8XMzjAAypRCYRSyikEqlMyvZre617Rh9R6VzQIKNXXjfDIAOaQ3pahpOj07Kly75u+g2p8R1rkPHOHn3Uq0ev1atWm5uZuz9zj4yIzMz4iIcTAPwTEqGNtc3SJUsrVaxEGvsnQjP9cp3Q5s2ak2Jv3bj13N0jNiY2KzPrw8ePA/Aaaalp9+7enz1rdvlyqt0hKN3xVltNm9ZtZ82cdfrUaVubx95ePlGRUZnpmemp6f5+/ju27eAGGUaQAQAKIzDIANB0YqJjqYb4688R1apWo6pCV4cN6eIVBkdL9VT5qx96/rBq5Sq62NPDi0rknOycD7euJGK2FcDokaPpPtolhCmWumylMzrWEdbmZ33CfBej+TfNN2/abG1lQ11B9itYCRi8YEs+KeT0v7eKQcJGkOWvQYZF+oGmEhcbd+e22a9Dfq1YoSKpUU9X9UzipTVWQps9MMgfuksJmS7euWPnowePqLOnejiBzh74WJRsScfcnNz4uHgHe4dtW7f16d2H9MZlRgrkBwRTozDJl7+tUrnqsKHDDh44aGNl4+frF89W6M+DAsG/QyaR+fn67929t/cPvdWq46mPHxPaWjpDBg2hOpBSpZurW3BQsLArVG5mRmaAX8CO7TswxRIAUHiBQQaAphMRFnHl0pUhg4fw3pqutmpKhRruNVD98eMPP65ZvcbCzMLHy4eKFSo4PtxTkIilQYHBEydMZDdku7O9NMj45pVU3KhLpUYNG61etfr+vfvhYeFZmVmYTAQ+BLFI7OPts3/v/n59+/FSGwYZ0DiULwIDgg4fOvLN19/wjEc5UJgLXMAg09IRHhuo8mH5cuUnT5x8/NjxJ4+f+Pv58w0EMa4WvAtSB4XihZJCrpTL5OI8cWZ6ZlxsnJ+P34P7Dzas3/DzgJ+rV63ONcYNWUF7bCAPz58cEyOTn/v/vG7tutu3bru5uoWGhCYnJotFEix9AP4dGekZ9yzvTZ08tXYtNmuBENa9ZQlQXQRWrlh5xvQZJ0+cfGz72M/XLzoqOjUlVZQnys7MDgwI3LljJwwyAEDhBQYZABqNXKYICgw6e+Zs35/6lS1dlqqKNxhkwrh3qj/69O6zft36e3fv+fsFCCWyWHWXD0AmlYWHha9Y/jcfp0a8wyCjsmn5suV3Le6y1XbSM6QSKcwL8F6oevb28tm3Z1+/n2CQAQ1FnCd2dHBcsXxFmVJlWLITUquWMMGcB6VESsJ6Onpcw6VKlurWtdu6teuuX7vu4uQSGhJGHUXIFRRELpPn5uTlZOfwyM7KpsjKzM7MyKTklpKcEhsT6+/rb29nf/vW7X17902ZPIVyIG95+UKNdEB6o6afjWcsMLOypGnJjh06Llyw8NTJU7Y2tv5+/nExcZkZeGoF/iV5OXmBAYG7d+3u0rmLSmSspWZPCHSF9T3obfVq1Yf+NnT7tu0kV1cX1zCe9EQSQee5wYHBO3fsbC0YZFiDDABQGIFBBoBGI5PKvL289+7e27TJ17yqeJNBxspora+0+vbpu3H9xgf3H1B9QzU366R9MHKpPCoias+uPe3btee3JaimeaNBVqlipcWLFpvdNgsKDEpLZeYF28gSHULwTgSDzHvfnn19YZABjYTybUx07OVLl0f+NZL6dSRF0ifzxQSJsgNukOno8T1M6IIa1Wv8+cefhw8dpsTr8dyTsmhGegbdR3VHUOyRSpionrs/d3F2cXJ0FsKJwtHB0e6JnY21zb27965cvkKJcdHCRYMGDurYvmO9uvVIWhxq7ikrqhvfgpQrW65Tx05Tp0w7eOCgpYWl+7Pn4aHhyUnJGMAI/h1ymTwyPPLOrTuUACmzqXQmlJdaVAzmi7B1q9ZLlyw9d+acjZWNt5dPbHRsZkamVCJVyJWiXFFIcMiunbv4CDIYZACAwggMMgA0Gqo5XF1cV69cbWJswqsKZiIIHTM1/C2VLwP6DdiyeYvVQ6ugwKDU5FSpWKq6ywdAhVFsTOzZM2d/HfxrQQPujQZZ6VKlF8xfcPPGLT9fv9SUVLFIzMpxFOTgncAgA5oMJTHq5pHk1qxe065tO77Uo56uHqmU9ElCLWCQsYUgeWJs2aLl3Dnzrly6Ym9n7+/rHxcbl52FBciACqVcmZKc8tjm8YH9Bzas37hm9VqKtUKsWbVmxfIVixcunjVz1qiRo3r/2LtJoyakqIIIMmP75PDEWJBSJUv16tFr9qzZdOc7t+84OzoHBwWT/NLTMrB/Jfg48tWSnZVj99SOxPlN02/4YDGe94RmWlX+mZqY/jLgl7179lqYW7g4u5DqUpJScrJzqFilFEqtfEhw6O6du9u0/lCDzNvTmy8Jwjb2AQAADQAGGQAaDVW6j20fz50z18jAiFcb3FPgFQaHd+R0tXV/+/U3qlqePnkaEhySmvJxBhmv42/fuj1u7Hh9PTZ0gvNGg4xKc7VBlpLMFp5glQ0qcvBOYJABTYaSbXhY+JlTZ/r17UdJ1djQ2NDASGWQ5c+vZCFoldOgXoM/f/9z967dlhZ33VzdKPFSFhXlijB+B3BEeWLP555bN2/t2aNnpYqVTIxNTI1NS5qW5GFK74xMDA0MeSNOUGuro6VTUGO82aVXA32D0qVKV61StWH9hm3btB34y8Ali5ccPXL0rsVdu6d2vt6+MdExlCrzcvNkUuygCj4amVQWFRF1/Njxn/v/bGTICk7KfqRMHW1dde1HB507daby7/y5849tHvt4+URHRWdlZEnEzB2jNlqcJ/5Yg8zH2ychPoF0C4MMAKAhwCADQKMR5YmsrWxmzphJNTSVFCZGJlRh8PIiH7YwBP2H6phhQ4ft37ff/ql9aHDoRxtkCmVaapqFmcXkiZMN9FQVDPFGg6xMqTIL5i/MN8hSYJCBDwEGGdBkKJXZ29kvWbz066bfkAipi2hkaEx5lXIgH0FGUdAgo4Oe3XsuWbSE9RVtWV8xKpL1FbEmI1CTlZnFH3HVr1efy+bdUGvLJMda+ZeWBD+oWKFSs2+a9+je89chv06bOm3d2nWnT52+Z3nPxcnF18c3OjKa8qQoTyyXyuHPgn8BadXJwWnJ4iVNGqtGMnLrlhpltQhr16o9dvRY9kjA3NLNxY1KzeSkZFKdWnL/ziBLjE+EQQYA0BxgkAGg0YhyRdZW1u8wyKjs4CPhP4FBlvKhBlm5suUWcoPMBwYZ+FBgkAHNhLKfRCwNDAg8d+bcgP4DKL+RCPX19KkvR9lPWHyH9MmyX0GDrGzpsqNGjtq9a4+lBesrhgSFJCZQN09IhgAQihfUqt67e2/SxElVq6h2v3k3QoPLDFnV+wIGWb269X784cdxY8ctXrh4x/adF85dePjgoYuzi7+ff3QUGztGSZL5FMiT4OORyxQx0THnz53/dcivJU1KcsnxKQuUAPnbCuUq9P6h95pVay5fumxv5+Dn6xcbEyvsY/5yxCIMMgBAEQAGGQAaDTPIHlnPnP45DDL6irmZ+YcYZJUqVl64YOHNGzf9fPySk9iUIhhk4L3AIAOaiPKFRCRJiEuwtLg7d85c6gSyHCd4YZT9SJ/CKzcs+DFLg2XLlO3Zo+fqVatVfUUfv5ioGCzPD15B8SI1Je2uxd1JEydVr6Za8lzIeKrgZwg6phzI3TF6Je3lf8rOCwdfNajfoPePvceNGbdg/oJNGzcdP3aC7vzM7Vl4WERSYlJOds7LnSuRKsFHkp2V7eriOm/OvK+bsv2g9HX1dXX0SHu8peY0adxk5oyZJDyrh1bUlFPTzGeUM4OMpCeoDgYZAKAIAIMMAI2GG2Qz1AaZsUYYZFWrVF24YNHN6zd9fXzZAHsMmgAfAAwyoIFQ7y49Nf2Z27NdO3f17dOXKzO/R8eCVMr1ScmQXgkjQ+M2rdpMnTz1yOEj9+/df+7+PDQkNCkhCetMg1dQvqBW1cLcYuKEiTXyDTK2rpOwMaWOlg5Ji1553lMHneQemRY1vsIB/2K1KtW+bfltj+49B/Qf8Pvw36dOmbZ1y9abN256PPdIiE9gBpl66TGkSvAxKBUvQoJDTp863bFDR15q6uvpk0q58Dhly5Qb0P/nbVu2UeHn6OAYFBgUHxuflZklk8pU4xZhkAEAigowyADQaPJyRVaPrGZMn2Gozw0yU6oweHnBobLjU61Bxg2ySRMnqSsY4u0G2cIbrxhkKMnBe4BBBjQO5Yuc7FxKmJcvXZ4wfkL9eg1YgvvqK8qBPN2RMtmi6cLAMbVV0bhRkz9//3PL5i03rt+wt7P38305x42NpACAo3yRmpxqYcYMsurVqnPx8DX41Y2pkABZDuRpkDQmtLnqIO2pVGdqYlqhfIVqVarRrerUqtPsm2Y/D/j57xV/37pxy9/PPzkxWWUxIE+Cj0GpYKuPUZ05d85c9eRK0h5vlNW0b9d+3px5Z8+cffTwkYe7R0R4BGmbaj8l1X7cHROEB4MMAFAEgEEGgAajfJGXk2f10Gr6tBm8qnjjFEv+oE9HW3fob0P/T4PM7I4ZlfJvN8hUBVP5cuXnz51/88ZNXpezIgmrAoP3AYMMaBrUJYuOjL539978efNbtmhJ2tPX06cgHfJOHTMshGE+dEyfEnRAAl6x/O9zZ849evDI/Zl7aEhYUmJybnZuwbV4AFCwvaFTH9x7MGXyFPUUyw+Ba4+3uWrh/ROtEtptWrch6Z49c5ZSZVxsnDCGEYkSfATULgf4B+zfu7/Pj33U7bLaluVQPhz4y6Atm7dYmFs4OToHBgTGx8VnZ2VTu0xJTylXUgXIx5HBIAMAFAFgkAGgweQbZDM+yCDTGfrr0H1799k9sft3BhmV8hZmFlTK8zH2nDeOICtTuszcOXOvX7vu6+OXlJgEgwx8CDDIgEYhlykofdlY2axbu466c0aGRqQ9fT19PV09lSz5WJ4S2mxanI4qzTZs0HDa1OkHDxy0NLd0dHD08/WLiY7JSMugniEbTAGAGsULEsZj2ydzZs+tV7ce6efDIeGR2AqONXsjxkYmLVu0/OvPv7Zt3fbw/sPwsPCcrBykSvCBKOSKlOSU+/fuT5wwsXLFylxUVFKS/NRr8+to6zZt3HTWzFknj598bPvY08MzMiKSNcoiiUKmUCqEsWP5koNBBgAoAsAgA0CD4QaZMMWSVxXGRsZUYfDygkNlh9og+23Ib3t273ny+ElIcMhHG2TsWXeKpYUl9f0MDVhHkfNWg2z23GtXr/l4+SQlJOXBIAMfAAwyoDlQxstIz3Bxdt2+bbt66AShq0OdQ57x2JL8QkdRi05SN49O1q1Tj9Ls1i1br1+9bvfUzsvDKzwsPDkpOSc7VyaRQaLgNXKyc9yfuW9Yv6FLpy7ly5U30DfkQxTVIXivzH6loOynbmT5CmVMhvlwHdL1dBm98rVHOVWrVO39Q+/ly5Y/evgoMiJKLBIz2wKA95GXmxcYELh/7/6O7TuqxCRUfVRVskX6haxYvVr1Yb8N27F9x+1btylhBvoHJsQnvM3PgkEGACgCwCADQKMR1iCzVhtkRoZGVLvw8kKNjmCQUaduyKAhu3bssrG2DQn6lwaZ2R0zYQ2y94wgq1i+4sL5C29cv8EqmwRW2cAgA+8FBhnQHHKzc329fffvO/Bjrx8LumOUTtVvCd6148e1a9Ue+PPAVStXXbxwydba1tPDMzQklBJgTlaOFO4YeBNSiTQ2Ovb+vfvbtm6bN3felMlTJoyfMG7suPHjxtMBvY4bM27M6DGjRo4aOWLkH7//0a9vv5YtWpYrW45LriCkQ2aNCXsL0jG9apVgo8wEH40SqFbdOnVXr1xtY2WTmJAkUy/YD8BbUMgVUZHRFuYW48dNoORGKiI5UQ4kRenr6dOBoLuvWjRvsXjR4osXLj62fUIteER4RFpKGrXIbMDsP5IeDDIAQBEABhkAGo1ELH365On8efPV0x7VvTU1vI6hymPwwME7tu+wtrIO/lcGWXJS8o1rN6hSp9qI35l4o0FWrWq1pUuWUmXj5+tHtTgMMvAhwCADGoHyRW5OLvXKTp081a9vP7UZQTrU1dblI3e4PtkUy/wHEhXKV+j3Uz/qKJ48cfL+vfturm7BQcFxMXFscqVIjIWfwBshYWRnZZNUbG1sb1y/ce7suZPHTx47euz4sRMkJHo9duTYkcNHDh44uH/f/t07d69ds3balGk/D/i5ZYuW1atVNzEy4fIjKFWSIEmZQs7kq+NRwmTjzvgFpF6qAehWnh6e2ZnZaJTBu8nNzrW3s1+3dl2L5i31dIW9ntjAMfaEgLfIRKWKlX4d/OvePXsp6bm7uYcEhyTEJ5Ck5VK29Nh7DTIDGGQAgEIIDDIANBq5TO7q4rZq5ary5crzqoKgUkN1JMB3saSaZuAvA7dt3Wb10IrK8dSUVMnHGGRUmlDdc/bMuUG/DFIX3MSrBpmqZqpdq/bKFSstzC0C/AOSErlBproPAG8DBhnQBPJyRYH+gWdOnRnx1wj1gwfqFlLnMN934KvyswNukJUpXYa6cwvmLzx65KilhaWDvYOfj190VExqSlpuTq5MiuFj4C0oXyhkiqzMrJjoGF8fXzdXNxLP08dP7Z7a0QG9Pnn89LHNY2sr60cPHt27e+/WzVunT53esX3HwvkLh/429Ltvv9PXUxkKagSVCpN/hUaZGmhjI2NeFTRq2Gj61Ol3bpvFRseynAnA21C+oOLt4oWLv/36G6U+Li2e/ZjEBAz0DHr17LVs6fKrl686OjhSvcfWW0zPEIvY8DFmkP2j8BPniUODQ3cxg6wtu4O+gb7eqwZZvp47dWAGmdkdMx9vXxhkAACNAgYZABqNXCr38fY5uP9g+3bteV+OmQiCY6VGZZB9pdWvb79NGzc9fPAwKDAoJTlFIvqI+ph+KCoyavu2HVSR89ty3jiCrGGDRqtXraaOYmBAIAwy8IHAIANfHBJheFj4xQuXBg0cpJ5DRH02SnRCfnv57IFPXSeMDI3btW03fRpbmP/WzdtPHj/xeO4RFhpGqU+YXClF9gNvhbKWkk20zMzIio2JjQiPCA0JDQwICvAP8Pej8Pfz9fP18aXE6OXpRbp65vbMwd7B6qHVjes39+/bP2/uvB7de1SupFo9nSChUgHAxjkK1i0lT8qZzN6lF6Gl7tSh09YtW91c3VJTUtkgMqRN8CZkUllYaPiuHbuothSUxTIec12FppnQ1dZt3KjxtCnTjhw+Ym1l7fnck9rilORUqvfou9wgYyHsX8lyIIWwiyUpfNfOXaoRZMKiewUNMvUEhQ7tOyxfutzS3JL0D4MMAKBRwCADQKORy+RBAUFnTp/5qU/fsqXLUlXB6uD8nhuHP/2jsqbvT303bdz86OGjf2GQySQyKmvmz1tQulTpAgYcX6b6FYOMDpo2abpx/cYH9x8EBwbDIAMfCAwy8CVRkgLFYSFhd27fmZC/5g5BItTT1dNSGWRvoHmz5mNGj9m5Y9f1a9dtbWzdn7mzyZWx8ZkZmSRLTGQD74VEIpVIszKzKJWlpqRSo5kQnxAfJ0RsfFxsXEx0THRUdFRkVER4REhwiJ+vH8nM+pH1ubPnly1d9uMPP1YoX4GrkQoASp486C2Jlnu76uRZs3rNUSNH3bh2IzQ4FGkTvA2xSOzj5bNu7fpvW34rKItt4FvQIDM1KdmhXYeFCxYeO3rM0sLy6RM7j+celPqiI6Mp+yXGJ74WCSwSSMAO9g6rVq5u0bwFvydlV6GVFxp6YUdgfv/WrVrPnjX73Nlzj20fe3l6h4WG022pcKV/JvSPBboFAHxBYJABoNEo5Arq0V2+dHnwwMEVK1SkquKfBhkvi6lK/qlP300bN1k9tOIGmfhjDDKqSIICgqgfSLcyMjQyNDDk5oVgkKmeVNNb/kPUY9y2dbuNlU1IcGhyYjIMMvAhwCADXxBKcdFR0ZbmlksWL2lQvyFPa/q6bC1qEiFzHIQUx1/pI075suWHDxu+ccOmq5evWltZP3N9FhgQFBcrLD2WJ4Y7Bj4U5Qu5TCGTyCiVUSakRjMvh0VuTm5Odk5WZnZWRlZGeibluuSk5Pi4+OjIaGrHXV1cr1+7sXjh4o4dOqraX2EGHBcqvaUDfp4ETE0zHRjoG7T6vtWO7TtcnF3otkib4I3kZuc6OzovX7acyjmSDfGaQVa2TNkunbvOnDFr86bNRw4fOXvm7LWr1y3MLR7ce2D1yMrG2vYfYWP1yNrczPzE8ROTJk6qX68B3URdrwp5lQVv4olvvv7mrz/+Wr9uw/FjJ65euUpffPTwkYO9g4+3b0pSyketEAIAAJ8WGGQAaDbKFxHhEdeuXhs2dFiVylWoqtATtoTnFQZHVX+U0OrV84c1q9fcu3svwD+QKgxmkH1wccwMssCg0aOYQUZFEhXZBnoGrNOYX3arDTJdHb3vv/t+545dj20fh4WGUzUPgwx8CDDIwJdCKVcmJiRSbpw/b37LFi25/Pjq0XTAoZMkPz5jnVOzRs3hw4avX7f+3JlzDx88dHF2DfBjq/BkprOxY/9cfweAj4ASmhBKhVIhU8ilcqlEJhaJ83LysrOyM9IzkhKTqPV3f+Z++tSZcWPHGRoYcVlStuRGBnfHBA2rXvkFZUuXnTN7zl2Lu4nxiWwwDgCvoXyRlpr+6OGj2TNnN6jPnCziNYOslGmpZt807/Njn99+/W3EnyNGjxw9YdyEKZOnTJs6beb0mbNnzX4tZs2cNWP6jEkTJv3x+x/dunSrUI6NeSRZ8hvmP3hQvSVqVK/RsUPHIYOHjBwxcuL4iXRb+vqK5SuOHDri5upGhSUSLADgSwGDDABNJyYqxuyO2aiRo2tUr0lVhZ7u6wYZf0vFR9cuXZcvXX7n9h1/X/9k9gjuYwwysTTAP2D0qNH8Vno6evRDQrWkKpjUBpmpScluXbsdPHDQ7qkdDDLw4cAgA18EhbADyRPbJ0sWL+nQvoOxIVvRnLSn90+DrMDyjtWqVBv4y8B1a9edPXPWwtzC7omdt6d3eBjLeKRktkA1AJ8Q7pTJFXKZXCY4Zbk5uemp6VGRUdZW1hs3bPzu2+/49DSdAlsN0isb5V0g6AJqvkf8NeLC+QvUQOdk5ypkaJ7BK5DMkhOT7929N3nS5OrVqgsJ76VBxrMiqah0ydKVKlaqVrVazeo1a9aoVad2nfp169erW69BvQaNGjRSR8MGDVnUb1i/Xn26hm5Yrmx5yq78tpx8g4z+p0q5hgaG5cuVr16tRu2atevVqdegfoP69Ro0+6Z5v779jh095vncMycrB40+AOCLAIMMAE2HunYPHzykOqZunbpUVbzNICPatWk3f97861ev+/r4Ui/uozwFcZ7Y28t75F8j+a34Jlkqg0wwL9RlTeVKlQcPGnz65GknRyfqLqYmp1J3Ec/6wHuBQQY+PwoZ6wo+ffJ065at7du2NzUxJYEZ6LG91bSFxZsEl4EPkn1plpUuVZqy3OqVq8+dPXf/7n27J3bP3J6plx6TS+WquwPwaaEsJ4RSrpTL5BKRJCMtw9vL5+L5iyP+GlFTeEhG0qVgBhnfcVVImxRUCfCdfOj8Lz//cujAIR8vn7TUNEqemAsMCiKTyqiwtDC3GDd2XMXybO0OQk9XZZAJwVLi/0nBxUDUT1gJrlt+/E+MDI1mTp9pYWYRHxfPFtJFbQkA+OzAIANA00lJTnn6xG7O7DkNGzSk6kFYNOflJCCqOdRbdH/z9TfTpk67dPGSt5d3UmLyR02xzMrIcnJwGjZ0OL8VQUUMdy6oVOK2Bad+vfqTJ02+cvmKu5t7THRMdlY2FVswL8B7gUEGPjNKxYvMjMynT56uXrW6c6fOBnoGpC7Kn691AoVc99Idq16t+sBfBq1ds/bM6TP37t6zt7Mn3ZIOqcOWwSdXQorgv4Y0JthkEpEkKjL64f2Hc2bNadSwEenTQN/QQN+Akie3MwTrgQW9pfN0AYmZcuzOHTudHJ1iY+Jys3Mx4BEUhGq2+Nj42zdvjx45urwwF5LQ0dbVFmYM8OaY4OWlvp6+IDlDQwoD4ZUf5AepTl945EDVKX+Cq6Ol81pSLXishn5OT0ePvkV3MDIwMjVmTy/o60MG/3rq5KmwkDC+YD/sXQDAZwYGGQCaTkZ6hpuL29LFS79u+jVVD1SFUEkhVBcq+KwKoqRJyUEDBx07euy5+/PEhESxSPyBHTmFXJGanGpjbTN40BB+K7ondSOFaolV4QXHrLVp3WbxwsW3b9328vSKj0vIzcmTy+ToMYL3AoMMfFaUL7Izs/18/Hbv2v1Tn76lSpYmmfEuGUtkgi/GzxQcLlGlcpV+P/VbsWzF6VOnLS0s7e3sPZ97hoeFpySlZGVkUVKF1wA+H2xpf3lyUrKTo9OK5SuafdOMJGoouBXMIBPGdwsplAXpmVvAxA+9fty8cfPTx0+jIqOys7KpiVfdEABhSY3YmNib12+OHDGyfLnyXDOUGLnTyltngtRFtR83sN4agjWmJ1hjLHT0dLV1SZz8Dmr+aZDRGWruuadGdzAyMCplWoqf7N+v/6GDh/z9/FOSU/Ny8tgjWAAA+IzAIANA08nJzvH28l69qsC22a8aZAUrj7Zt2m7ftt3Z0TkuNv7DZz5KJdL42HhzM/P+ffvz+9BPUOnDnihqaetosbkb/Dx1Mnv/2Hv9uvX37t6jnmdSQlJeLgwy8EHAIAOfDyWbNh4aEnrj+o3fh/9etUpV0hX14ih/qjtvvPtH3TlSID9jamLa96e+SxYvOXH8pKW5pd1TOw93j+CgkMT4xJzsXDaWAe4Y+JwIg8gyMzI9PTyp2f22xbekUrVBRllUcDTeYJD16NaDrre1sY2MiMzKzGZtNAAc5QtqT5lBduPmqJGjKpRXjSCj3MhUJDwz4GeoulQ10Koht2+KVxVIr6qvvspr54Xr2ZhHavHpW/SLlIqNjYzpIyo4+/Xtt3/ffi9PL0q82VnZrPUHAIDPCAwyADQdUZ440D9w3dp1vDg20DfQE1bq5fCyg/p43MNq3qz538v/prI4IjwiKzPrA1fn5T3JUydOde3STbgrG1tBN9ShokVLR1tLR72WRNnSZQf+Mmjfnn30E0EBQXyFfhTf4EP4cIOsds3arxlkbL4wxkCAD4YEExYafvvm7Xlz51WtzNwxgsRGPTFBckJ3TjDI6IB/Wr5c+Z7dey5euPjokaPmZuZPHj9xf+YeFBgUGxOXkZ7BOmlQIPgS5GSxh2Qb1m/4tuW/M8iysGoeKIhMIouPSzC7bTZu7Di+PTohLN9BVR9rhSlP8nhNY+8IupINH9PRpYqRfTH/W/zmBaGTgjXGqlYedExlLZ9iSd8d0H/A3j373N3cE+IScrJzoV4AwGcGBhkAmg6VMqEhYTt37GzTug1VD280yOgMnaeDRg0bzZ09997d+9SvS01JpU7dW4c8qE8LG367OruuWrmq+TfNhbsy54K5Yyy4QaZag6xSxUq/D//9+LHjdk/t6CeSEtkIMmySBT4EUZ7Yx9tn3959/fr245PaBIOM1d8FDDJmxb7JIBNjp1TwgYjzxDFRMRbmFosXLW7frr26k0YHpDQWzCZTjRrjlCldpnPHzjOmzdi/d/+N6zee2D55Lowdi4uNI/nhMQD4gmRlZj1ze7by75XNhAb6vQYZHf8oTLF88vhpVEQUfV0GiwEUQKlQJicl37W8O3nS5Jo12M4PnxwuSHpVvS8Aa/GFJ2RvhIT965BfDx86TBk4MT4xNydXjgoTAPB5gUEGgKajkCujo6JPHj/Zq+cPVD3o6ujpaOsUKDvYAZ3U12ObateqWWvc2HHXr1339vJOTEhULd/wxuoi3yCj4iMqMtrsttnwYcMrV6ws3JEPH2NuBXvV0lHvA1C7Vm26//lz550dnUODQ6nGEuWJsL4J+BDEIrGvj+/+ffv79+tPRTDJidQlPGf+QIMMs9vA+5FK2PI6tja2y5Yu69iho6GBEctcwlME7ilol2DTxgv23Az0DTq060B9xd07d1+9ctXqkZWbq1tIcGhCfAJbdyxPLJPKIT/wpUhJTn1s83jWzFkN6jfgcqV4k0GmrS8YZHS+30/9dmzf4WDvQI07aRirOIHXyEjLsLGymTt7bqOGjYUs+OnhzTpHyLcs5XKt8pNvpEzpMmPHjD1z+gwVsUkJSTDIAACfHxhkAGg8yhepKWkW5hZTJk+pW6curyG4j6CGCmL+RK5s6bJ9evc5uP+go4NTQlxC7geMTlfIlX6+fnv37K1Tuw6/G5Uv3BcTDAsW+rrMfSNaNG8xd87c2zdvU+0SHxefk50jFUvpDqp7AfB2xCIJKe3A/gMD+g0gUZGcdLV132uQhYeFk/4FHxYyA+9D+SIxIdHqkdXKFStr1azFcpYAmy7E3TFhUUWeLTkmxqbff/v9hPETd2zbcf3aDVsbW1cXVxJqnDCzUpwnOLMKNuZC9RMAvAMSi1whk8o+4XJ1EeGRly9d/rn/z+XKliPF6uqw1dBJw9xr4HYDvZLI+ehyUvgvP/9CbbqLk0t0VHRmRpZMAoMMvEJuTt5z9+ebN27u3KkztbyUGMuWKVu5UpUqlapUrli5auWqVau8NapVrVad/lStTq81qtdQR/VqNejTihUqlSpZilTK0ms+3MmlA7VrZmxkXKF8hRrValBzX7tW7ZrVa9LvNqjXoGf3nqtWrrp185afj18iDDIAwJcABhkAhYCcrBwnR+d1a9d36tiJ1xYGegYF+3i88uAH9evVX7RwsbmZeUR4BHXwpGKp6i5vISszy8bKZsG8BSbGJvwmBFVLvCdZsDNJN+/9Y+8N6zc+evAoULUAmYgqb3QdwYcgFon9fP0OHjj484CfeUdOV+eDDLI0wSDD+ujgPShfZGZkurq47tqxq1/f/urERUmMuWPCvB6W0wqMwKWk923L70b8NZI6ihcvXLS2snZzfebvFxAVEZWWmsZmVkqFHUgUbK101a8A8BZkUnlmemZsTGx4WAT17XOyc/7P4dX0dbqJk6PThvUbGjVoxEVLAmaPFgoYZFrCTqxqVevr6Y/4a8SJ4yfcn7nHRsdmZWRJYZCBV5FKpFQiXrt6bf68+X16//RDrx9+7v/z4EGDBw8cPGjgIPXBG4M+HUJ/Bg2h11+H/FowBv4ykG71zdfNSpqU5Grk5BtkbPUxfqZqlarff/d9nx/70A/99utvFIN+GfTXH3/NnTP36JGj1o+sgwKDU5JS8tg+6TDIAACfFRhkABQCxCJxUEDQ0cNHqfigDh7VFobCEiTqgpiVH/no6ugOGzrs2JFjXh5eSQlJojwR6+D9EzqpZHcOCQ49dvTYLz//UtBxo2MquLlHpv4VqnjGjB5Dfw17O/uw0LDUlFS6+VuncALwKnyK5YH9B38Z8AufEazz2giy/NXuatWsPfKvkefOnHNycCKlqQwy+LDgnWRnZvv7BZw+dXrkiJG1a9VmOYtSpYEh82EF+4AZZMKQWP6RrrZuyxYt//zjz3Vr150/d/7BvQfOTs6+Pn6REZHUMWPbVrLhsQqlgvkUrJMGAYJ3kpOVE+AfQH37Wzdu8WU6qZUUFrAr0EZ+sIpIdVkZWaEhoRfPXxw1YpRe/jhuape1tfjkdMEd+0pQtVAYcMqXKz971uyrl696e3rHxcaxNchgkIFXIXWlp6V7PPe4eePmoYOHdu7YtX3r9u3bttPrtq3bKLZu2bpl85a3xFb6VAh2pTro6xs3bFy4YFH/fv0rV2LrdfDHEnTADTIK9eyHJo2bDPxl0JzZc9auWUv3FH5x2+5de44fO252x8zF2TUinK2uIAweR4kJAPiswCADoBAgl8rjYuOvXrk6aiRVycIcCmHxJu6LFaiSVZVHh/Ydli1ZdtfiLvX0crJzXunaCb4YhVKhpMI9OjLa0txy/LjxFStU4t+lW9Er3Y25Y9o61LfUFtZTp99t0bzF0iVLL1+67Jpfu0jEEjbCAtVLsUchV0rEUolIIpVI3yA2Of3vBX3Kd7Gk6pl0RaISTF5V3czfUsePDmrWqPnnH3+ePHHyyeMngf6BbKxiDhvLI5fJBcOC3Q2AgihkipCgkCuXroweNaZ+vfosZQkrM1LiIl1RQmNJUrU5L9OYgb5B0yZfk8xWrVx18vhJC3NLu6d21F0MDgqOi2EL8+fm5IrzxJTiSNJSsRASqUwik0nVwQRJ2ZV+mmRJ/wRI5yROHqq/Fig20P/p1EzfvHFzyeIlf/z+x/Jly0+fOk0ZzM/XLyE+IS9XpNIJNcfUYvLc+BpCquTX0EFmRiap0fyO+YL5C1t934pEy3SrZ6AjDOvmaVP9dIENIhMOTE1MO3XotHnj5ruW9/x9/eNj47Mys9lzLAAKQAKj/EbKJH06OTpZP7K2tLA0NzMnvZlR3Da7c/vOB4QZXakO+i7p//ixE5MnTeHr5fF9LelALVf184k2rdtMmjhp546d58+ev37t+u2bt+nrJFqrR1ZODk5+vv6Uh0m6bPAjsikA4PMCgwyAQgB1vajDRhXMooWLK1dS7cnNqw36b37lwRYO4x+VK1OuX9/+27Zue2z7JCw0jD+Fk0vlVBIJPTo51RzU/QsJDrEws1i4YOF3337Hv0hwh4LfjSob4ScYVSpXGfjLwF07d1EF4+3lrZ64wTZ3Q/lSvJHLFNlZOYkJidQZS4hLSE5MTk5KSU5KTkqkSKKgjxITkqIio6i7uHHDxl49e1F3jkRFGvuHQcbOV61S9bchv+3ft9/S3NLFySUwIDAqMppKeR6J8exuqSmpWZmkwPfMIAbFArYVb9rDBw8XL1rctElT3iXT0dalA24ccI1pldDS09XjW46UKV2mS6cukydNXr9u/dEjRy9fukzJ0MbahvqKHs89qNMYFBAUHBRMSTIsJCwsNDycR9grEREWERH+MqKjolOSSZbZqpXLQHFCIpb4+wVsWL+B8lu1qtWafdNs0MBB1Lxu37r92tVrri6uJKTYmFhKj9mZ2aJcEV0vk7IGVB30llrqnOwcarJJS44OjqdPnZ45Y2bHDh1LlypNoiUN6+vp5xu+gucrjNChA8qlvO2mlnrI4CGHDh6ytbENCgxKiE/8/2d6giKIgjXcOVk5SULTHBgQ5OXh5f7M/Zmbu7sQdPDM7dm7wvWVcGPhRvlT2D54SbOvm5EaDfQN1CvY8gzMkzPRvl37ObPmnDxx6t7de0+fPHV2cqZ7Uu6l8pJa/OjIaD5HAdIFAHx+YJABUBhQvsjLzfN47rl/3/42rdvwgoM6fnz+Iw86oz4gqlerPvS3YTt37LQwt6S6h6ptZihkZGWkZ6SlpCXEJ1DpfPvW7aVLlrb6vpWRoWqjN3WRLTzo09UrsMxqyxYtZ8+ac+7seXs7+5CgkKREvngqG9EDg6xYo2DeBFW0VOPaWNnYWNtSx+yVsLal81bCA+qTx0/OmjGrbeu2XFRvMMgE46x8uQq9f+i9fNnyQwcOXbp46c7tO/fv3bd6ZFUw7J7aeT73jI2Ozc7KVmJ9qOINJaKw0LCjh4/27zeAZzCCOmN8TI2gLhZ8FXPeQ6tQvkKP7j1Gjxo9b+681StXb964ec+uPUcOHzl18tT5s+dJdZcvXb5y+crVK1evX7t+49qNG9fzg46v3aCTQrw8T2/v3Lrj4uQSFhpOaVa1eBkoNmRn5bg4u0wYP6FmjZqCANky5E0aN+nUsdPYMWO3btl6+eLle3fv2T219/P1jwiPiIuNT0lKoeSZnpZBQQfJScnUUgcHhbg/cze7bbZp46bhw35v3LCxoYEhvyGTNFtujJli+bavcMx2n2AL7dE1TZs0nTJ5yoVzF5wcnUiKwlKheRjlDd6Akq1ERoUcVYYpySlxsXFRkVGREfS/qOjIaHqNinhrREZERYRHFng8wI7DQ8OpsLR/ar9m9ZpvW35LajQyMDLQN+DtO72SRPkcCDru0K7DgvkLKM1SU+7l6RUcGBweRveNiomOTYhPTEtlY3hlyKIAgC8BDDIACgcKmSImOobK60kTJvHldQz1DflCTrxQpgOCeoA6+ePISpcs3blTZz6I/c7tO1S1UNnt5ur2xPbJrZu39+zeO2HchO+//Z6PpyCo8qZqmw7oJlTH0H34/YmKFSoOHjR4145dFuYWHu4e9DfJzMiSiKUou4s7yhc52TnOjs779u6bOGHiyBEjx44ZN37ceOol0lvS3uRJkylItBPHTxwzeuyQwUM6tO9QvVoNritC6OOpghlkQh/PyNC4Qf0GnTt2/nnAz3/8/gfddvTI0aNHjSkYM6bNWL9uvYWZRXBQsLBCmepvBIohYpHY28t7w/oNrVu15rri69kJOe2lwLSENci4xsqUKtPsm2bt2rYjmXXv1r3vT31JbAN/GUQS/W3Ib0N/HTr0N1UM+23YUBZD2UrSQ357uSL14F9VF9M1Q4cN/GUgnaSe4f279+PjEiRiCbp2xYqM9Ax7O/sRf45Qj/JWU6FchZYtWv4y4JfRo0bPnTN37569Fy9ctDS3tLWxpeT53P05BR1YW1nfuH7j4IGDy5YuI0V93fTrgs+oSL2kYTp4qef88d38uQJRq0YtkuXWzVvvWt718vSKjYnNzMh870Y9oNiikCulEik1oLk5udlZ2aSWjPTMzPyg47cHs3RTU9LSKFJVkZKcGhsdS0Xmxg0bqbYkQb7NICOoEli0cNH1a9ddXVyDAoOio2KSEpPobvR3yM3OpZTO3DE06wCALwEMMgAKDVQ3eHp4btm8pWuXrrrauqoSuYQWFcfqQpkoeGxqYlq3Tr2unbvOmDZjzao1W7ds3bRx84rlf0+eNLlLpy61a9U2NjKmy0p8paWrw2YesVuplulhq6fzmxBtWreZPWv2ubPnHts89vfzT4xnszakbP9K1d8NFE8UckVCfMK1q9cmjp/YqGHjalWq1axes1bNWrWEjdsp6tSqU6d2ndq1KGrXrMH2cS9VspS6ROYaVoeW4MzSedIhVdUlTUtVKF+B7sm3k38t6tWt16lDp1UrV1k9skpJTsEq1MUZSkdOjk7U3WqYv9Ofns7LpccKCEw1AIcu0NfVL2laspRpqdIlS5cpXbZ8uQoVK1SsVLFS5UpVqlSuUrVK1YJBZ6pUqlK5UmUWFV+GcH1l/lH5suVrVK8x9LehRw4d8fP1o3SNHX6LFZnpmfZP7f/64y/SAxdhQahVLScopHHDxh07dBw+dPjcOXNXLF+xYf0Gtjj61u10sGzpsimTpvT9qe/XTb8mRXGhcthTK+EJVr6Y2QgyErPq43y6dO6yYP4Caqnt7eyDA4OTE4XVG7EJIHgbwrJ3MqmMyjmpWCoWicV5HxSiPHFebl5+iES5InolsaUmp3p5eG3ZtKXVd2zVvHcbZIsXLr55/abHc4/I8MikxOSsjCy6G1/Zlo0KR+4EAHwhYJABUGiQSqSx0bFXr1wdN2Zc7ZqqPdp0tXX5kr38LYe7DAVp0rgJlSPdu3Xv0rlrm9Zt6tdli1hz9HT1DQ0MDfQMqHDRobsJA8fUw9CIsmXK/TH8j+3btluYWbg6u4aGhKYks5250P0DpIGQ4JAD+w/2/qG3Si4fBomNQujyvfQvhOlCJEHVkMb3QiodPGjwqROnwsPCc7NzMdGy2JKeln7v7r2Cm43o6ugVcBNUIfhlzFlQD5v95FCaXbN6zdMndvFx8bnMm8AUoeICde8d7BxG/DWiapWqpARSIDWshvqG6t0nC1K6VOkWzVu0bdO2S6cuPbr3oKCD1q1aN2zQUL3iAYdac0qJ2qyVFyZX5s+p5I8T6K3qOmFZvVEjR+3dvff+vfueHp5RkdEZ6Rls+Bj8MfBuFGyLCQq5TMGXw/vIEDYqESI7K9vf13/b1m2tvmeDed9jkC1afOvGLR9vn7iYONKqWCSmu0GuAIAvDgwyAAoNCmFbK4/nHrt37u7Tuw+vOajaoM5ewSqZ4AW0dgltfT19we1ST6J85TKC6hXWbxRmHjGvTYiC0zoqlKvwU5+f1q1dx5aKeGLn6+PL51dS2Y3Vx4BELKHqdvu27V27dOOCod6dvi5THZXFBnoG9EpdRNZRNDCkY97TI2XymW4kPJKf4IuxeM3RoLsxZWrpqEJbFSRUujP/ufZt22/auMnD3SM5KZlNagPFkoS4hMOHDnfLFyFBOlEd/WOgYsEoYDeorAeSpSAzVTLMj5fyKxiCnpmM1b2+Vt+1ol7f/bv3w0PD2SAyKZ4iFBfo/242xfKvEVUqsxFkusImqiQSrhBSFx2QYOiYS0UN+/QfJ+nrJDySKH9LB5Q26Sb8gG7Fhco/JcqWKffjDz+uX7f++rXrzk4uocGhfPgY1jgHHwHlqjfGByPOEwcFBu3cvrNNqzYky3cYZB07dFyyaMmtm7d9vX3j4xKys7KxbiMAQEOAQQZA4UHJltqJjY41N7OYP3d+rZq1qFCmOoN7ZOpKmqBjVo6zwThsRWoqSlQf/AP6iEpzXnCrD9TXlypZqkunLvPmzDt18tTD+w/d3dxDQ0KF5fmFWRsoZYo9ojzxM7dnG9Zv6NC+A9cMM8ioY6jLgrRHoafDBovxoLe8x6hSWv4IMq493v2joGO6rISgYTrID5VbwYdm8J/7tuW3K5avsHtiFx0Vk5uTC00WQ5QKZWRE5Pp161s0b8FVwdQibGDC3xJcV/nBZMYzJFMdC7VNxnY+ETT2vqBrBCnyA+oE8h/6tsW38+bOu3Prjr9fQEpyijAmAqmyWJCdmf3M9dncOfMa1G/AxUApjqRISmNi09ImnVAypDP803dA+iSNkQ5Jk6pTLzUsPM0SEqnqA2GR0O7detBPnz1z1sbaxtvLOyYqRjV8DNoDnxFRnogZZDt2tmn9XoOs05LFS27fvO3r45sQn4Ax4AAAzQEGGQCFgfyygfpaWZlZXp5ep06e+rn/z9WqVqM64581d34lTUWJqi6hooTKFDaPUriYF+5UatOnrDdIpTv1FoWL1RgaGHZo32Hq5Kn79+23MLNwcnDy9/WPjYmlshvrTwNOXq7I2cl5zao1bdu047IhgVGn7jUtqeGypKBrmAjzt2FVTRcSBpHRKx8vpv4KvfDL8i/WUs9aatmi5eKFix8+eBgWGpaVkYXhEsUQhUwRFhL294q/mzb5miRBytHXZSN3uN/KdVJAQoIRJngWPAH+A0FjwgXvCH43OuAerrrX16JZi1kzZ127es3Tw1OYZZmLQWTFhLzcvAD/gN27dqufFhAFdCiISvBhmWa02EhY/gSLe6x0QCqiZpfUm98cM43x+6j0JqRNZuMKjTj/qEypMj/16Tt/3vzDhw5TJnR/5h4SHJKUmEzaQz4EnxXli7ycvMCAVw2y/OHeBElXnSo7dey0dPHS27fyDbKcXEyuBABoCDDIAChUKNhKZInxia4urvv37v/j9z/q13u5mhh3GYQyWjUQjA2REGwIXn/zx850RijT6UpVN4/OvPZEulzZclTlT5sybdfOXTeu33zy+Km3p3dkRGR6WrpYJEZ/D3BEuaJnrs/Wr1vfvl17rhwDfdXYrjci6O1lL1Et0TcFm4n58poCl5FQ1SPIWrZouXDBwruW96hPmJ6aDuu2GKKQK2OiY/bu2de2TVuuCkJPcBkKmlkFQ3XR/w3dipRMglT3+r5u+jWlzYsXLrq5uEVHRWdnZWOtxmKCXCZPTEi0tLCkdlk/fwNoguSRLzm1/F5K8bWgdpkUpW6ahW8x6CbMQRO2nlCdEjbhadm85bChw1auWHn82PG7FnddnF2Dg4Lpr5GTnSOTypAMwWeGjyCjurFNa5aNjQzYiHIuV4IkrU6VnTt2XrZ02Z3bd3y8fRPiEnIwggwAoDHAIAOgkEF9rbzcvLjYOAd7h3179434c0Sjho2pbuY1B4fe8mlu3BQrGHySGo9814zNfSvojlWpXKVb125Tp0zds2vP9WvXnzx+4unhGR4anpyUQtUPHkoDNSRFj+cemzdt7tSxExePgT4bpVhQcmqN5Yc+W6RMWKfs3wX9BN99lWj2TfP58+bfEwyytNQ0sUiMPmGxQ/EiKTHp8qXLgwcNUY9WIIWQVEhvfBbka0lP/VZ95t8Gy7QG+mx9Pf67Xzf9esrkKefOnnNxdomKhEFWnFCwWZbPnz3fuGEjNaA1qtco2KoSWiW0KDcKmuTaU08ef1uwywQHlolNdRcB7RLa1avV6Nyp8/hx4zdt3HTq5ClLc0tnR2d/PzbKOyszSyrB2vzgCyDKE4cEhezetaetYJBRHjYyMOKPuEjSpH91quzSqcvyZcvN7phjiiUAQNOAQQZA4YO6W2KROCkhycHe4fChIxPGT2jZoiWV3bzsIKjLx6twNoYifz7Ry8gfvMNGlgnTOuh6Osm/W6Z0mb4/9Z0/d/6BfQdu37pt99TO29M7PCycuqA52ZiyAV4hLzfPz9dv987dPXv0ZI+HhWV3mGWgx+bz6r8egsOlNsj+dQj353Il5S9auPjB/QchwaGCQYYRZMWRjPQMayvruXPmNW7UmAuDemXCEwLVFDa1H/EmO6yge/vRQcKmLh/dhP9u82bNp06ZevbMWcEgi8rO5AaZ6u8JijYSsSQqIsrS3HLtmnVDBg9pUL9BwQFfdMwNMtUjhH96ZMJuJHSZ2lCga1hLLYz75jcpIYz4rl+v/s8Dfp4/b/7ePXuvXb12/959J0cnfz//6Kjo9LR0CXauBF8IKk3DQsKoeuSDyik3UggaVq1GSsrnSu7etfvKv1damFtQCZGYkJibk4cHCQAADQEGGQCFEqWceWRxsXHP3J5duXxl1cpVw4YO69CuQ/my5Xnx8S9o0rhpzx49//rzr7Vr1p46ccrSwtL+qb2Xp1d4WDiVL6qH0gAUQCaVRUZEnj1zluSnLnw/G1oltHr/2Hvzps2PbR+HhYalpaZhimXxJCc719PDk23v+2MftZXwRWjbpu3c2XMvXrjo6uIWER5BmmRpE5osHlAPPzM9MyggyOqR1eFDh+fPm//rkF979ezV+vvWtWvVUUnk31KmdJlGDRt16th54C8Dp02dtnHDxlMnT925dcfWxtbN1S3QP1BYITRTIpLAHQNfBmEjKSoJTp863b1rd5Vw30yJPr37rFu7ztLiboBfQFJiUl5uHnQLANAQYJABUFjhcy0TExK9vbwtLSwPHji4eNFiKp2bfdOsdq3a1apUq1ShEpXUpiYljY1MXgtTY9OyZcpWKF+hUsVKlStVrlu7bpvWbceOHrts6fJdO3ddOH/hnuU9RwdHby+fsNDwhPjEzIxMUZ4Yw8fAa5AIk5NSrB5arV61ukunLk0aN2lQv2G9OvVIUXVY1PlH8PP/Z9SpU6tO/XoNuBlx5vQZZyeX8LCI9NR07NpWPJFJZDHRMRZmFsuXLe/WtVvTJk3r1a1Xt07dunXqkRrVIZxhIRy/fPtvojYL4VeY2ukMHbdo3uKP3//YvGmzuZm553PP6MjojPRMLAVVrKD/u1OTU4MCg548fnL18tV9e/etWb121oxZQ38b+m3Lb0l41avVqFKpCrW81P6WMi1lamKqjpImJUvTH5OSJsYm9FG5suV4A12tarWG9Rv26tlr1IhRCxcs3Lxpy7Ejx/jAMQd7By9Pr+Cg4LjYuIz0DDE10zI00+CLIZfJkxOTHz20mj9vQetWrRs3akxNds0aNWtWr1mtavWqVapWr1adWvDvv/1+yuQpB/YdePTwEf1jSU5KFuWJkCcBABoCDDIACjFKhVIilqSlpIUGhzo5Ot+6eWvvnr1UQI8eNXror0N/HvBLzx69Onfq3L5d+/Zt27crEB07dOzVo1e/n/oN/Hng4EGDx40Zt3TJ0oP7D16+eNnS3NLGysbJ0cnbyzsiPCIxITEzPZNqF5lUjvIF/JOc7Fx/v4A7t++sX7d+7py5VPVOGD9h/LjxL2PsJ45xY8eNGT1m8qTJixctOXH8xMP7D6mLGMXMiAypBGZEMSP//+6crBx/X3/S4ZbNW+bPmz950pRJEycxKTLBvBJMRUyZpNIPjwJ6FkK4Ff1H9XbCuAkTJ0ycMX3GhvUbL5y78PSJnb+ff3xcfE52DvUYoclihVgkpg5/WEgY5SUHe4e7FnfPnjm7Y9uOBfMXkkj+/P3PIYOG9O/X/8cffqTWmdpiFu3zo0PHDu07dGjfsVuXbnQBXTbwl4HDhg4njf29/O99e/ddvHDRwszCxtrG0cHRzcXNz9c/KiKKP8SSiCQkNsznBV8S5YvcnNygwKDbt25v2rhpxrQZY8eMHfHXyL/++Gv40OFUl/7x+5+UOefNmbd71+5rV67ZP7UPCw1LTUmlfzXIkwAADQEGGQCFHAVb9yQtNS0yPNLL0/vp46d3bpudOXXm4IGDO7bvXLtm7Yrlfy9dsnTxoiWLFy1Wx5LFS/5e8ff6deu3b9u+b8++Y0ePsbLb3MLWxtbFycXLwyvAPyA8LJyq/KzMbCpc5FI5Rr+DV8ivZWVSWUZ6RkRYhL2dvaWF5bWr10hLF85fuHDuwvlz58+dpTj3iePMubOnz9L9r1+9/vDBQxdnFyrHExMS2YLoUpnqrwWKFUqmw+SkFEpc1OO6Z3nvxvUbly9dvnTx0sULly6ev/iGuPARwfSsDkHY588KQQcF4tLFy+ZmFo9tnzx39xB2NUnOy8nDiJ7ihlKhFOWJ0lLSYmNiQ4JDPJ97Otg5UKa6c/sOiefIoSO7d+7etmXbxvUb/17+97Ily6iBXrJ46RJVG02t9dLly5avXrV63dp1mzZu3rl958H9B0+dPH3j2o17d+8/sX1CGc/Tw5O10aHhcTFxqSmp2Vk5VAawNc4pLcNlAF8UuUyenpYeHBRMqfjm9Ztnz5w7fuz4kcNHDuw/uH/f/iOHj54+debK5StUcNo9sfPx8qF/JpkZWXi4BQDQHGCQAVDoUcgVebl5aalUjseFBod6e/k4Ozk/tnl87y7vJV5RdfDOFYjzF6j3SAW32R0zuszqodWTx1R2u3p5egUGBEWER8RExyYlJGVnZVPZzWZWonABb4HkIcoTZ6RlREdG+/v5uz9zd3FycXJ0dnJ0cnJwcrR3dLB3+C+Cbk4dxefuzwP8AqIio9JT07HFarFGwTZQozRIOgwMCPR87unm+szVxdXV2ZV0Qpr8f4IyqkrPDo7vkDRd8MztmY+3T2hIaEJ8/rqNkGTxQylspJOZkZmUmBQdFR0SHOrn6+/j5UNStLG2vWt5j1remzduXrl8RfBwWQN9XvU44Tw10HTy2tVrN6/fvH3rjqXF3UcPHj22fUIKdHdzp/Y9SGij42LjUpNTSWN5uSKSGXYABBoCX/0jJTmFVOrp4UW6fWz72NrK+uGDRw/uP7B6ZEVipizq6uJGqTI8LDwlKSU3J08uQ50JANAUYJABUPhRsNETojwR1cqpKakJ8QkxUTHUQ/P18Xvm5k4VubOj8+vhRGdd3Fzd3J+5ezz38PL09vPxCwkKiYyIio+Lp8omIy0jOytbKpZSraP6FQDeBCmEumd5OXlZGVmJCUlREVFU8oaHhodRhISRDkOCQz55hAaH0s3pJ+i3YqJjkpOSc7Jz2PAxqLU4I2RCSlykh9jo2KjIqMjwyIiwCCbI/y9IaaEhYSS84KBgFoFviaBgkmV0VHRSQhJlY7ZlBNyxYoswqjEvNy8rM5va5cSERArSZFBgkI+3DzW7z9yYgcsaaCdnJwcnhwLGK72lj6j5fu7+3MvTy9fb19/Pn75IIsxvo5k1JhaJ6SdUA8cA0BCEaQ3UIqelppFWKX8GBgSSgH19fL29vH28fPx9BTEHh9I/B/pHwVMlKzUhYwCAZgCDDIAiAZUWCqVcppCIpbk5eRnpGUmJrIsodO3CqKouGHSGmRehYeGh4dR7pD5kdGR0XExccmJyelo6dS9FuSKqV2A3gA+EemhyqVwqllJNnJ6aTipKS01PS0mjbmFKckpK0ieO5KTkpET6H92d3T8jLYN+l42hgJlb7CENiEViSmLpaRkUqSlppBMSzP8biUxySQksmNMRn5jwpqCPSJA8i4pFEkyuBAzmF0hzs3MpMtMzKYORTuJi46Kjoqn9FRro0JCgkKDAoMCAQB7cPqBmOiI8IioyKiY6Ji6WFEYqTKa8ytpotiqoDPYr0EwUcqpFJXk5eTlZOaTYhPiE+Lj4WFJxdCwpn+fJ1ORUqlSp7WaLeGChRgCAJgGDDICiApUXKpuMWRW5OXmZGZnUP6QqhIL5FDy4yyBUJ6q3yanpqelZGVm5ObnsibREpsATafCxMO29kErYSEaxSEJCEueJRbmivNw8kuKnDSq783LpV8Skc/oViUgC0QI11DeTSqRqebwmnn8RpGGSnOpYeKv+6LWgTwX9iyViKevywb8AApQbZVJqmOUSSle5Ioqc7JzM9Mw0ansFlz85MTkxISlR8FjpICkxiZpm+igtNY1a54z0jMyMLPoKqYtLC6PGgEajZHmY2mU+iJJqUQqScXoaUzIrNak8yBcz0zMebgEANAkYZAAUIQSPjKOQK6k6kXCrgrpseawo54YFDypQ8nJFVKmwY+pMSqhSUbAyBYUK+NcIZTGTEL0olNSLo7ekq08bqp9QU0D2AKjgkmCCJBH++yANMyUzPbNQie19oboYgHxU4lEIGVLxgvKYlFpdMWugRawtzqO2mDXHggPLbNY81nBTC07XUPAGmt0BgMKCkANJtyoZC+UoKVldJKjg/zQAAEBjgEEGQBHlZT+NdfAUzFlgT+rUQTXKa8G/AgAAAID/BN7OUnvLHFhu+r/SNOeH8DCAPQ9gLTiaZgAAAODzAIMMgGJAfkX+MvgZdc1d8BgAAAAA/x3qJrhgu/zPQNMMAAAAfF5gkAEAAAAAAAAAAACAYg0MMgAAAAAAAAAAAABQrIFBBgAAAAAAAAAAAACKNTDIAAAAAAAAAAAAAECxBgYZAAAAAAAAAAAAACjWwCADAAAAAAAAAAAAAMUaGGQAAAAAAAAAAAAAoFgDgwwAAAAAAAAAAAAAFGtgkAEAAAAAAAAAAACAYg0MMgAAAAAAAAAAAABQrIFBBgAAAAAAAAAAAACKNTDIAAAAAAAAAAAAAECxBgYZAAAAAAAAAAAAACjWwCADAAAAAAAAAAAAAMUaGGQAAAAAAAAAAAAAoFgDgwwAAAAAAAAAAAAAFGtgkAEAAAAAAAAAAACAYg0MMgAAAAAAAAAAAABQrIFBBgAAAAAAAAAAAACKNTDIAAAAAAAAAAAAAECxBgYZAAAAAAAAAAAAACjWwCADAAAAAAAAAAAAAMUaGGQAAAAAAAAAAAAAoFgDgwwAAAAAAAAAAAAAFGtgkAEAAAAAAAAAAACAYg0MMgAAAAAAAAAAAABQrIFBBgAAAAAAAAAAAACKNTDIAAAAAAAAAAAAAECxBgYZAAAAAAAAAAAAACjWwCADAAAAAAAAAAAAAMUaGGQAAAC+NEohAAAAAAAAAOALAYMMgGKAIt+AeC0A0ACUCqVcJlfIFdAk+FKQCFmeZEfCKwAAgI8CtSUAoEgAgwyAIo5SrszJzkmIT4iNiVVHfGx8akqqKE+sugiAz4soT5Selp4Yn0hSjImOiY6MJlkmJSRlZmQyqwKAz4nyRXZmNsmPpBgXG8dDSJJpolyR6hoA/jOUihcKmUIqkWZnZWdlZlOTnZuTm5uTl5crkklk1IirrgNAc1C+UMiZaEmrWZlZGemZ1KZTC56bnUsn0Y4DAAovMMgAKOLk5eZFhkdaW1lbWty9Z3mPgg4e3H/wzPUZdQLlMrnqOhQz4HNBpXN8XLz7M3fS4f17D+7dvXfXkv533+6pfYB/gEQkUV0HwGdBLpVHRUQ5Ojiam5lzTd61ZJp0dnKJioySiqWq6wD4byAFZmdmU1b08/Xz9vL29fH19/OnCAoMSkpIys3Jg90ANA2FXMEfvgYGBJJoPZ57Pnd/7unhFegfmJSYlJcrQlUJACikwCADoIhDNTd1+ebMmjNu7Lgpk6ZQsIPJU/bt3efi7CIW5Q8iQykDPhdSsdTNxW3P7j0TJ0ycNnX6jOkzpk2dNm7s+A3rN9y/dz8rI0t1HQCfhbzcPHs7h21bt40dPZakSDFpwqRRI0dt2bz16RO77Kxs1XUA/DfIZYrQ4FBLC8sD+w7s3L5z185du3buJkFSM00KjI9LUF0HgMagkCkiwyMfPbQ6eODgjm07dmxnsXXz1r179tra2EZHxbBlEwAAoBACgwyAIk54WPipk6fatG5bq0atOrXrUtSsUbPZN83mz51v9chKlKeaQKREJQM+FznZOQ/vP5w4YWKd2nXq16vfsEHDBvUb1q5VZ/iw4WfPnE1NSVVdB8BnISsz6/at26NGjqLcWK9OPYratWpXr1p95IiRt2/dSUtJU10HwH+DVCJ1c3XbsX1Hn959qLHm0fr71j/1+Yma76CAIIwgA5qGXCr39PDcv28/qbRN6zZCMNH2+bHPkUNHfLx9ZFKZ6lIAAChUwCADoIgTHBi8a+eu0iVLf1UAPR29sWPG3rW8W8AgQ/0NPhOZ6Zm3b92mqlolx3zat2u/f9+BpMQk1XUAfBbS09LPnz3fvWt3lRDz6dGtx4XzFyBI8F8jFokf2zyeO3uusaGxSnwC1HBvWL/huftzmTR/MQQANAOZVOZo77hk0RITYxOVXgVKmpb8e8VKZycXTE4HABRSYJABUMQJDgrevWt3qZKleO2iq6NHr3q6euPHjb9/7/7LKZYAfC5ysnLM7pj37dOXpGhoYGRqYqqnq0/H7dq2O7D/QFIC/AjwWclIy7h4/mKPbj14bjQ2MtbXY4Ls1rXbuTPnEiFI8B8jEUlsrG1nzZxlZGhEwtPR0qFXoqRpqbVr1j1zeyaVSLEMAtAoZFK5k6PT0iXLTIyYQaajraOtpU0H1KCv+nuVq7MrEy0AABRCYJABUMQJDgrZvWuP2iAzNGD1N3X/xo0dd8/yHjayBJ+frMxsczPzvj8xg4yUWbZMOd4tbNe23cH9B2GQgc9MelrG+XPnu3djI8hMjE3KlC5rLHT5unTucvLEydiYWAywBf8pUrHU1ualQaampGnJtavXPnN9JpVgthrQLOQybpAt5dmSKEF/vvrK1Nh09crVri4wyAAAhRUYZAAUcUKCQvbsLmCQ6RvSq76ewdgxYy0tLPNy81TXAfC5yEzPNDcz79e3H0mxdMnSZcuU474tM8gOwCADn5v0tPSzZ85269qNRFjSpGTZ0mX5TLfOnTofO3IsIjzy5W6/APwHSCUywSCbbfTqFEu1QYblnICmoZApnBydlixeYmz0imhNTUxXr2IGmQRTLAEAhRMYZAAUcV6bYgmDDHxxYJABjQIGGfiySMVSPsXyn14DDDKgmSjkSmcn56WLl762cJ6psemqlatcnGGQAQAKKzDIACjiBAfCIAOaBQwyoFHAIANfFgkzyGxmzYBBBgoNSm6QsSmWbzTIXCRiiepSAAAoVMAgA6CIA4MMaBowyIBGAYMMfFlgkIFCRwGD7JVdLFUGmZOLRASDDABQKIFBBkARBwYZ0DRgkAGNAgYZ+LLAIAOFjrcaZCYlYZABAAo1MMgAKOLAIAOaBgwyoFHAIANfFm6QzZwxEwYZKCy8zSCjFAqDDABQqIFBBkARBwYZ0DRgkAGNAgYZ+LIwg8zKZub0mVx4amCQAY0FBhkAoKgCgwyAIg4MMqBpwCADGgUMMvBlURtkRoYsE6opaVpSZZBJYJABzQIGGQCgqAKDDIAiDgwyoGnAIAMaBQwy8GUR54mtrazfZpC5ubpJYZABDQMGGQCgqAKDDIAiDgwyoGnAIAMaBQwy8GVQqv5LDbH1I+tZM2b90yBbs3qNq4urVCJVXQqAZgCDDABQVIFBBkARBwYZ0DRgkAGNAgYZ+LKIckWPbR7Pmzvvn4v0r/x7pbOjsxheA9AwYJABAIoqMMgAKOLAIAOaBgwyoFHAIANfFolYYm9nv3jhYhPjV7wGU2PTZUuX2T+1z83JVV0KgGYAgwwAUFSBQQZAEQcGGdA0YJABjQIGGfiykMCcHJ2XLV1mYmxKwlNjYmyyeOHix7aPszKzlIr8CZkAaAAwyAAARRUYZAAUcWCQAU0DBhnQKGCQgS/LS4PsVa/BxNhkwfwF1lbWGekZCrlCdTUAGgAMMgBAUQUGGQBFHBhkQNOAQQY0Chhk4MvyLoNs3gLrR9bpaRkKGQwyoEHAIAMAFFVgkAFQxIFBBjQNGGRAo4BBBr4sMMhAoQMGGQCgqAKDDIAiDgwyoGnAIAMaBQwy8GWBQQYKHTDIAABFFRhkABRxYJABTQMGGdAoYJCBLwsJzNnJednS5TDIQGEBBhkAoKgCgwyAIg4MMqBpwCADGgUMMvBl4QbZ8mXLTYxhkIHCAQwyAEBRBQYZAEUcGGRA04BBBjQKGGTgyyKXKVycXGCQgUIEDDIAQFEFBhkARRwYZEDTgEEGNAoYZODLooBBBgobMMgAAEUVGGQAFHFgkAFNAwYZ0ChgkIEvyzsMsvnzFljBIAOaBwwyAEBRBQYZAEUcGGRA04BBBjQKGGTgy8IMMmeXFctWvMEgmzvf6pFVRlqGQq5UXQ2ABgCDDABQVIFBBkARBwYZ0DRgkAGNAgYZ+LKoDLLlbzfI0jOUMMiAJgGDDABQVIFBBkARBwYZ0DRgkAGNAgYZ+LKwRfqdXd9okM1TGWSZSgUMMqBBwCADABRVYJABUMSBQQY0DRhkQKOAQQa+LCQwV2fXv1esfINBNmee1UNhBBmWIAOaBAwyAEBRBQYZAEUcGGRA04BBBjQKGGTgy0ICc3N1W7VylamxKQlPjbGRyZzZcx4+eJSRlvECBhnQJGCQAQCKKjDIACjiwCADmgYMMqBRvNUg69j5KDPIIuRSGGTgPyB/0qRCpnB/5r52zVpTk9cMMuNZM2Y9uPeAJIoRZECjgEEGACiqwCADoIgDgwxoGjDIgEbxNoOsU8fORw8fDQ+LkEllqksB+A9QyBVeHl6bNm4qaVqShKfGyNBo2tRpluaWqcmpWIMMaBQwyAAARRUYZAAUcWCQAU0DBhnQKN5ukHUSDLJwGGTgP0UhV/p4+WzdslXdUnOMDI2mTJ5K2TI5KVkhxxAyoEHAIAMAFFVgkAFQxIFBBjQNGGRAo4BBBr4sCrnS19t3+7btbzDIJk0xu2OenJiskMEgAxoEDDIAQFEFBhkARZzgwOBdO3fBIAOaAwwyoFHAIANflrcaZAZGkydNNrttlpSYJIdBBjQJGGQAgKIKDDIAijgwyICmAYMMaBRvM8iwiyX4PLzbILtz24yyIgwyoFHAIAMAFFVgkAFQxIFBBjQNGGRAo/inQWYkGGRdOnc5cfxEdGQ0ln8C/ylvM8goMcIgA5oJDDIAQFEFBhkARRwYZEDTgEEGNIqCBpmpSckypcsYCYKkM2dOnYmLjX+B/QPBf8nbDTLDyRNhkAFNBAYZAKCoAoMMgCIODDKgacAgAxqFyiDrojbIyhoZMkF279b93NlziQmJqusA+G94m0FmoG8AgwxoJjDIAABFFRhkABRalG+KfxAYELhzx85Spq8ZZPpjRo8xNzPPyc5RXfeWrwPwiVG+SE/LMLtj1venviRF6hCWK1OO+xHt2rQ7sO9AQnyCUqGEIMFnIzUl7czpM127dCURmpqYvmqQnWcG2TukCKGCfwdXjhAyqczb03vb1m2lSpYm4akx0DOYNGHS7Zu34+MSpBLsFAE+L+/MbHKp3MnBacniJcZGbEK6GkqhK/9e6eToJMoTKWHqAgAKITDIACisSMQSCqlYKhaJWeSJc3NyqSKhk/yMRMQ+9fL02rJ5S0nTkrx2MdA3oFc9Hb0Rf424ce1GSlIKv4y+KMoV0SvdRyyS0EkWdH+JlGp3LMEDPgSlQklqIc1IxKqgY+rX5YeUlEaRnJhM2uvTuw9JkZRZrmw5KqnpuHWr1rt27oqMiGQ65BoWRK5SoxBc6hR0cwWGVIB3oHwhlym46tSCfGPEx8WfOH6ic6cuJEITY5PSpUobGrAHCV06sTXIIsMj83LzBCULwb7CdCjKE1POzMvJo8RLb0n5zNgFoCCC/6VUsOE2at+f2lOSEMkmOyub9EPpLiszy9XZdcP6Da8ZZPp6+uPGjr9y+Up4aDhdrMqBQgJUt9SkPdInHbCtJJARwf8NaZWyGckyJztXkFm+3gqE8GnOk8dPFsxfwFdsVGNibLp0ydInj59mpGfSZVy0bwheqeaJmW6ROAEAmgQMMgAKH9RDS0xIdHdzf/rkqa21rY21ja2N7WObx9aPrG2s2LENO8nOP3r46OSJk1OnTOO+GKGro0uvJb4q0efHPhvXb7xrcZd9l/7Y2L4x6Lb2dvY+3r5JiUkKOaoY8Gao75eakhoYEOTk6PTY9skrErJ9rA5bm8ekKAtzC+oKtm7VmqRobGhcyrQU12ejho1mzph5/dp1aytrUq8Qtlzh7EC4Gx2TzumCZ27u0VHRmHYE3gh1uihJ+vn6Odg7UC+uoAj/GWa3zahH1+ybZiRCfV19E2MTLsgWzVvS+Vs3b5Hw6CZP6EUVTMakTKuHVlaPrEiTdNLzuWdsTCwECVQoX4jyxJQVw0LDSIfent706u/r7+Pt88ztmaO9I6mIJzpSF6noxPETUydPLVumLAlPjXYJ7f79+q9ds/balWsPHzykNEjCE/RcQNI2j3mLb//UPsAvIC01TfUXAOAjUcgVpNigQGrHnUmW1NTyZveNQZ8e2Hfg9+G/62jrqPQqQCl05IiRB/YfeHDvAZc3a/dVcmXSZbn08RMqX588fkr5OcA/MDUlDR4ZAEBzgEEGQOEjPS3d/Zn7oYOHli9dPnP6zFkzZ82ZNWfO7Ll0IMRsIWbNnDFz8qTJVL507tRZXcFoldDiB00aNfl5wM9Tp0yjK2fPmj2b3WEO3YeO2ZmZsylmzWAHy5YuO3f2nJent1gkVv0NAHgVqVga4B9w/dr1Des3zJs7j7THQ60lJidBlvQ6ZdKUAf0G1Kheg3Sop6unr2dA/UA6rli+YpfOXcaNHTdj+oz8O8wiEbJX4YskTjpmn06fuW/vPqqtsYgeeCPiPDGlrAvnL6xauXr+3PlCintrTJ44+cdeP1auVJlEWOKrEqRJPV19Oq5erXrvH3pPmTxl7py5FCxDFgj64rSp00mNlDbnzZl3+NBhF2cXUZ5I9TcAxRuFXJGemk5Z8fbN24cOHNq6Zev+ffv37d2/Y/vOtWvWUqu6YP6CuXPmzZ2t0tWIv0Z27dK1bOlXDDKiaZOv+/ftP37c+GlTWWNNDf38efMpx3JB0te5OCk9Llm85PKlywH+gXBpwb9DLJIEBQbduXVn1cpVvKSkLCfok8T2WsyhNn3ob8O+bfmtSqn5aJXQbtOqDX1E6VFotVlhybTKhEq6nUfqpZxMMqagH7px7UZwYDDGgwMANAcYZAAUPhITEh89fDR50uTm3zQ3NDA0MjQyMjBSHQhhKLxloW+oq62rXUKbjvV19bk7pqOlQz1AoY7R0tfTN9A3EC5W3cRAn4KOjEyMTYwMjY0NjevVrbd61WpHe0f0/cDbEOeJ3d3ct27e+uMPP1YoX1ElP9Ik6SpflkyZ+uwMiY00qaejR2Ir8VUJoahmk4l0tHW4PUHnC35dfTeuUjpDshz227A7t++kp6Wr/gYAFECUK3Jxdlmx/O/vv2tVtkxZISW+NSjjaX2lRflQW4sZtRxdHV0W2rr5GZKl04LBUqWeAftUUPXIEaNsbWxzc3JVfwNQzFG+SEtNc3VxXbVydZfOXSkrUnvdvFnzBvUaVKxQsaRpScpj1Mia0Au1s0bGlPd4i0yJkXRIyVBPV5/ekhTpbcF2mYK+wgVJX6dbmZqY0skG9Rts2bzlubsHDDLw75CIJf6+/kcOH2nYoBFPcSQz3uC+HkbGpiYleSVJtSVvuylbkmIp6JjOsMTI2n1jXknyb70WDes33Ll9p7eXN+anAwA0BxhkABQ+MtMzn7k9W/n3Siq4ha7c+6GaW6i/WfdPu4S2jtYrQ+LfAdU6bdu0PXrkmL9fgEwqV/0NAHgVmVQWFhp24viJwYMGf7i6DPRUM38JXmp/IFWrVJ0xfYbdEzv4EeCNyGXyoMDg3bt2d+/WnbptKt28j4IGWcHj91K3dt0li5Y8d3+OYbZATXZmtpen17o161o2b0ki4ZYrF8zbINXRNTra7EpKie+9Xo2psSlJ/fSpM6EhoaqfB+AjUSqUcbFx5mbmvX/sUzJ/4dr3wp8u0CtzdenPqzMu34GJsUnP7j0vXbwcER6BKZYAAM0BBhkAhQ+ZVBYXE3fl0pWf+/9MRYl6aNjboGtKfFWCh+rU+6Ab8ovr1a03fdp0ezt7rGwC3oXyRXZWtq2N7aKFi8uXq8BV9F4K6vZDxMk9C3od0H/A0SNHw8PCsUkWeBvpaemWFpaUvvjcyXdDnbqCjlgJyprC67ttMi5aXR3dv/786/LFy7ExcRi8A9RIJdKI8Mjjx4737NGTC+bdkJwEr0GbVEeCpANuOqg+fhP0KTfRvm769fKly50cnNLTMlQ/D8DHIxaJA/0DN2/c3K5tO0FguiRCQWtvRv08jHlkrEFnKZHnzzdCItfVUTm/zb5ptmrlKo/nHlmZWaqfBwAADQAGGQCFD6XiRVZGloO9w4rlK77/9ntevuSX0SXebZa9F1ajF7hD+7bt9+3dFxYaLpNij3nwLuQyeWBA4MkTJ7t07mJiZELi0aYO3jvVWNAUE47f6pEVvNLI0Gj+vPnWVtYvq2o8fAb/QCKWeHl6Hdh3oEP7DlyQfEhOQS2pUT9FIK3xg/yg869omJ+nfiMFP2NqYrps6TJ7O3usiAdeIzsz+8njp3Nnz61Xtx5XC7NiS2iThPhbNfl6U6mO2Q0vNflGKL2+dHW7de125tSZqMhoqUSq+m0APh6FXJmUmHTzxs3RI0dXrlSFq+sdLq1an/nSfRn8/GsUfOTQvWv3c2fOxcfGY590AIBGAYMMgEIJ9f3CQsOptvjj9z90dV7OTcsf8vC2kvodsIKGKnL6ul7+DSuUrzBuzLi7lnfZHkMAvI+U5JTHto+nT53Oe4N8PR2upX/yWg3N36pDdVaAZKnLph2xGt3QwLBTx06nTpwKCgxCVQ3ehfJFfFzCwwcPJ06YWKd2HRKPvp4BaVJLsCc+JlTDaTl0TEmSL7VDb0uZlurVs9fFCxfDQsPkMkxCB68gk8pCg0MPHjjY58c+ahWRfvhYm3yBqUPliFHQBa8JT436Gj4Mh6hRvcb0adNtbWyzMrLwtAD8n+Rm5z5zfbZ2zbo2rdtygRnoG5Bo36hGNWpZFgi1w/tS+Xz/E6J2zdpzZs2xe2KXnZmt+mEAANAMYJABUChRKpTZWdn2T+1X/r2yUoVKvOAg2GPnfzWCjNcx9F2qYHjZTW979ui5a+cuXx9fLKwDPgSpRBYWGk69we7dupOE9PX0heWfXh/VyMXGQ3XqLScFmB+hKyxcTW8aN2q8YN4CJwenjHTMJALvgRJXcFDw3t17u3TqQuIhNVJy4z29fxGCGplQddgC6qqldlq2aLlm9RovD6/MjCysMw1eR/kiIy3j3t17M2fMLF+2vFpCXE78ID9Y261+Kwwfe7NBxi+jA54S6e2ggYOOHTkWFBiMdULB/49MKouJjjl/7vywocP5Iy7WlFPmfNPIRzVctwXiFT3TBfSWbsIXG6Xk+fvw38+dPRcRHoHZCQAATQMGGQCFFuWL8NDw8+cu/PhD71IlS1PNYaDPxkfwWuRfQBU5heqNsID6pImTzO6YpySnqn4RgPeRnpbx8MHD2bNmN2nUhAuJamKqhqk45m8/HK5kei24fn/HDp0OHzwcGRGJqhq8H2EnQQtzi8mTJteuxQaRER9rkLHEKDx4EDwL5vYa6BvyWxG9ev5w8cLFpIQkEqQCC5CBfyCVSP18/U8cP9GzR6/SpVhLTSmRQj2+Jj9eMRTUwWX2GlyN/JjUSPmWsm5meqbqJwH4P1AqlJkZmXZP7f5e8XfJ/KX6hYXD9AqWiO9AkO7reuZbT/ALTIxNli5eam9nj73RAQAaCAwyAAox6WnpVGHMnze/caPGrOYwMjHQf7kt4L+Auo7awk6Xejp633373d49ez2fe4pFEtXvAfA+JGJJgH/AwQOH+vfrTzUxaUnwF9iUIv72w8kvrF/6EZUrVZ40YdLD+w9J+ZhJBD4EiVjq5em9fdt2PqqR0GezLN/gRLw96GJ1MIPMMF+QdWrVmTtnroOdA199DCPIwBtJSU558vjJtKnT6terT7LR0dbR1dblJpdaWkKeZAJ7LVgifBU6SXfgw8eIBvUb7Ni+w+O5B0ld9XsA/H9IJdKw0LDLl65Q2uQLOOoKg79Iolx170aQrvqhAnsludIduGgpf3bs0PHkiZMhwSGq3wMAAE0CBhkAhRipRBYeFn782PEfev1AFYmRoVHBsTb/AmaQCRVMrZq1J4ybYPXIKjEhEU4E+AiUbBDZ/Xv3Z82cxYdLECROXivztx8C+wr3I4R9WukM3aFP7z779+0PDAjEnF/w4SQlJt24fnPs6LF8+RsDfQM+pDHfm3jFj/iQoK/TffR09Ib9NuzMqTMRYREYOwbegVwqp5Z6z+49fKovwSwD4bHBa/Ga0ni85pHRZZQS+dy3sqXLDug/4Pq165ERkfBnwSckOzPb87nn8mXLm33TjJRGOtTWYjurChp8D1y3alVzd4wUS8f0acMGDefOmWv31A57owMANBMYZAAUbtLT0h89fDRr5iyqOXhpoh7E/pGwlZ5Uh1991bpV6+3btgcFBsGJAB+LQq7w8fbZt3dfm1Zt+ELmfHaG0NP7IFgtruo9kiZV3zLUN5w8cbKFuSVpHsvzgw8nLzfP1dl13dp1psamXEsGwmr9Oto6glP2nhmXWnwoBI8CJq+RodGiBYse2zxmi0xDj+CdkEisHllNnzajds3aXD862mxRp5fSemMUMHD5twg6pmRoZGhMxy2at1i7eq2Xp1dOdo7qlwD4FFAjGx8Xf+7suZ49enLhESXyEyCJkx+8DbVuSeRCptVla4AIjyg6d+py7Mix8LBwjHkEAGgmMMgAKNxIxJLgwOAjh4/8POAX7nDxokQoUT4CKnf4E2midKkyI/4aeef2neSkZCU6fuDjSYhPuHf33pjRY2rWqEmK0tfT19PlBtlHKJM6hzr0R6jI9XT1W33faveuPR7PPTDnF3wUMinbO+LKpSu9evYqacKW1DE2MjbUN+Sp8gNCNdCMvkiC1NYSdlPVN+zQvsPxo8cD/ALkWBkdvA+pRBroH7h71+4e3XqQfvK1pM2nn78r8j0ynjzpgJ/X0dYpaVryt19/u3zpSlxsPMYwgk9OTlaOg73DnNlzeDtOqJ+/clny47fBL6BXwSPTZQda2lUqV508abLVIys2fAyaBQBoJDDIACjkKF/kZOc8tn28aOGiMqXL5NclrEfHj4kPqWOEMfAqg6x9u/abN2729vLmC+sA8LGI8sQBfgHbtm7r2KETKYqqamHNHW1Blu9RoxouS67eunXqTpk05dHDR/HUFcTwMfAxKBVK6oy5uT5bu3rt9999T3IyMjTmYxk4pLEPCbpSR4utHkUHTRo3mTd33hPbJ0mJSaqfAeDtkAhTklPMbptNnjiZt9SkKMpv7x9EppoLrNYhm5vJVPvVVyTmVStXuTi7YPgY+C+Qy+RRkdGnT54ePGgwfzBATTlvx7kauQ7fC11JMuYHfXr3ObD/AFsnIQ+zEwAAGgoMMgAKPQq5Ijgw+MTxE999+z0fBcanDrFqRICPwXkjvMShiocqdX7GQN/gzz/+vHL5SmJCIpVHqt8A4KNQvkhLSTO7YzZ+7PhqVauppaU2vN4O6zSqjgpc2b5d+31794WFhrE5v1hpB3wkMqksLibu4oWLQ38bWqpkKS4q6vJRntR+3xRLHmw8o2CNcbp26Xr0yFGVIAH4ACRiiY+3z5HDR7p17Va6FPPItITlmbgLRjpUH78WBQwydsAVaKBnMHbMuBvXbsTHJeCZAfiPyM7KtraynjdnnrEwpZfgQuWC5Gfei/pKQwOjObPmPLj/gMoDzE4AAGgsMMgAKAokJSZRETN+3PhaNWtRFaKro6dXYMmndxtkFHwVHnqro6XzTdNvNqzf6OTolJuThwHw4F8jFkm8PLy2b9uunlJkqG+oo62aMvkhCCYvo2KFSmNGjzU3s0hPxeaV4F+hZItAUVpbtXJV61atua7YMmTCHF6eBt8WlCbpVauEloGeao/gqlWqTp405dGDR6msmwdFgg9D+SI1JZXNWZs1p1HDRlxLal/sAw0y/i2iVMnSa1avcXF2wUgc8N8hl8oDA4JOnTjVqWNnQwO2e6+uti5/VCDkxvfDpUsHerp6rb5vdejgYV8fX6kEq48BADQXGGQAFAVyc3IDAwL37zvQpTPbJIsqGAp1MV2wqn4NKlzYGij5F1SqWHnY0OFmt82io6LxUBr8PygVyqSEJPM75lMnT+VL9etos+lp/OEz19s7INHyOb8kzh7de2zbut3juSdWHwP/GplUFhMde/nS5ZF/jeQjbanD9l53jELQI12nxfcI1tbS+anPT5RsA/wDRHki1d0B+BCUbH3G48eO9+rRi+uKBMaHMeYbZG/yyPJVSteoBdmoYaOTJ06Gh4Wr7gzAf0NGWoaLs8vCBQubNGpCwiOV6gjTLbkmBTG+C7qegg5q16ozaeIk60fWr0xLx/MFAIDmAYMMgKIAX9/E0sJy7JixFctX5HXJO3wxNVR5q8fpEM2bNV+zao2frx9WHwP/L8oX4jzxc/fnmzdtLmnKVkYnSGwU766q6VNmpeWviKevpz929Ngb128mJSShmAb/D3m5Igd7h+XLlhsbqaYLkdi02Aidl3bYP4NfqcbY0HjG9Jn3795PT8VuquCjycrMsnpkNWvmrAb1GnBF6enocROBOWXCAYXaHePHXIeUDPkonvp168+cMfPpk6dspXMA/kskYmlkROSJ4ye6dO4qCJbBRJs/OZ2feWO2JOka6Bty0bZr027P7j0hwSHsuQKacgCABgODDIAiQl5unpen19Yt27p27kolNa9OOOoBYv+Eyhf1tkSmJqa/Dv71wvkLSQlJmDcEPgnRUdHXrl7r1fMHU2NT0pihvqFegcXR/wlV2KRJPV09PlqHxNns62abN212cXKBaQv+TxRyJXXPzpw+07lTFyNDIy4wIQG+tMNeCyZJIU9Sb5AOhN1UW+/bu5+SrUQsQTcPfCxikdjP12/fnn19fuxDuiJR6evp6+roCTPX2B6pKo+Mjynjw8oKtOCkSfpW7x96HztyLCQ4FGMYwX+O4kV6WoaNtc30adNrVK/BdWigb0jKLCGMbeRn8hPmS+itno4eqZpa80oVK40ZNcbczDw1JRXlJQBAw4FBBkARQS6TJyUkmd0xmzJ5iomxiapCYTUKewTNu3mvQeUL1d/ciSC+bfHt8mXLHe0d4USAT0V2ZvYzN/c1q9e0aN6CNGZoYKjWG8mPOn4vo8CICT1d6jEy37Za1Wp//fnX7Vu3I8MjsWUE+JdQd4zHixdpqWlODk6LFy1u2qQpCSx/ucZ3DSKjy1gfTxjSWLtW7UkTJz24/yAuNg6LTIN/AeWx5KRkczPzaVOnlS1dVhChrr6ePrcSmDX2j3htMHiN6jVnTJthY22jGsMItwH8x0jEkqDAoGNHjw0eNFhL9aiAyZXaa54hifxs+bLUpLe8uScN9+rRa8e2HZ4entjVBACg+cAgA6CooGTLons899i6ZSvfIYvXJRQFSxY1VNnoaOnw0pze0mUDfxl44viJiPAIpRwVN/g0KGSK+LiEixcu9cxfc4cg7amOCsDLa+7nkiz5pvLfffvdhvUbvTy9sjKz0A8E/z9SiSwqMurkiVPdunbjwiP09fj+qq/YZCrTlp0kTbKuIF3Ztk3b3bt2B/gH5GbnQpDg36B8IRVLPZ977t29t0P7DqYmbGgt31D1TQuQvW6Q6enq/Trkt5MnToaGhOblijAYB3wGFHJFanLqg3sPZs+abaDP5ksS1ExTUKrkb3nO5G/VJzlGhsbTpk43NzNPSkjCtHQAgOYDgwyAIoTyRUxUzM0bN/v07lO6ZGmqSwz0DPR19V8rVgRYD5AqbyrK6Q1V4TWr11y8aLG1lXVmRqbqbgB8CnJzch3sHefNnVe3Tl0uPurjvUmTrKqmPqEwood9WrpU6eHDfr965WpcbLxMKlPdDoD/j4z0jMc2j2fOmFmzRk0uPEMDI2ZPFDDIBHeMr5j+ckVqPkvI7I55SnIKjAnw71G+iI+Lv3/v/rix42vXqk3q0tFmXoM2N8gET5ZCECF7YECvgk4ZJsYmixYusrWxpZaaZUXIEHwWxCKJj7fP4UNH2rdrz/fz1dfTV5eX6pxZ8DGDIFhG/Xr1t27Z+vzZc2xeCQAoFMAgA6BIkZWZ7enhuXnT5tbft6a6hOoYCiq7CxYrBC9fqPKmoLelS5Xp1fOHM6fPBgUGyaWYyAY+EULnTSFXREZEXjh/ccRfI/iEC918C6wAqiJbmPOrWqSsdavWa1avcXVxzcnKQT8QfCokYmloSOiJ4ycGDxrMEyB189j+qvlrTjNvQmVMsOWfuD1Bn/YUZgl5eXqhmwf+TyQiSXBQ8Lat2zt26EjqYhtPC1MsSWz5ImTBdaijxdxblhO/+qpWzVr79+0PDAh8oWCLQwHwmVC+SE5KfvL46dw5cxs2aMREq6NHmZOSJB2rtCokTPWxINivypQu07dP38uXLkdHRqtuBQAAmg0MMgCKFEq5MikhyfyOef9+/Xl1Qgg9vZePoAl6y57+sYlFbHBEs2+aL1u6zM3FLS0lDSs9gU9GvqslyhM5OTqt/HslX6qfIE1yb4KKaX6GDqmk5oIkqE84fOjwc2fPRUZESsTwI8CnJCM94+GDh3NmzVFvZ6nDNk59xSNjabPA1DZKmBMnTLxz2ywlKQV2Lfj/SU/LsDC3mDB+Qo1qqoXPDfUN1bYCh3sNBvoGfB/AGtVrjBwx8q7lvcT4RNVdAPhcUEMcER559MjRTh07qfXJR3wzoQrWGD9NMibRUtCb5s1arPx7lauzK2Vd1Y0AAECzgUEGQFFDlCfy9PBatnR5g/qqXeQLwksZKl+ov8erGSND458H/Hzq5KmYqBipWIq+H/gvCA+LOHf2fLcu3bglQfLjq56zwloYJUEHOtpsIR4m06++qlO7zoplKx7bPM7MyFRgUTzwSZGIJN5e3gcPHGzdqjVJkfSmr8sEydMjVyDJUkdLR/22caPGWzZveeb6TCySqO4CwP+BWCT2fO5JourSuQu3Yo0MjfhjAzU8PRrqG1IzTW9Jrls3b/X08GRL4AHw2cnKzLK2sp4yeUqVylW4RHV1dEmiQuakV9X4Rz7mkcRcrky54cOGX754OToqGgNvAQCFBRhkABQ5FC8S4hOuXb02etRo3vdTwwoXbR2qXahwobKGn2zYoNGc2XOtrWyys7JVdwDgU5ORnuFo77hs6bJvvv6GVEf9Pb6OCdeknq4eFdm69F9BlmVKl/mpz09nTp9hc34xpBF8ahRyRUJcgvUj68mTpvCl8Qz0Dbhjqx41RsokWZIm6bhihYq/Dv71xvUbkRFReIQAPgkKmSIuNv7qlavUUvMBYtReUzIk4QkCZNAxCZKUSfqkhnvQwEEkwriYODwzAF8EEm1IUMihg4f69e3HUyW9CgYZs8a4U8ZO5k9ZaN+u/bq161xdXHNzYOkCAAoNMMgAKIJQLeLk6Lx61epSpqV4maKuXXR1dHW1dakK1xdWeqIzP/X+6eCBg8FBwRIxRkaA/4q8nLzgoJDTp05369qdhEcdQjafSJj8y0MY1WjALd2mjZsuWbTE2cklLTUdfgT49Chf5OXmUU9v/9791IUjyVFW1NPVI0FyTVJipCA18llC37b8dv269c/dPTIzslR3AOD/RpQncnZ0XrVyVelSbFMdgj3B+odHxl/btm7L1mR0dsXwMfDFUL7IzMi8f+/+tKnTjYVRjYSWMHaMHxeEkueY0WOuXrkaGx0LSxcAUIiAQQZAUUT5Iiw0/PzZ8106dzEyNKJKRUdbV0dY3YltJ8/mDamqGapgpk6ZdtfyblpqmhIVDPjPkMvkKcmptja206dNr1G9BlsTXYvN8yVlcldCT0dP2AOrBJXdA/oNOH7seGR4JIaPgf8IpUKZlpJ27+69cWPHVapYiZtiQm5k1hhlSB1hX0vSZOmSpYf+NuzypctxsXHYTRV8SpRs7vmli5d69fzB1IStz6gyal9diYzQ1dEdOWIkiTAmOgYtNfiCUKPs7eW9d8++Vt+34s9ZSa6UP+mA0iY/4JQ0Kbl61WonR+e83DzVlwEAoDAAgwyAoklGWoaDvcOihYuaNG5KlQrfpo0OqILRZqucqB5Q16pZa+eOnV6eXuj4gf8aqVgaHBRy7OixQb8M4ovx6+vpU8ePD5rgQ3WIr5t8PX/ufGsr68yMTNU3AfgPkIglvj6+u3fu7tWzl7qDx0VIBzxhEq2+b73y75VODk65OejmgU9MVkaW+zP3NavWtPquFYmNEiNLiSw9Uhv9chxZxQoV16xe4+LsIsESeOBLk5iQ+PDBw4kTJtauVZvEScmT50+qLUm9QoXJaFi/4elTpyPDI1VfAwCAQgIMMgCKJlKJNDw0/MzpMz2696BKhS+mU0JY0ESf7V/JnvvVrll7wvgJjx4+iouNw1Ad8J+jfJGdmf3Y9vHiRYvV21mq4Zo0NDAc+MvA48eOh4eFK2QK1RcB+A8ggSUnJVuYW0ydMs1Qny0CxeFDGvkxyXLUyFGXLl6OiozCUwTwySERJsSxNUNJZlUrV+Wq0xH2KhF0yA5KmpT8odcPFy9cYkvgAfClEYvEQYFBu3bsatOqjSBYBh94a6BvYGTAZi00bth44YKFzk4uWZmYlg4AKGTAIAOgiKJkg8js7exnz5pdq2Yt3fwl+XW0dfnSqkT7dh327d0XHBTMBsBj0gb4DChfUGF97Oix1q1a6+Wvgkf9QHrlmjQ1Np09c/aDew/S07AlPPiPUbKensdzj107d3/z9TfcFNPR1mEDG/OHj5EgV61c5WDvQN08pQJZEnx6cnPy3FyfbdywsXOnzlx1pEBKiZQh+eL9TZs0XbRwsaODI7Xpqu8A8AVRvkhLSbtrcZfNT69QSSVaXWHBhPzZwT269zx18lR4aLhUgucKAIBCBgwyAIoscpkiMiKSapTBAwfzvdgIPk6HM/S3offu3sdENvA5SUlOsXpkNWniJD47Q09XjzqB6gE7dHL3rt1enl4SMbaEB/89yhexMbHmZuZ/DP+jijB+x0DPwNjIRJ0n69drcPrUaermKeQYzwj+E5RyZXxs/LUr18aMHsMXPhcWZNTS19U3MjTSLqHdv1//C+cvRIZHYiMdoCHIJLIA/4C9u/f+0OsHniqpHafWnB+TbseMHmtjbZuakoqHrwCAQgcMMgCKMrnZuU8eP1m8aLF6vyF9PdVKTx3addiyeauvj69YJFZdDcB/D5+dsX/f/o4dOpIODfUNTU1M+QJk9erUmz5turWVTVJikupqAP5jsjKzPJ97bli/4duW35II9XX1S5qUNDZiCbNxo8bz5853dXbNzsxWXQ3Af4AoT+zk6LR2zdp6deuR8Aj1M4PGDRsvWrjIwd4xHVv6Ao1BqXiRnJR859adCeMnqH0xjlYJrV9+/uXkiZNRkdFYuwMAUBiBQQZAkUb5ItA/8Ojho+3atuP7DXH09QzGjhl74/qNxIREbIkFPidUWKempN61vDt+7PgqlauoJ/8SHdp3OLD/QGBAIDa9Ap8NuVQeHxt//er134f/XrpUafVsX6JHtx6nT52Jioyia1RXA/AfQK1weFj41ctXB/0yqHy58qQ9bpBpldCiMyeOnwgLDRPn4VEW0CBIkG6ubls3b23SuEnBfVeNjYwXL1z82OYxVh8DABRSYJABUMRJSkh69PDR7JmzG9ZvqKpfvvqqRvUaG9ZvcHV2FeWJVNcB8LmQSqTeXj47d+zs1bNXwcL6t19/szCzSEpMwmNn8DmhNOju5r5u7bo2rV+uOa2jrTNq5Kgntk8y0zMxcgf81/CRjGtWr/nu2+9IftyoLV2q9JLFS2xtbDPSM7AEHtA0oqNibt28RQ23eiUyol7deocOHg7wC8DqYwCAQgoMMgCKOOI8cWhI2PGjx7t26crLl6pVqg4fNvz2rduR4ZEvnQjU3uAzkpLMBpHNnDHTxMiEy7Jb127bt+3w9vLOzspGVxB8TigNxkTHXDx/8Y/hf/ANBEt8VaJ/3/6HDx1me5jkYA8T8DlISU65fOnysKHDSpcqTSLULqHdonmL48eOB/oHSiVYkxFoHLnZuczVXbWGhCo04181qNdg+rQZtja2KUkpqosAAKCwAYMMgKKO4kVaavqjh48mT5pSpXIVqmC+bfnt+rXrPdw9MtIz0PEDX4T83QN3NWnclDRpqG84edLkO7fNEuMTWVcQsgSfEyXr6TnYOaz8e1WVSixJGhkYLZi/0NrKJj0tXSaRQZDgMyDOE7s4uaxeubp1q9YkwhrVa4wZPfbh/YcJcQlQINBAZFJZdGT0xQsX1a5u506dDx9kzxUwOwEAUHiBQQZA0Ucilvj5+u/bu69f334lTUsO6D/g6uWr8XHxVNyorgDgM6NkszNu37w9eNDgWjVqUWzbus3D3YNt04bdAsGXIDws4vy58x3adyhTqkztWrUP7j8YGBDIBjNCkOCzoJArYqJjL1+8POKvEfp6+iTFvXv2+nr/j72zAKhiacOw0th1f6/d3d1eW6/d3d3d3d2d2N3dgdgioIQoLSEtYAf4P7N7WI+AeECs6753fn487Nndmfnm/d7v29kZ+xdhLzRHqFDxKyEi/GNIcMitm7emT5tRuWLlVClStW3T9uyZs8FBwfxJhQoVKn5TqAkyFSr+AERolkUfN2Zcndp1Jk2YdOf2neeq5lbxU/Hq5Wvb+7ZzZs3p0L5Dh3Ydzp09p25eqeIn4lnQs5vXb44cMbJt67a9e/W+cP5CgF+A5m8qVPwARHx88fwlRjh1ytTUqdLU/7f+oYOH/H391eljKn5ZvH/73vOJ566du/v369+yRctFCxfZ26p7o6tQoeL3hpogU6HijwAixu6B3c4dO6dNnXZw/8Gn3k/D36sP+FT8TESER/h4Pz1y+MjyZctXrlj5+NHj1y/VlzJU/DQQ1Lm6uG3bsg2D3LJ5i7OTs2qQKn4w3r/74Orieujgoa5dus6eNefunbtiCTwVKn5hvAh7cd3i+prVa5YtXXbu7Dk/X//wD6q8VKFCxW8MNUGmQsWfggD/AOt71sgXRwdHdZdAFb8CXjx/YXvf9trVazdv3Ap5FiJUtTpXQsXPQsTH0JDQ27duW1y1sLG+j3GqL1eq+NGI+AgTPnZ8fOb0mVs3bvl4+ai5BhW/OCLCP7q7uluYW9y4dsPN1e3dm8gNJVRvrkKFit8TaoJMhYo/Be/evnsW/Mz3qa+6oImKXwQR4RHBQcH+fv5BgUHq2vwqfjoiPkQE+AVAksGBwR/eqU8RVPwEfHj/4XnY86feTwP9A1+9VHdQVfEb4NWLV/hxirBYFSpUqEhY/HA/qCbIVKj4gxD+Ifz92/cEgZp/q1Dxs0E0+P4d/wtXZ+uo+BWANVLUaTsqfiIiwiMkVvygsqKK3wXhsKb6UEGFChW/H2IIitUEmQoVKlSoUKFChQoVKlSoUKFChYo/GmqCTIUKFSpUqFChQoUKFSpUqFChQsXPRoRY9eJnLTKgJshUqFChQoUKFSpUqFChQoUKFSpU/DxESCsCvXv/+tXrVy9fvXr5+s3rN2/fvJOXv4gIj4gI/+6rkqkJMhUqVKhQoUKFChUqVKhQoUKFChU/FhEfP7wPf/f23euXr58FP/N76uf5xNPN1c3ZydnpsZOri6uHu4e3p7fvU19/X/9A/8DQkNCXL16+ffP2/bv3EeEJny1TE2QqVKhQoUKFChUqVKhQoUKFChUqfhAiPkS8ff02LCTM28v78SOne5b3Tp88vWP7jrVr1kpl3bq16zas37Bpw6bNmzZv3bx125Ztu3ftuXD+otU9K2cnF28vn9CQ0PdvP4S/T8g0mZogU6FChQoVKlSoUKFChQoVKlSoUPH9EfHx3dt3fk/97O0czC+b79+3f/269TOmzWjZomX1atUrVqhYsUKlShVFqVypcpXKVapWqfpP1WrV/qlW/9/6QwYPXbhg4fat248eOXrj+k0XZ9dnwaEf3iVYjkxNkKlQoUKFChUqVKhQoUKFChUqVKj4noj4+P7d+7DQsCceTyyuWmzasGnsmLFdu3Rt3KhJmVJlEn0NiRMlzpsnb80aNTu079Cvb/+5s+ce2H/QztYhKODZh/eaK3wj1ASZChUqVKhQoUKFChUqVKhQoUKFiu+ID+8++Pv5371zd+eOXRPGT/ynarXkSZMbGxnrJ9bX5MASJTI0MOQTUxPTJKZJTIxNKNLvSZMmSWpqkoQDEidKLB9TqGChTh07r1u74eqVa26uT4KDQt+++dY8mZogU6FChQoVKlSoUKFChQoVKlSoUPG98PLFKw83j4sXLk6dMrVO7brFihRLniyFnBRTkDiRnqmxqalJElMTUxNjE2NDY4qJkSZHxi+a4yTo6+nnyJazcaOmE8ZP3rVjz51blt5evm/ffNBcL15QE2QqVKhQoUKFChUqVKhQoUKFChUqvgvevn7r4uxy8sTJSRMnlSxRSpPi+hyJEyU20BdTw4wMjPT19Pmn8rleYj0DPQM+lD/RRopkKUuVKNOta4/1azfevHEnwD/4wzcs268myP54RBpP+IdwrJby/l3kvMSE3zVVhQoVKlSoUBF3qB5ZhQoVKlToDtVrqPiV8PbNOzcXt0MHDw0dPDRblmxyYks/sb6+noH8O5CyYPoG+oaGBobaqTH5FyCnyTT/0HxdX3wskDj9XxnatemwdvV6q3v3Q4LDwuP7qqWaIFPx8cP7DyHBIR7uHva29o4Ojp5PPF+9fPUxXPPXLyLiY/j78Hdv3r188fLF8xcvwl48D3sul7BQ/veck3Dmr7Lzu7fvOPLF85ecR3Oq5+JUnCQs9PnrV2/CP3z1VlSoUKFChQoVKlSoUKHij4G02Pnrl6+fhz4PDQklFpMjMgphVGhI2MvnL9+9TaB1y1Wo+Aa8ef3G84nX4UOH+/ftnzdPPimfJWCgZ0DRS6SXOFFikfxKpKevp2+gb2DIf/y/nsh/GfKfZiqZyI7JGTE5U8YxFD2txcsyZ8ravl2nzZu2PrR/FBryPCJeWQQ1Qabi47OgZzZWNocOHl65YuXWLVsvXbzk5en15vVbzZ9jRIQw9MCAQDdXd8eHjg52DvaaYm9va2/7gP/ZOz124oDXr15HfIiIMU3G569evuJaTo+cHOwdHvKfnYOdrR0n4Qz3bR7w+xP3J6HPQt+9fffVRJsKFSpUqFChQoUKFSpU/AkgjPLz9SOMUoIvioikIn86OzkH+AW8fRNrTKdCxXeFNKXG96mf+RXz4cOGa2fHjI1MEkupMb1EeqIkFkXJlMkJMjkLxk+Ol5NictZMlMTir5xBL7G+oYFx4kSaNFn2rDl79ex74vhpN9cnb1+/09xGXKAmyP50vHrx6p7lvSWLlzZt3DRrlqw1q9ecOWPmNYtrT72firTUF9Kur1+98fL0ump+dfu27RvWb1y3Zt3a1Wspa1avWbNqzepVqzes27B3916re1a+Pr7wspgFFi3D9frVaw93jzOnz+7YtmPd2nVr16xdvXL1yhUr+fqqFav4hQ9PHDsB4wcFBKnk/vNBDypFhQoVKn4ufgUu4gbwkt/vNuTzq1Ch4tfHT6cjFX8Y3r97/8TD0+LqNWKxtWvWET3JIRhFhFTSz927dl+3uO715GvzHlSo+G6ICI94Efbizu07c+fMy5E9h5zDSpwosbyaGL/oJxZzxKR0mAH/lA+IHXqJ9fUS6cnzyOQEmb6eIYW/yAfkyJZrxvTZ1yxuhjwLiwc5qwmyPxqYrO9T3wP7D3Ts0DFd2nTYU6GChceMGnPu7Hk3V3fxomVMJhX+ITwoMOjG9RtTp0ytUb1G1Sr/VKlcpUqlKpVFqVy5oiiNGjQaNGDQ3j17bR/YhjwLeff2ffQpjv5+/hZXLaZMntq6VeuqVapWrVy1UsXKFStU5CSVKlaqWL4inwwbOuzQwUOPHz0ODQnlbjXf/JURLmbGhX9h0lwC48dei37/8F4Uke78TjEbFdEuCQ5NLT68e/uOgrb48O4D/4wxgaviPwLGB937XbMYQqdqjEpjWm8ZKj9kYP6S+I6twUmUonQr5avQ8bA4QqJECOS79DUu7+2btzjiN6/e0Iz8/vaNaEwumvCXi4AbIzg5V3nz+g2/SFcUJPm92F7FfwiMRNxopP2IpWxRffzOL7+HcvtmCGnx7oM8cKg7v2iK3AJ/RBuo+NFgiFnfs169cnWTxk1E6FShkihEYZWqEJeJcKxSlbq1686YPoOQzc/Xn+M131Sh4gcCUeHs5GK2yaxF8xYG+prlxjRvVkpTxvQi36+U/yTD0MDQyNDI1MQ0WdJkKZKn4Cf/1PwtBog0WeJE+sokMhPjJB3bd96yeftDh0fPw17ElYTVBNkfDWS3g/3D+fPmly5VWranMqXLTJ44+fy5867Ori++YE/4e29P7wP7D9SrU0/+VnSkSZWm2j/VFi1YdNX8qq+PL2MjikhCTHCJPbv3NmrYKF0akZuLEf9U/Wf50uV3bt/19/MPJyr4NREhr6T2mhYLDQkNeRYS8iz05YuXRBdfer30W0AY8/b12xfPpWsFc62Q52HPX796TVD6PUQY4Z+8ugEXehb8jCuGhYa9fPEK5ZdggVOEuApxoFh7LiQ07Fnoq7AX7169Sajzo90xWpqIWlCFAL8AzyeeTzz4n5e3l89T76d+vn6hXPTlK/rxe7ThT4Y0t1kj3Am0RZgdt8K3dMkh0onyVaJ8Pf7lNed6Ly4dX1BxyEdem4OCjyR4S5hRKRIKYhFG2a4wIWzJy9MLo+Knj7dPYEBQWEgYtEDU9B80qs/BEKP36Xp8CqPY96mv1BSenh6e/MRfQOAMPWkxFIkV4wJOLoLt1285OVzEOFUKRBT5+2s6ggPo7s8KX3nFV6RvSQdzBj7EUHUx6VhALTBRqP5ZEMwoCF9U7dspC9uUElXcbXDQM9jJw83Dwx2y8pR/8klQQBCNTIN8e2IOv4x90lA4Ly6Hs6bL3N3cvSQz9vbyxrCfBYdwM9ROXE6FCi0wiBgFGA/CIMA/EOOUDNUDK8KEfLx88LYQr6RP3n8POfTzIakXRlBY6PPgoGCIjlFD3WkHeRDhC4ICg6QVdV9zZDxbQCZYbfct7an16Z+xFgYv+vDrmUqpLhwsviWf/wtFZtfXErvCqNpFIlvBt+JPEiGLB+SxUIfkSTEPaqdd0M+xlk+3we+6NGz4e/zIh7dv5CIuJzeOjgXlIK6lVX1+kVjxOzyu0Bncg8VVi7Fjxv6V7i9N1BQT/q1Xf/++/U6PnRiMv24kpeK/ivCPcOOlC5cGDxqSM0dO2SZNjE3ldyfl9yWjzxr731/pCxcqXLJ4yfJly1epXKX6P9WrVKpSrGixFMlTaI6IAWKFssSJ9I2NTPlFL5FBqZJlRo0ce/rkGa8n3oxizf3oBjVB9kcjMCDw4vmLvXv2zpFNzHjMnjV7uzbtVq5Ydd3iOqKcYDJGuY8nw/Hv2bWnTu06skkCAz2D1KlS/53+7wx/Z0iTKk3uXLnr/1t/2dJl5pfNEQp4zSgOkpM8fvR46+atlStVNjXBlDUngeUzZczESdL/Lz2/NG/WfNXKVbdv3X7q44sr+ol+6IuI+BgWGvbI8dG9u/duXLtx1fwq7urmjZv3re8TZhBaIA40RyYEaAQUmONDx1s3b3EtCp116+Zte1t7pNiL5y81QiGBGgoh8tTnqZ2t/Z1bd65fu3HN4tqN6zfuWd7jBoiBiQkT5OEw0RdK2t7O/vbN2+aXr5hfumJ9956Hq/uL0Ofh35xcwNKIzDHCh/YPb9+6c/nS5ZMnTu7bsw8D3rtn78H9B48eOXrm9BnakxsgBKXL0By/oqXFC9hDWEgYGt3ZyfnRw0dipT97sVYgfWpna2f3QKdCd/s99Xvx/MUXZWiEWAjD29PbxdmFscAlItcllJfDiMO1tIvtA1unx85YWlwdm7jJcJEdC3kW4ubqZm1lfeP6TYur1+hlNOK3j0qMSkoD+dGed24Lo8KEjhw+gl3t2rlrz+69hw8evnDuAjxg+8COgQlFJMhI+YWgVRsaUxpiXnS91T0rCPDUyVO0wN49+3bv2s1A2793P41z4fyFu3fuivVQ/APFENMBNBpdH/Is1M3V/aGDIyaBOQmjiq3IhqeUz/4qjF+yRjqOfhE+Lu5JH/GI4s07vCe2hG+SOP8ahO/p4fki7Mtj5KsQ0Wn4y+cvA/wDMFobaxsLc9GSBDb79u47sP/Agf0HDx44dPzYcTjfxsrG6ZG8yuebeF+OkA/ZKrjR4SH+6+qVq3Ajl9u5Y6e44r4DdCKGTYdyOYa2v18AoW88WkzFfxDhYlKAn6//I8fHjHq0wfmz548dPYah7tm9h8Iv2Oqli5dhSJwvw028TPDmP/UICoJCvTAMEcz3be6jjs6fuwDXiTG7R4wgBIZMfRAFowxH/BxVE6cMhZQ/Cn0W+sTDM3LBX8FgtvdtH9wXC/UKSvxagZm5w6DAYNz0l64OraHoYAOUOZfA+XKJLxWFiuXlg5UiXL9UZL4Vxdbe1cWVJhJPcKOBqkHCiEyOcXRw1C7ihPZfLFwC30qbU/hdkHno81jc+ptX73x9/B87OjvYo08cH1IcRGMqYuOr5YHNAxtrGl00O2xP4XeMXyjh5wmjhOMBIgI8xcoVK2vWqJkrZ64M6TNkzpSZ0El+JUhBrRq1tm3dRosFBQShXjRfVqHihwAV5+Lksnb12urVqssGmThRYiNDY5Egk1cfS6wn3q+M3MhSP7F+tX+q9+jWY+yYsTOnz1wwb8GSxUuXLV2+cMHCqVOm9u3dt26dukqiDcgrlynTx/QSGRgZmpgYJZHSZPr/VKm+dMlyxjtcLe6GkarbYFUTZH8wwj/ibteuWVuqZGlDA0OMrHzZ8iOGjSC6Qyvjb3CWHBMd0CtOdOf2nTCybJ1JkyTNnSt3vbr12rdr371b986dOmPBkydNPnjgIMrpqY/vm1dRZ5C9f/sen73ZbHOlipVMjDUJsjy58jSo35Cvd+/Wo0f3Hr179Zk9a87hQ4cRAcRUfEXz5V8HER/9fP2IvVcsW0F9R48aPXL4SMrY0WNnz5pNcGh515JoR4jChADihkCRGGbZ0mVjRo8ZOWLkqBGjuOiY0WOXLF5y9PDRx46P0aBEaKK1v81fcwYM4PEjJ+Td3Dlzx40Zx+Wo2uhRY6ZNnbZq5aqLFy66OrvCON+iDPDutA8SB2FNpSZOmDh08JAhAwcvnr/wzIlTHq5uL8Oef4xvPIbgQzN5uD8hwNuxfQe1GD9u/OBBgzGtdm3btW3dtn3b9p07du7Zo+fAAQOp4NzZczdt2GR+2RwqDwsNExN/fn/QQai63bv2LFywaM7sOTTC7JmzZ82YNXPGTN3L4kVLzp4+i25GywqZG40WJMt0O3HsxOqVq2dMn8H5Z82cFderaMr0mZyBMn3a9MmTpqxetfr8ufP+fv5C++psCHBFaAgRxZPrFtd3bNsxZ/bccWPHjxo5asrkKbt37kbXBgc9i4dMxNSJCYODguGuy5cub9+2fdbM2VjOsKHD+vXt17VLV+yqTes2Hdt37NG95+CBgxmb1Ahhev3adW8vb/GcIC6R0a8POiUoMAg/cuH8xS2bt8ybO0+mwf79+sPhnTp26tC+Q8cOHbt07tKrRy8ahAGOhZw6cYrAiWjtq5SOsfn7+t+zvLdxw6a5c+bBPLJtxKUIo4KNMchPv0g2tnfPXgKtMOLVuExRfP3qNZxP1Hf61Gm859TJU+l9Cgx85vQZNxe3l/GiRKwRm+TrlncsYXIIdsrkqSOGj+jft3+XTl1oQxqTZsS99undd8TwkZMmTlq8cPHpk6ft7RzogrjlHcLF5PFA/0B6gcG1dcvW+XPnTxw/kVr07dOXy7Vtgx23o+8w6QH9BjBwZkybgbrF9eCLiXUZBd/oX1T81iDgwQwwBslxL2fUY6sD+g/APmE/fCs0iMX27tUbScmoJ8JBDSKHnno/xSX9B+awyOoCnWxtZQ2hbVi/AYeFEhsyeGj3rt07ddBQX9fOXXv17DVk8BAcEKNs3959d27fwRe8eP5Sx0bgMIbqzRs3t23ZRjPCYPhxfsJsXFFymjBbLEVw3YL5C8w2md28ccvTQ9qkPjoiPj4LfkaHopSIQmNnWvhTvi5cipzgZrQLt0cRf5WujhPftHET9w+/iXfDPwf062DvABUvX7Zc/iIShYLLFv+c9cXChbgTouWpU6ahbeBM3BBOP/olwPu34Z4e3mfPXFi+bNXMGXNmTOPO5+C7uT3aULtqsRTahMvJv/Mt/ome5OeZU4L23yaQyI8rcF70KWp8/rz5jEEIvE/vPsRQ9f+tnzVzVmVWTvVq1Ym2UNoiHnn7c25VxZ8JRC8C/uqVq3Bjntx5ZIMUK44ZGPJTrB2WSI/fpdXEBFKnTF25UhUizZUrVu7asevokaOnTp5CXBGDoEAOHTy02WzLtCnTUCm5c+Y2MhBvXPJ1Q31D6VQiQUYx1Dc2NU5qbChyC3nz5B8xbOQ1i+sBfgGMF92jYzVB9oci4oNYMO/ypStQqqlJEmwI62zYoOG8ufPPnz2PbvZ76velR9NygozgsPo/mmRwurTpatWsRfCJIzyw/8Chg4ePHTl29sxZK0srN1d3/C6MHCUylBNkxFRVK1dNmiQpJ0maJFntWnVwPFu3bENLHT1yTHr8eMnqnhWXCwsNi1MY8yMQ8fHli5e3b95etGBRndp1ihQukjdPXgoUkD9v/rJlyhIl7t61+/Gjx2Eh3Pw3xxMRH708veGIoUOG1qhWgwvly5svX978/OT3unXqjh87nmjnifuTtwnx6g1xoLurO8IF1Utd8uXJlytHrlw5c3OtEsVLYCpLFy+9ZnFNTAZ5E6/5VvKcIy/va1evEWdylVo1ahUtXDRHthzZs2Rt0rDx4gWLLG/fDfT1F5PI4oGIjy+ev6DxT508jVG1btW6TKkyBfIXzJY1e/q/0kPBqVKmSpM6zf/++l/mTJmpWv58+cuULtO4YWMOPnL4yEOHh8GBwf8BJREcFIwo79a1W/ly5UsUL0kj0H0lipUorinFdSnY2+xZcy5fvOzn6/f65WuhQRmLSqdHiLmoN67fJKRvUL9hoQKFihXl1CUoxYtGPZUupVhRUYoWKUqnNG3cFL3+6OGj52HPRUrrq5YW8fHDuw/cDyR24vgJZDShfsUKFQsVLIQNlypZiuGDl/Vw9/jSA4AvIuIjERGD4sb1G1s3bx07ZmzTJk25WwYgQz5rlqzYUiphV6n5JUvmLDmy5+RzDmjRrAW3ce7sOWcnl5DgEJ1q8Tvgzeu3Tzw8IQGCw5HDR9JTpUuWLlyocIH8BXJkz5EpY6b0/0v/v7/S8zPD3xmzZcmWM0fOQgULQ5V0AWL97p27T32eCvb4ci+8efWGrt+1c1fzZs1LlxInh2aLFC4qF+ji66VIUWypVIlS2HyxIsVKFi+JWWKfhQsWHth/IKrLx8sHrtNlVhTHQFlYjsVVi1UrVw0aOIgghDPT0VStWdNmixctuX3rDiNOTCKLC4iBIdJ7llb79+2fN3dez+49iWeobO5cubNny/53+r//SvsXTpZfMmfMDIPJfIVVcw9KS756+Tpmu/r8Q9QhxOju5n7d4jodN2rEqOZNm8Pw9Bq1wIy5SprUaVOmSAk90nfZs2bHwkuWKFmvbr1hQ4dtMdvC5Xy8fd5EWzZBxX8TUTpZWlACe7tz+w56b+CAgdgq7IpNYjwYTFphPKlSJk+JxWbJlAXjYdTjfXr26Ll61Wro4onHE8j8t86RMcAZ5na29iePn1y8aDFK7996/xYtUgzhlztXHmXApksjxizNkisnA7YAo6xTx84cf/HCRRdn2Rd8fbYpre340BHCadG8Rbmy5RiJMCGOTCY0xWnGUuBAvtiiectNGzbds7z3LOhZ9MbHaeLaUD4dO3Sks2QnHuU8kUV4duHcJQnBbXxWikO1pbg9WJeDOQmKsUP7Dtu2bodz4M8oTPvUx5fot2uXrlWrVIWcqR3fpYIlS5Ti91gKYkbQeCE8QdHKlSrjji+cuyB4Kaaw5eXz15Z3rWfNnFOzRu1iRUsUKVSMn8WLlqDL8BGcR5fCkXgf6iVXk8aHnAsWKDhn9pxbN29Bqj9rai2X9nriZXXP+qr51bNnzhE3EUNNmzqtWtVqjEQ5Rqv2TzWzjWY21jb+fv4/K5en4s8E+srB3oFgv3bN2vgF2SD1NauPSQmyxHqGUp4LGOgbVKlcZeKEidu2bCN2w19Y37O+b3Pfhh/W962tbGAwYo2jh48uWbSkbZu2+B2+xdf5onQqfuonSqSnn9jQyNDUUN+Yv/6VNn2zpi0O7Dvg9NgZChKZBN1Gqpog+0OBY0am4LRatWxlqC+mjxkbmfTo3mOz2ZY7t++6u3mEPJOcd0yQE2Q7d+wkbBYWnSgRqohYcd3adRcvXMKUHzk+cnZydnNx8/byRkYwPKJbpJIgYzDICbIkpkmJJJH7165es5d2Jn7s+NjV2ZWThIWGiajyFwPt4+XptWHdhrp16iVLkkxuCm1U+6f68mXLLe9Y4pO+/f6J54nMp0+djt7SXEALfNi6VevtW7fb2drF9iqczvDz9SOk79C+o7LhiDbocULiE8dOEC4iduMcEH4IxzAgzRPHT0yZPAVtZGJsojm1hOKFi44ZOfr8mXMeru5vvxT4fRlEbi+fv0SDEnCi4Gkc2ci/imRJkyHO+vbui/SHiP19/X/3eWQMVUJuhJ28tiWuSK5pnEDA3K9vvwP7D7i6uIaGhEn57gglr4EuZCCcPHESba097Tn6mgLxAKHXiGEjbt28zSAS81ZiRwRS+KVIYZhbMDC7d+tepFARZdq2DOL8rZu32ts5hIaEar6lA7BYjn9w/8GeXXvQ4rVq1s6WNZuORmVoYFiqZOnBgwbDmVaWVoFSTvl3Ty6IOfPOLocPHR49cjSNnDJFSh1NSy+RXo5sORo3arxw/sJLFy9rQpoYg+Xwj6HPQm/fujN/3vxMGTNpvp9wqP9v/V07djk7ucgmrbnoFwDFPQt+5vjwETHkuDHj8uTKY2psqlg44qx82fKouksXLz31fioybjr2b4RYRMb3qe/VK1dpkGZNm2fMkNHIUKi6r4KWTJ4seZ3adRjgF85fcHN1E+IvSvI6GjjmocPD/fsOjBk9lkiYAF7RprGDyoo8YJNmC+YtuHD+IkP+9csYPLuK/zbk7NilC5fmzZknZqlk+TRLJXbggHD0CJgzp884PXYSObKflFD4VoR/DHkWeuf2nTWr13bu1DlL5izGRsY6NgIuo1yZcqNGjoJGHOwfwm9fzZHh9e7esezRrQchpeYs8UKGvzOMHzf+/Nnz4rHEa8kBaV2XTxzsHNasWpM9W3bNFxIOlStWXrp4Kao++lIDOGuzTWYQyzeqhUYNG+3etdvpkZOmSbUR8TE4KPTC+cvt23Uy0IPrEkCWKEiVIhX65MK5CwhakXj6GVlfSBgqxj35PfUjrHN67EyksHnT5qaNm/7vr/Tyff5T9Z+NGzZaW1lLCbL/zhIiKn51RHxEOV+8cJGAUXntF62IZBJ7UErvRcofyqhUsfKI4SO2bdl29vTZW/K6N24eiA0vT29+ej7xwsLdXNzuW98/fer0zBmzGjZomCF9Bvm7nEpfkyBjjIscmV4iDWdmyZR17px5t27cYpiIFxd0s381QfaHQkx9unUbQ8yWJRvWQwxJIDph/IQjh4862Dv4+sT2Uj3mRdSNN6pVo5ZsfH//7+8WzVtu37bD8q6lp4dnYEBgyDOxlDtFmm8SwztZ0RNkSIeWLVru3bMX02ck4G8oWDMnEdHLL0bo+CSxlee1GwP6D/zSJgNly5RFRF67es3by/tbl94I/8hJ9u7Z17ljZ/l92Cj4X7r/NW3SdNOGTdb3rEPEEktSCiO+oHce2j9cu2ZtoQKFNBf4HKYmpv369CPKQumKXGpc3n59+eIVlHf+3Pnly1b06dWndMnSsgFoo0CefCOGDDt94pSbk8vr5y/j9pZlhNCvBIH79u7v07tP7ly5NSeVQsq/0v6VL2++EtKzSvmpYM4cuVKnSq05IlEiEyOTnNlzNqjfcP269eJxa/Cz3zhHFiEEKPG8dgXjAWMjk549ejI2nZ2cEaAYs3hYqpUgwzhPnzzdqWOnrJljyN5+C+i+wYMGm18xl2b6xJYg4zYC/AOtrWy2b9s+fux41CGyGx+sOVEkUIrr1q6zsbaBXmJ+4TEmW4Mw0Z07d+zs2b1ngfwFU6bQPAeTkTxp8kwZM+fKmYuSJnVazadaMDY0LlyocO9evTdtNLO6ZwVDfuMiaD8XjIin3k/p8SGDhxTIX0BTSfFUUD9tmrQ0O5UtLj1pZ4jRg2lSp9EcIQFtlPHvjI0bNZ4/b77FVQs/X7+YX0KX0p2MwXlz56WIbVnWeOKfKiJmsLO1wxJieYAB1cvZdkTesiXLYOCCBQpqTqGFUiVKjRk99uyZs3hArEVkjnRA+IcIvO01i2tzZs1pUL9B+sh4RgbtiW/FqOQpijHu35Ra2g9n5vSZZ8+cwy9rHkd94eKERtze0cNHB/QfQC1MIxc30E8sOi5XjlyFChaWp0gULQIx5kyVUjMBQYaBvmHmTJlxNIsWLLp+7bq/r79YS06niqr4L4Bx6vvU98pl89mzZv9b79/0//tkrkaGxtmz5ShcqAiOtVTJUsWLFc+fL78SusjA0VcoX2HypMliDq+bB7b6TaLoJ+F5mHgrcPWq1a1btWY4aOoWCbguS+YsSIjsWbMr83e0YWJsQhONGjnqwP4DsbwVqIBWunn9ZquWrTTfjy+SJkk2euTo06fOxMgS9Oyjh482bdxUpHBRzRcSDtjDvLnz8bloxSi61NXFddXKVZCY5tD4osG/DXZs20E4jW8VCSBtRHx8FkSIfrlrlx5JTZNrvpBAMDE2HTRw0KkTp6DxF89f/KwH+YgfLv3m9RvugcDEwc5h3959rVq0wn3I9/lP1Wob12+0umeNt1UTZCp+GMLfh/t4++zcvhNrRPjJ1sgvUoJMXjjsU8IakdOrR6+1q9deOH/x7u270Ky7m3uAfwBRGNRBYMsvqLVA/8AnHp421vf3790/bOhwZY9BMY9Mz1BJkOklMkgcmSBLYpps0MDBJ46dII7QXbSoCbI/EuKVqKDDhw7XjdyGMsPfGZo3bb5s6fJLFy+5urjBsLEsMvL2zTtE9t7de2vXqi1/HRZu2bzl7l17bB/Y4p9evXgFWeOA371996WpTJ8lyEw1+RGU94F9ByB3hsSrl6/5OoUjf8GFewiZHB0c0RPVqlaTbz46ypQuM2vmrMuXLtNc3+iTEDT4NlQp+lJzdgny9FR+Qaq2aNaCeM/yriVdQPfF+/EsvhYyIhocMXyE0jXAUN9Qyc0h8nr26Ll7524aAc7SNYMpv/bo+PjY0WMIxDq162TJlEU+oQyxoa80laxg3vwjh404IyXIXj1/GfG1p6zaoKmdHjkdPHCwf7/+2tmxJKZJ8ubJW//f+gMHDJw8cfLUKVMnTZw0ZvSY7t2616heI0oKiTvhc/kN2TivqvvLADHq4f5k2NBhylwnsXFMYn2ck7GRsYmRCf1oamIqlSRSkX+PWvBbw4cNP3LoiKuza1j0GWThHxmw1yyuo7/LlyufInmKJKZJaW2Mh4iIn/yuSyFcJwLHnuW7ku+ZKGvk8JFiEEmyXnPJKJCWG0f5EUisXbO2fdv2xT7f6UY7s8CAXbN6jdU9qwD/wJhnPka3tAi5gtewloL5PyVH9PUMGBGEQ5UqVm7Tqk2vnr0o9erUEysjGBrpJRJb82hn6AoVKNSvb/+9e/ZhnwwEzcl/Q7x88dL2vu3SJUvpbk3dpCxhgXwFqD7MMHrUaAYXkfCEcRP69O7Dh+nSpqM1OEzmK4DTadWy9fp164lqQkPCYhzg+BHcBMq+QP4CWAiG8XmJaqgxFGNT7ByD55fkyZInMcHSkvI5N1CjWo11a9dZ37OOxRIwdfiNOBY+GT92fPVqNVKn/IwoFEosXbL06FFjTp08haR7EfZCxwQZ3g1/Z7bJDF5SHrQgGTktN1mwQCF8Yo/uPWjDDu07Fita/K90/2OMRB6jsWoDPYPaNWvPn7fg9q3bYj0yeXjG1J5E41i+9r7VgIYVHVdXdBy0TMdNmTyVjuOfNavXTJMqTZTJHRh8x/Ydt5htoVmiTwlR8R8GuvHO7TsLFyxsWL+hMh0AGBkYlSheomuXrtgPjnXm9JmM/SGDh7Zo3gJlEsV+qv1TDSUjEqx+Ab9drI61E2KdPnWmU4dO2tNaoTU4H71Rp3bdDu06MHZojerVqmfPll12ZLgDhSs4GOYcN3b8mdNnnng8eRXjomCRwOvRVi1btOSLKVOkhH9wqZyK03JF/PjXiyEkaIpXmjljJrqOK7588QrG0x65/POJ+5PjR48ztPPlza8hz68VxXfLBQkBLeMWZXbi0jJZlS9bfsH8BdZW1gS3UYjR2cll+bLl2ol4vgtd83Ujw2gV+bwIAWNkkixpsiyZs3br2o1o2c7WTsw0j/YgLSz05e1bllMmTy9bpkLqlGlNjHEBSU2MqEISJAoV+dytCM+iXfAdHEMz4sK4PWn5JCOZfjl4yOAhJ46fQOSHPgsV9vyzpCKdKe3n8Prla3lyd+tWbZQUNoNOSpBZ+T31iyW4+8PBiMB7vn71RiQ61SZKCLx9/RadsGjhokoVK8mmyJCBuxhEUCJMqHiHVClT16xRC9dAeGhjbUPkxZgK8At4HvYck8ZoGdeQIWwp77hNRHD39l3Yo1HDRpyNM0gRhJF2gkyZQcbnbVq33bp5q/NjZ90XzlYTZH8iGPxurm5rVq+tWKGibD05c+Ts1rX7ls1bbt64idmFhT4Xc4K+YELYqLubh5hBVlMzg0xkZ5q32Lt7r4O9eHFJlxk32gkyPKt8ngb/Nti/b/+jh49CgsVK85pDf0n4ePucOnm6Z/ee8hS81KlS58mdp0jhIpkyZJLjQFCqZKmZM2ZduXyFcU4AH2/Cfff2vTR9bG/jRo3lM6dIniK/tPqYMpPlr3R/NWncZP3a9ehXgnkpQRafl18iwsWy7pDIqhWr5E0Y0AGIvOLFiufKmYsYWL4cWqF7t+47tu8UrwmEhNKbX1n1LEIsJ4RvJoTbuGEj8hFxqYTK0CXRcoa/M6ZNnZYz84mSIHN1cnlFtKljgkwKaH2f+hGmDh82PHNGzdNdAuMihYrQeoMHDkbc79q5Cwo+eeIksubQgUObzTbPnTO3R7ceeXLnlY+XUbxocU5y/Nhxd1f3ly9exqMxfzrC34cTro8aOVruOBxSxr8zMuqbNmnWtXNXerB3r979+vYb0H/AwP4DB4gyYAD/EqV//76i8Nd+ffqNGD7SbKOZxVULtDXuSspZa3W3yE+9gTeOHDoyb+78oYOHDhwwiBNK55TOJp/n8yLOz1X69eeK0mH9e3TvQR9hadovRZYsUZJw6+qVq19KkGGxz4KfPXRwPHHsBFFZ7Zq1tdU2Cjhzpszp/0ovK3XwT9V/1q/bgANmmGAtmrPEAmk3TA83D0lxtsZKOUnWLFkrlK/AiOvYoePQIUMJPFYsX4Fhm20yW7J4yfhx46HTGtVryBOC9BLrE8kQQyZOJOIiAkha8qn301g49hcHDX7d4jrBcP58+alglkxZMKpWLVsPGTRkzuy5mzaa7d934OiRo8eOHj944ND2rduXLlk2aMAggmplupmsigoVKDRo4KDTp05jV0KSRkf4RxQSpLF86fIxo8dgJMJ4+uhQJAPjZ98+fXv16NWubTsihBzZP73/+3f6DO3btscBSesWB0a/OhYOE0K8lnctt23ZBtVTWSXTCqXg9dKl/bSzfsniJUeOGAmlMOKkt851ipMYOLdu3po+dXrGDJpgG5qtVrUasQ1jc+KEicuWLtu0cdNmsy3r1q6fMX0mjNShfYdiRYvJL/Ur6VfaE5m4fdt22QV/ya6CAoMYStCg/OQAb4VspXE47dw58zZt2IT/hfHgT35S63lz5tGY/9b7F18jX0gGdMpXCLbxgzpqTRW/O2DLB/cfrFm9BmGA3pAtIV3adFUqVcGExo8dv3bN2n179508fvLs6bMMfwQhnwwbOqx2rdoZMwjalGGgb1Cv7r+rV60WixiI3Vd+p30t0aVEbhvWbZB3fgfZsmaD/Zo0bopLHT1y9Px5C6gaHIgvICwcO2Zsp46dy5YpS/gnH0/18QWIHxhpyeKlVpZW4q23L+/qq0mQNRcJMkMDQ1oe7UcXtGnVpmePXvCbzHKxlD69+w4eNHjq5KkH9h3gck99fJ+HvXgrTwOPBKM45Fmog53D1i1bORKP/BWm1fLgcunXt3+f3n26dO5St07dfHk+0YWpiWn9evVXrVxlY30fMkcHaj/wdnF2wXUqjYNmw7E2a9qsa5euEGCUimgXbgCBIV965PCR69asg9mcHjkJ9RstQfb2zQcfL9/Tp87NnT1/2NARA/oPHth/EIJHo1I0mkdTZEEiySGlCH3SvWv35k2bw/PaAiOJSZLRo0afOX0Gka/ZRP5ng25FLOF827Zuq8wgUxNkX8XbN28Zic5OzowC+TVkzR9UxBsRYpWMG9dvoBVz59RMVkC6KApffoosq8GcOXIi1aBN8yvmjxwfo5BDgkNgP6QUJk08iw5Hp+Ev6CnGeFhomJurO14GrjAxEvMqjA1NDPWNpKSYXmIpO6avZ2RiLK+xrv9vvfrLly2HhZCvMavNaFATZH8ikO/WVjbTpk5DZwsjFbs85MUHIG6s71lLy/1KS5nEyKHS2urY5e6dn16xJFTAf+/ds/ehw0OsVpeH5zEmyBDiIkHm+JhBpe28fylwY4xPayvrJYuWFCtSTA5RaMkG9Rs0bdKsUMFCppHvrZQsUYrI+crlK09EgiyePgnhQvx288Ytgv+iRcTs95QpUpYpXQZXXad2HeUZ5l9p/2rcqDEq4fYtkSDjDkUDxv2K9IvvU99zZ8717NEzbRrxshidW7tm7fbt2leuVFl5VYpAEbmwY/sOOR57JxJkX87HRXzEKuxt7Q8fOjx92vSmTZrK61xAi//76395c+ctX65Cjeo1aUPloXSh/AVGxSNBFv4xLCTMxtpm1sxZZUqVkU8FOHPHDh3pC+yN2O/Wzdt2D+y4c3s7B9sHtnfv3L1w/sKWzVt79ezFQNB8R8qtVK9Wfcb0GSKd4eOri1X/asC1eLh7oNFlSYe8zpM7D00xZfKUNavW0Bq7duxi2O7bu59xF0s5cvjINYtrjg8d/X39X0rzQ4XG1eoR/vnyhZhTedX86vGjxw8fPHzowCHKwQMHD+4/eGD/gSgnjCwHkOwH9h/kMMhn44aNBBg1q9dUMqcpk6ds0rgJ8catm7e8Pb2jv2KJufp4+TDEVq1YhWonUJEn+OAvc2TPUaRwUUyrQvmKWbN8Wi/sn6r/EN6IBJmYv6DTarWoXjdXt0MHD3ds37F0qTKFCxZu1rT50CFD582dt37d+j279548cerypcuEMTev3+RmTp44ydDAcho1bJxRypiLoEjKrWTOlLl92/Y7t++0s7UTqca4TI38dRAcFHzd4vr4ceOhoKJFirVs0XLEsBGLFi7evm37ieMnLMwtEOJUEKFJRG1519L8ylVsYO6cedAIlKU8QoBhCJXXrV13z9IKGokx1SJnqRik58+exw5li4qlYE5c61PZd0DewbZD+w7ab4OWL1ceY4OR8FlBAWLWleZ6Ehg4qCjb+7YHDxyCN1q3ap0vbz6Gj7GRMXxYuFBhmKFqlaqwveZ0iRKVKF5CXpYxMkGmU6SEM71x/SZ8VaJ4ydy5cpctXbZzx84Txk8kaMRICHIuXbh0/dqNmzduYl3Q1NHDRxkmgwYOxgVwM5prS+AM+HTxMrK3j3hGFZNdBQYEcgCdVaNaDZxXyxatiO7ka508fhKio+PoMtF39g737t67eOEijn72zNnt2rbTnjHE7w0bNCSWhj/DQp//ss5aRUIBiyK0htJ79uj1d3pN1M34rf5PdZhw+dLl+/fuv3zxMoMd38qYwjDQSBgtYxCn36RxU+052tLs0VYwJz5F9/eRfwUgdeRXByqUqyC5mCJtWrcdOWLUgvkL+JDKnj1zFhdATIjP4hf4cLPZ5jGjxzDiZPlEcGgiTZPPnSsPqvsUIsfFFa/6JUegnSADKD08Wv++/fE+nJk2jOZVYygwJ6IOmoWdYDYuB+NF4dt3b97BD/Ta+XMXDh08RF1w0NGL5LJF+Yx4oeUDB3fv2r10ybI+vfuULVNWvlsA6/bt05c/ad5/FMufaa4IoiTIYFTIVmx2vGr11i3b+BZ2pVwxSoGcKdzq0SNHcToPHRx9vJ8iNWN42vEBP/LG2cnN/LLF0SPHDx44LBVJn3CaGM6sqZFSuIcN6zdwY7Vq1lKeiyAzypYpt2D+QkjVW97s5Vd4WiBt53X82PG2bdQEmQ6QVnLw8vSicbAlVPHOHbskvxamOUBFfIGOInRCtKAfiKdkU0ximlRR+MSAYjaZJAiLFytOkIsks7xjid4OCgxCHQkdJccaUmF8hX+ICCfcfP8BM/b38z9/7vzIESOVV5309Qz1E4u3LPUSG+olNuCfSUzk9cETV6tafc6sOcgt8UAiylvYX4CaIPsT4efrR7DRtUvXrJHLvRcrWmzMqDHEdcjiAP9AsSLMFxSLFAm/wnx37dwlzzAC4hVLafmweCbIIkfOb5Agk9ZUDvQPxP307tlbXk0ZudO4UZNBA8WsmTKlyigramklyJ58aUvQr4KRjIgk8mzSuMlf6f7HaYsXK9GpY2ckV+dOndFY8rXkBNnaNWtv37otT40RrjruV3we+pywcNHCRQRg8pmJo9A3kyZMatqk6f/+EjcAjAyMuumcIBP5BRe37dt29OzRs1zZcsp6E9mzZafHOfnwYcMRfNWqVksbuX5T4QKFNAmyx866J8i4kLen99Ejx1q3bC3PuQV0B+Jy7uy5MC9Ck9gPjUgPwr/ItaDA4AC/AM8nnvet7xMlcjPaa0iJld0aN92xfafjw0ffMgfwZwFHgu2NHzdelubGRiZi6sfQ4Uh5/ArBDDqAHmTYYmNyYVQyAOXymPLIyemRk4uTi9cTL+yK0Y1BxtzXESLz7u/rzxVR/AhfvkVxdnJ2euzMSThV9MLnzo+dKfZ2DkTjs2bMqlG9hvxACZQsUXLI4CHEADbWNr5PfUUXaAELR+tfs7gmL4hDuGIqvTpH1xctXLRTh07Dhg4nAmnerHlWaZqnjH+q/LN+3frI1WpjTZBF1pH6PnF/cub0mdGjRnfv1p0AAHPatmUbn9y8ceuBzQMaDaPy9PCklai+u6s7TUp1Fi5YyKiRCUHWBHBF6VKlZVrw9wtAUv9GwaGCkOCQe5b3li1dRoMMGzps8aLFuANhUXcsMSd6/6nPU4ZYcFAwo4x2Rn0+fvSYA2gQAgwlVEYb5c+XH/s8feo0AUaMU49pn9cvX3Oep95P6QXJtGIvGquj8Du2h/DdvGlzl85dlP1GjI2MW7VotXTJ0suXLrs6u2JFURJkBO30KayL/UiUlVq8IaVvmC9PvsYNGw8ZNGT82PG9evSqWqWqYqvxTpDdu3tv3dp1Pbr36Nm9J03B70cOHblqbnHf5j7jkSpgUdCat5c3NMU/Md19e/f17zdAnr4HZH2ZJVOW9m3b79uz79HDR19KOgQHPbtz6w7B/IjhIyiEpgR+Vy5duXtHs94HHcdAowQHipU+CLQc7Bywc6LxCuUqKI+yDA0MCxYoOGP6DIycjnvzSnqj/3ejRxW6IuLji7AXGOSM6TPhZNkGQMUKleDnjRs2oifvWVo5PXZipBOB4ykwHgY+dotdKfYj87OMzJkyz5o56/q1G7DEbzSXFqLAWxFIo/e6de02eNBgaHDv7r2Q253bd1AXEA7jiIozlPiJVH5w3/bE8ROTJk6qUrmqXHfkEz9TpUxdu1btDes2WFvZSBudx+wIoiTI0qZJW7tm7enTpqO38X1cEabCjdL4lCjulSJ7WGgT8kT5I62hUxyfJvLUhjQBH4qAagTNRrJotOIiODZa4XMsZO+efbQMolG+W+ix/r/158yec+7sOVrmmfxqiFZf80UpQaaZk4V19e7VZ/Wq1WfPnIWp0CeIEPmiMRVRL1rb1cUNbsTqIF4RvMRkSyJyef7azzfAzcXD2clVKuIMFLnptIv8uVK4c0j14vmLixYurvZPtVSRS8vlyZUH4bpj2w4cn1hJU5cJ6T8AaoJMN2CKeC74R97xfPGiJag7oqqxo8eaXzGHwTTHqYgvUOyMMsJSlJJsh0D7wV7iROLNdPnpdaWKlVYsW4GigNPwI2ItlzeEsZ90uAb8U8qU4TWIPe/esVw4f6GyFqR+YgMDPTGJTKzQn9iAYmKkES1lSpedMG7ChfMX4Dc48EspDm2oCbI/DxEfiVUwWWW3mhTJUzT4t8GSxUuuW1zH2WBzscRsnxJkO3bVrJ4ACbKqlav+RgkyqkYFGcBLFi3B5XDPROMF8hVAJ6H2xo0dX7Z0WSVTngAJsnCxasyli5fGjB4jP7YlzEZwTBg/AVk2aMAgZU5EgiTICFARHERfnEqePpbh74ytWraeP28Bl2vfrn2GvzVr7monyMJCn/PFWC5HtEYjEKCaSHPr4MdMGTOVL1e+U8dO06dON9totmH9BgSfvFCRfP5C+QqMHDbi9PGTcUqQ0VbE7fPnzVceYJoamxK44vB27dx96+YtTMvHyyfkmXgnlCbCO77lP2ll08CAQCQ+Wp+xoL3rQuaMmYkn796+y8l/u/k+coIMaS6/62dibFKsaLFRI0cxeFHzDHZUXVBA0LOgZyhXuYQ8C2H0aUpIKF4Kg0d3vnz+EqUuIpkvgzFLq+J7OJiAim9hG3ydwqm+VJ6HPueiCNxzZ88PGTQkV+RMbLR1vbr1Zs+aTfSFZhVx1OdPhuk+5LXZJrMG9RsQsfOVZEmT5c9XgPiB8bhi+cptW7ctXrS4e9fuiqIFmgTZPR0SZArCxUOFu3fu7t61G5W52WzL6ZOnb924ZW+nySlgPNyeKIE0YgjmRN3x8ZcvXp4ze26pEqWSaK3lB9/26tHrwP4DHu7ifdUYs0K/OBjRuACkxsEDB/fvO4CmsbxrSSTj9cSLVsWc6P1XL18xsuTxxfE0Dp1IqDx0yDAlswNomXZt2m3dvJV4TMQ20REhzJjzcEIaVrKl2IrGYkOf07bSuA6CrpcvXY6j0VxSyhT36dUH8+C2iSWkJcM+G9iIYyrVt3dfZT3+tKnTVq5YmZAYSt+8afPO7TunTJ5at049ZTZc/BJk9L6bi2hJmGfTxk00JtL8vvV9WgMZ5/vUV7RnsLAoufqcGRt76ODIzXfs0FF5cVgGZDVvrtiqiWNEtBaNrDgJHUcwf/jQkWNHjhF4P7j/gAiQSB4b5uR0FoWRztdlhqQ9CQ6PHDrSv98A7SUdkydN3rVL1z279ri7unNaMeVcB8Wp4ncEAxO/efTI0ebNmmu6X3pVsF3bdgiDc2fP2VjbuLq4+fn6Y0JIHY4nNMKKsFjYgD8xmhgd+fN+GvhJkySFpY8fPe7p4Yn9CP3wOwAfx6i8c+vO1i3bNm7YhEeQ2c/xoSMuzN8vAP6nEV69eEX1hSt88TIkOAROOHb02OBBQ+S5Ywr+91f68WPFzpI+0ta3kEb0duBz7QQZGgmdPG/OPLrD6p41lBsUGMQglckhim8V5VkoN8AB3An9wiUQsTGEnRK4Oh2HwudsOHG+8sWCi3/+QlPCBC0jJNBXMHm9uv/KtwqMDY27dO4KuaFLkSIcKa6rdWlNgizSQaOZBw4YuHXL1hvXbjg9dsbtYj+yFIlSRJUlL0P7cD/8wp0L1v0SC4VDttTu3cvnr1+EUUGKVAVJqEQpfPipds9fcDm8PLQ5buw4RQMDaRGVmadOnnKwc6AXdAl8fgTUBFkskMyPUUwj0Ke4vzOnzixftrxH9x6lS5VJnix5vjz58GunTp5mmGu+oiK+gBaIyMaPG1+4UBHZDoEydwHgRIgHZfVes3rNzWabb9646SwNfCEqvjSglE589QZViZaWXk0QOTJDA2NjQ1MDPSN9PSM9saOlmEQmXSpRrhy5+/bpJ1ZSdnEVQasOCk1NkP1xINK4fevOlElTCCZluylcqDDRAj7J2kpM04g9t6okyHYmVIKsyu+TIIsQ7/uI1YgOHu7cqbM83QmJ07hRY+LwDes34CzLlimraKBvT5DRWQ72DmvXrG3apKm8yXfmTJkZ5KtWrtq2dfuI4SOUd3wSIEEWId5PvGZxbfq06bly5pJPW65suZEjRhKMwVy4jYzSAkzg8wRZmCTsJNqKCcgLAuk6tevwxWRJkmle7Rk5euWKVYcPHb5ySbyGgEhq1LDR/6QpcqBQvgKjh4+Ma4JMiPjDR7EiZWk21EyL5i1Wr1qNisU4fbx9qOM7aQktDEysE8R/H8Sb7TQ1fzW/cnXihEnK80+QxDQJLXDuzDkxNH6RKfQ6gzoilSZNnCw3LJZZvFjxMaPH7NuzjyAcJ4QWxMdgLYxHTXknlchfCOBpJZoo/EPEZxYVyxDnqHAhtZUiJkWLM8RcOD8CV35rmwBMXk0AEO336tELbX3r5i0P9yfRieV5qHhVfOqUacWLFuf4DOkzVKlcpVvXbtOmTINYCNuuXb22c8dOBHdSacEmGXKCTChFeTsn3UBDPXF/wuW4Gfjz0cNHDGoh34Of4cjltpLCQpFfwMD4JyEEzhsL79K5i7xSobyhNZqgVYtWZpvMHB8+Ipr6HRNkjPdnwSEuTi52tna2922ppvwAPzQkjNbAnGRr0TYALIoIysbKBjEqr31JO0htkrh2rdqE2fZ29kK4fwnCqJTZ9ZrC79qGJBc+51oSI4kxTgdZ3rFEoimpLmK2kiVKTp86/cTxk4S13LbmulojGypgjEDmsnTLljVb/Xr14Vso6+CBQ5cuXLpw7gKcD+UqKar4JcgYKURWmBMB4Y3rNzDLx46PacxA/0BoEwsnPJMDP6rDTwrNS+PfvH5z/rz5xYoWk5tRRlLTpGPHjL1w/oK0pdpLkbT6HLQPfeTi7Epr29na48cJEoKDgtGLeCjNPdMO8vekNseS/X39cSsL5i+QpxXLDk5fTx/GXrd2PX4cUtWxvip+R2CHjPRFCxeVLa158qSXSC9vnrxjRglXQgiEIWGxjH1Gn7AfqUiDUVgsNuzs5Awn4/fTRM4fx27btW23aeMmCIRBypjVXOyXB57I3dX9zu07N67fFA8GpMWkGSOQufAFkhulHRg7jCMoiH9CCFQTX1alUhXthyUmxmI3cAI8F2cXjtHMxP8cURJkKL0G9Rsw9k8eP8kohr6kZhcCSR6t2kW473cfxC8iL6blvr8E6WmE/F2ZXbl/UbTIXCmif4U8EAqBOgYHPbtvc1+wROTqFlBEgXwFYKRDBw7BNpAStxrlHqIkyEqVLDV44OCd23fevXPXy9MLEoPuIq+iXaR7UwSJqLuovvSPL4Jjwj+IEqEpompRfIo4szi5VOvI8vb1W28vb1x57159lFmQaVKnQVsiudHMbi5u0PXXm/fHQE2QfRl0LsKM3sRWjx87gfAY0G9A1cpVcfHy+0CZMmTq1KETfhwNoPmOivjiWdAzC3OL7t26Ky+riW3lxAJhieUiPpCQOlXqDu074E0wUUJsRJF4eh3FSvmn9icR4vkirGJ+xXzkiFH584nJIsZGpiZGSQz0jMQ8MvGupZhQJi/bb2psimIx24jwdgwJDhGPY782CuKbIJO4WGJSDf/CYgQbMpfx+Sfmigf4oiC7z9siEpyZi+JIuJa4XEyPXD5DJHWKE0YDn3MG6VScUHgF2FCnO5duEhrl63L15SK5RvyG8CtCZep2Ko6XSDmmW9QdcqdIQYJoE/nSn98An+PFz54+O6D/AGMpEMVG69SqM2XylKOHjzo6OKKVY58mQzP+sQkybgk5cvPGTbF8W2QOhVhr1MjR3DYiYNGCRcRUygzSb02QRYjYCaYeNFAzUyxl8pTVq1WfN2fegf0Hjxw+Mm7MOCUx/+0JMr7Cfe7csbN92/bySvmpUqbCxeJCTp44dWDfgV49e8U8g0yOjr58LUxu967djRo0SpkiJbFxn959li5ZdvDAQYurFrYPbDEDhOZms83Nmjb7nzTRCRTKX3DMiFGnT5xykRJkuuxiidVxqlUrV2lvM1eksFhM+vDBw1b3rKmdeJdKmqUic4ImDpTGBT9fvXzt6uK6e+fu+v/W13xfepmoc6fO3D8aSE4Fyl/5LUC9cPOTJk6Sk7lYZvFixRGs9CYtj3UhlcRojdK2/FMuX0K4WFxA83tCABNCr8ydPVfZXC95suSVK1WePm360SNHbR/Y4QVfvngZhcOxK6x91MhRpUuWxnKaN20+bqx4Qw3dc+vmLdgM8X3q5CmxQkHkW8+gapV/iOoJ6nyf+um+Div1RdxjP/5+/n6+fqhhZBahS3QvKxhYInO+Qgvfu3tv9qzZUAGXplLoA8KGhg0arlyx8r71ffgWj6n55m8FakcL0AVUgZ/Pw17QGrB6jH5WxptXb3AcRIP1pN2TZQcEKlaoNGf2XGsra7pYc+i3QR7OMp76PMUG2rRqo3BLzhw5e3TvQWRO2Akn0JXC5QGtfvT29N6+bUe+vPlMjEwy/J2xS+eusO6unbshc+6TuPTu7btrVq8lQJL3MgPxS5ABjBC5xjj18fLBtAL8A0Oehb568QpBJcsJhaYUYF2ISFxAx/YdtbfSMzVJMmSQtKXaE08xTzbGlWilVUSx5MCAQK5LmwvdIlYV/MKAD/9I5z5+5LR96/Ya1WtwFcmMha7ln0uXLLV7YCfJht8mwaEibpD28DW/bN67V2/CSMnQxHPBJo2bLpfeiHF67AQrRs99aANFd9X86pRJUyqUqyAbD6hZoybcePXKVQbpb/TwiUghNCSMocqY5c4JAp+HPkcVa5ypzD/aVRHu8gPuxvzK1RHDR8iBnDyb3sjQqEvnLtu3bX9o/xAWJSaUz6CNqAmydH/hPubPnX/65GkED1dn/GoOTRAgB6SsUCy9qUAcyf1KoYfvU1+MASNR3k35O/3fTZs0RexdunAJZSX0BjJYOl5BlAQZrnzwoCG7duzCQdO24glWAhoFp4rGpboAin708BHSonGjJoT38q1Wqlh59KjR+/fuR7pwq7Hb/w+FmiD7AnBSOD746vy586tXrR48cHDdOvXQA3ITycicKUvXzl3xod5e3pqvqYgvAvwCzp45i6eQX0jSS6xnoG/AT4q+tIul3OaAOHr0yNHIJztbO1oego0aYmCxctEC5INnkVdUl1foNjVOYmqcVF/PyEDfSLxlmcjAUN/YxDiJkaFQm9DL/HnzGbAiAff5YogxIj4JMhEqvHiFJMI9uLt5eLh7uLq4PX70mFAZFfXE/clT76eBAUH4DIIHpGd0xo8FHIy4RLdR+EWqg6ZJ+BMDmzNzRWcn58eOjzF0rydeWHwMNCpRNl+Xz8bdcthrsX9K5HERYt443gUpKb/AzzndXMXiROj+2NUtw4wWwJ/5+wV4eXpB/WKxHul+OImnh6efr7+QuZL6FPFPlHuT+lVOANGYRN34WhqNb4mIC00c95Ap/IPYcotqchI8Mb9QcZpLvooCqkx99+3dBwXIz8b1Eus3ath44fyFYjUW6TFI7P3Fnf+5CbLwCExl65atBHiyR8+VM1fXLl03bthkfsX8/NnzK5avLFumrLLT2TcmyF6EvXhg82DRgkVVKleRT5gvb37Uw97de69cNofip0+dXqJYCflP35gg4+DgoGc3rt+YNGFS8WJiPk7qlKlrVKuBfj165OjNG7dEUrXfAGV13ihrkMU+Xl48f3np4mVORVw6dcrUzWZbLpy/KL2U4frUx5dBZPvAdtfOXS2atYghQfbI6WXoc5Eg+xoggbt37k6bOl2ZGpkubbpGDRstmL8A3ebo4Igy+DS0aZnojRMhnnigYvv26ZdW6y3LunXqouG4SchH15fyfg0wiLy9fCaMmyCbq7GRcbEixcaNGXdg/wHb+7ZSVCOtgfWzh5q3pzeuET2XIb0mA0vYzz83rN9AWOXq7CqCB3zB55wAxeFN16xeM2rEqAH9BxCrw2wMt/s2D9xd3akdZM7AHD9uQrLI3VdB1cpV161ZZ3nHEkEvHIfuYDxJ0wG4E1zAV54DSZ/D53iE9WvXV65YmUvLCTJkAURH2EAMgEX9xpmFCBH4QTX81IVtaD065eyZczAVraHQPo0zd/ZcWiPB8yzIDytLqzmz5mhvoscQmDh+4uGDh+WF7YSPjkZf/r7+kMbIESN79eg1YtiIzWab0XmWd++5OLngqfkWvGe20ax1q9YK28c7QSaa8d0HTBG7gl7kdBVfj33GBwqPsFnZj1JGEtMkAwcMOnL4KPeAIxadEiM4saxAcNRf6zWAGSO6jh091qB+A66iECxBF+7pvtgWKkTjcVT854CdIGAQZpUqVpKfnIEC+QsMGzoMvrW8a4kIR7DFnqZ58/qtg/3DlctX1qtbT3nFJk/uvIMGDCIWlYbMCxhVc/QvD5wmAxZRx9BgzEYO2Ng8KZzw4P6DmTNmQRTUXWY/dFSnjp23bd2GcmYQcc7o4vlHJ8jiBOorFcY+EdDa1Z9WbgH58uRDNCLt7t6xJOiFkQhAoniKGBNkBBfYFaqAWCN+Ka2EBeH6hXMXhgwekie3Zs1ffT39li1aLVm89NKFS7h4euEX8uN/bIIslkpFiGmwRBwW5habNpoNHTKUBvk0m1VP7KEk81KWTFm6dul28sRJYhPNd1XEDxEfn3h4HjxwsC7xsrTIoF5isV2VyI7p6Wu/aAnq1K4zZ/bcSxcvPX70OMBPzIqNYeBH719p/7cH920XzFsgP1xPYprM1CSZ/qdXLPX1EhlI08rEA4lCBQqNGT325o2bxMixzwSSoXOCjHt9H/7u9duggECnx04E4efOnjt86PDunbt3bN9JxLt+3QYCFbNNZnt27eHzUydPEaggIpGSVFVH5fTqxSs88TWL62dOneEMeAVXFzc5Mc+Q5lQM79OnTu/cvnPTxk3r163nJx76qrkFDCU/flEygojLF2EvnB47Mx74Cr6E++EwgnmOwQkF+AfaPrBD9e7ZvZfb3rRh05bNW/bu2Xv54mV8FUo9usDFD3EVWJtgmxaAMY8eOcZXtm7ZtmHdhnVr1xPOmW3ajD84dFC0wDWLa7QAIUHMLy1Ky727ubgRASI9Dx86cvrUGRsrG9TGi+cvlIroBLFEjr+1lTXVOXbkGBqdS+OuqIXwnVptjwN2fuxMZZs1bSYbKNSAyl+1chVG4+nhiRePEoVGwR+bIMOG6f3z0pYZkS9MJa5Vo9aMaTMwsPs29zFXIuFyZcslSIIMA8Zcd+7YWf/fBvIK67B5k8ZNli1ddvnSZezkusX1ObPnlCopZqaAb0yQhUnvUPD1Rg0bydNt8uTK069vP24Aw7C3s7986QpaNv3/NAmsTwkyO4eQZ6Gxp3S5GXmJ7t27duO2GeCMC88nnkEBQdgb1o6t7t2zr0XzaAmy4yc1CTIdpHNIcMiF8xdHDB+hTBfKny9/92495Hf0sFiGg0iyxMpF2DbjaPSo0cqUYFCsaPGJEybSv9KD7t9KW0SI107HjhmbTHrHEMssVlSTIMOp+PuKx/6xy/ofAByV7QNbVHLhQkWUyQX58uYbMngoztXG2sbH2wcjiT47id7kT+ZXrh4+eHjfnn0Xzl+wvGMJe0DR9DVfwTJhQvouuVaCrErlqtj53Tt3fX1845nu1Lm5cCJIhK2bt6LGuHSKZCkSS9PL69auu2jBoju37gT6B/7GCbK4Ilxsf0k3NW3SlNZQXkWvUa3GwvkLpXRhoOiRBLJGrCUoMAjf2qN7T4WTIa56derBorIUCw4MRlpEd1h4MdwTZIU8OHTw0M0bt6AsdzcPhgwSAvcEOW/bsq1tm3byexkg/gmyeAG5D1PhjKKs6zSw/0CGA5GAeNaVQBkHTJSBdvLEKSJzriL7aywZUbt0yVJGqEytUR/5qvhPAH5G161etVqWPTKQbXNmzUH5oA0YFPjN2FUfJoQK2my2GQ0j7/FPjGRqYtq8afNdO3Yx1hBXvxcTIiQYX3JeTDimr7EWyoFqQnTye8ryfheG+oYd2ncggLKztX8WJJ70R9e9v3SCLBJ4WwKZMaPHKPt4gEoVK02fOh0jeWj/EFGK2EAoRmmrWBJk8iuWMYROPxJSmAalr1m9tm6duvJq4gDn1U9anl9+FRTCF88zfhGoM8gURO474eLsihQk3kTb165VO2+efCmSp5BbBhgaGJoam8pTRrJkztJNSpD5qmuQfRsY7E6PnJBJVStXlYMypK8+/yVKrJdYXy9yI0vAh40bNVmyeInFVQsIQUw11dlEX754iXtC0ZUvV55TJZUTZIkN9fXEIv2JOXcifWNDUxNjwUuIpWFDh181t2AU4G6iBBTRoVuCLPzj+9dvQ4NDPNzcb1y7vm3rNlhv2NBhvXv17typc/t27Vu2aInbIz5v1bIVn/Tu2XtA/wFEZZs2bsIoNY8OPs/UxICIjxx58cLFaVOn9e83oH+//nPnzCWo9vfzp7Geej+1uHpt4YKFgwYO4ootmrVAZBNRd+3SddbMWUePHCUuQqUproJoysf7KS6Evw4cMJCzTZ40+eyZs2JBWWmmFWH/2jXrhg4Zyg23atm6ebPmbVq36dG9x/hxE/bt3Yd0hvEVasYXQu5oRCTpyeMn4UrRAkOGUVO+zhe5mSaN+F9TWqBDuw7dunYfNGDQ9GnT8Xx3bt+hXji56GqV6OjM6TMzps3o17cfjUlsv37t+mtXr/k+jdt+KK9fvia62LB+w/Bhw/v06jN40OAli5eeO3vuifuTKNnJN6/fEovipNE3kmUKaujSuYvZJjN5SjONE3tiBZP6MxNk9CBWsXzpcjyNHManTZ2W0AvNh490c3GzumfN74zSBEiQSXnxy5cujx45WllOq3LFymI1h4OH7ts8cH7sbHlXrEZfOnK5h29KkIlM/xMiya5duimJIfpFM/fqoSOjhoE8aODgGHaxtHMICf6atJWe3nh7+Tg9dqLTMR58D9/COMV8nDfv4MT9e/e3aN4ySoLs1PGTzrolyNCpjLKDYhP6noo5lS1TdsSwEVjUg/sPYANN1Bprm6BQHz18BAXly5tPPgnIlDFzvz79GKoe7k/EW2C/lmF+Du7t89ujWdAEkS90GBcvVmLcWDlB9uAXSZBh6pgZDkV7cZaKFSrOnjWbz7GZ4MBgRl/08BsuevPqDa7O1cUVu+Knt7TWOCdE1GKT/PKlBBm0LL3B8X1DC8Ygt7R9m+bdNDSZnCBDoi2Yt+DWjVvSg6w/JUGGpdE7p0+dQQzRGrJCgi0bNWy8YtkKK0srzQzNBLLGVy9fw12cuVaNWqLjJeTNkxevvXPHznt378mBjWh/LcsStBku3qLCeMTsckFZ0uYDvv7IBj6EyRk1hEycBF+vvFD/QxNkEUIX4spHjRxdQHpjS0aypMlQOyJBJk26hF01x38bkC6InyOHj+CguYq86hmRsLwEzwObByhaMULjPvNdxa8P5DcKZ/q0GQqLwmNo3dWr1ly5bI4UeSYvXBDrsMWEAvwC9u7ei1pGc8KB8jObypWqrFuzDmcEM3z1JL8WpGlTQqbqds9ob8hk8cLFyBIqLm/lJCfIzDaa0QIiyyxPsPocv36CLPxDBFS5c/vOtq3bKksi/p3+79YtWxNk3bx+08PNIzQklP6NPitWJMiWrUj5qybI8FlBAUF46qGDh2rP1c2cMfPUKVNPnThFyINhE4J9Ndj+cVATZECa3o6XfOLheeP6DZz1lMlTWrVopWxrpkBfTx9GMjY0lk1XTZAlFAim5Dc8ihctLk/HkVJjQvXJy5CJ1pcADRL9rVyx8uaNm8gn+VGB7rzq7OS8etXqShUrcaqkSZKbmiTVSyzW5v8sQSbNIEP+DRk8hMiaaJRLfDWprVOC7O2rN75ePpa37+zbvXfKpMnVq9UgaE+aJJmpsSnq0NTElGiZalNnfT0Dfpc/hMerV6s+aeIkBDGOAbkWe94EMYfSWrJ4CTRkYmySJlUaIpnFi5Y4OjgiT6nS1MlT+RMXNdA3xKDlglmXKlmK4OrsmXMe7h6MfDneQ8U62D9csnhprZq106ZJyy3lzpl76eKlxEWQtfkV8+lTp/9TtVq6tOn4E91D/3E2QusUyVN069qNwAwekR0PHgtyd3Fy4UO6oVfPXtmzZU+eLEXSJElNjEyoL/fDGBOzNA2MOAM3TyCaLGnyjBky0meLFi66cvkK/kPkyLRiUXQ5N0x9CQVTp0rNt/5On6FVy1br1q6zt7MPCwnTMUMELz/1frp75+6O7Ttm+DujsZHJ//76X8sWrbjV+9b3EfTazf487IX5ZfMhg4YoE6GpPsH/nt17uKj8Xq5wSF++8p+ZIKOzCKfPnTnXrm07eWCnSpGKgTBn9tyTstaczxEAAP/0SURBVI/0D8BQd2zfUaF8hW9PkHE5aMJskxkyVH5mZWhg1LFDJ6IRpBJ/Iuq2sb4/b+68BJlB9ubVG+TI3DlzlUfEhQsWHtB/AFZhY22D6Xp7eSMRMJu/IhfRVxJk9nYO6OOvRmL0JvYPCaA2+InfUlae5ruIpH17Y5hBpnuCjPpik2abNjdv2pyBLJ+kSuUqOMVzZ885O7lI6vPrnCsn2latXF25kngnTka6NOm6du5KfAgRY96/Wuo2djxxfzJi+AjohYoQ05YuVXr8uPEH9h2AbP1+gQQZneLm6r5p46bGDRvLThTkz5sfmt22ZRuBGeb3PPS5MLAv3CRdRi1CpG03Xzx/gTErKafnYc+/mCC79TMTZPXq1sO1UTt5qGqO/q8D7wx37d61p3YtsV8HoDWyZsnaq2fvzWZbrK2sIYcETJAFBz07e+bswAEDc2bXLDKCRBH7os6cjVpweuQk+7soEekn2pQePr98/hJfTJwGffFPkfaKENE+wRv02LFDRxyofPIfPIOMW6LFGNr58nxK5SdLmgz9d+zoMe4B0fJVWtYRr16+xlnjj/6p+o98IYZqzhw5Bw0ctGe3cPqwq0Z6qfiPIUKwKPJ7xPCRylYn6NU2rdts3bz19k1pa8LnL77qExlWjCNigb59+qLhOYksbMqXK49K5zyEowpv/yfBIGKkSA81xatA8l40yPUunbvQkrYPbIMDhUSJQkfg10+Q4aBvXLsxedIUZXl+4kG4YsL4iXCRkkISUwSimQnabPmy5b9sgoyro04RurVq1kqZXPOsOnOmzO3btd8sdty7hf2HhoRJmU3NN34+1ASZNKUR+6G+RBYTxk3A79MU8o464v0+PfGiH7+LlI20LKyxobG8nKhIkHXtdurkKd+nfppzqYgX4PMH9x8sXLBIefFI5En0DeQ0mXaCjJC5Q/sOmzZsor/oNTyF7tKFq3i4e2Db8qSfZFKCTGxemfhTgszI0NRYWoMsV85cA/sPRP4hkAhCvyrSvp4ge//6rZeH58Wz56dPnlq/7r/FihRVVqAAKZKlIHpMlzZdmtRpUqdKQxyiPEAAqVKmKlmiVNcuXXfu2IkDiD11gm+4Z2k1a+bs5Mk0wUzxYsUnTZx04dwFPMG4seOKSVuVRQcKtUL5Crt2inna0gNhIWGhADtbO2L+cmXLyYcRnEyaMOnwocNnTp+ZNnVa3Tp1uW35T1FQp3adPbv2uLq4yi3IT8eHjgf2H+jfr3/N6jUVtQ1MTUxTpkhJNal72jRpKVxF8zcJSUySVChfkZtHGchKghPKLpBfiNCIDOvWrqvYStEiRceMHnPpwiUITqxnqQOwJKfHTiuXr6xZo6Z8HqywaZOmq1assrK0IgZ4p2VqgQFB+/ftb9a0ubL3Vras2caOGXvs6HHnx+I1VeFrY6XOPzNB9iz4GdHIsiWaaZygWJFi/fr227FthybnHfzsseNj7DwBEmThYtvHa1evYTZFC4t1B7HwEsVLEucfPnTE3s4eKenn62/3wE557xrEO0H24d0HXOahg4e6d+suB3uy/SxcsFCztGpAECckmB86eCjiTL5c1ASZDtKWDkVGoJP4iYUoeoKB4Orsuu/bZpBxAw72Dxnv8vsLMtAEs2bMMr9iLpIsuoWsNJo8Rtq2aadQGWOcfxIPi91Pvpbo/9XwxMNTJMgkOZ7ENEmpkqXGjx1PBe/b3I9MkOmaSP0eoD1vXL8xdMjQrJmzKplNiAWKVl7NiJ7F+AxSwgKDp2AGgmAjqeN52IsvJchu37rz1Pu7J8i4Ge1XLLmNxJIaa9SgEfxMF2jmTfwZCAkOsbxjOWvmrJIlSsp9gQMlIpKZjb4ODgpOqNaA1p64P1m3Zp32ezHwG9oXHXbr5m10GHGdmPQUq/FjeHSiGPLah0WIVfMQCT8xQcbAuX3z9hAxr0GzLA5ImiTp8GEjEPcitky4RZ2Cg54RCk6dMrVYUc3WNElMk5YtU5ZPTp44SYirScb9PBpR8b0QLobt0SNHu3buahy5q0aa1Gk7deyEEyH+8fPVLd4WD61fM+5QRHly51GoHgEzZ/Yci6sWPt4+QkX8d00IToDwZ06fKa9BJqtExlGvnr1279qNtBDP8GLydL94ggyio+9279rTumVr5U1J9GHbNm1XrVx13eI64St6XqNIoyEyQabJPf1qCTJ0+43rNyG67Fmz47jlmyxSuOj4ceOPHz2OCMf+iRB/LdP9gxNkuCEiUKpPHLR3997p06Y3bti4UMFCimUCfT0DtL12joZfjAyNZVeOEJUTZDSU5qQq4gXY7O4dyxnTZyiZZVqaQSRmU32eIDM2NO7SuevWLVtxKE99nsp5Es1ZvgaGHvHdpo2bYkqQiV0sKUaGJvIi/Tlz5CJsP3XilIuTS1io9PZArPh6giw0+JnlrTsL586vWK6CVBcBvUR6hgZG2bNlr1ypSu2atevVrVev7r91atetUqkKtii/bqogdarUA/oNOHTwMEQJ12vOGw20JqMXZ6nkmMqUKjNs6LC1a9ZNnjQZ3pQ/jAmJc2TPYbbJzN7OXonV3755yz/nz1tQsYKYdwdSJEsh3j1ctASBXq1qNWW58Sig2+rVqYeGfujwEFp/8+qNv5//hXMXxo0dlyVTFs1B0hMSOJ07rP5P9Vo1alF3vlW7Vu0K5SpkzpRZc1AkuHkGqvS2qQ8tIO4QvR0egUA/f/b8oAGDiBPkI+VHc9u3befmUcDCN3yNyAhx71laEU8qUQfjvEvnLlvMtty3vu/vFyASbdJJiIRxOQSHlSLbJFnSZJUrVZ47Z+6F8xc83Dw0FhPrFf/ABBltQn2PHDpCq8o2kP5/6Zs2abpo4SLa7aGDIz6SrnR65LRj+45yZcsp+5rFJ0Em6Ugut9lMTIaSmSVXzlw9e/Rav249OpKoDyNHSxFPLlqwSMkHxS9BRiOj2x7YPJg7e275sprc3//+Ss+427N7j7WVNVUj0OKK9yzvDR0yVMkpKwkyB50TZIBbihpqSpPYXV1c6fdvSZBRX2LvIYOGpI8UBAxl7HPenHnoGziXYaKjRYWFhF28cGn4sOHKahrJkiRr0awF9C32awuMYXXCXxlE8qNGjJJ9PzxTsnhJqIyhCmmga+lc+o4uoGs0BqNTIyUMCOC5vX1799etXZfbY+DgWZInS9GhXQcs+dbNW+6QUgh8Eus9cdeCTqU7V36RgG3/3ATZm9dvXZxd1q1dX0lapF/uBcZOq5at8OgO9g/FJKY/I0HG6EMAHD50GAf3d+RWDGlSp0E8LFuy7PKlK5pJT7oxyVdB19tY24wdM1beM05Gxr8zjh0z7shh8ZgBkhSTGqLRkU4gAnnitXvn7g7tf9orln6+/pcvXe7bpy/iR74BAD+PGzv+/Lnz2DaMlzCxZcRHOu7QgUNtW7dVdjHG3dT/tz6Rrfz4gRDxq28rqPgdgVMIDAjC96HNlBm+6dKk696tB6YuVvHTWtgkdiD5HB0cETboZHnNZlC8aPEpk6dcunjJ84mXSI4niMX+kggJFnsuTxg3oXChwlQcT8fPZEmTi3eiD4lFA9FR+AvhhT9H1ARZ2r8a/Ntg3tx50rsLjtLbzVqbcf3wBiQccLB3QGgpAQgxFDc5ZPAQPLudrSaFJFZIiIkhnJ2ctWeQlSpZavDAwQjLO7fvIpuJJoRH+HlWgZs4dPBQ1y6aPc2MDI2oXY1qNfBZV69cxbk/C6LX3sQ4Oe6n4c9MkIWLqN/H+ylhy7Gjx+bMmtO5U2dCMLn62oiSnZFBz8pPkbNm0STI1FcsvwkRYk15iGvC+M/kN40v58iiJMi6d5PmW9iKFS35ou5yAn7A2s02bZYTZGINMuOkelKCTJ5ERhEJMgOh0xBLvXv2Pnrk2GPHx7qoza8lyMI/PvX0PnvydI8u3bJnFosTQXxFixSrU7tOh/YdRwwfMXvWnAXzFyxZvHTZ0uWLFi6aPXP26FFjCHQLFiikzKNJnEhPTOWYOfu6xXV/P2nvgJjw9vVbgvBZM2eliEw3FitSrF2bdv379q9csbL8hCFtmnS5cuYqUqgINFqmdJnSpcqgSv+p8g/8tX/v/ocODxVhiqch7MeLyC+mAoLD1q1aY/p4ejmFB+VlzpS5UMHCZUuXLVe2fBlOWap0lcpVBg0crJktIm1DCYPj1AlpxOuTRibZsmYrX658o4aNkAiEXnNmz1m0YNGypcsotMD0adP79e1Xp3ZdRUoCbrt+vfrr160nKH0WHKJIZ7oHET93ztzUkbtpAOo1Y/oM4jqi+i89dVHAXxEop06cgguUNC2B/ZBBQw4eOEgVEDciQSY5GGjR6ZETzK7MquMm6azVq1ZbmFsgc3VJ3P6BCTJsQH7yqaQ+MRiM/8D+A/dt7sPItBtdSZswwkuVKKXoyPjNIENPXLxwcUD/AfnzaVZfxiQws5MnTtrZ2ospJ2/fc0uPHj5avGgxdyIfE78EGbZBOLd3zz6+K5+H2LVZk2ZrVq0h8kG0ySuFId3wrCJBFrm346cEmX0cEmQxIkESZBgMYSFGyHflxU0QoNDUkkVLYBVfH1+xf+XXZovIoG1vXLsxaeIkZaqsibFJk8ZNzDaaWd61pHe+xGC/JnDzY0aNkR/+JzFNin2OHTN229Zt9C9swF9DnoVgwPik1y9fQxGIjG/pzTgB6W9vZw9tysuyAPquTOmyE8ZPICC3fWArOu7Fy9g5MBb89AQZDQvD4/tKFNcED8DU2LRP7z6wpePDR/JrNb+3WtXh5iFzWIJhNXPGLO0NJbNkztKxQ0fCbzGynvphD/Hu6yjw8fI5cfxEu7btlCdh/NK8WYs1q9cQ2Li5imScCOzhlbhfkAGCu9y1Y1f7tu3RdvL545kg4+pxvwHiMdwNLh6BpLRn8mQpUC/oMYY24gE3nQCNKb1hh8ydNmVapoyZ5AuB7Nmyo2h379ptY30/0D/wt7dhFV8AlgZPojSUyYPgr3R/9e7V5+yZc67Orpr1YnQAp5Kmiu9r1bK1MioLFSw0ZvSY06dOuzi74KN/HdWX4AjwD0QKDhwwMHfOT0tZJU2SjIjpzKkzT9yf4IhjHEdREmRpUqepXau2vL04+tPbyzsoMChEWl4AqSan2GjGH9aS/n7+ly5eIupR3q1Jl/YvaQ2BxXwOGUqJvzdf4iKnx86ETkrCtGSJkv37DSDgwnE/fvQYp0CAAwUhTpDQ6FWxNIe80v8PQPhH7gExXP/f+nI8z0/ucNjQYYh/PDuN/zzsBX7k507Dj4o/L0FGF2AnTo+dzpw+Q9RPtJ41c1Y54SVDfrNP/l36RdObkUUPP66ZQSYlyE6fPI2EUJ1a/CElyOQXoZRISl+8YmmoF9MMsh7deuzcsdPB/iERbhx0oLTSHGHC9q3bq1erzqlMjMR6/AZ6Rkp2TDtBliVTlk4dO6G9iTuIGYUCjBW6Jsj69OhVsWz5gvkKNGrQqH/f/jOmz1i/bv2+PftOHj959szZSxcuXblsfvni5XNnzh06eHjF8hW9evbSDgngdKTq7p27nZ2c4fEYzY5Bi0qeNWOWMoMMwq1cqTLVTpsmbRKTJOn/l75m9ZpUb8jgoRMnTJo6ZeqUyVNp/WlTp61eudr8sjmSkWhK5PKls923vj93zmcJsooVKvLPPNIrCSmSpShVslSb1m0GDxzM2TjJlMlTCKX4SdUunr8osgOS13nk+Gjzps2dO3UuXKhI+XLl27RuO2rkqPnz5m/csPHQwUO4dg7m6ji/ixcuMj7p5jmz5zRv1lw7EsieLcfoUaNPnjjp9cRL8hZy14bL2bcihYtojpPGZ/eu3Y8ePsqfqE7sOlu8SOLhSfWrVRWv8ACIoGiRYjOnz+RO8D2whuZyUuQvvXb66VFPtizZOnfsvGnDpps3bnp7+WguF6tl/mkJMmIhnM3ePfswACNpahjMS1CHkRNoyc/93on99SKQAju27yhZvCSDX65OPBJkNAuiZ8WyFWVLl5XXjSKG7Nql645tO8Tyee4eNC/XQi7QeiJBFplZiF+CLCgg6Pq1GwyiggUKchKITF438NjRYw/uP/B96ov9Yz9INzlBljZqgkww2q+QIAsODD518hTsxHeTJ0suthPWM2hQv8HypcvvWd5DEwjb1i1BhkiVMvWzoQj5ZkCd2nXWrV13++ZtogXBqr+EbX4djFYf76dIcNmW+AnV9OvTb8G8BXgUdLmFuQWVun3rDtxrY2WD23j0UKx2j5fCvX3pqW9Cwc/XD0ps3LCx8oRAnpvJ4EJbuzi50K2Yn5zfjwd+eoKMkXj+3PmePXpmy6pZ3Q8pViB/AYYY5urm4iY56R+UjvyhwGzEbL4ImAHKggBvXL+xZvUaZIDydhVBUa0atXC4+FDYDJJJqMwscZT1Pesli5cULVL003sxhYqMHjn60IFDNtb3YTbdCSE6YABqhKNv920JMo4hMGYU6Jhi0CBCcJRwE8tXoLKUF0hRDjgms41m8tp2ksrUfCMegJaphbzCMf6oRbMW+tLmgyBVilS1a9aePnW6tLyjWJYx3i2p4heHUJjuT2bNnJUn96c3eWGzIYOHQNFCkIRIc3x0ABbFqEFaKDPxAWQ4YvgIeTIa9qaLdPwtEfERr4qKIwCRfTEwMjRCiksZ7avent60ZIzSIkqCLGWKlAQyo0aMgk4JQAg6rppbXLe4fuvGLSQiOg0uRZ97e3mLZwDf2cGhEBwfOhIKae/eToTVp3dfscPj7bs+Xj50K7L2S/zg9NhJSpCllr+LPunQvuPsmbP5Oi7S/Io5MTZVs7xjaW1lbfvAlstROwic2iXgA5UYgfq9cunKgP4DMmbQPBtA2zdq2Ijo78L5C1hsgH8gUpwx8l1vI874kxJk1MXfTyw4c+L4iYULFrVp1aZ0qdJKrWUkTpRYzstoJ2X4ODI7xh/0iGhkZSInyAifaSjNNVTECwz8s2fO9u/bX3lDTsRl/CdtYandF4ioXj2kN80dHIlJ0W+6DqgI4VaCAoOOHz3eoV2HFMlTJk7EyQ2NDEzkVyzlNBn/NJQSZJkzZu7QvsOunbswGATnNyfIPn4M9PW/bm4xY8q0gX37D+o/cOH8hdu3icjqzq07920eONg5PHZ8DPV7uD/x9PD0cPOANQjRt5ht6dWzt/bEqFIlS8+bO48wDOkWo0N9La0ULhJkkXFp6pSpMdYsmbPQlBn+zlC7Vm0iPbzC4UOHL1+6gs+g4KQvXrgEh8KbCE0YU3axDJsoCbIkpkkyZ8qc/n9/Ez/josqUKjNo4KBVK1cfPHAQH8OpLK5eu3zpMvEMMZXtAzsfb8HsyGgXZ9eDBw5Nmji5V89eKGzEIsH8+bPnb964yWHUlziH6qMVUMZuru72tvbc1dIlS5X8EcAsGLqIVwd7kUISlMp/0tv7p0+ebtmipbK6U1LTpFWrVF2/bj3+ICQ4RIRwXzaVVy9f2dnajRk9RpltlDlTlvZt269ft4HQF0ciP5WShTLVsbpnPXXKVCUflyN7jh7de2yVFsP2ferH2dQE2WeQlgNDdkybOk1efzRNqjS1ataaMX3G0cNH8dbSg3pphkv4xwRJkAX6B6Ig+/TqI+/olyxpcoTRogWLLpy74PTIib9i4ZwnARJkESL3h/UynOvUqiNP2ySe7NenH51y4/pN2XigKk6FdCPgjGkGWcIlyL5tDTJY9eSJkw3rN+S7jG69RHqQMja5ZtUaK0srfz8RLuoovhkCsOeihYuUp5qgcqUqK1esJFZEd35lSaxfCfCM1xOvEcNHyr7fQM8gZ/acjLIunboMHjR4wvgJWPKc2XNmTp85e9ZsuJ2QGxPatnU7TAijov8w7+8yYy5C3JuDvcOypcvTpkkrNzLIlzdf39599+zac+/uPenx7Ndf+o4FfP3nJsik5x9bqlSqomzQ+Ve6/zFOVy5faXHVggqKiY06TjX6tcGIgNLxNXhexhoERXSB/yKSgScRrxhYu7btixYuiiukHeB8mJ/YeOeOnfcs6WsfvM+3JHQU4DggQEJuqExeDlwG3mrp4qWwsYuzi3CLr98KQoiXaYkEmfs3J8gixFtXZ0+fRUjgfEUMqRtoarwSGmPkiJHybFkZhQsVHj1q9NEjRx/aP5SUgw6zuqSNCOgsDiaWlrsPzmfUw6j2dvZUB4rABylbASRLmoyOGz5sBM6OjmMQ4dqEs/49GFFF3IBZMl4QjTmyfXqTF50wYdwEFKaXp5fu074YbjAeIROhgbJJFIQ/ZPDQI4ePPHooVhD+qv78TcHIQmNPnzZdWWEZZMuarWvnrtu2biPwEQ8jw17gEzVf0ALDUztBxpDPlzd/0yZNacbhw4bTEZMnTp4yeQoadcY04c0RKoi6k8dPWt6xdHd1hwqE+PmagooPpOmlV69cHTtmrPa6OhXKVZg6Zdqpk6fs7Rz8/fy5/1ikF7J26ZJlqVNpEmQ5c+T6p2q1tm3aDRwwkNNSr6mTp06fOn3WzFnz581ftmTZ+rXr9+zec/H8RcJPdDVMqKOuiytoMcxVWT9URorkKYiYNm00Q2YT8HJ1JES8/cj3wp+RIEMtPAt6Bm9cOH9h2dJlvXv1Lhe5Sow2CMf0Eutrp2NkyKkxuXCMnLjh8yyZs3Tu1JloguBOcyUV8QKB4b49+1q2aKU8wyMu06elNa9YasJkYGxkjOzft3f/Y8fHQYFxS5BxZJi0W/3Y0WMLFRRvrwMjw2gJMn2RvhcJsnYddu7YZXvf9llwiHh+EOt1vp4gexX2wvWx87lTZw7tP3jk0GGcorWVDXE13OHn6xfgFxAUGIzchChfvXiFxkUWI61wBqtXralZo5ay+GKe3HkGDRyEKaMsOTL6bUGjYgVfrQSZDJqSQU5QB1ciSS9fuoLgJqIm8ENVQ5EU/LSfrz/NpMkLxJQgU9YKYSRAFii8zZs2XzW/+uC+LWEM1eEkHu4ebq7u3CFjQ36eg8eC4nFgRw8f3bt777Gjx8yvmKMLHewfurm60QJ0Jw3NpZXCJ0hkzozHqli+onxRgKycM2vOrZu35LfkRAtEfOR4umrunLnKrC7wv7/+N3nSZBQwt/Hqy/sHw+AIa0JZqEERHEUKF8GvHD542MbaBvEaGhKmrGtAN926cWvM6DHKTre5cubq06sP4eh9m/sicRu5B2gs+KMSZAgLZycXs41mdeuINZJA3tx5B/QfQGxw88YtelmeoCdmuCREgux56PN7d+9hDMTwfN3I0KhYkWLEPLt37mZAeXuK6dyy0GGwfGOC7L20LyciZsSwEXKGAvfQoH4DTPT0qdMMCl8fX6qP/dObDGobK5thQ4Z9jwQZHc1w/qZdLMPFVB1iuQb/NpC/DrDJPr37whiEedIsP12nfXE/jg8dVyxfoVQWlC9XftHCRQxq0ZWxCr5fAYp34T6Rcf379ddUQ1rG28TYxMTIxNTElN9TpUxFNWFpCr/Lm43IRo4tnTt7zvaBHTQrDC9Bq8zZ6JSLFwjyR31a6y1p8lo1RPYZ+ev02EmaPqZJ7scPPzNBFiGePxM8jBs7TjsDmDNHTugaiY9UferjK6TArzFVNt6AIojBPJ94wkhERHa29vx8/MjJwc4B1jp75tza1WsZiVkyZzWQdov+K91f+fLkq16t+sgRI7du2XpTysVDpCKhkxDAtzo9dl61cnWdWnUUWVwgXwGZDUSzS+tzfcvsSMjk2xNk4R8iaLR5c+etXrX6msV1WkDHdTe4Oi22aeOmJo2byL5G/lmubLmF8xeKdSrFdkAvRcYt9vNFCEnAwdCd48NHjg6ODvZ0nx2CBIVz/tz5NavW9OrZizAetkfapkmdBhVXo3qNMaPHbt+6XdqdxgOB8YuToYpvASEE5jFh3ATiRsnMRWBZu2btBfMXIGV9vEVeW8dxhJ34PvVF1uJccuXIJZ8td648uCdUH3SBdJS32PqvIVw8+Dx65FivHr3k6WPylAq0Ot7h5PGTyGbCKJxdjHWnhZUEGV8Uz/+keB59KJy4aVL8eLIkyfBxhE74cdwNZ27WtPnkiZO3bt56+eJlzk+kprsE0hEwv6DB7dBgOyhCdGfkDo/r120g1iCeChVvsosXLDTfiQZiyWVLlqWJnEthamxKpQwNDKkm9UqeLDn1Ej+TpUiRPEWqFKky/J2hQvkKPbv3XLJ4yfFjx63uWXt5euNqRW4xQWuHNVpbWU+aOEmZT8AtiQVwps04cfwETSpm2b98/SumdP/rCTLaHEXq9cTr2tVrOPounbtkzZxVXkVEhpTz0iTF+KkU+a8ytD9nQOnraY7HwBhrO7btIAiiiwn//X3/yOLnD2kQWFFoB4ZDXNUyZ0BCVKygyYFAWZqiZ4CckFtbBiNr0MBBRw4fkd/ZRxXHYUnTcKG0rSyt5s+bX+2f6pF5N84v9q8UE8oSfUqQZcqYqX3b9sTp923uC835BcpV8PUE2Yc3754FBrugd23tH9o5uLu6+Xj5BPjTXs9fysvWvHrDZSBfrBYXSMX4HY2IUuzbpy/xgHS7YuJi505dDh08hIzmu9EZk1PdjSlBBiqUr0hwvm3LtqvmFhCTt5c3wdXz0Oe0y4uwFy9fvORO+EVqVo3q5ZZoAu0EmeyZjAyNixYpOnjQkI0bNl65fAV2xscHBQbR/ZyQn/IvnFO4EwmQoLenN2H2A5sHD+0f0oXoWjw98Rv3jNHgAETd34ejuVGl/PPl85cctm3rdhhKyZ6WKlkKd3j+3AW+/jpyswKoCh9z8MDBli1aYjrykdwqQdT+fQdcXdyo45ce/lBZGnPTRjNMUHmAg0rWTAAWudhg0SaRkQD2ijoZPHCwsu8VkfDAAQMP7D9AVEOT6vJQ/c9JkNGbXp5e+MIWzVr8lVbM7yOA5w4XzF947uw5gkBs4NMEkAg5QbYz3gky4kPOgJG3atlKfp6W8e+MLVu0Wrli5YVzF2grkVmPfN3sGxNk/IlusrG2mTJ5SqGChfg6gWu+vPmGDh6K0d66eZv+DXkWStXESaQev299f9jQ75MgC4/Azr8lQYapYNvHjx6vX6++/HUomOqMGjnq4P6D2CQqTdNNOoAjHzqIBBkBoXw2ULpU6dmzZl++dJk+ghx0P9vPBUZFVw4dMlThFh2RK2eu6tWqd+3SFWvHb2EqslFpzvvN4FQuzi5mm8yaN2uuvLqVP2/+7t26E/nfvXMXksREv8WuwE/cxZI7x6q3btnaulUb5S2/JKZJa1SvMWP6jPPnzsPPeBDRpL9zegGqR2fcuXWHXhs/bjzhBFHZ5EmTp02dxi+jR43u07tPvbr1lHg4Y4aM2FXnTp3pFDSoxVULZydnTAuG0cVr6AJOZWFuMXLESBhAvigQrwROm376lFh2QN73LboC0R18/dsTZByAka9buw7ON79iTjD21Mf3q7qQ2w55FiKel44ZK1M3wMCISzt16MSprO9Z45jEs43YIzcpO3br5q0N6zYgS6ZPnU7gJ/fahPET6TgUSJ3adZUdAHBGSsft2rmbiN3FyUXMaBYP8OLfkip+ceBBHOwdsBBlAVZ8K6SNLLlzW1AoBqA59GtggGOZly9e1k6Qyc9od+/abfvANizkv/muLnSBwEatMYJkcWhkaIRga9K4CTLjxvUb6MNYGEM7QaY7/kr3V5HCRRo2aDhk8FDCVOIOsU99cIK9xg4ILqzuWaGLtOcBVKpYGWo6dPCwvDw/Nx97TEEIJs0g+6S1vgpjI2PCycqVKvfu1WfBvAXEL2K+uae3iKoSyHhoJTcXN4KRhvUbKsk7hkC7Nu0gTNyWvIol+uFXZL//aoIsQsTLgQFBSPoL5y8Swg8fNqJu7bqZtXbPk4FDhKakmUr6Ui5GKZqkjJwXkz/kAJEgi0yopUieArXfs0evqVOmLl28dMmiJYzcP7IsWbJ4ycIFCxctWITl0OAImzi8TRLx0dfHd/HCxUULF5Xb3MjQWNMjUlMrfQFMjE0JUrBYLgFH0ctxUIPhH1+EvbC2suGea9eskziRLLbpVmkBMn5+niBDs23ftp2IRg6oYx+/X0+QcfkPb9+/CH0eEhgcHBDE3T8PfQ7rQfrh78XeZ9SEQowqHvXL14oQD0xu3rg5c4ZmS2OAMm7dqjV39sDmAcosev2/lCBLlSJVl05dcCQEFY4Ojk99nkrEJFaSlqe3iAAjQiRctJ8Jc0DUBJmUYMYx9+jeY/Wq1RfOXXB8+AgGJwwTOb43IsdH9+OlRHVoNa12e/3qzbPgZ4EBgYQ0XF3OoMX8wCfyE1r/1MnTA/sPVLI/GMqwIcOOHjmKRscdyodxz0EBQbdv3UaS5owUDQzXRg0arV652vaBXegzsdVClPuRQZVxruPGjNN+F6xenXrr162n8T3cPbjKp3aWSPPUyVO9evTKnlUz3Sx/vvzDhg4jAH7o4Ci3qjg+eqW08KckyKQJIATqc2fPVZq3ZImSQwYNQczxOSNZDrQ0zSUlyAiZOCY+CbIIsYoWvTZi2Ii8efLKXy9buuyEcRMOHTyEV/NW3saSTvKNCbK3r996eXrBRw3qa6ZcZcqQqXnT5iuWiVGGMXAG4UQj8erl6/s2D75TgozxixbZtyf+CTLszd/X/9jRY9iP/HVTY9NSJUsTrh89fNTxoaOONimDprO3s1+2ZJn2ztDwGNEjToJb1Tyu/PUhvYrLDc+YPkN7YWCGm4mxib6egaGBkdjc2tCYX7TdlQJ5l9s+vfuKcOjWHX+/AIwqFrvSHbg0rH3c2PHyll4yataoOWXylBPHxONZmBmO1b3XYsRPS5CJ7EPo1StXx48dr3hAUKhgIaLBrVu2ipcKpefeytOL3xQ0oLubx47tO9q2bkv8gJnlyZ2HkjtX7lw5c+fIniND+gxKcjZd2nTVqlYb0G8Aqmvf3n04L6Ijfz//hM04w13cDzG8sjQsv3Tq2GndmnW3bt6i0zWX+4ZmhyK+PUGGB0TMnD55+sqlK9ZW1qgFK0ur4KAvb5LLsAuPQHoxojGhZk2bKU/F8Dj1/61PpHrm1BnoDqGiceVfhogAXd3wv7Buxr8z5s+bv2CBQgXyFcibOy8dly1r9v+l+x9CVj4/HfdPlX8GDxyMx6Hjbt287eLkQjtTzf/2zoMqMCQHu88SZLj+dm3byRQqzSCLQ4LsqY/vxQuX+vfrrzw4z5k9Z88ePRlKD+4/iNNzrN8GESIWOHH8RK+evZVZeKBC+YqjRo4+eOCgvZ1DgFgC4ouhGi2MqOvapavmmxIYm/CqoYEhRczMjZz/EgUckytnroYNGuIED+w/QFcSfGnO+83gVKdPne7VsxcEIl8O28ARLF+2HNELTYmXmL42bc3VxXXd2nXaL/DCZpxHrpqmgnqfVljXRpZMWf6pWo0bWLlilfkVc6wRc00AfyrNScFZEI1mzaJZPBSg7aXc3yGicR/8iM77Pv1o/EcTZGEhYS7OLhbmFlRk+LAR/9arTziPqcgVlIHBUzAhDEakyaRJ6/xTLnKOTClyakwuSoIMY0uTOk32bNmJjlGn/5VSJK6lSKEiRYsUzZ+vAMKApkZdoNiRH5rO+CoixPLH8+ctKJBfLG8NUEpyC0e2vyZMBqYmpsOHDT954iSyCuUctwSZ9KK39T3rRQsX1apRG/6QTqmvD4tELtX/eYKs3fat222sbAIDgl6/eh17nkGHBJmMDxHv37x78/I1oTXSSty9ctqYzh/6LBSHR1ilzK8TExdbtEKQoQWfBT2LrlBjTJAlT5YcRzJj2gx5FoOPl09YaGwrPiqAKKMkyGQQNs+cMRPueGDzAG9NBCWlEqRaaJ8zyvmlpTowDm6SM0OLX3JmGkSItatEgDRugrLoQOGChQcPGnz44GGigmfyO18SOKGzk/OqFatq1azN4JQPxijHjBoD6RP5C9KX71ALdAEdvH/v/rZtPk1vJgAbOmTosaPHbB/Y+fr4vtLex0oizRPHT3bu2FnZjqpggYI4aezS6bFTmDSF8rOejQl/SIKMdiNEP3zocI/uPYykEIiuadq46cL5C8V8roePiOsQLtrNG+8EGSdhTBHYbDbbXKtGLdn+IaZePXqZbdqMP8A8ZINRLveNCTLOJr/LWSpyF2SRvR06nB60vGvp5eklckBaOanvnSBDJHHpBEyQETqWKVVGTpDRWZCGLjYpg5CP4bNk8RLtGWREv9OnTr/4eyXIMK0PYpP+Pbv3EMlnyZyVgV+8aPEmjZu0btW6VctWrVq2bt2yNSO3caMmFctXJGiRpi5GVaLGRsb58uSbO3vujes3Ps2++YbR+e6t2ARw7559CHfOjwLmp4mxSYf2HVevWnPt6jV3V5F9/urjna/iZyXI4EAHewd0f62atbiivHoxmoB/zpwx68L5C4xooibc81f59hcHVcCd4eir/SO2EIoF9HK+vPngKJQQEdSRQ0eIQFycXQmivjRFOh7ARz+4b8vAL1a0uHxdmKpokWIENsSidEqwNK9eOJdvMuCESJC9e0+scuH8Re4qJDjE4qrFubPnbl6/CZ1qjogEp+JguRAEXrpwafCgIQXyadZJACZGJmIt0c1bLe/eY2ThPSGx2B0oHWdvZ7940RL0leYsX0AS06Ro3EYNG40YPmLF8pVHjxy1srTCo6FwcGq686qK3xGIzygJMkMpCbJq5WqxIqend4zrpcQITCV6gix71uzdunaTE2Qh8jYdvzMfRoWUHbtz+87M6TPLldHsHQ8gJfzvyuUrcU9oaUgplpwFXeDo4LhsyTL0Nlr0r3R/VShXASLFcePH0f9tWrdp3rQ5zoVIWFnMSxsG+gaEBt27dhe78zs4JshMK3qKO1+1clXVKv9oLiPprkEDBu3etZso79P0sVgRGBCIQ+zcqQveIWWKVHB1vTr12lGpVm1Ead0GidKkUZN/qlbLliVb6pSplaVyFFDl2rVqz5k95/q16/LCIPGRDXwj8kuSago8Jr0Sq6z/QLOj/5Hc4u0cKYJ78/rtL/p867+VIMOE3rx6E+AXwDgy22Q2aOCgShUqZUifQYmzIiGEq3bOi/J5duxTakyeOMYvnx+v/6VE858M2gRiGTViFJHsyxcvNb3yNUSEi53EFy/8tP3x90uQEZFh2IsWfJ4gk9YgSxxlBlmGTHDLd0iQAc7zIUKeNab55MsggHd67LR1y9bqkboZg4bQN5ttpibBgcHRHWH0BBktWKhg4e7dussLXrjJUZNui7bgVKInyIgPO3XotGXzFphUvOwqbT+se09wpKi+LombCKHUGc8zps9UVmHDRTG2Dx08BL1qe0Ta09/P//Chw9RUeY86iUmSdm3b8aGriyvd/2l2XiRoQKqwZvWaOrXryNQAF9SrW2/+3PnmV8ydnVyCAqVVXZTKaRJkJzp26Khsr1mwQMHRo8Qe2xwvPw0WrRFr/f6IBJmck7aynjVzlixrGM95c+cdNnQYSg4rFeGBNLNPczz4hgTZh/fhGMCpE6eGDRmWJXNW+XJ1atedMX3GyROnMGOCIs0rSJFn+JYE2Yd3H4jPd27fWbtm7eTSWEuVMlWjho2XLF4iJmk+FNuIiBhS7kPOIIz5eybIxAZPbgmbIINwS5UsNWH8RGnCphO9qYtNypASZLZLlyxN/z/NzQB5BtlvlyADuDQsdt3a9YMHDu7Tuw9+aMH8BcuXLVfKsqXLMKRJEyf169sPzqlVs3aRQkUU1pJhoGdAhLxqxSqsEfaGhL/lUX9Y6HMba5t5c+Yp+VlUb57ceUaOGLlvzz4u8dT7KV0W3UfEFT8lQUbLYM/wGOMxTWrN6mNUkJiQyFDM7rYSq0PKFYxO7L8XcDG4IdoTGpdrGgsyZ8yMO27apFnvXr2nTJ6yfduOaxbX4cYvLb4TV8B48kvx7du2VyY1/J3+72ZNmhFeXrp4CbeFexIP2HQlg5iRYAkyXz/uCjaGnTzcPG7duHXuzLlb0tJOmoO0QO1CQ0KRLoSCkJuy/wBch5OaO3vu+bPn8eMEEi+fSxtrxFpHPIiDvQOcr3iQWIBwqli+YpPGTfr27oukIQDmVj2feCbIIFXxKyN6ggzXj5tAeaLJxcT2b0uQyUuvbNu6zcb6/n8vQYbIf3D/AfRYvVp1xaUyYIsXKz5+3HjkPWNQmiv9Kha5C5P4PvVFRqJJOnfq3LN7zwnjJhB5yu57zao1q1euxonPmT13xPARHdt3JCJgUCsvR8sw0DfIlzf/kMFDDx04BA1CEd8osAlhrltcHzpkGI5bvoSJsQm8NHvm7NOnzjx2FCkk4V6/xrTcCVEDgeHoUaO7du6KyER1r1yxasXyFStXrFy1chVlyaIlqK/ePXu3bdOuYYOGpUuViaJPUqdKzedLFi9F6vj5+otprd9QOeSNvZ39imUrlKWHQdHCRfv26UdIi8CG+pBVkvv+pgct3wv/pQSZlP7AQg4fOoJGRYXmyplLXi5JG3LORfldK+f1qcjHRBbpQylNpn2MfuRqGCq0Ib1qNhzqpi80/fI1MDS8vXyILEoU07xC8b0TZAsXLKxZo5acIEusSZAZRFmDLGOGjHDItu+SIJPxVUEv/ZULu7q4IqRqiTsW0CTINm22srQKCgyK7gijJ8jSpklLxAtdyjn7wIBAHImOHjR6ggzrr1dXnO30qdMEwGhQmlXiOM1XEgxif8APr16+vmd5b86sOcoLel9KkAHY9vq1G4x/eTNBGf9U/Wf9ug3WVjZBAUHCXD6vNV+3vGOJ2yhdqrR8vImRCe5z04ZNfO71xIsoVGh05VtaCbJMkZsWFyxQcMyoMWdOn3FxFmk4dL9YAyXW5v0TEmS0LWEbd4KDkVNIRFlNGjddvmwFpihNHwt4FWXPtW9IkGGrdrZ2DG8lyEyTKk33bt03bth488Yt4k+sha7R/nq8E2R8iGFcNRdrhyeN3FmvVIlS6JJ9e/eLtZ88PLGET5bDzy8kyLonVILso3jFcu/uhEyQwcUli5dEg/Khi7NI/upOuHKCDMWJdpfPBkoULzl92u83gwzQlUhwamR+xfzUyVM0yOVLlzEA7WJx1QLD5k+7duxatnQ5Ohs5pZ0fBJkyZsYmoS/NJoDfsKQ6ch/O6dK5ixJ0pUmdBjG6cMGi8+fOu4jk/tddly74KQkyxte1q+KiyhtwIEumLE2bQCDLaXzI89P8uG+t4k8G1uXj5QNVtmndhigFtkyWNHmypMlESZIsqVRMjMWiy7BiiuQp6HEEbuGChatUrtK7V2+CH4ur15DsbxMiRyb5XKtlS5aVLV0WySW3fIH8BYYNGSbvi/pUbDr89Z2av4qESZC9jUyQPXbmnxzv4e7BIN2ze++tG7dCQ0LlwxRgLW6u7vh3eF5bx0NNQ4cMPbD/AIKHE/JFYVpf8+M0OAoN/9ukcRMUFyV5MtFxOIUkpknwyKbGplRNntLOJxn/zpg9W/aiRYrWrFGzT+8+8sYCUn7k5Vc1g4rfFzEkyAyN2rdrv27NOpSG/OhORwmNC44xQdapY2fs0NrK+j+WIGPAIkuOHD7SM3JtfhlEmz179NxstvnmjZtenl5i5bXYuSJCrPGC07S3tT9/7gJhJN7TwtwC5uQnXMF5GIxXr1w9c+rM/n0HtphtmTN7btcu3TL8nUFzyUgQLBBlSG8jPhUBSHxB1WCt7du216tbT5lonyNbjq5duhLi3bh+0/PJ5zLyy6DHgwODHR0cESGEJ4iQc2fPidqZW+BGr1+7fuvmLZw4+uTwocPok3Vr102eNLlq5apysK0AiS5ikN3EII6CfuOt0MI/Bgc9oyUHDxysbN2rl0ivVs3aUydPPXb0uL2dPQKbcRE9KPtV8B9KkGFpmAdecsb0GbVr1f4rnVgMWoF+Yn3DGN4v/nqCLEpeTCnKefid0+L+/gtF34BWikfhi3JrINjQNpdEgkz3GWQ/KkH2UStBVl1JkBmIBFmiGBNkbb9ngkwGiihc7KIIu1Goz4uwF1QMD0chnsdxElET4Ssxv0iQNW9ptsnsnuW9QLGNIwG8OI+C6AkyfGeHdh0gRHkZS+m5qK7uM3qCDENp3ar1iuUrYV7xenzQM46hF+PJFBFC0X54H05F8F6vXryClNGmoSFh/OTk+DPzy+aTJ00hKpBvoFCBQoMGxJwgIyaHdokWlM0oQdEixfAEly9extmIcFTbYCLEA5xjR47hBdNH5hRQt0MGDz2w74C8OibK9TO/+6UE2egxZ8+cFc+UiBxwKl9rDXrtP58gw0Hi4wlxlfd0ihcrPnrU6EMHDzMOPUXyMZqmiXeCLELa7P/MOUQnJsq3iDNr1aw1e9Zs+AJn7+fr/yraRlHxTpDxOX1Hs7do3kKmP309A4LblStWXjW/KrYODAr+bCFGzhBjgszQOGETZHt27/mGBJlQogmbIFuxbIXyaBSUKV1m7py5YhKKnCBLuJfCfgDevX0PKQUFBmG6Lk4uWKPXEy9+h1g8PaTyxJMPCZihjqvmFvv27sNuGzVsJCtsPJk8QiuWrzh/3nwEK+SGIWnOHldEfIQlaF7t/GPO7Dl7dO+5Y/sOXAC+g/7SnepjwY9PkHFCBtGG9RubNmmKepOviHZv2KAhTSq/2u8rXu3XaaGA3wDSZFvGy749++bMnjNt6rQpk6dMnjiZMIygeuSIUcOGDu/Xtx/kVqVyFdpBbhAZcMg/Vf+ZNXMWkZ63l3dUHxd3oD2OHz3eq2cvxeeCcmXLLZi/4OIFaV9UaQa6LmFb7MD4EypBJt+Y/Alfge1Pnzp9+uRpHI1wGUBuE8lNwD9DBg/JlVOzVingov369kdWEUlC7GgwNJ8uFcQ7cDBibPeu3cik6VOn03H02vhxE+g4nN2wIcP69O6DmkRBRQlLqHK1qtXwUESwT32e6iIbVPymYFRGe8XSECG9etXq2zdv+3h9a4IMxduta/etW7ZZW9n8xxJk6ATE2IxpMyqUqyBXFjB427dtv2zpsgvnL4p9WoKCNQM2dhBuvPtABESDu7t5wDC4bC9PL2iTAUggKjy4+xMYADKxs7VHy23ftn3QwEGKglWARoIu7O0ckARRQjDdwZ0ga0ePGpP+f38jI2UlWbRIURQXDEwsI95CgM91Ozm3QfyIqEBcuTq7UgsPdw+5IEvQA9SUKiPk0Ce3btw6dfL07FlzqEiU+T6YKBHTxfMX8ewi9EUAxx1wO9dCD+ObNOeVk8Jt269euVosz+/iBhUL9/3LasD/3Awy2wd2BAi4pIoVKhHnyjWSkThRYmMjYyxQCbv4RM52RSlyUibKh9GLfBIV2ihUsBCDHeOH7TX98jX84AQZSmbBfO0Emb48fUwEuFoJsgx/Z2zbuq2YsPzdZpBFQHxhoWHQGfzl9Mjpvs39axbXUXUH9h/Yv4//HUArE+qsWrkKMVewgGaFNiVBZnnXMtBfTpB9FsBHT5DhO7t07rLZbPPdO3dxA1xXd8p7G20XS7qnY/uO69eux2nRczBy/IRd+PtwmhWpja+iBRwfOlrevYdyxTFQfQrVR3Ru3byVuqAk5AVoQKEChQYOGHjwwMHoCTI6CR9AMN+gfgNlxhl036ljp7179jk6OL588VK77jhUPMea1Wtq1tCkqLhKqRKlcBvnzpxzdnIWkUCUFXwEaXoh32NKkJ3DJ70SO9+rCTLRttzAFrMt/1T5J4k0xypNqjSEuyuXrzS/clVePCgGBxOZICNi0Ysc+V9PkEnhJQJ06eKl5cuVl7+VN0/eAf0HbN+249bNW3wRHRM9/RS/BBl9BylwPygneecXYviCBQpNnDDx0MFDjBdMmnHxWfdxhk8JsuHp0moSZIymXydBRk39/T5LkEG+WTJlgX8OHjjk4uTyPPS5WC1CN2gSZMtXaO+CV75chUULF8vTf1CHup/tFwFcByVibHRWWIjYqJff+Rkmbd2LjcmfBAUGI7WpPiH67JmzGzZomDJ5Stmrgb/T/92mdRv4jQGiy/IiMSBCrM9FM44cMVIZ9YibShUrE5yflpYYl6aPxc1Bfgk/OEFGCzNgGUo9uvdQ4klQuVLlUSNH7d65++aNm6h88Y5qHBXArwyYHHeDEoCvCMzo3IsXLhKlnDl1Bo2OW8Rg1q9bP2XyFLxhkcJFlE3BQPJkyatUqoKlXbp42c/XL/5ZV8kvP37kRGBTu2ZtxWLhKywWMlf2RaXHRct/m2+JPUEGRTCavhr0Rk+QAYiUEPGqucWpk6cYhgH+gfLdEpJZW1lD+DWq15SfowA4HIUggu1zF/C8/uJRymsN8+sAroWnYMTRcWhf/AIy5tzZ82dOn+HqR48c3bN777q16yeOn9iqZSuiX+29gOg4AsiFCxZamFtwXdFx39akKn5NRE+QQdfNmjbD6sQaZNIrlt+SIMuVM1ef3n127dwlFukXy1Z8LVX0mwDH+tD+4Yb1G2grZeDAS/Xq1ps2dTqDy8baRp6ACVHQMjqNWTGV7DVnpqGE+5YKaoRCiMjv4k8hobj4Jx6eRIyM38EDBxf/PEdWqGDhsWPGMdIJB+I5bKX96Yhx2rVpJ68IppdYL1XK1A3+bbB44WJoBAaLa1eKqOrla26eyCjkWYhcNUmZhImqSfWSq+bn648PPX/u/Px58wl/Uqf8tOYaQRAuZuOGjfZ29hDmVxk4BkjTx5DQ+Ov8efPLp9XX08+dK8+oEaP2790vLV0ttnn5ic/vv47/UoJM8lPIewIQYsMZ02cSwJYtXRZdKtdLBl6Y3penklFiniAW7YXKKEXMR5PWw1URBfny5EOxf3uCjPaXO0gqWgkyY9NhQ4edOH7Sw90jPgmysKgJMj1p6TEpQUanSwkyA8FUGf7O0KZ1W3kXy4ROkIV/fP/mXVhIKEITZ4aiZQTCkkSSEydMwslxYYRUm1ZtIKnmzZr/W69+ubLl0kYuwpIhfYYWzVuabTSzvGMZ4BdAFBolgI8hQZZVJMi2bN7KqGaExCkIp4nvW3+WIDM1Me3cUbyBSFMi6bhc3IQyNxseQYPSrM5OzghuOPrYkWPbtm4jch4+bHjXzl1btmhJad6sRZPGTRvUb4D0V3YkBAXlBNn+g/KDoygkBftbWVohRgtF7t2O0VQoX5HmvXv7Lo5B22KITu0e2BFSKgfTVtwAzXvj+k2vJ154F5H+0wak+URsXNixvZog+yK4c+Lzc2fPDR86XF6eE94sU7rsiOEjDx44aGMtLQcm7yYZBREf3V3dGXjKpragZImSsSfI6CNa8vChw9pZSzzZwgWLLpyXYh55KwDtppB+5cOoCbJ0nyXIiNWjv/lCFzvYO6xcsUrZOgOzad+2vdkms2sW18SC2VJeVXxRAb9GiFeAIRQxgyytZiqBSJB1677zV0mQfYRSjh459m9dkSCTnRzSrWuXbihvp8fOX3+LQQuoRtsHdoy73Lk+7fzIWOaTq1euurt50Bpxou9fAuK97/dEOxQqyO/oVwoWyE+shU/gN7qeA1CoaNCzp8/OmD4DitCPDMgBnnLB/AW3b95GgL4VHK45vY5g1DNMzDZtbtakmfzYGWTLkq1tm3arVq4mUMe5wF3CnD433fjhRybIaEnI4fLFy/iCAvk/LaCeNk267t16rFu7zvyyOYNFnh8nEqwJUcFfAhJFvHn1htDCz9dPeuDvja+ho52dXOA3x4eP8LkQ2uZNm4nN6tSqoywQBpBKNarXgMru29zHCcY79cx3ifqGDhmaJ9eniZ94f3kaqWatH2kSelyNNjoYQV9KkB2XEmREql8lnBgTZDIeP3I6cfyEHEVTL27b3s4BpYGy+ju95rUpBFWd2nVnzZx99PBR8WxDM+/yQ5xMiyGPN8flwZ/cDCPC08PTw82DKsAAjg6OdNzpU6fpuEkTJlWvVv1/f/1Pvjow0Dds0rjJqhWr5JuMd8ep+JURmSAbr+zASBRat07d+XPnQ62EQNJOUJqDYwfG5vvU99LnCbK8efINGjgI1Wdva48VxSep8esBEfX40eMD+w/06NZDey0wBu/gQYN3bNuB92GIIbfkFBUNqKOioA1lPy47bjiEf/JdPkcl8gvDkJ8oPaQjpIGs6tunr7JeIUiXNh3Ddsf2HVAiSiYe06C4qO0D2zmz55Yrq3mmC0oWL0m3ouctpV2eND5Od0SIFnj39j13LusKygfpFSVMgp+yaJHvFl+Doja/Yr5wwcLKFStr7kBC6VKlJ0+cbGFugaXRStKp4wCu4ursun/fgWZNm/0VqXWR1vX/rb90ydKLFy7xV+ndowSeeJ7A+FqCDL2nu4/4FYBtYKse7h74I7z5nFlzatWslTRJUkVD8ouRgZG+tBMlJfZEWIyF7xroiVcR5RPi1pMlTZYyRcoUySkpfveSMnlK6iIKv+hSUqRMlSKVfHz6/6WvVLHy1CnT0OcEnpou+RroMm8v78WLlqCLNE1qZKwX2UFyH8mfAwgK5YbFoj2IPt7I2yjpDJEgu3uPwORTgizx5wkyQxMjKUGG8mRQRCbIAl+LbbJiu5BuCTIY/N2HsOAQd1e3Wzdu7dm1BwMd0H9gFyklVLlSFXxAEtMkGChmSqEhsDOagBsSDSHNWhQJsmYtNm3cdPf2XXkZRThde5RGT5Bly5qtS+cuW7dstbGyQcDhDzSH6oDXr6ImyIwMjTt36my2ycz6njVng2TFDegMaJqew+0RAhHgTZk0pVfPXp07dm5Yv2GpkqXSpE5rbGQS+eKueHdXeswrWkCZQVYwf8EB/QfgNWNIkEmPhnCZiGCiBfl4kC7tX9D9hfMXkb/ClUYi0D/w8qUrvXv1ponkI4sVLTZxwqTDhw6jlVG6uBkMVHO0jPCPnmqC7Gugag/uP5g7Z64yKz5Lpixdu3QjokYOOjs5M6hiXFKau3VxcsG8c2TXKD9QonjJmdNnXrlsTthPd0evERZF544aOVpZLaJ4sRJIKIaY5R1LKZsu9snmi0IARRaujiqNTJBptkZK/1f6Jo2arFm99s6tOwH+gVAGLcyR9JfmbiMwAM/DBw83bdJUfmUGqVS3dt1pU6edPX1WDiDltJrmK3Lhh3gZJwTdM2TwUCVBJu2b1nPXzl30eLC8HcQ34BsTZNwnVT508DDV4bvy2k8MQAgHTfBQpPBoRl1zLjS4vZ398mXL/5fuUzRYs0bNdWvX0baEBJrc+n8JkX0tAyVKjzs9cjp65FjbNu2gbk0rJEqEv8Rcz545+9TnKc4yru2AWd64fmPQwMHay6OUL1d+1IhRECPNjqwXT3USqHV/WIIMKR8UGGRx1YLxnk1rY/hcOXMjteGTY0ePE1SgGEJDwgST/5fMRzIeWgASoO/wI7CTMqmBHscj4O+ImvBNJ0+cnDdnHhSk+CBgaGDUqkUrmP/xI7GZso7j9DNEfKRtoV9lSjUgkm/ZotWK5SuwAZlLuUNhsfE4/+egB7+WIAuL+oAqGhhlRHEXpPVVNR9FgvNTHbw5ZnP92nUUC5KuW9fuadNoHjeiWWvVrD161Ojdu3YjW93dPEJDQmXCF6YVpwoSiL77wBXxa6L76LsX9N1Lxg7nDAwIounouNOnTs+cMbNhg4babPBXuv917dL18KEjHMN3NSdU8R8CQ8bBzmHi+IlKoidxIj1UCqSKZWLAot91ZjOE96WLnyXICuQvOGLYCGQJblqMmt8/QUYV5HnEAwcMTB+ZnjAxNilapGiXTl02rN9w+dJlxFtkeBYe5wGrA9BsdNyzoGfItkULFqVM8WnuJ8icKfP8eQvwgFBiPGT2s+BnB/YfbNyoseZ0EurUrjNj+gxYwvGhY4B/gJC7cQmv4gbCpZevYcgrl6/07dNXmYQBcmTL0b9vf8IcSBgfFLeGld7nwKqnTpmqvRpA3jx5B/YfSLxz985dLio9h/im58HfHV9KkG3YiCsh+v5Guf6zwMh6HvocIYHp7ti+Awpq07pN9qyfViWSkThRYsQ/3l9PvFYpMl8UJREmfajJoGn/QtguZ8eSJklGNI23nTJ5ytLFSxcvXLxo4aK4loULFv4qZf7CBfMXfCrzFjD2dSkcLJ+BRjDbZHbxwkXGlO6WD7N5PfFasnhJqZKanbhMjU0N9EW/KEX+HJiamA4ZNOTY0WPubu6yTovTyEWr3L1jyQ1Li/SLrIuUHTNAA4pcWSJ9I4PIBFmGjO3attuxbQcDQZp98ir2PL5OCbIPb975P/WzvH13764906dOwyipc64cubJkzgKPEI6mSpHq7/QZoF25ZOW/TJn5E7xsGDllEV3VvFmLTRs23bl9R+SwdUiQZc0iEmTbtmyzsbaBc+OWIHv52iZKgszASJMgs7IWDK5zgozDaEcfLx/zK1ehGGI54nC8HVxMTdOlTUf0lTpVauqbNUtWUTJLJUu2jH9n5HMGp3wDIkHWb8D+fQcexTSDDMvjri6ev4jiVFZPx26ge77i9NgZ5Sofj+W5urju2bWnQf0G8usqRoZGdevUXbpk6aULl+T3N98quxAqEAkyTzVBFgsYKgg4sXx4py7JpIgaU6xcqTJETBxy88Yt2hYHGRQQRORANT+VkLCQZ6FEESuXr2QEynUBxYsWnzxx8qkTpxzsHRiNjHzMkmhErhp2RY9sNtvStHFTmZpTp0zdrEmzObPnnDh2AmcsLufpTeCNIlFKSLCYf+7v6291z2rOLLGdmXytv9L+hT0sW7rs8qUrbi5uKFcuh80gwuRuxd7uW9/HSJRZjUUKF+nercfqVatRbPa29twM59eulHgXL+w55+FP5lfM0bXKUzUjQ+NOHToxHLhPDzePAP9AvhJjElAXfHuCjFY6duRYPWkGWYrkKYRT1NNv8G8DeuS+zYPgQGmXA10gNRTUgWNg8Mo3A2rVrLVu7TrLu/d8fXwFdfxw4/zBwGaCAoPpXPghfz7NuwbAxMgE3X/k8FE8mZhJR7/o3BLQwlOfpwwlDJVT6UnESE9h80gKAidYJa6vZsSOH5Mgo638/QJuXr+JzdSrW0/20AAn2KhhI2TW7p1i1z/xuvSzUHz/d4wcfiJELl5scv1BlA9RCmz/6uVrWAJuP3vm7PRp0xXfIaNM6TLw3i1pebt4dAr+zs7Wno7Go2nOKE2nx1Z37djFcOa0L6Q9eXQ311igS4Lsq2aMI/hSggxwCbwGeoBIYOb0me3btS9csLB8IVCubDmqhpq6an71seNjlMMn9x2/CvItMWvjsycxDFhajGGOWyTuxStNGD+xSqUqmpuQULliZTQ3mgrV8XutzKhCF2CHjx85TZs6TXtiZu5cuYcPG37l8hUfabEn3RNkT318z5w+271bdxSyfCqsGhdz7Ohx1KAuLyb/0pCecxPAoyGHDhmq7Tfz583foX0Hgm3EtvSkxIdhJaQgTfedvEGENF/bzR1FXa1qNe0dY5InS0GHXrt6LTAgKK4NDtM6P3YmFlWUJ0iZIiWR2rq163GCHu5Ssj6BmPaLiBDroDk+fDR3ztwSxUtq7kMEwJmwroP7Dzo9dgoLfa67ZQJEHZEp36UuRIvyCfUS61X7p9rc2XNPnzoNIePCxPPRX5zoYkmQWVkTO/zqM+BixTuxpEMw/Wtx1WL71u3Dh41AnBcqUEh+40cBQbGBmF+mma8kfygyYlI6LHFkXkz5xdDAUE5WENHX/7fBqpWrCIvocTtbO7sHcSu2lPu2D3524R6gGuVOovzzq4UjNXW3tUei+HiL5Xd0H9SMJtQ+Sltay0+0v5Qd+2KCbNDAwUcPH0U7SQmyuL36TZR65/ad2bNmV6mkWfI+MYGFtABZlARZpoyZ4eEd23fKmeKESJC9Dw8hUrp5e82KVd06dy1XppzyGBOrMtA3NDYyRpU2btS4Tas27dq2o7Rt3bZ1qzZNmzStVLGScvCnBNmtO5IIjrpAfkwJsqxdOsUzQUbNEyRBRje/evGK2ObKZXNCnebNmhcqWJgRxQnlQUX106ROU0HaBL1Duw60PlqWRmjftn3jho2VLSZBgfwF+/frv3/vfqRA9AQZv8P4923uT508tXAhjRTm/Fxx9arV3POz4GdCgEo72ljetVwwf2HRIkVlI8uVI1d3sdDpVgJazy+9o6QmyGKHZhKfO7eEnpDvJ3OmLM2aNp8xfSZte+rkqevXrtPy9AXdFL2cPnka2aGkeADNO3jQYLONZsSEDGCOcXFywT/RgNgeRG9vZ4+DZ0xxMF2ZK2cuTHT+vPn79u4/feoMJkdcbXXPytrKRilYtb2tveUdy+NHj48eObpwoSLytVKnTF2jWo2pU6bu3rXb/Io5Qwl2c3F2ES8WSdsvYD+XL16mu5Mn0yQLKlWoNGjgoDWr1hw5fOTypSvyHQoOlYtgyQf8vG99/+aNm3t27+nUsbMynCE7hjyUxHevWVy7Z2lFXYQ2ouPiHv9/a4Ls48dnQc9o/0YNGvFdmkJwcWL9OrXrLF60mHsTu4LoqAnE+6Svbt+6TQyfSuu5a53addev2yAmqEvz7OIkvH5TQFDOTs7LliyrWEFDoQC669un74F9B/jTC922qVIAw2Akc2bNkVclkBUMFjWg34Ad23fQtvgFvIDuJ/wqfkyCDDIXz6/mLWhQvwHqSr6KkaExknTUyNHbt203v2yOwpBezfiPZsdkULNYC14pNCQMUjqw/0DfPv2MjUzktgLZs2Xv3bM3QYirixs6LK6txAC/cP5i65atleXkCQgrlq84c8YsaMHpkdh7BI+fUIHNVxJkLm5hITokyN5LCbJzMSfIBKTtLDZt3NSiWYvcOXMrgjJ1qtQoDXnpMceHjpyEUBBS4oSi3eLWcjoBuw0KDOZmGKddOneVAwkZaA9UzcXzFz09PBN28Kr4FYAZu7t54Oi10z2ZM2WGtM+dPYekfPn58rixgMMQ0ggG6U1hTdyOiIWfUTs4FOj6V089fBkIY2jBy9OLuJoaFS/2aeUvFBdiCRl55PBRGyubJx6eBIEI4O80WrUBMeIBR40cpf3kIFmSZJMmTuI+ETPccxzuIUKc0OKqxYD+A3Lm0GwVYqBnUDB/wfHjxh86eAjdKL+/ElcCjwfQtATtKPMmjZrIERnArpDQiElHB0dJi2oO1gWIATzFyhUra9WsRXAnn5AQoLPYZXUrUtzdzT00JJQW+wG1+yb8pxNkMuh9nCwRx83rN3HEY0aPJdI3NTGV3twSQFsqVqGAbv2UFxOpkxgSZBkzZCSEp/W8nnjR0dIzv6gP/L5akDq/QolyV9QlbgVBIVU/PjQlFrwO3LVjV9MmTekLuf1pamSMUuQPgamx6cD+Aw8fOizW+ZEWb4nTFVGVxOZjx4wt9OkhosiL8VP+xTByDbIs0nDetXMXPCy/rRJ7suJrCbLwj6FBzx5Y31+zYtW/tesaS28LYoVZM2etUL5CvTr1WjZv2aN7z3Fjxi1csHDlilVrV68l9li1ctXyZcvnzp7br28/xa1KCbLmDFGCTySd5i1TrVbQIUEWh3mtCZUggw2520sXL0+bOi17thzyrIcUyVPkyZ23auWqjRs2RiL36d1n8qQpixYuWr1qNS3Az5XLVy5ftmLCuAkYh6ImaQpiy7179sacIJMUM1pk/br19f+tTyAqf6tYkWJ0/MULl+ACQne6EwNChWvv1UVfjB87/uTxk48dHwcFBIlIIHqvSwmyY0ePaSfIChUopCbIZHDPOD97W/sli5co6+Vny5oNZ9m1S9chg4fQwsjE+fPkeaeLPivzF86bMw+ObtO6bUatV4cy/J2RMdKvb3++O2P6DI4x22hGVOP5xAtZCb8zqsePm0AXczB2kitnrjq16xKBDB82HOOZMW3GvLnzFszXmi4rlQXzFyC2Rgwf0aRxE8aIfC3aEA1EiDh08NCpk6fOnDFz8aIl27Zuu3P77lMfXy6H/Rzcf5AoVHnSUqRwEewTpTt29Njp02bMnzefikS51uJFi7kBbp7TVqlcFWklfxfvUrJEyTat24wcMYpr8UXMHu374L4t9YqrgPj2BBl9h17HCHGCaVKnlb1jZILsnnilmuGmm1qira5cvkLzKg9dTYxMiFF3bN9pe98W0sd04+MwfjdQTQQogxq5oOxeamJsKhJk+w/gyYhnCJ907GtibPjn3NnzfXr1UfbqTZc2Xe1atTE8+s7FyUWEDXEh+a/ieyfIuFus3fqe9YrlK/LnKyB7B2BkaETgN2jgoA3rNly6cMnezsH3qZ/kjP8Au4kV6C16+bqFeI1F8V+AMduwfsMd23fY2dpD/iK7pNtoBbgt+Z1o7Zdbc+fKA9cRPqE3fKT5GnE6Z+yINUF23NXFFcWmU4LMx/f8ufN4bc1H0YB9Pn70GOuqXEmz1M5f6f7XsEFDXAlki+ExQqE+TItbEm73u9kXdxIUGAwxjhs7Tns2Cj6uXdt2eG264FnQsx/9WEvFdwZW6u3lPW/ufPhN0+VSDNm3d9/Tp067u7lLkyV1Im3GvrOTM6OmXt16yk4dpUqWQsxcvnRZnpL8+9oPA5CwwvyK+fRp07U3o4flGLzjx43fuX3njWs38JtBgUKii+ljn0dA3wMvnr+0s7VbtnSZ9k6ayZImJ6Y4e+asl6cX1KG7WkMSQEewdIP6DVJH9mCWzFnat20vFtm8Yo6Q00wf+/7gtoMDg48fPd6zR08lXEKotG3Tlpjxwf0H8FUcHG7ER1w5aoGeKlZUCHIZVSpXQT+cOH6C0Ib+fS2/PfCLG+kfkCCTAaXgaqGOq1eurlu7ftiQYUQ0SkwkQ1/PwFBa/Ul50VLKi4nCX/kZJUGWKWOmTh07nTl9xt/PX3MZFfFAxEeE3KmTp/r07kPUIHWFaG05NYZUptnlD4GJsUm/vv0IK5weiw0G42afEWLJqRPHTxKjcQUDPUO9xPSjSI1pJciM5V0skYjdunYjqIEfCOWICmNnv1gTZBEf375688jBcefW7Q3q1U8rbReCkeXOlbvBvw2GDB5C2IwqJQhHq6HzLl28bH7ZHEtFRV28cPHwocNEzqVLlZFaIHqCLCrR/IoJMok0xXSteQtqVPu0NFjxosVbt2ozauSouXPmrluzbveu3ZDR+XMXzK9ctbhqgZ8gKLpw/sKmjZuIBpV8RN48eYkt5QRQjAkyEBgQdPL4yf79+isaNGWKlASo+/fud3z4CN/z9vVbDzePDes31K9Xn77gAEytUcPGixYuump+9YnHE/TKO/nZVBSEf/T0EAmyDtoJsoJqguwTaF4bKxvlvUUin9QpU2f4O0PunLlRh4ULFSlVolSZUmXKlC5bllJGLuWkUpbPixQukj1bDqUugN/5er68+YoULlqiWIlSJUs3a9JsyuQpN67fIDQK8AtAo4ip+NJ2OfDF/9L9L1PGzLly5ipYoCBnK1G85OfXEoVPOA9n4xh0atIkyWSiN9Q3TJk8JUOmQP4CxYsVL1miZPmy5Zs2aWa20QwuQEk4PXLasW1Hxw4dTSInbnA84iZ/vvyFCxXmePnkZUpTQaVIVyxVhtiP06b/X3rtmeepUqTicphQSXGfZTAG6rJ/3wEPdw9h23HBtyfIXjx/wdDr3at3mtRp5FX/aJbq1arPnT335vWbEI4QgrpZFGbAMIFGFdXFGGTUQN8O9g6MXDFM/vOQFs1Fyp88cbJ3z96ZM2q2MMOToUdhPAbp81AxU1VHef32zVtab+P6jRiV0rA5c+Tq0b3HZrPNN2/cRKzTibpQh+74vgmycGEq963v49Tat+ugzIeiiVDYeK5VK1efO3uOWjPYRdV+28kRCQss4cF928WLFjNU5RYDOP3q1WqsWbXG8o4lCikOOWhp4Ri87ZBBQ7RfsiCwmTVzFtYrxqzYNjRuy77GDh0SZF9/U1hJkDGUNB/FBJoL/TNj2gwoWr7KlMlT4SJ0lLurO+GBmDv2TmyEp2uLxQ/Su+dW96zRPNpTa4lIGzVshNS5Z3kvKCAoYcevip8OWOupz9NVK1dVKK/Z2AekTZO2a5euRw8fdZaeajAcNEfHCkYEmhylmi9vfuVZAgIDlQ5Lez7xfCXNrNcc/VsBviKcvnHtBqOjZo2asiQDKIfKFStDTVs2byUuEG9D+4m3oRkmnxZ7/Z54/eoNMSceCpkt3xIguBg5YiTcSCjxUl4nQRcQ8YaEXjW3mDplap7cn963RT2OHT2WcA/x7OPtQ+1+UCdGfAx5FnruzLlBAwebmmgi8NSpUhOJQEfW90SUp9NL39LNYsMoEIRNq5atlHcs9PUM2rRug/Ffv3bdw13aUP63eDj6xyTIAIMIbe/31M/e1h4ZsH7d+n59+1WsUDFH9hxGka4ZSGuNafIykXPHoiXIpIVuMmXM1LlT5zOnzvj5+mmuoSJeCAsNu3Th0vBhn6YagMgEmegFzUfSFIS+vfvu27vvsbxCVBztk5HOd2vXrC1OZZzEyBAprkmNJZYWIxMzyKQEWfZs2YlfiFLtbO3EgwqxFFVs4znWBNmHiGcBQZfPXxw7cnTSyLCfSKn+v/XHjRlntsnsxPETFlevWVvZOD58hCh0ceZ/bu5u7u5uHvxueddy9arVypPP6Akykd3XurdfMEEGvXp7+dCabVq3TZZUM3eGWAvemT1r9q4du86cPnPr5m0kuNNjJ4J8RLPXEy8Pd1F9Pjl98vTYMWOV6uTJladvn34HD8S8i6UMbhuhuWDeAu2lrIjz16xeg/sJDAjC5rj/mTNmlimtyTwSjxHME2TyRd+n0vt0Mea5NK9YnqARlHC3YIFCo0aOOn3qDN2no6f8ryXItC4SFvr8nqXV9GnT5SdIShgfD8C2cpomClCWhBMH9h1weuTk7el97OgxeCFHNs3yt/ITjLiC1sMGFE2mDTz96FGjL14Qmzw4OjjS2vj7GG9MR8iOhDPIydkoYKzNn7fA9r4tLRmn7vv2BBk+EpaYPGmy9qsElSpUmjJ5yqWLl2lqefal5uhYgYBAzjb4t4HC4H+n/7tXz14njp3AYkOCQ/6IeUBwc7jYROLsmbN4FOXNNTwZbLN9m9gDi5Gue4Ls1cvXxA8Tx0/UdpaQ2ITxE8XEQ5sHyBHpabbm+ATBd02Q4UFcnF23bd1GgygBAwME9ujaueuSRUvwDog2sdKB4OQErdjvDJgBGbRm1RrldVSAe6VfFi9ajJEEBgTqGHIDLBAfzYBt3KixMmDleQSbzbYQ2CBIxI4liIeEG7U/MkEmEP6ReG/O7Lm5cuZq0bwlwuPWjVvYnlhaMdpart8P8Cf+ffmy5dqrYqdKmapOrTorV6y8dfMWHadmgf9jwNn5+/ljcqh3JauFF2jZohUu+6H9Q8IMHZcvIBq5an51xPARploPESuUr7Bo4SKMx0fa/eYH5VYSFPisoMBgq3tWy5YsIzhSBL+piSnhz5BBQ8w2mplfMUc8KNkx6Wufic+Eh3Ry4aSkzaO0E2QoxuFDhx8/ehzdBTd+gKl0uBMOI7rZs2tPxw4dtTVktarVcHZXLl8h5AkKkIzhx/ShNEUF/hwy+NOjkdSpUsOQG9ZvJBpCyAkS/urNcECECObv2zyYNXMWNC6fCqRNk27o4KH79+63e2CHPiFEkle5+dXxH12kPxbAGzjlkGehjg8fIVnxR3169SlVshRjMHpkJHI00naK8j8TS/myKAmyUydPoQ81Z1cRLxAGXr1yddzYcUryBCgJMppd85GItU169+q9d7f0dp3Y8y2OCTK/AEISLJxTJU2S3MQINkicmEslMtBPbKiX2MAoMkGWM0fOPr37HDp42MFOPDd9G32t9s8RW4Is/O37J67uO7Zub9eqjWHkm72lS5Ya2H+gmdjU4JKNlQ3k+9TnaYB/AG4yOCj4WfAzOOt52HOu/ejhIw6TbxpESZC9ll8D1OKaXzBBxklgxvnz5surRIEkpknLlytPHL5v736cur2dvZurWBCdulNxSPZ56HN+ofqws4X0sEXZQUaXBBmi2dXFDUZu1LCR8oC9ZIlS06dNt7hq4fnEk9Y+f+7CsKHD80nTjkCK5ClGjhhJkPnQwZHrUq+YEwHhH5EgcAf2ocwAz5c33+BBgw8fOuz40JFe45iv4r+WINMCd45bnTZ1WlHpncf4AarVJt8oIJz4t+6/4k2iB3Ye7h4nT5zs1aOX4sPiB3zAl3J5JsZiSXVZCWEe27dub9+uvUHkTsbxg0iQGRhpp/8VlCpZeuaMmdCCWC/va/GhNr49QfZOWo8WemnUoBH8K5+kdKnSY0ePPXP6jLurO+YdhXBiBLft6uw6d/bcIoU1i7uBggUKjR45GsbD7CXz/tGW+VNAcxHxHj18tEnjppqGEASYBOXBSH/8KA4zyGgxL08vulhbW2fJnKVN6zYrl69EWzs7OWMzwi8maNPS6d8pQQZ9YbQwZ6eOnZQd2QC/M6KXLV12/NgJBgIRhWilP+OdXF0R/tHpkdPqVWuUBQ1B0iRJCSaXL11+4/oNQhFJuHy5ycT0RumvUmBjeddyyqQpRQsX1ZxLWsMeWQa72tna+UkvtwpvknBd8KMTZFIeEK21YN6CRQsWHTp4SN4qTgRsugW34NtTD7h+YuA1q9ekiZIgq11n1cpVyCF0ahwSkQnXHSq+I8QQe47vGzZ0mGnkmzKgZo2aZhvN7t29hyLVacK4mO8TcvTI0S6duyhDBvxT9R+MhyEsPzX/Ha1CjjXWrllXq2Zt5UlS8mTJK5SvQKNtWL/x0sVLD+0fSvOItQbs966pdH4owt7WftmSZcqyIQAnPmL4CHm1RM3DAx2UP9UkdJo3d17Vyp9ybYUKFurbpy/RqeUdS3kOuHg8/12htFuE2E8TkkeQKG9F/J3+byTuZrPNVpZWuifIJH3izak6tO+gTE1InTJ17Vq1Fy5YeOH8BSida2Gf386iPwJfSpCt3yhW0X0qraL7O9QjrqB36COiYPwUvblk8dL+/frTien/pwkrZBgZGhMxaT/jVxNk3wPQHfJ7wvhP8ltEx/L0MWnWnvwhoDt6dO+xZ9cesUhUYFCcZDlxylMf3y1mIpPAqbQTZHLRS/QpQZY7V24i4lMnTokkjMjEfWUgxJYge//6rYOt/aplKxrU/VdPqgw/60q7+WJ8NtY2RKSoNDgRAYpdvnvzjkgASoIiX754xV937dyFzxANECVB5iPeeIoSr/6CCTJkLnc7YdyEQgUKySeBf5s1abZq5erLFy+ja8WehoHB2AGKGc9H4SaJ1WkN4iJ8xtw5c5W98HRJkPGJv5//VfOrSG1l+bYc2XP07NETWSy2k3B8vHXL1uZNm8sTMUxNTMuXLY9ovnTxshy9cycx1yviI8zIbQ8dMjRvbs0+hnly5+nXt9++vftsH9jiAHRp4f9wggyt4OjguGH9hg7tOxYsUKhA/gL583215Kfky5uPgZctazaIWHHVDFETY9O0qdNmy5qddpaPrFWzFprpxLET9KOPt4/FVYsZ02fWrV23SKEi/LVg/oKcKl+eWEterlogb568nJaTK+kGeCepaVJugNvgZrgi2qVG9ZoImosXLrq6uOEzjh09Nn7ceEZEwQIFRe3yijuPreTJx4Uocu1SaK0ZpK9nQGiEmMiZI6d8uRLFSzK+aD3bB3aYd5weJH57ggzO8fF+ivF07tRFaRPqKLbF2Hfg8aPHIc9CdZnFA2/ct7k/ZvSYLJmyyCdJnEisZUZoev3adSTgy+e6rkn8yyGOdw1Bubu6r1+3XlsQQzgD+g+Qdolyfi5tBqJLa8AYd27fmTxpsvbSxWXLlB0+bDikgWjz9vQWwUNCa+vvlCB7LT2WP7D/wJDBQ7F8xdMzRrDh5cuWnzx+ktDxiccT8f4Rl9Ah/PhzgHeA/VavWq39imWypMmqVa3Gh7du3vbz9Yu+ROlnENMbxd8wPyyHUd+mdRvlKaWBvkHTJk2XLl4Ku0IsdIHuWSQd8eMTZABDYqQcPnR4x/Ydd+/cxX0g734wFzk7Oa9ZtUZ7e980qdM2qN+A0ItbQrqoueD/HvCJt27emjJ5avJIZQ7KlS23eNFihhgsxwGaQ2OEZA+yg96+bTtRgLKQtrzcDx/a3rcNCggS4/T3QsTHVy9eOdg7bNqwqUP7DsrSJcZGJqVLle7bp++a1WvPnj5L7aj7p+dJP2SAyDMjYD8YddTI0YhV+d4AQm7C+AncGP5dpLR0oUcxSy7oxPETXTt3VXgbx1e3Tl0U7KmTpx/aiyW6fiQjcSHfp76QobCoyFXA6YKuXboiJh/YPICO3r3RgY7CRez5f/bOAjCKawvDuNMCxaUtBUq9uLtrcXd3d3d3d3d3JyRIEkICUQKEuLs7JLzvzmyWJYQI0AKP+7/pvmWzOzP33nP+858zd+6YPzQnZPz1x19qlQSUKllq0MBB2lUs0RJkdl9GKE+pQJZ07vl/A2U1AHjpodlDLHbVytV9evWpWKFS8WLFtXaiQp3NhBmzMe6yQPZxERkRReBQJgl9q3Y4/Qz5ixtdlVl76odALc4QCJ4+eZr6KckqiCwe7p67du5Sn6+tLZCpd1myZUifKWvm7Mp9l+lIsUnulIxYPA1AyJVkkVyBLCYi6tEDsxVLlzWsW19tSuYMmTp37LRxw8Z7dw0d7B38fER1TGQ1sMab/hYTFePm4nb86PEmjZsqP/0iC2QM1R2DO+PGjtNWlEr+UBL+RRmrF0zoYk1DEkFxUUtzy5UrVmrDiaZAdiLZApmymhLBZtPGTXVr11V/SIfAbps2bLptIB5ruHDBworlNY9YLv1T6cGDBh86cEgoZndPzb0872iWv18ASf60qdN+/01T7/up5E8D+w8Uz3Qwt/D38xdX2lPqk//bApnyeFB0jMEtg62bt06bMm3SxEkTxk+YMC7lDQsZNWJUv779mjVtpltFKlG8RP169fv07jN82PAxo8aMHzdhyeIlBxksE1N3V/dA5blgZ8+cXb50+eRJk9lJarbxY8dPnDBx9KjRfXr3ZefaK5Y5suco+3NZchU+HzF8BF9goDG/82fPE/uJFq4ubrjekcNHFs5fOGXyVHK5cWPHJ9q57jZ2zNixo8eOGT2GXXH+PXv0/Puvv7VXXfCmCuUrtGvbDvPjcKNGjpoyacrmTVuuX7v+3O65eGBfSnd36+LDC2Qcy8/X/8rlK7oLUmCWnTt13rFth7oiY4psyE4C/AP1b+njFNpxzJY1W/9+/ffs3qtO2sdHkhNJtPi/NduUwflACW9RdIoICRZ3c8+aOfvPhCelAvoWCzx39rzDc4dUFshgA6TqqZOnOnbopC0fY0gtmrdYtkRUb+2eiVszxMWclGkjbfg3CmQYNs579vRZPPqvP1/PWsqXJ1+LZi1w8KtXrkKnLk7iia5pKhN/FYgX1SVSyvXr1udRVjVVkeebPORaO3fsemj6UJNopWLOV0R4hI2VzdLFS3WfFo3nQkr79x2A97w8vUT2zn4+6ih8kgIZ4LhmpmZEkCuXriAlkUz/sXVx0LVr1mr1LoCx4e0D+w9aPEKk+QuRJg3+/wswHoO7cvnKIoWLaEY9Xbo/fvtj6pRpBFz1ccbvpG7V9ZRHhGM8G9ZvaNSwkZK9iGVMGzVoNGf2HJJYNENocOgXZDlEPZR2eFgEzn7wwMG+vfuW/LGkmvLx+sfvf6AGN27YdOXyVbrOTffJ8v9NG+FOhT+9vbwZo7Zt2upO1y1WtBicaaBv4OLsqrkuldJZwTxo/s0bN1ev9nqx/yyZsyILt23dZmxk7Ey8Cw4Rd1j/V4OInMNsli1drs2GwI/f/zhsyLDz584/sX2K5IuJSjn+cs5889LFS8OHDtdKR0BMmTNrDnxuY/3Y31ckR1/G/ZXgAwtkX0QbUwLDSuhHeSIDTp86s3zZ8t49e+OYujUy3mfOmFldDytzpszqn14XyDxlgeyDQOB4aPZo6ZKlWiNUC2TqLVa6BTJ6nkxt185dj20eiwJZqlfYAPAq6e32rdtrKk/bf6tAljFj+sxiBpnyFEucmvyXpMDFWfCVoL5kkVyBLDo80sTQeNH8hXVq1FKbkjVTll49eu7csROVBukHB4W864oBHkjk2Ltnb/269ZWfJi6QRUYkppvPsEDm6+N388ZNCLfkj5qbaEr/VHrY0OGnT562trIRCwqoC34lBfjUjOYsXKRNA5QCmXgAXPIFMs4Kr754/mKf3n20xbXv8uWfMmkKivzY0WMD+g/4KeF8KlaoOH/ufJwZw1LzimSSzLCQMMhi7py5f/+lmcdRrEixbl277d+339LcMiggKDV98n88g4zhYFA83T1JugzvGurf0mf0r1+7kYrt+rUr1xidaVOm6U6LKPtz2aFDhm3dsu3UiVOXL16+dvWa/i0DUxNTeo+QHB4aTl+5ubhh3nfv3NW7eYtkiSOmuPE1gt/unbuxTHWBf5D/u/wNGzSaMX0mLnb2zFkOd/P6TYjAytLa2VHM9AwNCcOukLN4GYe7pXeLL7Cr5Da1aVevcbg9u/Z07tRFew05S+YsqK6FCxYeO3KMvyLC2Bs6CQMgrihX2/7TGWQAZ6RvF+oQCKhcqfK8ufPu3rnn7urOF9TLqu8CPkv/7Ni2o14Ca4Ec2XNMmjjp7JlzNE1MCHrHFIm4l/EQFA4YHRUjmCrl8/3vgFMnuhqRGnh7+WDbKGDd9RBz5cxFSsNYi6WdUnfxGbqg61avWq3e5aHO7+O1R/ce2CqKDY9jV6khjbQhXjCeWiDTXQThQwpkjCyBD48YOWKk9jIDSJ8uQ8sWLWF7fIEWEX0xFbHzj9Emho9YyaHhzI/fS/85IsIjHpg8QKboXksoXEjUso8cPmpjbUMkilWX1koWfAEhgSkO6D9Q97FxZUqXmT1rNln3syfPAlIxi/498KkKZIDISBedOHaC8EQWlDyhpYy09Ax6977x/dkzZ+t6U4niQqQdP3YcBZLCZD1l3h8GjDG/rn7y+rFHR+LjgvGyt7NHJZKBaJ9HRlDo0qmLOvlLeWbri+SuwcS/wqmRHIhY9ZndgKSoa5dumzdtNjI0Eou7E53fLflwFpzuv6y/pAC0YmQ0auHUyVNdO3f9Qef5uXnz5CVorl2z9srlq1aWVh7uHsihD1mbD69JkQyTBL5m98xu25ZtxYtpFh0GuXLmJinbuX3ng/sPODcSsdTEFFzbxNgEfitbpqxmR8p98WNGj0GxW1tZoxbEpYh/NTrp7JwOIf28d+derx69NGej4O+//p4yeQqkCglzzi9iUtYnCDZ6CUnQskWrDAlP1sudM/c/rf/ZvGkL+gG5Lq51IWj/1dZ9RHz4DDKFq3F8/C5Rnv6FQZke6O3ljSeePnV6/rz5ZDFVKlXJ8+3r58wA5Gi2rNnUtVlkgexjAeOxtbHdsnkL0kgtPqZPuMWSN8qrxt14j37euH6jhbmlZgZZqk2OrM3uqd36teurVhELYSVZIFOPkjNHrhbNWvBNqMzVxe1DC2QxEVFmJqZLFy6uW6uOToGs164d4olFgveVOcNJtoT8Hy2FCKZrlJ++XSBLPNfpMyyQ+fn46d3UGzJ4aMkfNcuoI75Jjc6eOfvU9in8C9EkGV2I9NAQGn3kiFGMiua3qSuQAQIqvTdj+gzt3I3MGTOTTy5etGTlipVt/2lbuJC4lJcpY+YWzVtgf3fv3FXjQfLjTZ+gYpctWaY+pRHky5OvaZNmaBQyltTckQv+nwtkIF7MC2V0UGykQE6Ozk4OTiludD5S6e7tu4xOge80U7oAwzd1yjR4GZunZ/gO/eamzB0LDwsn31CvcsAIeBOHcxYPuHAWB3V0Sn5jHBEBM6bP1MrNAvkLQDGrVq66dPESFk5y6GjvSKJOQwL8AsJDwwnwmByj4+Pt4+7m7uLkkooDOfM1WkdKdu3qtcEDB2ufzp45U+buXbtv2bwVjYI8YihpnauLq6+3r3iwWhpn2tOHH14g44icAxZVqUIllY7BD9//2K9vP5G/WSv5WzIOotyDTDPbt22vu3z4L2V/WbxwMXk4HSJWtH1rDxgqo+nh5vHc7jnxgIFmEFWW/9D09cMRJ6IUWWtaBXpEeMRD04drVq8R0wYT1nTLlSNX3Tp1t27Zdt/YBLviO6I3UhpnevXGtRuDBw3+8XtNFSN3rtx//vHn9GnTz545p86pxhdS3E+a8bELZAQslBaWMHfO3HJ/l8MF1B3mzvVNrRq15s2dd+bUGVzP2VGMPr6WJhdIEuwBh3V0cMK/8GgCB0QR+u6w+9+As2LoaSPEwpu0NhP+OX/u/LAhw5CkagcCceVpyDARWJ88VbORFH0Hora0sNy0cVOF8hW0d1UXLlQYmbFt6zbDe4Zurm44bGqCUVrxCQtksA39Q55zW/+20T0jlEyaAiXjBUUzBGLWD79L9U/pRiju1MnTgwYM0l1DquzPZceNHXf50hWH5w4KPSaRTdFScSnI1Y2WErme29l7unuqXSSM55OTpETyIDJ6+6CEGXoth2dIn/H33/5YtHCxgb4BrBgVGc3Qv4sKRA7zTNxV3bJFKy0VZ8mcVb37Qbkbzg/9n9hVldmmpBIQIAqEFJcI66XkDp9GHOqAU8WekXajRozSZgf4RelSpVu1bLVs6TIoztLcUr0170MoiC5FKrOllWb5Pjr25g09SEkrsEHJH3+i208ePwl5eiu1khT3TLhBWR3cf7BWzVradehyZM9ZvVp1Wkpwx/eDApVrh2mCsviXqk9ST0QqoK8nynIouus/kHWTEK1ascrwrqG7q7sg/xcp7xeRgA1PnjgZe9bsKF26v/78e+zosadPnsbqMO9UlhE/F3xYgQxHJsRg3kjZxza2kLaiOlKV1n2eUAMQAp5M+eCBg/Pmzu/SuQsSrmjhoto7akkZsijP6C9etHifXn2IaERnze8l3gsQy/Nnz/fs2gNRqPeO6BbIMoonir5eBq5mjZoLFyw0MjRSokkantaC/5KBrli+gryP/YgCWVboTq2OKQWyDJoh/qHEj7169tq9a7eY4OXihpELuZIskiuQxUZGWz40X7lsRYM69TKKgly6LBkzd+vSjexCvfgA9SdJbdGR0SSKB/Yf6Na1m/a2/M+uQCYCg+bL74K/r7/BLYPhw4b/VLKUuhNVx8Ob6HgGJiZa1DgS9QDBm2jBGKxcsbJxw8baNdHLlE5tgYw/wUroieZNm2NJ6s8xsr59+o0eObp+3frqNKUffyg5eOBgkn9aRCQWuUqyuoEsFG26fp2m1AqyZ8uOrCf/R237+qTq4Sb/5wUypYGcGy5KDCbEJr3xJ50NS2BAERwMme50GyiYXPrK5Su2j22RmDQqLDScYVInGam9BBHERscSgPk8PIwtHLdih+/cQvlGOEHO9IHp4kVLKpQTz/4H+b/LjzLbuGHjbYPbjA6ykgxE/TLilcNxIDZCBY7GgTiTt7e3m8mXScg93D0N7xmNHDEyfz5N5Shzpsw9e8A1e7A9dzd3HCooIEg9Fjop9ewmEP+KlDKhQFZQ3f/vv/w6efzES+cv2j+1Cw8OjUudhMKGSTgH9BsAdaj7+Sb3NzAAPKB/S9/TwxNq0nw1EZR7QODZtWvW6l5cKla0mJJvbzc2MhZXubWPoNIBHcX5X796fd/efRvWbdi8cTN5PsYQ6B8orjp+GisWdsVYBAcFkw9zJlhXamtkcYI8FQc/1KN7D91kGHueNnUawstWPLwskP2n6Ol4sVjXb9sOtLX2PscSxb/v3rX79m070CvOTs5YtYgjHxv0AFx09869mdNn5kq4SgFq16q9ZfNWwpCwh7QU5tgbTrd86fIG9Rpor33BzzWq15w1Y9apE6dMTUxpDq4XERbxUWpYQYFBVpbW+/ft37Rx85bNW2DLWzdvYWycSYr1l38PxBEnR2c8guGDwzkZ7FxYQiraix0SzYmM9evV116uB9WqVpsze+71a9cd7B2wBxg4xb3Rz5cuiPtidB9RgkiaO3vu+bPnyajFfbuM778AGNvF2QWpTQairc1BxRPGT7xw7gLpYnBQSIpy5X0KZAnehkKAYWi+pYUV3q35NCVwSmqSABkKAaNcNUk5zsaLlAlTNLxnuGjh4np162tvtAc1qtVYsnjpPTJSNw9NjSPR/pS1tEm0kAebNm5as3rN9m3br165SquFGRMsPnWxQyJF4LZPHj9h7GrW0DyVHuB3AwcMPHL4yLMnz9A2OEUS4SAeq3sJ0+rd0Bs2dJi2lgRIDaZNIZqI+ysD/ANEUvSmJRCwcGFjQ2Mi0aqVqyANIiymS24TGZ7sqmf/PpTIcnfqlKm6D/MpU6oMKc+K5SvPnD5LpHBxdg1V5tZpfpN20CHEYpQVXCdoNtVTkhGxiDGcDrXfuFETbRIBatWotWzpspvXb0Ld6mW85JmWMVUbO2P6DN0nUJf9ueyokaMO7D9IJFWfEp421RcnWFToEx9fJAoGJiJa6nbAKTk7uZw/d15UbHXmDpMWkaxhLYQYdTWMFFM8epiEHLtq17Zd7lwafULK1rZNO6z9tsEd4hHZ3HuU8D4lPqRAFq8WH59cunh586Yt6GHo+trVa6g4zYybL6gf3gR8Qi7j5ur2wOQB6cb8efPx1t9/+1290omPqKl68WLF+/RWCmReskD2YYgXUx+QSbVq1lYL66IuplMg0156B6VLlR4zeixyyNXFVVNZSg3iXwUGBEG22mfr5cieS5lBxiE0i/RnyqBRaOX+Kj9m1Jjjx47DD+6u7thzEgHrTSRbIIuKtja3XL18ZUMkkZIPZM6Qqe0/bYhVt/VvY2dJUjashAjD/gb2H6hNd8FnVSDz9/VPzZwFf7+Au7fvilXty2jWICtWtHjXzl1JVDglyJ1TIiqIwKCzq8CAwIdmDzdv2pwoMpUp/fPQIcNSUyDDOAgbSO2hQ4ZqH2DMrn75+ZcmjZuUL1depfLGjRovXrgY5aEqDFHeSna4YTfMQruaHcoeG82X97sJ4yZcvHCJAWUIUgzA//cFstfg+O/aEiFOZCx2z+xozm+//Ka2BVSsUHHRwkW39PQdHcTzExhWYSr0zdt7ALr7T2kjAydiEb2qVK6iHit/vvwtW7Tcunmruso1QU7kHsI4lZ/ogn/ieYrdvrm93r/uhtlg6kTW8WPHF8yv8eismbMSRfBNG+vHqjHzNXYifvJuiKPwrZdxxCrxZfGRpuuOHTkGP2gZ47eff5kwZtz502ef2tiGBATFREbH0ZwXCT98x1EgVvJGcTFBZ02ib7/5tmePntu37cArNc9ZSwTlHFydXc+ePjti2AjtOhR4WZNGTRhB0jl6W50WpHl8XgI4GU93TxL7EcNHVqxQKc83efLlyde5UxeRNii1g+Q75N+CerOwh6f5IwuEzm2D20+fPENkYxXJT+5jaOhDZyfnK5evjB45mqCldgX49ps8iMitW7beN7rv7uauEHhKailejIiB/u2pk6diOZkyZlJrGYiSiRMmnjl1xtLcUlwvikicGqUN4nYAzaa9Io3apqXY7Z3bd6ZPm66dxgvI8TZv3EwYohVqh/BlfiUMQzkLcTJvnQ7tffrk6e5de+AozY4U1KheY9zYcShs3NzSwgrhrqkUR4gH1xBlxBbNFitexfvYWGUup/Zw7wLfYfjWrF7726+/5fk2T+FChatXqz5z+kwDfQNNqfcD+uy9gfEE+geSXy1dsnTC+AnbtmyjJ8kiCFiMdeKKcMJ73BapQBAn+GJCRDFEkrbO8kvZX8i0IU8zUzO8KTWmxReIQaR/aixTkS1rttatWrN/DF6pUqW8CGuqkECMtF24f9wrhpKj79uzj6inFXmwPR0Ch6hcwXfwJvUn4ldvNYcm6BbIkrS6ZBAeGq4+0p5Oo/MjwyMxGDZR80oq/HImKEIOt3DBwkkTJ+3ascvM9KGjg6O4chMcimxLOmrHizwWJ2WU161Z16B+A0ZNvdIO4If+/foTBawsrBhcmvx2K9itOrG33N/l8ubJCxt/l/e73j17I2/UUu8Xlnx+lcCoPNw9z50Rz6DUXc2qTu268+bMu3lD3HGP+78RHMX8oLjoqBh84b7xfbQK9KWNreLBU/0H7t+3n2TVw91DmXWeuFKDyIFRxWXmRk0gwG9yf1urZq2ZM2bi3V4eXqnNoP4FQO/WVtarV61Bu6rNAejzFs1bzp0zlwTs7p27NtY2ZHpBgUG0glgQFSl8UxMOEjY4nO1dXIcXcyBnR2dTE9NberfoKPyF4MLekmu7Itg4LtHqxLETHdp3eCML/an0oIGDDh86/MjskbjgFx4JMyfvfcQp3J+ErkvnrurEfPUZC5UrVV66eOnlS5dtbWxTU2hLBKXmHmxlaYU8uHlD77GNLWQYES4ed/ZOMaA0je+QxaBPpkyeons1GgshISJc6lxDSvkqC6NjZWk9ZfJU3QUTUClDBg3BOElIhUgQ05DTRs6fGB9QIMO0sNvjR48PHjTkp5I/0aulSpYaM2oMeSshNcVVSj5/CBMKi2BYcYFTJ07hsMjaMqXKaC+zFS9WvLc6g0wWyD4Ybq5uJ0+catSgkTpxGJIUa5ApNTKEBO8zKc9GUCmlY/uOqALUAvSFlkiVx8W/8vX2RRKPGjmq1E9iGlOWTFmV5cZEgSxDukwZ02fOmFAgq16tBuFDnbAC22j8OlkkVyB7GR1r/+z5zq3b27VukznhuTOVK1YmcTqw/wCsjSOFBIVA8cpzG0UgRDU+uP8AZunXt7/uxSLweRXI/PxTMwChwaEQyry587Q3sqkTUnCq8+fOo4PFZIHwSCX5iYW46QFHByd9Pf21a9Y1b9pcVRLa+CRmkA0eqhaAki+QoWU5fyLi4oWLixd9vXwATShYoKC6RG7mTFm6d+uu5qsMhBCaKSUVUBvdeOb0GXiThqgnRlIxZPAQzgr6gzhEMpAs2MnXUiBLC2gyQ39g3wHdQFupQqXFi8Q9CMjH8FT0beqB0z23e647GRBja9m85dYt2zAbRhn7Sc0opArKrWrmD83HjhmrnUFGOOnbpy/thWvElaWUkhzcLcAvwMXZxcHeEUsjo7Z/7oCOcbR3xI/QfxvXb2zRvIV2/6VLlhrYt/+2zVtvXL1u9cjCzvapg529w3N7u6fPnBydRUKoEsib4Cguzq6nT53B07WPLwB//vEnrrdn9x7De4bwr6+PH8kzpw0REwU5jYemD9EE48dN0BYcwV9//jVy+EjU5AMTU3VNR5Fvv3lMnI4d4guYbt6E1QarVKqyfNnye3fveXp4pYm1PiIQmnZP7dC1PXv0HDhg0PJlK6AsY0NjhDvtpTluLm5kJpyhl6c3nUDK4erihti9e/suTR4/bnyVylXVuKWC9EadPqYud5gaQfwi9iVOQTgQE22UpBrOyfNNHrhxxfIVamVfuTUjbdo6EcgiSPJxMeyKHT5/9tzumR0bGQJUf+TwkWFDh2V9/WzZdJUqVp4/b8HZ02dJ22gvvcQG5/Bb+gFyg5lhYM3eFZBFODk4QU1oqfw691DnzpUbo50yacq2LduOHztB6L1tcAdbsnhkITZzzWZpbqnd+CdnhTjD7F+nKEkBNiYVnDxxcs7smuv2OF2nDp1IwDhV4XSf4nIukgL3wZbGjB5ToXzFmjVqwQPr1q47f/Y8kf3JY3F/MRZFZPTx9qWBXp5eiFFMjpTy2pVra1atadqkad6EO7UBUqlZk2bE/atXrolJDcrjGgR3Jds0mm90z2jC+Ana5UHBb7/+Nmrk6FMnTxG11ernu/o2ZcSLCIVx4iMMvbNyQ7rKV2ycp5GhETl/q5attPEd5if53LF9x83rN2FLu2fP1e/DD7zBRFEIYsgSwHvdAllqQEzU5if8HL1h9sDsxvWbVy5dISc3MzUj4WTjVIMDE99OTlf4+YjoP3zY8EoVKxF2B/QfsGnjJjzaxNjkie1TBo7GKpwgRo1zYxzhBEsLq4sXLi5buqxhg4a6s2sZOPUZdlcvX4XPtdcLEw0c3o0SW7Z0ue7S/nVr16WjhK7zSWHhVInPAVhdcFCIssTnwupVXy/TTryGABE5ly5esrKwIi3HJlGAKGdMCJVoY2Vz49qNVStXde7YWbtwAclSMyUEXL92HZZW7tRWauJvIihATFqEAH/9RfMExmJFi/Xo1uPY0eOQ5wd59wcA1YHK3bVzd7OmzXQf5yo0cPuOs2bO2rl9JxR07eq1O7fvoBwemj2CDeB8bThQNz4RH4owYUm0oruIBcKDEnQvHEifE0127djVp3cf+Hbr5q30GLGDGIfOwVXV2O3j5QO94LAebh6iz8WCGNfhZKKV9g4eIB7B37YdykTvpoi85CBCzyQfQZT5RFAK7l+jeg11PzBeoYKFunXttmf3XgYIthFzwN8avuQBLbi7upMPIyq6dukGPxBekUyECdiSptEiUl/tRjNJc+h5iJdEY/SbT8jJkT0H2e/4sePZCb1NV7w9IfFtxL2IJ0xAbiQvWrlIxk66R9KnSB1bpCa7Er2Uws4+J3xAgQxdh3Mpd0O3VENb+nTpW7VotXb1WlJ7XPVTCdqPC8w1JDiUZATBRhI6acIk2qveKKYUyMQaZJic5tsS7wu8GNXXsUMn1b/Sp8uAf2UUD7LMIGpkGcTFNmStWnlv2rgpCctja/KLVNVnAGwM4/Gr2rVqq+tjZkyfSbmnUjODLEO6TOrzKzl4/XoN0Jn6evrwp1hBPiLlSa/JFchevYjz8fA6d/rssMFD8+TWiJsC3xWoX68+TIRV3TG4A7NDMSgqztLwriGJ4vx587t06qJOPciYPiMphLpK/ZdYIIuJikHgbtu6HWmo7gQULVKsXZt28+fOJwo+NHuIeqY55JlPnzwjn9m1c9fUyVPRzd9+kwcLyJ4te9HCRdXblMqUKjN40BDycOR18gUyPmfkEJ379u5Dy2oXVNIFIQGle+TQETELQ+nP1NhTaEgYSnralGna6JI5U2bRyfv2k9ugbGSB7D0R/4oE48D+A7ozyHQKZC6pKT6mHkkWyJCq4vbnj14gU8wGUx8zaky+vJqrx68LZDa2DFbyl3M5E3SG6QPT0ydP44CkRvDA9m3bt2/bsWPbju1bt9NLQwYPQXlrE7AiBQs3adBo+OCh8+fM27h2/fbNW3dt27Fz247NGzcdPXJMrDHh5k6XJi5kKHc3P3povmrl6kYNGqm7ApkzZSlfrny/vv0WLliEqSPZ6SXYBkF27uw5xO6ihYv79unHd7Q3TOXMkatD+45rVq+BTxHx3l4+HO7tLsWMH9s83rZ1G/JRe3mcVHnypMkIL3LjyP/8SXMqSB5ghqVLlpKXQsJVKlche58zew66ee+efYcPHj56+OjJ4ydPnzpz9sxZtlMnTh08cHDdmnXTp07v2b0nTdBdIgpBPHTIsH179tFvIv0Wq7mlbF30GGwzc8bMyhUra+fSlvu73IjhIxgFdsUgvr+h8iNx/84LF2cXXOzg/oNYFPav3RB5DN/4cRNI4wnJ6tFBmdJlyLJmTJtB2rZl81bGbsvmLWx7du25eeMmQwY5v7GcSry4oYZMYM6sOerUXRUZ0mcsUrgIoaFXz95jRo+dMnnK7FmziV8kfiuXr1yxbAXbcrEt1278iUxg6eKlSxYvIVLo3dATt+EoN5q9bSRkHdevXh85fKTWrgDBF/extLAkwEeLB8VqvvyfAVqGXhDfQwYP1d5+W7tm7cGDBi+cv3Dj+o17du8hEGD8fOfM6TNnTp89eeIkprV2zdpxY8c3adxE/YkW9KEwrb37SAVJ8MT9lWKmrej2d4FzIFmCbNu366Bd0gjt1brVP6tWrNK/pY8s8ff1FxH2ffsHu0IkkNwKftixi0bt3rmbBIMN1sJa1qxeixnXrF5TWyBDWBO/JoyfgOrYuGEjzKb5yY6dCLh7d8SDk8JCw7RxDc4kcKeyQIbHieUg7R3JHgm+vHFWCnbQMucG25BnLlywcPXK1fSAehNBcKCoWGm7kZSAJPzUydP9+/ZXq9X0WYP6DYYPHQ79cpJwAj9En/BKFGbU+DIssXLFypEjRmljvRYIm5EjRh7Yf5BzIFFXyn9xbw8cuu6+8X2YJ5fOk2ShI3wBn1IYIA0Ljkh8KiCGUTiYx8ABA79LkAGgYP6CTRo1wew3btiEv2PnxF/y8KtXrh46eEjx+nHNmjYrUVyz6AFAF0GYaFezB+JhXzhFzNsP5VAWPsOXR48cDWOrP1SvAsLYxO4A/wBU0EcUOakCsSA49MrlK8OGDNN9MnL2bDl+KfsL7k8swCmmTpmKweOPxN9lS5ctX6ryvxoONEFh2RL+ExGBcLB71x711lHYT/sUICI4Ygb5gXfnzJGzYIGCkCf9xg6hIJTzkcNHiNpiO3n6zCnBtLgt6dLqVatHjxqNa2tOTgE/x4WJUPg1woCE5W359DYU5eZ38fzFwQMHlyheQt0VoZwwpDx+9JKNlY0ouESmmWkhZ1iaoVRv2kXH0nXTp81YvWoNEhEKojlwr3bDtI4cPkpMJwr37tXn59Kae3oAmq1C+QpDBg0RizbcvptQrE/56lFUZDQMzxHLl6ugnUD0Q4kfSIjgQ6QLTMuu0ry22ifHBxTI+BPqAhNq1LCRVrORRM+aORvZ7O7qDp+n2LFfCoiPIcEhaAkjQyPkH577U8mfKpSrgCC5dvUa/KP5nsT7IigwyMjQGKVEx6q2hBTPlDFTBlHAyoCEFjPIMmXJoKy2UbtW7W1ihoepl4dXcuURHcA8mCuaRzs7Qew2HWpflMYQ6WzKkmTi8xbNW5IYKjV9pzcqMO8+ULIFsnjxIEsLs0cb1q6rXL5itoR59RyrSKEinTt1nj9vPnnO2TPnLpy7AFnPnTMXp/r2mzzIL8Ri9Wo1WrZo2bhRY7UW83aBLFFs+wwLZAD/uXn95sQJk9QbXFVkzpiZNG9A/4HkkzT8/Lnz0Dcp2ZjRY4jlpNa5cuQiXhJF2rZpRw+oj8cuXUpMb0Yrp7JAhpVcvXy1a+euZKfqcXXxTe5vpk+bfvnS5dfXglIBciry+XVrXy9MgLF26dyF3JJODvQPFHElWaCAZYEsCSgFsoMHDmmfEAq0BTJSI/KHf7VAli/vd82baQtk4qHUKU4fTSUYCLwAr5kwboLWFHULZOrcAc23kwLa2trSesP6De3atPvh+x++y5e/wHcFUGz5vxNv+KRA/gJIQORv7ly5lQm3GTOnz5glY+YcWbPnzf1tQb6cLz+vBb7LDw9idYsXLlbmZ3m+PfmIPNDby+fyxcujR43R2pUKzvmb3N8yKLDKrBmzZs2cRXIIP5T8sWSeb/PoLraVI3sOOnbO7Ln4NfyL2hAP6kqqikHDbaxt0G18X6uxfv3lNxKG82fPP3vyLDQk7JOkf/SMmanZgvkLtDqe04OX6HNOD/qqUL4i51y9WnWSfLbKlSr//uvvDESunLm0VUJAz/Cnfn37k/BjyVidr7evEEkpAfNjgHDwpk2aKpcKxFjwpmWLVtDyjes3ntvZBwUE6ebwaQVcBGXd0rs1dvTYX8v+ikXlzZNPZxP3c2XPlp2QnDGDWO+ADdLjlbGmmfny5KO9vOb5Ni/dAnUP7D9QITHxABbtqPHG39dflIQGDVGHOFvWbITb7Fmz5/+uwI8//FisSDGOhenCyXQX79lhnm/ysHEC3+b+ls8JauI19zf8kxCJGZMYTJ08Ve/mLRcnl3DlhmhNPyS8BgcGY8ZDBw/VVio5Z3WdQXxcvRXxvzct+pwTu37tBsFOt4SaNUs25WJYHryY6F+xAtZVDQPDv2pUr0ECQxDUXcIGZMua/a8//urVs9eWzVvID+2fC3sgLKbI/KR2piam48aO170agdESXvft3Y/Ze7h7iAkmH5A883Mb68fr165v0bwFLWLLl1dYFBtvsJbChYpAhrRXEWTiIfG84a8/lSxF6McqsMaC+Qvmz5efxJK4pl669HD31MxHUKgjhQJZwukHBgShsiZNnISCp9snjp84buw4GIZPeAOp/v7b7xw6V87cinV9+0/rf3Zs32FlYYXO0QoDeoPUCDNWJlS+5jreY42Ikz9+/7PcX+UYEba///q7fLnyjBof0nZMndZpfoD2yPVNpYqVBvQbsGP7TnhYTew1jvzW0IWFht02uDN1ylTd0a9cqcrC+Qtv3byFkFBG6r82Y4m0AvthlEmw8dZGDRph+ZqxFFlIBiImNl+vTr3Ro0aTCMyeNbtXz96QgMLAObSZNsiWJZtw+U1b7igLPKFdk6yOwQNurm5o75HDR2rv9MfvyCkgQGNDY18fX1GX+W8NJ+5FnBrUWrf6R73ooroSDoIGJgnE66E13UAA2wuvfGtDiqjf4QtkCrjDvTv3IC74QV3FFaeAaW/euImPa6+RQLnf5f2uaJGiBfIXpFsqVqgktvIVVb7FYcuWKcsXcmTPSZhTfwI4qyaNmkyfOv3YkWP3jU1Qqii65DWbitjoWIfnDsuXrahWRTyBWgXn0K1r900bN91Viv6pFPyJQPB6avt04/qN1RImJJKgoVXokO9L/PDH73/QIoSHdoNwYKQfvv+RKKNLX2g8yAouWr9ug94NPXFpxM8/VUuLKqsXnT51GkNVlyhVB5SjzJs7T1P78/b5Isv3H1Igi4x+ZPZo1cpV5K3qD4F698ClC5ccxb2rH/TQic8Q6A1ikIuzq+E9Q6yalI24f9/4Poak+YbE+4K01/ax7fJly0m7NMak1BxIBFAUQjulz6hdauPvP/8mcFy/dt3R3jFVd1zFiYd6693UGz9uvJYhld2KuWPKwyuVEodyi2WmjFm6dO66fdt2XEB5dorO89be7d/JFsj44Ys4dxe3a5eujBw2olK5Ctl1blRB71arWq1D+w5w0+BBg3t07wmjqRfYUVR444jhI2bOmDlk8JA6tesQID+7AlnqlmcmeD95/IRzGDRgUMkfXt80yt5K/VSqWdNm3bt179+3f+9efZo0blKmlOZKFxkCPTNh3ASS8H59+qlXwESBbMCgo4ePkjYrsuDdJ6AUyEjSHj00R20gWNXdaoEcqVGtxto1a5GnxFSESypnm7+IfUk+tn/fgc6dOqv3T2GdrVu2XrNqjZGhMeMiqDNZyAJZ0oh/5eTovHfPvlIJz3MAugUyDDI19pZKvKNA1ly3QPbROhAaCg41f2QxccJEvFg9HBol9bdY0nZiz9Q3F3p4b/zw/Q943MkTJ7Ef5daMxHdjQcrWVtbqCkGIJ6Sk5pcKMPviRYv/+ceff/7+Jx6tWwxSUaxIsYYNGqJKDx86jJrEX5QF6ZPWSRwdIbVpwyY0hPYR+OrTSy9dvGSnLET9SQQWbGlpYYm0JUVRz0oXEDIhKlPGzDQ/a+assJnu3ZQq+OtPP/5EV5CibN60mThka2Pr5ekVGqwsG5QSoiKjnz55unzp8grlNc/MBZhNv7799uzaY/bAzEN9rsgHdA6d7+HmcfzY8datWmsO8GGoXav2iuUrjAyNvDy8xD2kCo3BZghl7A2ST2Qt4grYW/2WShQtXLRTx06HDx7GVoMCXq+5AMGqCAoMwoREgSwh7Bb4rgBhhQQ14Qn9n2ZBECL1Q7NHa9esI7dJVIPWAgNTrg1mJpvi/LUaSItCBQrVrVN36JCh69asu3rlKp1A9EEViSifUqMYjssXLyu3u75+2mzZn38h2p4/d4EY5O8nlgtMWWC9GwTf+0b3J0+arFuDe2+Q9fXo3oPQ5mDvACGoyowImGSBjKyYpBRfQ7Wrn2Dk8+fOR0VAfVBWqZ9Kk4ojP1AUbAXzF9RNhgGkN3vWHANloVjcUN2JuM4RFEKUF2q1YiXdJFML3WFSKULzDx0UKVyUfF7lBLJ3fDzQP1CZzJi0I0MXtw3uTJs6XbdARtDnNPRv6asZl+iQT8CREmmBsgKUp4cnegZR2rJFS91JYSrQpVjp33+V++vPv9HAibgxz7d5f/lZTLMi/b56+aqIJh5eYuWypLSrcn3FCwMbNnQYYUjdQ+FChTu067Bt6zbSV0ggRbH60aHqZ1RW40aNdat+AB+E7jT/SCNK/liSHOrsmXPPnz0X8+lUb1JubxQ3fEydpvuQGV3gocpcDByVaC7mZWj+kAAysrJlyrZt05ZcjFhDvqCZXZu62iI0iJ4cO2astkbJIZC4E8ZPOHHsBMpHuQPxfcqUxDt8n3QMKlD3nAgK/4jkWd2UjPqNDgfFihYjiNB1KGEiAufj7UUQUZ6lmxJiY1462jtBYo0aaipB7D93rm/a/NOG8aWjyNIJwWldW+2zwIcVyAjuqCDdKcOM0ayZs69cvkKfEERSnEXxJQLhwXA/tnlsdM+I0Xd2chZzGiQ+DORN2Mz+fQdwK6145o1yrVp4tPqqfo73NajfACu1MLdITQWAIYND9u7Z27mjppqROWOWDEp1LH26TGqZTDCW+C/T9yV+HDN6LMkCGavmvulU6MMUCmR4UXhw6DPbp0cOHBo5dHjFchUSCeJcOXMhmIiUhC71kzzKWonk0rDMvr375sye26JZC7qDfIB8ddfOXRCut5cPrJpIUSme+XDxoiXf5NYUyH78/keyqYMHDloqS8Bq5x6nBrTfylI8+5OcR90bo9Knd589u8X6+upFhtTkZgwSXyYh2b5te6eOnbUTBVUgCPLny1+oYCGUOkkmnzBOKNfWrf5ZMH/Bzh07ae+kiZPUClfZn8sOGTz02NFjpM26GVESUApksBgC98jho3SgcrTXIOaNHDHyyOEjtCXAL0DJlFLVNTSHnjx39tzAAQO1U2bq1K7LMN24dsPF2VWQQrJ7kgWypKEUyLCu4sU0E9FBtarVlixeclv/tquL68edmYxt2D+337B+g/bKHslz61att2/dbvrAFAEk/OvjdSCizdLccsqkKahe9XAIrwH9Bx48cMj28RNNxeTdR4sIi0BVQ0+J3Of9gLG1b9d+987dFo8sQoJD3p5EhuD28/HDNY4eOTZj+syWzVvqJtLJAJoib+/UsdP8efOPHjlqbGRMQhvgH8D5v57g8ybIGSwtLNeuWVuxQkWVAUCF8hXZA6mv/XPy4U8zg4xOsLezxyD/+vMvBivJIkUyyJwx859//NmrR69ZM2bt3rXnlp4+rk12RIcno650wTfNHphNnzb9t19flxiKFik6bcq0c2fFAo50bAzq8wPAoKBj9u/d3zhB434gKpSrMGvmrBvXb8JvMKGauakFstOnThOMdOdMfSDy5c3XrGkz4bAmppqVmNReTeBO5NrFC+LeFm0tg97r0b0HY6rc1OaVyiTno4MOcXNxu3b12tQpU6tXq0EQ1D4rPTUgkfvxh5LNmjbHtGgLbmJlYUWkw2DoBBE7km0Ug4JXogrq1q6rDRzq5TeyndsGtzEJYtC7HDaVCAwIQiWPGTVG+3yeDwShbf++/U+fPNWGfojL29P7+tXrz5480xxVoUoEOsph3dp1KEu1CfT26FGjNTtKBX795Vcy2KtXrrKH1yo/Xlzt45ML5y6MGzuucqXK2bNlT1NKzyiX/qk0UWb6tBl7dsMJt0gnPD28lIz0nSkTw8qgiAJZwlJ62bJmb9Wi1eaNm9U8RB2sT1LqlUgrIiOiXJ1dr1+7vnb12t69eiP+RWEhJZAC5cuTr0H9hqhWRAs2b2NlQzQJDBBXnt6VqJDGcKAB/V8/k7pE8RK9e/YmrUDkeHt5i4lC/y1exL7EYrdv24E7k9qpZ/XhEGurde9x+NBhuiU4KFgbC6AIdBdd/duvv+fKmTtL5qxvF4neBUJViWIlUNeDBg5avWrNmdNnTO6bIK3pN0gmGYfVAipmjOD5Pr36cIbqbvPmydekcZNVK1fh/i7ahVnTDtQpZ3Lh/IVuXbuRRWbPmp24oB4iNSCbK1qkGFJt5oyZu3bsunnjprWltYe7B2TytiBMEpHhUY/MzBcuWFS1suYaMyj3Vzlk6onjJy3MLT3ENJM0r632WeADCmT4o5mpGWlLnVqawmUGZa3JJYuW6IkJv6mde/iFIjY6NiwkLCgwOPU5tUQyiImKcXd1v3r56ojhI378XvPAWagpUwb1Lsv0iQgNKpgxbQbc4uvtm4KZxYtlMZEWfL9ihUrqtYGsWbJlSJ9JqY5BJukzZciSOaMQz7lz5alTu96yJcsJKA7P1WnLqYodKRXIYMmYF8H+gbbWj0+fODVn5uzmTZsnmpGhgnYSvWrXrA2ZLlywkPTSQP823Erq2FF50hNk3bNHT5KZh2aP/P383+YdeJbwsHrV6m8T1jtDmw4fOvzUyVPkZuqkmNQQnwoi2fNnzzdt3KRd9IQ0g1Bx6OAh5bl7QqSmygGErIyBeYkuB/YfGD92vHatykQgT/i59M8EzpHDR9KKs6fPkmhBUosWLqpcsTJfqFBePAb+/Lnzjg6OulEwCfA5aUJcfGhwKCJy7JixWomgAk5fvmw53fvs6TPyqOR29RZIqxia8ePGa6/o/lL212FDh584fsL+ub3I55MtrMgCWdKIUx/YcVJZLFBk0WIx8mbNVyxbcff2XTdX91SWFVIJes/Z0XnL5i01qmsmSJYo/j3+tVdJntWFrlNTIE8loiKiyIXmzpn7S9lf1MOV+qkUWRZKgpRPuaaUHJcRbFC0C+YvrFZVU85D7SlbLoyQV3XLmUP5J1v2pLdsyiUIDj1wgHBkRAzZZpJ1c0QSJEjmSfpN2jxwwEDtQr9JIm+evBUrVGzbpu2okaPWr12PmrxvbGJvZ+/j7Uv6R9R8101ANM3YyHjO7Dnf6Tzbq1aNWuvXrb9zW6xh8akKZBCsv6+/+UPzHdt3zJ45e8jgIW1at/nzjz/fdS1ahToFoEG9Br169Jo5feb2bdvPn7tAA3FV5KyqPlPlmPGv/Hz87t65S6Je9uey6s6LFyshJjlv3U7PkGaEhYZ/YM9wMmRrMEavnr0KFypMAk8Snv+7/OIOx2/FbYwMK4Ke97SaLXeu3LkVq1P/KbacubTXY7C9Jo2aLF2yTO+mnpjpk/CEfk6SeIEEnzhhovbL7weipJhRpfBDkcJFOnfqcvDAQfNH5qSC4kr1m8CAT5041aNbD23mUKZUGSUgnsYZ/ZSHBn5ESkkDlEXZ0BlXLl9dt3YdGQXM07hRYy05vAv0doVyFchqCKOrV64+ffK04T1DCMTdzZ0oBkOKimRKLcLjrK2sd+7Y2ahhY+1wlC9XftbMWWfPnIX9XF1ciVCpiUHJgNSIcZk/b365v8Ut8+Len2/zokwwIZW7ePNNbnG3rHhV7qLF9rJny65sOYho/FNXyeCAx44ce/L4iVIXFuSM9Xp5el26KB4Dl3DQcGTGoAGD/vj9jz//+Avlo97lERwYjCe+XiT7rUo3dkXGyHHVi14ojfnzFty8ftPR3lF4mdZh40W5yu6Z3cULF9etWQeB9+zek8Tpxx80yvVdIJZVqVylc6fO48aOJzfmxBg4OEGtmGO6yXACJ3/tyrVRI0apD3oHRQsXxWD27d1nJh4S5xEu0vWUx13icwBuRUDEYcmiTxw7MWXSFAR2UZ2HCb4NAgrkMLD/wMWLFh/Yd0Dvht5j68dYDi6GpE+mAMFRzpw+26F9h4IJz7YuXao0SvXokWPENR9vH+FH/y1oPnEQmdendx9tcZmgiaeLu+m1W8JNlN8QXgRjiFhDfOGbMIPKD+J99pzqRTXaNXyYUOA21jb4y+s+iXsFReBrKL2ZM2YNHjS4RbMWKBltrTlJEPUI9C1btCRYLF2y9PDBw/p6+hbmFuQdBGWGT8wASoW7vYx9ichEC3Xt0lVdJQb8+stv5CPkd8qd7GIO+HszbURYBORPZ0Kz6K727dqX+7u8epR3gT6HrOrXq9+je49JEyfTLZzevTv32I+nh5fyLFTlQbqpQHgYyu3+rJmzYUvtzlGA8BvdlXDz7yeKsB+IDyiQEV6N7hmhGLX3xGXOlIXkbuOGjerjy7GfLyw1SyvE9BTxKvHhgMoQPCb3H5A8ah1NvTKXIX3GRNUxkC1Ltj69+x48cAiVojxl8h3cokhQZDB5FmyQQVntPWuWrBkzZNLeYsneMmfKmi2LqC0UL/p99649du3cDZeSepCxprKMnnKBjL28jIkNDQy2s3167crVNavWQNMEvNo1a1evVqNa1erVq1VHujWo36Bf33741bat286fEw+0grOsLK0uXri0fNny9u069O3Td+nipVcuX1Ez6rd9jL5wdXFDuvHNpo2bNm/WfED/AWvXrIWtnBycSFHSVGJgb16e3levXJ03dx6sh5jGyVevWn396nX75/ZC1ZFXp5LY419Fhkd6eXhZWliRnMDmbf5pW7dOPdJg2k7Oz1ZDWXANEbBg/oLdu/bQTOT1Yxvbh2aPCACTJk5q80+bMaPHIHMZIXFTZGhYchdeaKbSUppsY/144YKF5XRWtsKqWrVstWf3HghLWQJAWf4j1SAJ4dyWLF6ifcANKp8u2rZ1O4mHUltJblqHLJAlCbqFlNXY0Bh7I3i3aN6ie9fus2fNoU/obc29qx+vQSTtHA4zmzplKgq1UcNGA/oNWLliFQb/1PZpUGCwsK6PdzgUlZurGwkeeQ62hzEPGTRk65ZtBvoGSChlBkFyIw4ZITjIh2dMn4nebdemHZG7W5duvHbp3LVLpy5dOnfpypvO6psuXTt16ZbU1rlDp9YtWpFqQgs3b9wUMzED37GIVZyoawf6Bzo6OMFFhw4emjxpcutWrRvUb1i7FsRVvVLFSpUrVYa+ML9mTZpx3MkTJ69ZvebwoSMoePQ3atLX2xfnYj/CnpPszHixBhZCZNDAwdr5wwXyF8AADuw/iBbB0z/u00tTD84ZrePr44vmhkKxQ2IJRESfw9Wwd62atWrWEKuPwd4KiYmuaPtP28GDhsyZPRcaP3vm7L2790hmIBmMDcpK0xze4CDxEPcd23ZgKsSwhg0aDhwwcO3qtdeuXofTUGnJzB1IJaAI+v+BienmTVuGDB6KCeF0pC6k3z269yT5VzeGQ7E0xbq6dOvWtZtqe5qtc1fYD6vmDfZJOmFqYuru6o7011BQvJDy9MORw0eIfe3atv+n9T/YMOYEX7G1btmaiMA/ecN+CARia94SEuBV888WrVTH6dSxEwbPr9SAKCYQPX0WpK7FpgP+Ccdu3LCJrhOUrwCNS/RR6neO5FHJRZB/GcQIXM/+uYOxkfH5s+d379pNJjZ61GjaWLdOXSyqauWqVSpX4RXTUhUCftepQ6cJ4ydgh8ePHr9189Yjs0fQAiZKOFZS5VRVSTg0PQPRITYYsvp162PP48aOO3r4KAlPQmIT+4EzkqIioznKqZOnoIV/Wv3TrStm1JOte7ce3bt1V7Ye2JXYeKN8qLUxjaV17sqvsBMGffTI0Zs3br6ldwtWETPIlNnrsdGxJNs0BB7jiLAoOefOHTvJFflJm9Zt6CgiMn+CP7ETuheZQXtRU+TJzZo2w4owLcX82sCrmBZRuEXzluPGjDuw/8CD1w/BeN2tHJSBo5cQDwwch1swbwGMyq5wf4aJUatSqUoVZfgYOyiiXp16NA3+3LB+Ay5w7eo1i0cWdA6cQKwnriUXqUnVXN337d1P9qsu8QMqlq84cfxE6MXWxlbUeVM3l1/iMwECMjIiCrd98vgJcn3l8pWDBg7CILETYgpxREkKamBL/BNxwl8RRTu277xw/iICCX3i6e4pLj/EvEgmsL6MfYl5bN60+a8//1LnapH/qAR45dIVUWj2CxBJzn8LDFXcdXj/wdYtWwk0BAI2vEMlgUSbhiu6dhcRBzJQg05nnQ2l07EzYQIHXL92vfpwyUQzdAhDHm4eluaW/BXvW7F8JVzHrpB8tWvVESs8iiysmsq0RHPIsHOnzmNGjYGQyREuXbyE/iHbZCcQIzSbGnGuAkImTDNkZHB9evVhzwTx4cOG79i+47b+bcIWzqvciKP5flrB/hlE8sE7t++cOXWGsZ42dRpEwVHQJ9gPVqTd+CcEBStiTiTb0ClBxED/Nj1Deujv5w9/KhcyU1tqj4mKfWL7dN+efSOGj4BF6U8OvWjhInXZWdI98vNkqrefNT6gQIagOnf2HJEuT8IigyV/LDlyxMhDB8QFaQKWkG0SEqkD5IBjwj8kFK1atlZvNUifLj1v1FvC366RITymTJqC9cIw4kksUcqTWLTmqjyYCyojrd61c1fTJk1VQ82WNRsBQlsdUwpkmo33VSpXmzZ1xrmz55WZoWKB2qTTxreQigKZivhXUWERnm4ej8weopBgahq8Yd2GtWvWwewoOVKUI4ePXrl8FT4ll3B2cvZWnj0M4/PJ6VOn2a5fu25pYcX5RYZHJpEaKUVBR3tHEtQTx08cPHDw+LHjvBerk3h5K+lZGu4GJ5KR1aBHyfFOnjjJCSN2b+npk7NxAkQdwX2p3hvg6EpKYG94z/Dk8ZO7d+7etHHTurXr1qxas3rV6nVr1m3dvBVVevnSZSNDI0K7p4cn8cPL04v3KGPOgSG/d9fw2VM7Rl0EqmRqCpyYcm4clCOuWrlKu9QUKFa02MABg+BxUl96WFHAaYlR8a/Qx/v27sMQtRfByGEWL1pMtqN2TjI9868UyLL/P8wgw+vcXNzow0sXLh07cuzoEeEOZg/MRHnXX+RsabK3FIEJMY4G+gYci6yeqHbb4I6NlY14ElxoeHLW9V4ICwmzffyEPA2vpGniwt3de4hdhLKS4Wi+liT4a1BgMMN99/ZdvABPPHH8ZMJ2ArNRNuUBasp28tiJU0lt4vMTpy6ev0irORmhs8WCPkkdO15UiOBWVI6/rz+HvmNwBx/E7Ldt2YbbIh+XLlmGZ23csHH7tu0H9h1A63N6FuYWpP3q3R8MqMi0scM3B06bznEIFycXft68afMEok+PEJkzaw48IBb78EvbvNePCaUHIBB6ABaiB0wfmN64fuPEsRNkxVs2b6HhEBeCe8WyFfTD2jVr+YQ/HT189PLFy5A2xIU90wSGPjoyOpURRYuY6BgvT29y/gvnLuzds4+eP33ytMEtBs4WkiENEBd7Pzgxjo154efjh6LFMnGB06fOEGgwsJMn2E5C1BgYG2+wq6NHjon3fK75k/grxkyfKDZ5glHDf6FcKFq3/ETbA/wD+RxuJz1Tnx3GTtS9Kc8RUw6nbHz41iY+xHEIQ9i5ejKcLXFBG490ORPnJdZwJhPGT9DO7kEH9Ovbb9fO3XQp9olxfnQfTz3iXsYzfARl3J9YQCvu3rmLBx0+dHjnjl2bNmxavXL1yhWrVq1cvWb1GkwLhYBgOHjgEMbAN4npKAQaruZsWKlofiptQZkGxVjo39Knt4kge3bv5dAPTR+KgVPS5jTs7R1AHjAEdk/t7ty+e1Z5ECdDDOlhw7zR3bTjjslpDUNsyqDzhtyPNJXQT1ZPcoI3qZYPtyBsbt64iUZ6GfvysY0trgcv4YOoC9LFJYuXon9EMvPqFZpq145dJJB07PFjJ44cOoJAQm8Qhenzw4eOYMYEAogUY7ty+Yqx0X3VjMXMRNVMlA7huBhzVEQU4oTwQb5EN549c5Zdbd+6HS1HMrxsybJlS8UGLWxYv4G0CrulhyF8VCm0hrRTaprReF/yYZqWIknnzZ33d8IzjpDFbf5pw57JsbEBhcDlAmRfGpT5j9gAvm9ibEJMP3TwEOkKYQVnZ3DZCLLwwI5tOzBOAorhPSMbJS/w9RF1VWGW7x70F7EvQ8TSdbenTH79bIeyP5cd0H/A7l27iU3sJ1Eh6T+C8vQA4ilCC2a4fOkK4UYTa9K44ae8qoxBB+KG4rZTd0Hs9K22c/Av9BWNhS3RPJAn3s0P6W1yLlIwCHblCk0Qp88Zgn179hEHoY77xvfpcxdnFxHElUeFpsnRkG0kF8Sa+0b3oQiYliB+5vRZZBI6XwRxdTmqD3BeTik0OJQsRuUiAiJsiRgjWMBFa1ev1W5q0/bu3gv7XbtyjX7g+44OTvxWmJPg/MQ6LXnEvXzl7xfATgjEB/Yf3L93PxSKQILiXJxdIf9UrfT/eeJ9C2R0I9kKOrB6wpMT8uXJ11hMq1+KqasFC2GcEhKpBgaDyZ0/d2HEsBHatW7UFRvVlchImkTJLKEW8U3ubxrWbzh75mx4Fa3r6uKKn8ISECOejg53c3UnlyGP69q5q3aZS7Xixq4ypM+UQbnFUlmkX6Bg/sKdOnTZsnnb3Tv30FooH6SLEM+p8O5UF8gAQTEqJsDPH8IlMSaT5CyhTnQ8rw9MHqCScSFCF90RHBgcGR4J/UWERZCgEkftnj1HsXl7etNU3QCgC6QSqQKU5+To/PTJU1jY0cEREcmHxMK0ZlOoZH7opxz9uZ29vZ0958YJaCJr2rlPPT1Gi/2QPcI19ADR+t6de4Sih2YPra1saKO7mztNVrNrWkpX8AkDwyZOwMublPVdPaABf1I2BpJ+IJPXfQZE3Tp1584RS4apKiGFXSUFTMRA//bwYcNL/qh57MCvv/w6ftz4Sxcvc/6ceTI7fKNA1uAjFMjq1q6rnTH+BRfIMI/Yl5ERUQg7hpt+sLG2efbkmapO0BkfXgtIBCXFivH19sWwMS0He0fiOtZF1/F5Wk0iRTAc2C37x0JoF+7s5iqqJ0kXu98CVoqtklnBd9gt9oMkYleqX6gbDeETh+f2js8dnJLaHO0dnBwc+bmbixsswQ7Rju9sqVIhwszUMhnfh0wEcT2ywFtJ9u7cvoPMgrjMH1mIwVK4C+1Ljo0Nq3l7kkao/RBPuW9sMn3aDO3DB7Jnzd6zR6/t27ab3Dehpfj+vzEWqQWK8WU8ZklblNASgGx6/uw5RP3Q7BFnSA8Y6BuQqcJgRobGfEJAsra0ZizE4PoKVU0uTRpMT6bZgOPFAgR+Pn6MNe7w5DGE/szR3tHHWzNj6D0oPQkot8AHBQaTWtg/d6B1UL1iWg6qOZHPM7L8U/Phcz7UvlE2vi/+6siHnKq7q2Dvt60a8seLg4OCiSDOTi7YEhvf126IdcTlm5840l71uOIQyilxenQvZ8V7voND0cmJagTQCF8j52zetLlqV7ly5qpapeqCeQsuXrhIRAgUD0H+pPNuVOeKVZwrLJx0Av/C4Ol/XInIiCowumdEcMTXsCsCpaWFJd5HL0GPWEVwUIgovCqXB9PaEH5CIPYQI25PILa2sqZPcF52S2z6WN3y8kVceFgE+4TDlYETAkYYlc4mRlOYXAJ32QtD4pVxF/agmIGzozN7wPV8fZT7tWEV5QyxW4z2xvWbOB0mumf33sOHDhOXaRER0NTElITw0sVLMBJfRhca3jNcv249maoQMxrrFVYt7ErQpnhVzwc75HCYsWaxIY6m3VQoK6CFhYbDCZwDO1E5ATI0vGdEAnzbAGq4wwiaPjDjT7A9TYATOBk4Hzpl4BIZ7duAeSB88s/27dqrZgzy58s/auSoI4ePWJpbErzSfHlP4vMANowJYQkIbAwDC8ENsWQCKzGFDXPF8c0fmgvad3CEHOA6iAur44fJawZcA3c+sO9Al85d1MSJDKpxo8bz580nUX9sY0uKAUV/kisECGDiGlkM/oWX0TTabvfULuXtmZ3gCu2m8IkSekTcUQMu/IBiwbMSXXHER/CUQP9AyBNuge6sLKweKQ6rKhm81fCuIWrkoelDwbRPnop9urjBOaqYee9o+yJW3CTFQTki2oDRJPyxW3SmWFf3g0eAxkIm8DkUJxKlZ88ZX7JLAoeRoZF2I6A8MDE1F/flPKbPPdw8yGJCQ8RduvRYWqtjAuKhE3EoNCwTQfvY+jHHZc/qxVFC8LtW1fgC8L4FMrgd8h8zeoz6WDnAm+FDhx/Yf4DhwJwI2ZKuJdIEqAwKenD/waqVq7VPB0qvPPg7U8bM2pXIRMksY2a14JX3W7HiTa+evRYvWnzi+EncH05T4svDW3r6R48cnTd3Xv169bV37fBDdZax2HHCJLIM6TW1s8oVq04YN+nk8VMW5pZuru4oTyWjiU8NH6alQAbiX72IiYXLyBOIi3gabAKpQe688k84jr5AluGBKiOz8YYcgJ+QxhBQRXR894kR84iOHCIkOJTvk0rxXkix9/BKJT9UozhsDhVyDghodFsyJ5AioGOREgQE+fr4kRWgL0XzXd3RjlA23MrhaILSfPF9Tp6DkkLwE8bmtbhMBpye8swgfkLuOmnCJO1SwZhCt67dkM4EDI6o6Zw0glhr+9h2yeIl5RPu+VdXPyUls7K0ps+T6Z+PXyCrU1d7kfCLLpDRaXgd7WJQGG7UTGAAZqfePfRvTdXG0jgEco1uR3p+tLpDUmC3mC6HE8as+DL/TG28VG6a4PuQA+7DK5yAvuHMcQocM2ELYehDg0PCyJ+1W3BouLLxhgjND9mDWn9PwUhggDhBAtozZ0TQdipruZLxObuqxIUyQJ7SLhqFNoI0aFcikfoayjH5gpenN5leh/Yd1CmQ2bJmIwDMmTWHnBD/ghxEuv7JzVjpBCyTRuH48Cp6l06APVA85L0uTi5Ojs7IREQnPUPWCokxLshfbAnT1fRD2tuhdruWfulehYFfRwfN9z4M7Ie9RUdGYxsJjiCMRDEwgkgQ7VUOHYIBiE2xMbGp/1Q2fkjPqB9yhuxQs3ddcL5KPU7snGOFiGNhw6pNvt7En9SNfYoD0Wplz6GqtatxTdlErHz7xlViKznPpImTtKt6/fjDj7179YEtjQyNGS8OAc98eHLyoVArsC9espE0hocRtUPobRwKt2LzcMeivHATPqFRjII6OgwWPxHU8R5NUEaBQYfr6Af26efjpzivWFj34zItZ6iqETHQimlpNtValEHUsJZqRYo9aE0Cy+e38AlkJUjvzXnr0BfKgTB69PDRq1eunj933vSBKV7JDtkD/Xbl8pWLFy6RA9O3uIy9nf2ObTsuX7pMr3Igdq57GgmHFv/kczUWvNEbb3kbfYjtiW4MDROj5u3r5eFFZsXAoSMhBE4PeQNX0MkJzYnkTGBy4bxv7TARaDJp59IlS7XPsc3zTR40w6qVq/Ru6Dk6OHG2wtFS2o/EZ4o4UT3BHoSDBIcSQzFaJZqIurAaULy9vBGxsB9jDddFRUYL4kppxLFhw3uG48aO++H7H1TLKVGsxOCBg3ft3EWi7uTghLnCIZ8qtnJcnFeTpyihRKNhSDGS2XRFjuqzOtFKFR4iNxEHeMtb0ZYJmRG/QsYE+AmHJV4jY9QgTofjvBAIwkON4JAD3q0omZS9NRngpHALHKtGUt6Ly2bRsR+tQKm0l6NAL3SmwkUigqBP2GiXsokcEzpSLYoeU4KIItI+oGkwJF3KDulPjkuPwVqq8tF840vEexXIMBIysp07dlarWl2tYuT5Nm+LZi2WLll29cq1J4+f4OBYoObbEhKpBmbj8Nzh1MnTPXv0LFZU85y3jOkzZlEeZ6nUyMSWWXmqvvpXLLB4seJ169QbNHDQgnkL1qxes37d+uXLVsyYNqNf3/6VK1X5Rmc5YGUmmuYOHjbl/krNE1QyZczavm3HNavW3dIzePbkGWIG78br1axQc37vRhoLZCqUQgDpFs1GugnxFxoeLuYaRBL8ODC8GS+072tS5hNCqbppPnoXFO2rbhxFkDtR8AMYkN/SHZqz/Rg39ag7pKXqPuEaApuasfNeyEc1bOgcRwmo4ujQLr8V+jLF0B4vVtMn8h0+dBiay5cnnzre+fLmG6s8rNTaylp9mH3Ku3ob8a+QMqiNBvUbqLv9Nve3Deo3xATvG90nTojU5R0gIIkCmYPToYOHPqhAFqt7i6WmQNaqRSulQPYMDZGanXyGoF1sGDznr266lvDxIUSqMCoO9M6CzseDcGTF8kUb38Mx44TvCFmj0JPi42IeCnka+0RyiT3HvGB7mWjjcLHCcTQtTR276YLvK6JW47ModdJptJEiTCPhMaQkf+IQqRwyeNb2se38eQv+/ktz99Dvv/0+bOiwfXv3GRka4blk7KL28fmA4VIYlTZquAvGioxSVb5IYMIj6Qo+5E98Qchf+uFDrFeQecJBsRelkqKO4Mcv7nCeHEts8YISlTPnQDSEFiU0SjEz8So21VWFvYk3Ijap3SKylHe3mkPwNVoh7Fa1WBxQsUz1Q8VBtJtqcglfE5HoBYdQ+UHpEx1jE90lDNvRwQnah5Bz5dQ8UaF2rdqLFiy6fvU6JuftJW6rf+OHnwPUsBj7ktZhVERDNnwEX8O5+JBOUHsg+e5NEcLxtT8XfCLupOYQQlr8CwSYYMDaLYHYlbFTm6MaD5v4p+ZzzaY5VSW/FQ3XQlxrfEHit27NutUrVxP17J7akfXxF2X/ovxHHLx65erpk6fJTPiQ1yOHjly6cMnezp728okwvwTr4tDqDxNOLHUuxumx8V34NTqWg2qGLFoU01E1QthEQI5YLWOXtkwbMXrzxk3US6EChVQzrlyp8tQpU2msufJgCqwi9XuT+ByhcKxi9sLxcXml3IPZRLARULAo7EoYjxJYU2M/7MrD3ePwoSNaeZn/u/yNGjZaumSpeKLFY1svT69QZTn2f8PfUwWlmkNzeOU0Esj8DSp4a3sdZZTu0jip+lvl52LT7P9tqH7KhqsqxxWHJvlSNIx60VFU2YS3Kn2uhG++k2JvpxLioIIBlEH8wIzs3cA8OG2VfIQ2U/hHsaiETbnwIMqsH+sCmwhbovLIRgPFcCjbJzOtjwJRIHNXCmTdChfSKZDtSK5ABs8rl+Umq0tCZ8qYqXbN2hPHTxSrsj4wdXN1Yyy+7G6R+ETAVVEvD0weLF60uFoVzYPaQNYsWcXjLNNnzJBe3GiZMUPGLJmyaO+1BNmyZvup5E81qtdo3Khxs6bN6terj4TQ3vcG+L66tqlaYlM3bXUMFCtaYvzYiUePnHhkZu7s6BwcJB6BgkwS7JEKY36vApkWCl+/gi7FhlZVDsmH/w57vg/Uk9HdPiLYm5qPiTxfvKqb5iiJjpX2owcHBpuZms2aMUu7Qn+2LNmqVKqyZNGSa1euPbcTjxqA09O6WxUYypVLVwYPGly8mKagiwqZMnkKe/b08CREab73FkgY0D2kcAcPHHy9Blmhwp06dDp6+KitjW1IcGoLZHbP7Pbu2VuzRs3s2cTzrbJmyda5Y+cTx048eyIezflGOiHxWeG9TO6zgraS8por0+Kh/ASZfu3qtZ49ehZVHnZRpvTPvXv23rRx0y29W2S2/n4BuAlcrPnB5wa1seqmaG5V+GoYTO0Nif8eSupl/sicbLBQQU1ZoWb1mpMmTDp25NhDU/GIxhBlirgYo88TilGphpSwSXNKAnicm4vbxg0bGVlCHjmhbi/RaaEhofq39Pfs3uvs5Kzm0hjAzes379y+izZQdZ7m2x8FysBpNzFwCfSoGUG2VIMU/Yntky2bt2ofwF2+XPkRw0bs3b337p27jg6OtO4jJvASnx5as1EjiLql0WxAWGiYlYXVksVLKpQTTz3LmSNn7Vp1kKYnj580NTF1cXLBcmLFUzi+YtPRdLXm4hPMIOprmiuI/1oB67/sb46lKDT4R1SsFH2ilq7+ldYp/fnFI6EJ9JKbq9vF8xe7d+uhfcKsUiDb9a4CGVTMTw4fPNyta7dMGTOlT5e+TOkyI4aP2LVz9727YuWmgDdXZZWQSBOQN8iYM6fPDOg3QGuTpPwZ0mVgE/PI0mfA8LJkyiI+Ud5nVp7wq0K9E1PzD6Ucxk/4jvpD/ql5TccPX//qx+9/6t2z787tu/X1bts+Fg+HIbhoMr7U+fuHFci+CHyxxOfl4XX50uXu3bprH7HMm86dOu/YvsPY0NhDLO38/qswREVGW1pYrlq5qmH9hlgVO8+SOcuA/gOOHD5i98wu/N2P8iUqawpk+w9qL/EVLFCobZu2u3ftfmDyACsMDQ7FH2DhZK7zvIh9yYH27dlXu1Zt7SL9/7T+5+CBQ5C4u5t7SHAIpxEtLhb9K1MDJCTeE/HCBcxMzVatWPXH73+q1NykcZN5c+Ypz0mxEL4pbp370EfpSXxtgHX9fP3PnjnXv98AtAKUWKJ4iUEDB23buu22wW10qr+vP5T4LnKW+JIQJy5TGd4zemxji257W6gQOgmFRw8fJaoGBQbxiYuzy+WLlw/sP0B8FNWlzxiE75s3bo4bM069+pUpQ6YO7TugN65dvWZjbeOtPA1NqBdpyBJvwt3N4/SpM02bNP0297dYzu+//Y4uhQDvGNyxe2rnp3lyorSbt0CXqJvEVwbcITZarCmJ7CTzgnufPXl24viJDu07kpqJzCpdujq162zftv2RWVIFsvhXIUHipubZM2dXqihWu87/Xf7mzZqvWL6ScGNtZYOgDQ8Nl2pW4r2BXAnwDzB9YLpyxcrGDRtrq13qlDFNgSxDJrEqWXpt8UuziNjb4AvqqvwZ0mturhRVtvQZM4ibKzUoUrh4uzYdVixbdfnSVfOHls6OLgH+gRrLTzVPfgUFsi8U8a+eP3u+e+fu6lWrZ8uSTR3y3375beL4iadPnraxslEejIhQ0Hw9rYh7GYdIPXfm3OBBg7NmFjecY2pt/2m7Yd0GUxNT8Sywdz3yJqkC2Xf58jdt3HT5suXnzp57cP/BY+vHds/snJ2csUh0cJJqRlMg27tPWYNMcydR3Tr1NqzfACmzE1sb26dPnro6u9JScsKPfLVcQuJ98fLFS19v31MnTvXu1VudD5wvT75BAwbt2rnLyNDYwd4xMCBIKQ1rvi8hkUpA6U8eP1m2dFmVylWwq2+/ydOgfoMli5devHDRxtrGy9MrPCxcMuH/D5Ql7YjFmn++BWLo9WvXL5y/QMLDNx0dHI8dPbZm9RqH5w6f8/V8WuTm6rZ1y1btGg6FCxUeN3bc0SNHH5opsyCVByXJModEImA5VhZWS5cszZ0rN2aTLWu21q1aL164GAK0srT2VJ/em4obFCQkvhLAomRkvj6+z+3slWdBPLd9bKt/S3/zps1NGjfJ820elYFr16oNIUO/bxfI4l7Eebh5HNh/oGOHjnnz5OXLf/3x1+iRo48cPnLf6D5BR002Nd+WkEg7sFJ1EtmFcxcmTZykvXEtc6YsYtZYelHeypiBTTMpTP0rUCaUiXoZqVaWzFnUopg6dyy9eGal5pvq19T34NvceVu3ajNv7sJTJ8+Y3Dd7bufg7eUbEZbwRCCMP3XSQxbIPlNAeUaGRnNmzymQv4BmzNOlq1al2qqVq27p3XKwdwgNCRU3Ib63woxTn8F3f97ceblzCi0CqlapOnXK1MuXLrs4u7xTiMSL2ZJqgaxBPY38/Sb3t5UqVOrbp++0qdOVx8Ov3rJ5i3pPkIe7Z1SkeFB9IryeQVaztnqRGfzx2x9DBg2ZO3vuiuUr169bz07Onjlr/tDcz8dPcLrURRKfAdAKCJGVK1ZWqypup0eCNKzfcMniJZcuXrJ9/MTHWywRJatjEmkFGiIwIFD/lkH3rt1VPixbpuyokaMOHTxkYmzi4uwaHBQsb3P4qkCUt7ayIdTCLQ9MHhBSt2zeunfPXk93z+RWLPrUiAiPMDUx7de3n2rGxYoW79ql29bNW28b3HZydJJmLJEk4l/Gi6U/Ll8ZNmSYukx4ieIlIEDs3/SBGcmVsBy58oaEhA5Eecvdw9jI+MihI9u3bd+8cfPGDRsXLlhIJvXXn39rZ1ckM4MsKjLK1sZ27py55f4Wi/kUL1aiY4eOa9esM9C//ezpMwRtVETU+2eaEhIKXsS+CAwIsrF+fOrEqeHDhpcprXnwoAq1BCYqX2IimLihMvE9lUoFLQOv6TOKb2bIxIcJf+U3r6ebFchfqHmzVrNnzT186KjhvftPHj9zc/UMDAh+56Sfd0MWyD5LxL/y8/U7ffJ0n959tI91yJ4te/u27RHHpg9M3d080KAfdKNN/CvM5bnd84MHDmqfI5k3T75OHTrt3rXH2tLa31d5ZElSR4BPEy3SD/J8k6dUyVJ//vFXpYqVKleqUrNGTUiW77ArsaCYztO7VKgFsp07dmof0Aly5cjFPyuUq1ClcpVqVavVrFFrzOgxuNPTJ0/RRvLGIonPARFhEfjggvkLcJzSpUrjBZMmTj529JjJ/QcuTi4YqljCT5qqRBoB37q5uJ06eapH9x5FChXBtLp17bZp42b9W/roVCLCh3K+xJcG4qanh+eJ4yf279t//Njx82fP37xx89HDR+FhEZpvfH6IV1bkvX7t+oD+A4oWKVbyx5Jt27RdumTp5YuXbaxt/Hz8oiKj5fUDibeBJoQAjx45NqD/wB++/+GXn39B8a5bu+7G9RuCABXL0XxVQkJCQXRUtJWl9a4du9q3a1+rZq0a1WrUqF6jYoWKZUqXyZUw9QEgVt/1FMvAgEBjI+PJEyfXrF4Tv2vZouWc2XPOnjlrZWHl7uqOoP1819KV+IIQJ55s5u3pbf7IfN/e/QMHDPz9t9/zfCtmLKpIny59lsxZlTKZqJSJLYOol2VU7rhUPhSfZ86YOVuWbFmz8M03VvRXUbzY9y2bt54+bea+vQdv6RnYWNm6OLn5+QZEhL3PrAVZIPsc8SL2haO947q162vXqq0ZdmV21djRY8+dPffk8ROxEANa4cNypbiXcezHyNBo2tTpv/36u3qUShUrLVq46M7tu26ubpHhCTMS30RMVIyLs8uJYyfa/NNGt8qbCMWLFV+2dNm9u/e8vbzfXjfnZexL++f2e3bt+alkKc0PkkLD+g03rt9oct/Ex9vnvRdck5D4iAgNCb17597KFSv79u7bq0evmTNmHjpwyMjQ+Lndc19v34jwCKknJFILHVKEb6HEI4ePTJowqWOHTkOHDF2zes21K9ce2zz29PAKCwmThdevEOFh4Xdu3zl25NiRQ0fIWJSHP77zETqfA1Avnh6eFy9cnD1zdpfOXQb0H7B40eIzp86Qm7m5umPG8vE7EkkiNibW7tnzI4ePThg3oVXLVv379l+xfOWF8xfMH5q7u7kr6ytLBSgh8QYiwiKM7hnNnTNPu/Z5kmjZvOXePXstzC3QqGRwr4VE/CtvT+/b+rfnzp7bu2fvzp268IZwY2Zq5uTo5O/rjyyRqkPio4DMCD2DPDB7YHZg/wGEbqMGjUoUL6EtI6griyn3Wr65KRPHeCNmkGXImCVzFjb1pkv1hyoK5C/YtUv3BfMXHdx/+NZNA4tHVo4OLj7e/mEhES9i3yd2yALZ54jQkDAjQ6PRI0drn9GLAbVs0ZKc/O7tuy7O6iyVD74nPF4UdB0dHHfv2l2vTj31QKV+KkVidvbMWZRKeFhEkjUprByZfuPajalTptarW69a1WpVq/Bf9erVqlerUq1K5aq81q5Vp2OHjls3b7139x7i5u0bJNmJh5vH9WvXhw0d1rhRkyqVqyhbVbaqvFaqUrlSFXbbv1//bVu3PzB54OXphX6STC3xyQHFmz8yP3fm3M4dO3ft3I2zGBsZP3vyDJ3Bn8TdQ1LGS6QdUZFRUKWBvsGRw0e2bd22f+/+K5evWjyycHVxDQoIgkLlmk1fIeJexhHuyWp8vH3FwvaffY3gZayQB8ZG908cO7F1yzaysgvnLzy4/0BZkzRA3H4uZ0FKJAUsB667bXDn4IGDW7dsJYO6cvnKQ7OHzk4umie2S0hIvAkYFR/ZsnlL506d69erX6tGLfIvkrLqVauTQKn34tStU3fCuAlnTp15YvskwD9QuJIOB0PLlhaWp0+d3rVj1/Zt29WFpJ0cnQg6YaFhLz7vp8FIfEmIF1dBQkNCPdw9LcwtEAbLly0fOGAQdlv6p9LZsmpuB04T0qdLn/+7An/8/kfjRo0H9h+0fu2G06fO3b1jaGX52MHeycvDJzQkIjbmPVWTLJB9foh/RTqkf8tg4oSJf//1d9HCRQsVLPTHb3+MGT0G3UBm7u3lrcxS+QhCGbUdGBB09/bdGdNmwKc/l/65fr0G48eNP3/uvN1Tu/DQ8CSPEh8nHsVtY21z/NjxxYsWz5o5a/q06Wwz+N/U6dOmTON17py5a1avwQFwAy9PZQZZouxOeXIKfH30yNGVK1aK306bPm3qNM02RWx8smH9hosXLj62eezn6ycLZBKfA7BDT3fPxza2D0wemNw3sbaydnZ0xivhfbnytMR74+WLl+SBjvaOcOZ94/tYF7xHxijKCuGRclriVwsohUj9pUyf4TyRB+RXmLGxobGJsYmVpbWTo3NgQCBmnCg3k5B4DeW5rhDgQ9OHRoZGpg9MBQE6i8sD77F8jITE14CY6Fhc5vq16xvWb1y0cNGc2XM06di0GWomxfv58+bv2b1XnV0RFhKWSKNGhEe6u7lbW1rfNzYxumdkaWEJXQf4BZAASr+T+LjA9jCq0OBQdzcPUqdrV6/v3rV73tx5/fr2r1e3XpnSZYoXLV6oQKHv8n33Te5vcufKnStnrpw5cubIzpYje1b+y8nn+b/LX7hQ4aJFihUvVrzcX+VaNG8xZPCQuXPmbtuy/eL5S0b37ttY2To6uHh5+gYHhcVGv/9a7bJA9tkBAwoKDDK8Z7h2zVqMpm2btu3btR84YNCmDZtuXLth99RO80iRj0RbZPturm43rt9Yt2bduDHjpkyeun7tev1b+o4OjmKd/neU4V4oD219+uQZ56l3Q+/a1WtXLl+5evkqr5cvXb586crNGzf5k5WllbOTs3gMZVT02/r+ZexL9NBzO3tSQb2betevXr96RexB3dgbu71319DG2gb6xqNEiijJWuIzAPYfFhru7+vv5enl5+sfEhwaER4hcz+JDwQkGRUZJWYM+fj6ePv4+2FaIZERUeIqrjQtiS8C8eqdFBGBAYHYsKeHJ8aMGSNaXr6Ik6uPSSQDCJB0neTcw93Dy8OLCBsaEiqydAkJiaSAy5AwOtg7PLj/4LbB7Zs39JQ06qqajolM6srVWzdvmdw3efrkqVicJyrxQn7xL8UTBtmJt5cPqZa3l3dwYHBUZLRMuCT+FcSJZZpQuZ7uns+fPTd9YHbtyrW9e/YuWrho5IiR3bt1b/tP26ZNmtauWbt6tRrVNBMhxV1lFStUrFypcs0aNZs0btK61T8dO3Ts0a3HqJGjFi5YtHvXnrNnzt7S0zd98NDW5qmzo6u3p29IUFhM9AcpZ1kg+/wQJxajge/Ue2127ti5c/vOgwcO6t3Qs7K0QjeIWa8fMRWPF8ZKnm9jZXPvzr07t+/ApHZP7XyVGzqSmQ7zMvYl2sXHy8fNxc3ZydnRwYlzdnjuYC82ez5BGQf4B/AdyFeZWaP54WsoSjoiLIKv8WXtfhwdHJ0cnJwcnZ0cndzdPMgSabKYPiYh8dkA14iOiokIj4iKiELBSzEh8XEQLwQr5vQCm4p9wcb7ZHhYQuJzRJx4vFpszAtUBCkZb8QVMjSANGSJ5BEntCWBFd2oFFVlYJWQeDeU562FhYT5ePt4uHm4OruSPYlczN7B0d6RHMrZycXF2cXD3ZNMKpkVcuFniDo8LJyMLCY6Vl7JkPgXESceLhEcFOLr4+fq4vr0yTMzUzN9Pf1zZ87t27tv08ZNy5ctnz1r9nQxC3L61ClTp0yeMnnS5EkTJ02aOJl/zp0zb+mSpevWrtu1Y9exo8cuX7x820AULizMLZ/bObi5evr5Boh1x973zkotZIHs80Oc4LvAgECozdLC8oHJg/vGJmYPzJ4+eeru5hEcFBwbA3l9VMkQL4w1KDDIy8PL3dWdo/j5+qXm5vOXLwSlwrlQKsQaEhwSEhTCKycJX0dFRKFvOFulOvaOExY1MmR0bHQk1BwRGhIq9hAUEhocygnwCfKa3kBeyxRR4jMESSAGHPcyXop4iY8PjIoQL8sKEl8s4l/Gi9iNAUsblkg1CKyioiptRkIiRcSL8hbZFukS6RjJl5qFqemYSKZCwiIjIsmzxJo5yfiUsh/pdxL/AdSCLCl/gL+Yae7m6vbczl7c52t0X++G3vlz548fO3H0yNEjh48cOnj44IFDBw8cPMT/DhxkO3b02JnTZ69cunJLT9/Y0Nj8kbnt4yf2z+1dnF29PX0CA0IiwqLEnZUfXOSVBbLPD5CUcuk1PCw8wD8A0/Hy9GITE6nEg8w+2s2VuoiPE3eNRUVEqaUueFZUx1JzIL6TYIWQr1IsiHsZy3+KJoZpk8/u+FZCBsgPxaSJGM2kCUHTWvwLTZaQ+GiQ9ikhISEhISEhIfHpEB8XTyKmzEB/SSIZGxP7rqVyJCQ+ITDU6KjoyPBIdXqNv5+/l4eXs5PzE9sn5o/MzUzNHpiYPrj/4L7xfWMjYzb1vZGh0X1jk4dmD60srGysbeye2an3q/Hz4KCQsJDwqEhMXyksfDBkgewzhcJxsFtsTFRMdGT0G/cp/Ksg1VdqVXKGrYSEhISEhISEhISEhISExMeEMksmNiY2KjIqLDQ8KDDI19vXw83DxdnV2Umss+Ro76is3WSv3jjMxocuTi5urm7qzKEQsVCvuB//RezLly/i414q1bGPMWtBFsg+byjlqvi4eHGfgrhV4eOMuoSEhISEhISEhISEhISEhMSnQvzL+BexL9SVnUNDQoODgoMCgwIDAgP8A/z9/MXmK175Z1BAUHBgcEhwiHq7m7oGtFjJQa2QaLcPhiyQSUhISEhISEhISEhISEhISEj851Ae7/MiVtwaHBsdGxMdEx0VrW5RkdHRkdExUZqVzZWlnMQC0K9LY0AWyCQkJCQkJCQkJCQkJCQkJCQk/h8QryxNrixirrlzTr2XTq2F6UL9prYcpnxTs30wZIFMQkJCQkJCQkJCQkJCQkJCQuKrhiyQSUhISEhISEhISEhISEhISEh81ZAFMgkJCQkJCQkJCQkJCQkJCQmJrxqyQCYhISEhISEhISEhISEhISEh8VVDFsgkJCQkJCQkJCQkJCQkJCQkJL5qyAKZhISEhISEhISEhISEhISEhMRXDVkgk5CQkJCQkJCQkJCQkJCQkJD4qiELZBISEhISEhISEhISEhISEhISXzVkgUxCQkJCQkJCQkJCQkJCQkJC4quGLJBJSEhISEhISEhISEhISEhISHzVkAUyCQkJCQkJCQkJCQkJCQkJCYmvGrJAJiEhISEhISEhISEhISEhISHxVUMWyCQkJCQkJCQkJCQkJCQkJCQkvmrIApmEhISEhISEhISEhISEhISExFcNWSCTkJCQkJCQkJCQkJCQkJCQkPiqIQtkEhISEhISEhISEhISEhISEhJfNWSBTEJCQkJCQkJCQkJCQkJCQkLiq4YskElISEhISEhISEhISEhISEhIfNWQBTIJCQkJCQkJCQkJCQkJCQkJia8askAmISEhISEhISEhISEhISEhIfFVQxbIJCQkJCQkJCQkJCQkJCQkJCS+asgCmYSEhISEhISEhISEhISEhITEVw1ZIJOQkJCQkJCQkJCQkJCQkJCQ+KohC2QSEhISEhISEhISEhISEhISEl81ZIFMQkJCQkJCQkJCQkJCQkJCQuKrhiyQSUhISEhISEhISEhISEhISEh81ZAFMgkJCQkJCQkJCQkJCQkJCQmJrxqyQCYhISEhISEhISEhISEhISEh8VVDFsgkJCQkJCQkJCQkJCQkJCQkJL5qyAKZhISEhISEhISEhISEhISEhMRXDVkgk5CQkJCQkJCQkJCQkJCQkJD4qiELZBISEhISEhISEhISEhISEhISXzVkgUxCQkJCQkJCQkJCQkJCQkJC4quGLJBJSEhISEhISEhISEhISEhISHzVkAUyCQkJCQkJCQkJCQkJCQkJCYmvGrJAJiEhISEhISEhISEhISEhISHxVUMWyCQkJCQkJCQkJCQkJCQkJCQkvmrIApmEhISEhISEhISEhISEhISExFcNWSCTkJCQkJCQkJCQkJCQkJCQkPiqIQtkEhISEhISEhISEhISEhISEhJfNWSBTEJCQkJCQkJCQkJCQkJCQkLiM0C8ssW9tamf/5uQBTIJCQkJCQkJCQkJCQkJCQkJiU+MuJfxkeGRwUHB/n7+ibYAv4CgwKCw0LCoyOj4l/9KqUwWyCQkJCQkJCQkJCQkJCQkJCQkPhkiIyJ9vH3tnj03Nrqvr6d/49qNRNvNGzdvG9y2MLdwc3Xjy3Ev4z76hDJZIJOQkJCQkJCQkJCQkJCQkJCQ+ASIexkXHhZu/9zeQN9g/9798+fOnzxpyoTxE5Rt4sTxE9X3kyZOmjFtxq6du4yNjP19/WOiY+Jexn/cGpkskElISEhISEhISEhISEhISEhI/CeI0/w/iImO8fH2tbSwPHb02LSp05o1aVa0cNFcOXPlyJ6DLWeOXOJ9NvV9zlw5c7dt03bf3v32dvahIWEvY1/KApmEhISEhISEhISEhISEhISExJeJuFcvYl6EhoQ62Dvq3dBbt2Zduzbtfv/tjzzf5k2XLKpWqbp61eqHZg/9fP1iY17Ev/yYK/fLApmEhISEhISEhISEhISEhISExH+EmKgYPx8/Wxvb82fPz5szr2mTpunTpdfUwJJFhXIVFs5feOf2HXc39+iomJcvPuZdlrJAJiEhISEhISEhISEhISEhISHxryM+Lj4iPNLd1d3wruGunbtHDB9Rvlz5dAnVscyZsmTOmDljhozp06VXSmaazzNlzMTnvOHL8+ct0L+l7+LkEh4W8SI2TveGzQ+ELJBJfGrECw9JZvu4NxVLSEhISEhISEhISEj8/yDu1csXcS9fvNTZ+KfYxBLmqUB83Kv4l/F8Oe4lPxGb+O2LOD7UfCMl8JPoqJjQkNCgwCC2sNCwmKgYkcpJSOgi/lVsTKyvj6+VpfXpk6cXLVjUrWu3X3/5LUvmLGoVLH269LzPmCFjhvRsGTIqr2qlLGuWrNmzZRcFsr/Lz583X19P38nRKSwkPDYGw9Xs/sMhC2QSnxJwblhoOBwa4B8Q4B+ovOpugcFBIRHhkZJbJSQkJCQkJCQkJCQkXiP+VWx0bHiYSKb8ff39fP38fP01b3zEFuAXEBIcIlYxTxYvX7wMDQkNDBAZmb+fv7IF8Fvx6h8QQjoWFhETHZP8rIXI8EgPdw8zU7N7d+8ZGRpZWVq7u7lHhEfIuQ4SWpD7R0ZEenp4GhsZ7961Z+iQoXVr1y1WpJhaGgMZM2TMlDFzhnQZNP9W6mLKJDIBpUCWgzevC2QOTqHBYaJA9vGWIZMFMolPh/hXcPFT26f3jU0M9A0M9G8b3DLQv6Wvf8vglt4tvZv8w8D8kbmbixuOJLlVQkJCQkJCQkJCQkJCRWx0rLeXt421zd07d/Vu6pE9kUaRQJFJ3bh+k83wniF/9fH2jY6M1vzmLSjTefysLKz4sr6evthu6bOT2/xPJGgGRveM2ImHu0dEWETcy3dO1PHx9uEEpkyeMmjAoJHDRy5dsvTK5avubh7RUdHyliAJoMyMCXNycLp44eKC+Qvb/NO2YP6CCbdPps+QPkOG9OKeSuWfAunTaaaPZUiXgff8KVuWbLJAJvH/jPDQ8GdP7Q4fOrx82fLp02ZMnzZ9xvQZM6fPnKG8Z5s1c9b2bdvhZXc396h307rExwTM8ikCWHzcq7i4+H/9yGrriOwfbxauRArQWpT6Rn0PtG/+A/yXxwL/8eEkwL/d5+z/vxpWQYYv48SdAv/hQZPGpz36VwmRQ/5n4UkscCG2f2WgpfH8Z9B2te6b/6b/OYoqqP6Dw/1njUoE9bja7b9pbFpAMvXQ9OGB/Qfmz5tPGjVj+kyyp5kzZk6bOm3ypCls8+bM27Jpi+E9Iw93j9iY2CTPP8A/wPSB6Y5tOxbMXzB1ylQSMdIxdsLGDsU+Z8zasX3HHYM77m4eEeHvrJF5e3pfvnS5b59+lStW/rnMzw0bNFq4YKGRoZGPty95XDKVNYn/exDdoiKjsB9jI+P9e/ePHTO2Xt16BQsUVAthIHOmzJkzZtbeSpkhXQa1Xpa4QJZVFsgk/n8R9zLey8Pr5o2bw4cNb9ywcaUKlSqUq1CpYqUqlavwnq1ypcpVKlcdOGDg7l17LC0sA/0DxT3wn1lY+pcAibx88TI25kV0VDRxKCw0PCwkjFfeQy58+CL2xb9x22lMdCyHCFWORcRVt8jwSI5ITP24R2Rv7DMyIjI8LDwkOCQoMDgoKDgkNCwiIjKKBorn9X6M4VZSTbpL05MhYaEhoWy8iQijM6PpZw4kmqY91tdhY68R/+pF7MuYqJgE03opeuBjdYLy8Gb6OTIiioEWPR/K/4XzHhvjQ4z8YwomUsuXcTHRtIUjCtPicMJ3lOGmdS9jxXD/S0OsmjTdGBUhehLTEkpa4l8F1hvzghGPjhKb6POPCMzpRZxCU8J6VStSjQoyiY4UrKhQsebrHwqxfMxLTJcDBQcGw4qhwYKsBAlH0DxxLM7nYxkV5vpSaZ3CjZEcRfUU3iiBJprP6VjhL//3iBc9r8Yj0QNhogcIfAw3G2/oB2Faak98LHrkoLEv4QrVqMITTIsR5xMIWYz1v9T3SnsVr4nGjD/+seLREjGvGVgQvpAuNJZNmDGc/y817WuDCN9E2Cilt9GKam8rBixIA7v9SIyhjhevbDBV7EvBG2HIxVCYSpAVTMUoKzE9sab6YGCutEg9lkqJ/JOjY700nzaKw/0LUAg5iiNCCzotxayFPdO96KV/6dBpQlBA0MULF8ePHV+7Zu2qlauKrUq1yhUrVyhfodzf5diqVanWvl37XTt3W5hb0BDBZm/BxdnlzKkz5Fz16tYv93d50rHKJGSVlIyM9xUrly9Xvk/vPju277C2svb386f5SQ4xf7qld2vE8BGlfiqVLl26XDlytW/XYd/efbaPbYMCg4TClPgqgZ/iPo4OjtevXl+2ZFmXTl3+/P3PnDlyKZUxgcyZsmTLki1jhoy8F7PGxF2WmTJlyCTWIFMrZUp1TC2Q5ZAFMon/V6CQHJ477Nm9p0zpMhkzZFK8IwnUrVN3zao1RoZGnh6e0PHXINbpGbROoH+gh5uHvZ29laXVQ7NHpg9MzUzNLB5ZPLZ5bP/cnj8FBgTRIR9FaJLgsSuYy93V3e6ZHUd89PDRQ9OHD80eEk2Jao72ju5u7oEBgSjpNw7H+7QeXdFz5GN+vv5uLm52z56LBpo+NLlvcv++ianZQ0sraxrIcJMiosBEA98PmkUZIuhJN1e353bPbawfmz8yp2midRzIwvLpk6ecA2eCrOTLX2E5A5mL1vT29EYbOTo4uTq7MsoMUJqH9R0gzQ7wD1D7H1FFz5s/NGcUsCsbK5vnz55jcmg7YVcfCNT4S3FtiuF2dXF79uSZpbmlOtC4D4d78viJk6OTj7cPY53iShzvATJMMhP27+zojAKgP319fLHzr9Co/jPEvYwnTfLx8sGLnZ1c3FzdMTZsQFNF+jAb1vBwgODhZ0+fQVOq6T4yw6geYczP7eyxXl8fP9JRccQPg5IBRvr7BdAQSB67hfDNHpjxyhFxFljRy9MrOCj4XWlJmqA6C64H0zrYO9pY25g/slCc5SFv+CeHc3F29fbyJjMUhPD/C3WgA/wC4I2ntk8ZYpU0GG4CLj1PTCT8BfgHRoZH0hWM9YfrECiIjsV0UUHYkjLcDxlojk5gwt5cXVwhE8j5o4R4XZDPC6+BqZycnRydxYG8fCIjFK/54AOR/dKZpMEiuD+1s7a0VvpT8DCtw4n40MPdA8PD/L4GOfevgiGjt/39/BlErFREWNhCVW6PLGxtbNWQFxIcKuqSMR8U1tWCFzQlnMU/AI8QmsoK3jDniGy8UXjDAcLkC9iYqM29B3ROEnfD6VQJQQQnjsOHD9CJpmYKTT1Gmnp5egtzivjI5oQlC2nk5Q0TqpIYEW5qYqqYsTXSkb6FPNEb0ZHRn9yS6aKTJ07+0/ofTeKUFIoULjJj+gy9m3q+yo2WiaV1/CsnB6cjh440adSkQP4Cmt+8hUoVK82cMeve3Xu0HX2u+e2bYOgJYVu3bK1Vs5b6q7/+/GvalGn6evqMo/iV9PuvDxAI6gVXOnb02JjRYytVrKwuxp8xfcbsWbOrlS+1IsZres3SY+kzZcjEJ/yVf6hL9ScUyLLnyP6OAtkHaz8tZIFM4hMh7hXxdef2nb/8/IviCQJ5vs3zc5mykGn5chUqVqhYsUKlAf0H7N61mzzBy8Pr/5tY8WqCFloHoWNkaHTxwsWjR47S9g3rN65auWr5suUrlq1Ys3rtls1b9u3dd+L4iatXriIRyNCI4u9d0UDukN2RGDx6aH7j+o1TJ06xcw6xdvXa1StXr161es2qNZs3bd6ze8+Rw0cuXbhkbGiMqobmYmNixTNx0nhQzpM8hAayn4QG7tm4YRNHWbF85YoVKzngxo2b9u7ZS7DnfCzMLRFbhNs0XXRCltEoby8fRMx94/tXr1yDkenJTRs30SI6k6atWrFq/br127dtp12XL16mw7FGzTWxD011vxDEvwoLDWM0kX2MLGNxYP9B7IquQMQggt+/NMlAx7zASFycXUzum2Cox48d370TS96wcvnKlStWMQRrVgu7Ugf6lt4tFCcOzkHf52Js/Ct+SBpAVmlsZHz50pVjR47t2L5j7Zq1HGglRrVCHG7L5q0H9h04d+ac4T3D58+eY4cfjU/iXqHOyfrQ0DRW6ckDvBKzMfVQtb7w/0tcnwTYCT5OEk7ufenipWNHjx86eAgzu3v7LjopJDgEgnpPnaRU8IODQlycXUnDbly7gVPs2rlr88bN69auV40Ki9q4YSPcdeLYievXrnMOmLq4LP9ehVfsUGXF+0b3L1+6fPjg4W1btkGJOMuK5SsgRviKo+/ds+/M6TO3DW4/tn5M2kbe+N5GhbmS3lhbWuvd0Dt96vT+fQdwRoILzsLGm00bBecfPXz0wrkLEAJJb0hQiCDhjyc9Pz0U3vD18YX5yXsZx+NHj+/asYu4oPKGoI6Vqzdt2LRn1x7+dO3qNdMHZq4urljX+3t0vIjyfr5+5An6t/QZ0P379m/etIXABDFyRN4Q8bE3COTc2XNG90TnBwUGxUQnfVdUmgClQ0fQ+0PTh1gaLgMlnjwuGBgDDgsJe/86L+2Kig70D6Qz7xubXLl8hfPfuWMnnA/30o3Ca1au2rh+I4FAcP7NW5ZKcOd8xGSW/xuj+k+A+am1G0Le3Tt3L5y/cOTQEWwGKUVXC624fCUSDiGHdZ09fdZA38DaShNh3zOsi+fNiZjuaO9ooowvlAsBwhvr1q4TWnHlat5o1OmxE3zhodlD+Fkpk6VlfBGVynMYMSd8Ewl35/YdtYGotfXrNgjfXL4SesS0tm7eum/PPlUrWllYIfmixdMSNXt6HyhXVeE63Jweo2/pPVqkNpNDQ8jYM0qS3oaoIU8CBL7MWOChn7BMFhocyihPmzqtdq3aVSpXIYH6848/fy79c8ECBTNl1Mw/yJE9x/hx469cuoJWEVor0dnGvaIVkNLECRNbtmhVuVLl8n+XV3eS/7v86h7AL2V/mTBuAv7L4EZFRiU5soy4p4fXlctXe/XspU7zKVyocKcOnbBG+opTfR+ZJ/GFA48mlsEbo0aOJsfPljWbalHp02XIkjmrKI1lyJQ5U2btIywTIKpm6ZX1yN4qkOXkwzcLZKGx0S/EDLKPBFkgk/hksH9ujwqvWaOm6ipZM2eF2QcPGjJj2owF8xYsXrR42ZJlyCmUKzpAU7z4PwWqBfHhYO9w5/Zd+mTmjJmDBw3u0b1Hxw4dW7Zo2aRRk4b1GzZs0LBpk2b/tP6na5duffv0GzN6zPq160nIyfYRpu/ROUgBf1//J7ZPLp6/iOAYO3rswP4Du3fr3q5tu+ZNmzdt0rRZk2aNGzXmBDq279i9W48hg4fMnjX7zKkzFuYWaJGI8Mg0SR/O0Nfb1+yB2cH9B9nPsKHDCJ9EzdYtWzfjUI2bNOGIzZq3btW6S+cu/fv2Gz923Mb1G65fvWZvZx8UEChmeKUCL2Je0Ch0FZEeEbNg/oJRI0f16dWHnmzVolWjho0bNWjUmNeGjZs3a05Le/boOWL4CBj2+LETpg9MyRvFDJS01/6+JCgPVybpsrWxJQEmJRs9akyf3n26d+0+oP+AdWvWGd41RCq9Z/1IyQBRYA9MTBHKdKzo/959O7TvQIc3qN9AteTGjZqoAz2g/8DJkyYjQHFzBhptmlbxhAR3dHA0uGWAXJ49c/bwYSN69+rdvl17jEoMdINGjRo2Ug/XtUvXQQMHzZ87Hws0vGfk6uwaFcFYf4igFteZgwOF516/dgPJPm7MuL59+tKT/fv2J1EhqUZqh4cpSYLER8JLpc8hLpJ8OBAm7Nu7LwTF66oVq27r31b6PFwkAGk3YMzex8vH/JHF2TNnly5ZJga0d1/YA+Jt2bylMCqsqWEj3vNhvz79Jo6fyDlcOH/xsc1jP18/pTCXhuNivS7OLsaGxmR6RD2sF9pv26Zds6bNOQqewgY3tm71D84ycMBAQgOJInIQZwkNCU2r9XJuEWERmOuN6zfJZidNnMQ+u3XthndA+A0bcMRGvGnVsjXMDD/D0nNnzz165KilhSWtI60SRcAvnxvjXoiA+9zOnvT7wP4DS5csVT2XVrdq2YoOhzfoeV7JFTt17ASljBk1Bnsg8ye4YH6xaZ+Pg0EyZA7PHW7p3YJ1SUTh225durX5pw19rtoVr8QpTIvORwMQv+h8i0cEXG/NpI/363yF8/39AmysbS5duLRy+Uqag6VhVEMHD0VoGd4zhLTfm/MxYzdXN1MT06OHj6Lchg8b3rtnbzi/RfMWTRo3RcDQpU0bY1eiM/v17YfhrV29lhTa9rEt6kUUHCVSB8YIY7CysCLioBWnT52OMOvZvSe9LUy3UZP69eoTZLGofxTSIMJOmTRl546d9+7e09Tx0xqMlBtmMR4OijXOnTNv5IiRvYWm6gQrtmjWgmOx8aZN6zZdO3cl3I8eOXrtmrXw87MnzzTqNNV2JSZXhoZxqncVMTx1ytRBAwdD7+3atod1hVBs1AQtAWW1/adt546dOdy4seOI/viyq4ubmCH+XtFWcKPy+EXzR+ao3A3rNtC3CAZkAx7aQhy6KboRVQwb03Y8dNCAQRPGT4BIOTSD8gknRSrVB/trV65t27pt5YpVixYuIlKgbBmXEsW/F3WGdOlyZMtBR128cIlewmETXwmOf0XQdHJ0unTx0o7tO1AvC+YvnDld7AQm1NbIyv5clp1ge85OzqLKpga7txrNrkgT5s2d9/eff/OrrFmyVihXgQCnd1OPjpL+/hUC5rlvfJ+MoFrVaqotAWV9MXV2mOaGysyZMqt/UqGWw9T36jJkyRTIQoJDY2SBTOL/AfFiBtnuXburVa0Oe2LoObPnbN2y9bq168hM9G/pGxsZP7j/AF0O7/v5+ivlmA9KZT9bEGN8vH2M7hnt2rl70sTJtWvWzpUzN32SOWNmMd00fUa1uK6uU5hRqbLz1+/yfVe9Wo3Ro8YcPHDw0cNHvt6+qbmsLeKZgriX8X4+fhDWrh27EOIVyleg/7Ow48xZ2CAghbAyQVC85wSyKDeHFytarH+/ARvXb7x546aLk0tIUEgqC3N8je/DYmtWrWnapFnOHLmyZc1GQ9izlvKUY4mDZs2cJXuWbN/lzVe9StWRw0bs3b3HzMTU29PrRUpX0bEQTw9PhOCeXXvGjxtfuVKVQgULJzqQoFyFcNU2ZspIm7MVK1KsZ4+e2J7BLQNPd88kLq/9H0GMhbPrbf3bmzdtHtBvQPly5b/95lsGPXMmMfRt27Q9fPAw2X5QYFBqOkFrUSqQp3bP7E6fOj1n9hwEeuFCRYhkov/ffCoNYKwxbyw5d67cVSpXGTF85N49e00fmKGnUz8TJzw03NrK+sihI2NGjy31U2l2lT1bdlqh+MvrBQt4wyd8njVz1p9K/kTaNmvmrDOnzygzvNJcZdCCH6L2YCrsDR1ZqWKl7Epj2QoWKNS5U2ekM2pbzRASdZTE+wGWw8fpc0T88KHDa1SrgXbHhelzbOmf1m327d1Hn/v5+r1HvGCYXJ1db16/uXLFSnJLaEEdUMEeii2p1KFYr8KKmbPkypmrYoWKgwcO3rFth+E9Qy9PL6WQkaqx5puPrR+fPH5y1oxZDeo1+L7E9zgL+xRbpizsX3UZwfwZBPPzOadEgJg4YeKxI8dsbWyDg4JjomJS7y84tZWl1aGDh0YOH1m5YuW8efKyT9ww4Y4GDdTWEYAgz2+/ydOyRSu48dbNW8RiNChDoMmLvkzERseqARfCIf2GDUqXKp0w0II3NL0gIKhDdEUm0RUM0HDi0Z69D0xMfX18IyOiUp+Kx8eJDAE9c3D/wZEjRpYqWQrLIaSKgyZwIwMtHmyvpAp0PuGYdLRTx85rVq8h4JK7knam0rTeQPyryPBIdzd37BNG6te3X8kfS+bMkZNDw4olipdo3ar1wQOHrK1sggOD3yPwYcYO9g7k1UsWL4H0fi37K33FpmoYmqaYk7BeNg7Ka47sOX74/oeB/Qfu3LHTDM4PCHxvEv6KoExudXRwvHL56orlK4cMHtKwfsPChQozlPQ2PawmkKrhggQ1JSJswwYNF8xfcO7MOQgH0khTCYnxdXVxvXvn7sYNG1u1aPVNrm9yZMuh8oZ6RNVi1TcipmfOmjdPvqqVqw4bOmzXzl3EdG9P71jtwvAp2RdG/tzO/tzZ8zOnz2zUsHGB/AUwJHbLzlU3UZqmOKbwF+wqKz1Qp3Ydvn/i+An4DZbTVJNTDb5Mt1hbWqMKMOOuXbr+8fsf7Fa1YdVDtZvip8KeERtEHxL+mTNm3TG4AyeIZn4KQMhhoeEe7h5PbJ8+NBMrltw2uA3VDB82/I/f/lA7LXu2HGPHjLtw/oKLs0tEeMTbno51hQaH8lfkn5mpGUEW2jmw/wDjWLpUGXUnaoHs6pWr2GFEWBI7UcGuIBxOoFPHTrg8P/wm9zd9evdhb8+ePhPluTTTjMSXjDixMt2Vy1eGDh5avFhx1ZbwIPUNUU81EhXf5v6WIPLnH3+W/PEnchP1Q8FvCsmoPigLZBL/14h79fyZKJBVr1ad6I6h58yes6MyC/e+0X2xOJGbh5eHFyGHaBcVqSjR/0dKFWLdy4eUbMa0GXXr1P2l7K8EXYUQNCBCo0joHM2/dUD8LlO6zD+t/9m0cRPaV1xkVp+jnAyUPxLFfbx9jQyN1qxei6L9ufTPiAB1n1BP/nz5ixQuUqxo8aJFin2X7zsti6n44fsfW7dsPXvWHMhOrS+kKKlfxLwg6F6+eHnenHn169XP820ezb7SpWPoOUThgoU5YuFCRfLl/Y6cQfM3InrmrKVLlmrdvOXm9RuN7xr6evmge5I2A+VD0h4DfYO5c+a2bdP2l7K/kGSq++ENik00qkgxBGWeb16fgBbFihajXYhIvZt6pCJJCogvHWJ2jLePhbkFOnL2rNkNGzT6ocQP2qFXUa9OPVJ9i0cWxLO03XET9yoiPPKxja2qighv+fLm0+w0XTqywUIFChEayccYCNSS5g8KMPLffv2tV89eWLKJsYmvt29qCq+kc+aPzLdu3tqrR68yCQIOEGuxMQaaMWXDrnRNDnBinN7wocNPHDuhlgITX01NCS9jXwb4ByJGz589v3DBIpJYXXsDBPLmTZuvXrna5P4DPx8/Ra//v5nTfwxMws/Xz9rK+uyZcwsXLGzWtFmpn0olYstaNWsJE7pv8h6XqaEpJ0dn8gcyzxrVakBKmp0Kps1VsEAhhRKLYlfYD+Or+Rv2ljEzPIzNr1q56u7tu16eXu+690QXYSFhJKskkP369icZI4lV90YyljdPXjwF31SdRdePQK4cuXCWgQMGHth3gIyOPhH336l490HpPX+/AKxxy+atbf5pU7pUaV1i5+i0q0SxEhyXlhJZNH9QkC9PPnh7zqw5586eE5wvZGjs+03T+OTgtD3cPAgTixYu6tC+w++//v5d3u807VTAyObOqRmLtwHPEDFXLFtxW/+2s5OzyPRSAdLvAP8AiHf7tu29evbWZpuAgJs71zdKBCyqhKfE3IgBVK9WY9LESVimg71jWGhYiqalBWIAU4ROzR+anzpxiuhGZPy+hGZGiQqYuW7tulu3bDV9YCY4P42FqsjwyOd2zwkoI4ePrFC+Alak7jZDugzkNkUKiZhbvGhxeLhggYLYtvpXFZxJ505dNqzf8OD+AwLTF2pR/w0YSowNkzt96vSE8RNq1aj14w8/YjmarlQMKUf2HBgPwVTzkQ7IOVHahLw9u/daWlgGizumX6Qm6uHpri6uV69cXTB/YaOGjaACzR4VwFTYJ6zI4CKrdCkFIffTjz81b9Zi7Zq1d+/cReWKq0QEwWStNyoi6umTp0cPH+3WtRsxWpseAww1/3cFCilasVDBQrp/AlB0xQoVhwweumf3HhxNxNxUT4ekKzzcPQzvGW3ZvKV/v/6YMYegP9U9k73TOgxbbSlRAG/VdVJaCqPu27tfM6nqEwV6PBdnDwoMJvZ5eng5OjjeuHZj6pSp5cuVV89TKZCNFQUyp6QLZHQXXREeFh4UEETm5enhyVhcv3Z96uSp2iobGcr4ceOvXr7qYO+grJCYdGMx15CgEPIajqg+bRA0qNdg6ZJl5HfqVGvNVz8n0HwskM5J06IuEikCbscsz50517dP3wL5Nc+szJY1e6aE+39V5MiWAxFCDkIu0LVL19q16hA71D+hrtXL3jgmmyyQSfxfQ1Mg21Ojek01yeEV6Xns6DFrKxt8CSGI9iLIwVkpFH2+WNAudLOpiSniQxvGtIA70Bzl/i5Xo3qNShUqkSbp1jIQoJo36TOgejes36gKXKFCktU9HJTgd9/YZM3qNcR13SfsZsyQkZwTGdS+XXvGQrktrgUnRsrEnzRfUpaKg8IWL1x884aep7snESUZTUAg5HB6N/XmzJ5bp1YdzS4UoHLQIk2bNOX8O7bvyEGbNG5SoVz53DqPNQGZ02fs1L7jtk1bzB8+8vf1TyKyKg+bI6ohjDZv2lyzRi3dBI/3f/35l6ZRHTu3a9uuYf2GJJ+JkkCQ99u8jRo0Wrl8JckPFihqNP8vdqeu5uvs5GJwy2D1ytUD+w/Uneesi7p16ol5Tw/NsaU0ZCzxrxBnaLLDhw737tU785vTpDGYmjVqYmzdunTr3q1Hh/Yd69etnz9f/kS1ORR/927dt23dbvHIIsA/MDmvV9YPsjC33LF9R8cOHVGuml0oNIKYI58X91906tylcxfGvUH9BuxcK3lV/Fzm59GjRp8+eRoi0oy1uqWE2OhYtKPhPcOdO3aRctSqWavAd68XtU1oVPpmTZutWrHK2Oi+t5dP8j4ikSJiomLcXN3v3rm3bu26oUOG1qpZW6SEb6F6tRp8AQnu5ekliCLVXU524eHuefnSlUkTJ8FLmt0pUHNL5d72rl07d4UVoaxff/kVutB8QwFEiqVt3LDpkUJTQmG/++j8ldzj4IGDPXv0LF6shGYXSm3359I/16tbv1OHTj2698RZIMZGDRtDyxnffJRNqZKlBg4YePzYiSe2T8LDlPtlxCNckz4kMRR3NjM127RxU/u27XXJHKcgstSuWRti7NG9R/eu3fFTIg4+m8hf+M7sWbPJl9xd3cNCwr5IelRuIyLgrluzjijw7ZtXSjKkz/hd3u/K/lwWjy5dqkzWzFm1ZVDdogPERZzCte/cvkMenhq/RrjDaXv37KV7SQA0O1KLCCV/4nBt27Tr1LGTeidvndp1tHdFafHnH3+S6968cdPNxS2VPQ9/0lhXFzfOc+P6jXA+B0pktIBUv17dehs3bLxvLBLXVM27TDj6i5gXjvaOpD0jho8oXaq0Zo+KdCn5Y0mV82FgHAd7bt60OZSbiPOLFi6KQ23fth3jJLf/f71L4MNB0PHy8EJHTZk0BT2j6T4F+GnO7Dnp2yqVqjDEFStULFK4qOq8GLC2w/mE7wwcMOjo4aOMmubhG8kaEuOLeDPQNyAFrVunrrofFSSrBfMXRC+1b9cBu23dsjVBFrGqWzkCyNRWLVqtX7v+odlDtK6iTt95yOjIaCdHp9OnTg8fNjzRlY/cOXNDwi2at4SmOnboxCshHm/VpTLwy8+/DB40BBECKwYHpWo6JMzv4+1Dxy5bsgwCp+s0+1JAEv7H73+0btWaP3FcBCTGzNGRSQXyF8gCRSg6vHat2mtXr3325BlpC70qqsyp8NCPDtpLD0eERyKGIXwjQyNUd6WKldW20KW6BbJ3BQtOnnGPjooh/0Le37t7b9bMWX//Je6UBAS+CeMnqAUyGvvOy37KbbmEQtIErUn8UvaXMaPHXLpwydnJGWpKTuD9l+AslKdP0Ccebh52T+2e2D7F7AXNSnwkIMY83D1w7T69+2hTTsIEgVUrM/i8SuWq+Nf0aTPWrF6L2IBYtFe++SbfT1WB7OPFEFkgk/hEeGsGWZZMWTp17HzyxMmntk8DAwLxKJhacKjCX/+XiI15YffMjjSJjEu9IJY1S7bixYoTjZAjhOTBgwZPmTwFpoAySIfI+atUrpIr4fq2lllQCQjrA/sOPHtqp6ym/M6pEwhQvmD6wHT9uvXVq1bXTlvIlTPXb7/+3qJZi2FDhy2Yv2D1qjVIarIpvjZn9pwB/Qeg2nUnMpA0tmvTbsP6DehaHzX/TyraEbDR3CbGJosXLa5ZQ/NEm/TpMhQtUrRCuQpIq/HjJixZvAT9tGnjZpKWZUuXzZg2o2e3HtUqVy2Q7/XKoN/kyNWlQ6cjBw/ZPX0WGhz6xpVP5bDEaULa5UuXUQDaR/CQe3BQ9Pe4seNolLqwK9vK5SsnjJvQrWs3EgMkI32ufh+QFpID79i+w8bKJq13Iny2IGCEBIeQkJPJTJs6vdRPpXXzvZw5cuqKUQZ686bNKBsGLvWX0RATaCn237lTZ211DFFbpnQZpGTPHj2xorVr1m7dspUN02Kgx40Zh4Wj5smRMD8ENz8hy+rbuy8koMzDT3rN/jjxvMgw9Nmunbs6tOugNUtyP7Rsy+YtR40czXCvW7ueY23bug0zXr5s+cjhI5s1bfbbL7+pz75R8X3x76dNnYY4RrsjCjUHeAc4mZexL3Efsosb12/MmzuP9CBvntcJJ8Ebh0rwSlEgW7F8BfpSfdDE5yIHvzTAISh1RwfHixcuTp8mrFeNFyryfJOHPlc+Ed1evVoNyMTY0NjDXTxjSyRIyfe6wiRYFAaAxoIosFh1z9hJqZ9KYb29evaaMX3GyhUrt2zesnPHLoxq1cpVkydNRslVq1oNKtNeBf3xe1HhPXbk2GObxwoPJ10jU8XiyROnBg8crJ1x803ub38u/XP9uvWHDB6ycP5CjrJr5+7t27ZvWL8RKxo/drxwlvIVv9GZM8Kh4TG6xd3NPfnpEqEhoTbWNuytebPmGRJm8eT/Lj/ZTsMGjfr26Tt75uw1q9fgLHxn3dp12PbQIUObNGry4w8/ql8GRBmSUtpO+PBWFtwRM0y/KKNWk+HTp84MGjBIO3GMNpYvV6FubRFw+/frjw3MmTVn6uSpQwYPJROuUb0Gw6p+UwtSPrQ73fXYxjYyIlKz9yShXDl48vgJo9mjWw9tbIK1fv/t98aNGg/sP5D4Tpzdunnrlk1bCIJw18ABg+rUqpNopjPWCG2S9GKrKd5Uqwb6J7ZPzp87D8XVqF5Td2q2eneYOp8L4dGoYaONGzbdNzZJ60URb09vzI8eK5ZwnZ/I8n2J7+k0jGrWjFk4IxZFPMWesaupU6YRdtEw6Af1+7AlfcKX9+/bT4QSKfeXZlT/DcJCw2EV1AuiRe06SA+yqlq5arMmzbp37Y7ymTF9Jp5LqMV5W7VoRbb5XT6NkYt7LUUumqHc3+UmjJ+gf0s8TxDTFaWcdwAZ6e3lY2xkvHjRElSBWglivIoULlqhfMUWzVuiSBcuWMiwEmE3rNuwfNkKeBICrFqlqtbOAfTIySD1sUZsUoxvUsBNXJxcLl28hDlp5yuBkj+WRKniiSjhZUuX0wO4CYdDN44ZNaZ1q390H/MFaCB7uHzxMglzdGQKV4sV3egnlrefMg1FqtUGaGwyc1rdo3sPjqs8OmMDuggzxp4JBIQDjt61S7cmjZuSwtAV+/buQ7QEB4qnDAsn+lQ2zHFpspjOLy4Y00ucntqobFmzjxk95sI5USALFzdrv7trCJvkXi/jAvwCHtx/MHf23L+UpcSAWKQ/NQUyhWzJbuirggkzhog4XTp32btnr+1jsThAasqX/w2wPS9PL0sLq/PnLjCOB/YfFLMsA4M1f5b4YKCu0TynTp7u3bO3LjkAiAXDIOcldyBk4GJnTp25cvkKUYPEs+zPZdWvQXepKZBFR8XKGWQSXz4SCmTkGGrCQ17dsUOnE8dPPH3yTKlN/P/rJLIaayvr7Vu3161Tl0yJZLtShUpIgRHDR8yZPRflsW/PvlMnT507e+7M6TMH9h/YuGEjEqRli5ZvS/a//yqHzta/ZeDu6h4T9Y4rzGLeTRTdfmDfgT69+mjFE8cliJIbLJi/cOeOneQPV69cvaWnf+f2HbbLly4TM8igmjRukk/nbpQihYr06tHr0IFDtja2gQGBSdQXlLV7CdJIf1Sd9nYAEpJmTZsNHzZ86ZKlyOJLFy4h1+7duYdMuXH95vmz53du2zFp3IQGdetnTJglB/787Y8JY8UjeAjM7DZRA4nTbq7ux48d79+3f84cOUlgkDtoNfLYVStXE/CIfHo39DgEG2/ozx3bdsybM69P775//P5ajQHE37Sp0/mOq4srmbnmAF8skGvqAiK7duwaNHCQVnridASqn378iQhUqODrGYKIwq1btiUUyFKoGalA8np5eGF7kyZO+u3X39T9oDX/+uOvLp26TJk8Fbs9deLU9avXbxvcvsv/DO7QvWfPnN20YdP4ceNbNG+hveuHEMgZioB3S9/Xx1cYVaKBVh5R6uLsgs5DlWrnjhEyK1WshEHOnTN3z+49uIzeTb27d+4Z3jOk7Tdv3Dxy+MiK5SsGDxpcuVJlgqv6K9KGf1r/Q0i2ffyE4JrM/AXEHCmKs5Pzvbv3UHiI41o1aqkZLHlm/nz5SxQvUbpU6ZI/lFT3zPk0a9p8+bLldwzukIq8bbESKUOZJ4j1Ghsa79+7n6zv99fLqYjFX0r/VBrnLVGshDaxITdbvXI1g+7u5qGp4DCkyfY8I+vv629y/8GihYu0RfxMGTOzc6gYAiH9O3b0GIrttv5tRh9zghuhKTIl2Lhtm7bFE9bUQL39+suviDzyBzcXN3E/uGpQOieAT/l4+2CQ5CocQv0hIK/DWaZNnYYuPHvmHPZvZGhEQ3AZLPnkiZMb128cM3os7qlbN2nUsNGKZStMRGkj4F3eSqrj5Oh0/OhxTP0153+bl8b26d0HYt+2dRuS9Pq163AjhH9L7xZp6sEDB3Gl9m3b68pZftW4UeMd23c+emgO5xNovqyyL4krznj40JEe3XqoRSLsB9UxcsRIoicBF0GiPj7yzOmzMAYp8ayZs3t071mmdJlESw389edfEydMunb1GpmVmGvwjm4QVw48PLGWgQMGae8WARhq39596WGs6PSp0/AhPc9Y0/lXr1wj1s+bO69l85aFCryezIhAIr0kbFlZWJGaanr+7eMSdsMi8BpslWg+auSoCuU1mT+vBQsU/KHEDz+Xef1kOnVMsS7sTVnJNHXpRdwrDABfoAnaDByUKf1z61atx48dv27tenoSzuc08F+je0Y0kH7YtnX7lMlT0BKFdG5hRhLqURxFAADibklEQVSMGjn65vWbJFG4rcZrJHQQEhxi/sh8+dLl6oSgggUK1aheo2ePnhPGTYC4MFT1oYoXzl/EeTHd9evWw12MbKJ0FJtHcm9Yv8HsgRkyO5kQL+ZoPxJT8hvUb6AtaCJTmzZpikBFvCELL56/ePOGHsQoTPfmrQvnL2zftoOYjt4jAqo/AaVLleEnnJv9c/ukQ2H8K8I9pjJzxqya1WuqvoYmIaR2aN+BHRK7Dx86fPHCJY6ChICpcD208epVq5EBv5T9VXvNjwZWqVRl8cLFfMfX2y82JrlaFb1qaWHJzmljlsyvrxqyh149e82cMVMh/+PXrlxT1SOKQoSA23f1bt46e/osSkBUtOctwKqhdEcHR6VA9ikfZ6lFVGQ0RLFsybKaNWqqjULyEXRQwikXyBIQEhSCFESPaWeQ0dUTJ0wkQUixQAY8PbywEOJO3oQ7c2vXrI3lPDB5kNrJqv8mOAH6wdvT28rSCtNdsXxlxw4dO3fqPG3KNGQbZ6j5nsQHQy2QnTxxqkf3HroXlREzhOAWzVsOGzocJXPsyDH8CDHGRvggSURQqd+UBTKJrwnaAlkVTYGMnKRD+47Hjx1/+uQpkVvQ96ePMv8uyKBsrG327t7boV2HGtVroiqGDR22bOky9DH5GILS9IGp7WNbOuSJ7RMbK5uHpg+hD7QsqVSxosUU3tCsdFi0SFHIff++/Y+tH6NskozQpIuIWtQMCvXPP/5Ufw7pIJhgos0bNxM77925hyriiAR7cjx3N3eSK2srGyQCkr1BvQa6k49+Lv3z2DFjOSXk+NurgzGC3l7eZ8+cHTRwsPZXhQoWatKoyZRJUxj6y5cu3ze+/+TxE2cnZ9jT3dXdxdnV4bm9xUPzU8dOTJkw6fuEzBPkzf1tHWUeu+E9I2X+8xs3WtJeVxe3k8dP0hDSzrp16hLF6SjMCWWjdOMTGsJ58jX0AUKNHI+ccNuWbV27dC1c6PU9et/ly88n9KS1pTXdJfKQL9YO6SUXZxeGYMb0meSBJYpr7u4p8F0BsqaWLVq2+adNw/oNixcroVsgIwcTBTIfpUCWiraT0qDd0dxIdu0MF+yzXZt2ixYuPnLoyC09fXb41FZjVG6u7gyEw3MHxuX0qTOk6Lr3e5IHkpHiAoyRxpJ1ziFW3PThd9/YZPrU6dpyCSDokvQuW7r85ImTJGO4FQKOscauPNw8nJ1cMDPDe4b79x0YOmTY77/9rvmZxobH3bh2A1MXh3uHZouOisY4yT1Q3p06dir1Uyl1Rgbc9cvPv5AzwF0tmrcgWqu7zZAuQ/OmzfFlA/FQRVkgex/ERsfCCRfOXcBCunTuoq2i4qHly5Vv3qx52zZteUVCaQtklStVXr5MzNpjNKOUNdRT9N/YmFg4ds+uPeyKPav7yZcnH1xHtnZw/0H9W/pmpmbYD9aLCIM9XJ1deW9pbkmStnzZct2bj7BeMjpYxcrSOjQkIX/QOQGSCvIWcqpyf5fT/EaZuIoux7TgK3Iwcja7p3bYG57ixouzq90zO1MTU/46acIk3XoEXtavTz8+53wiwpK2Maza2NB41szZ2vnCABcYPGgIWfSZU2foLmsr62dPn+FxNNDJ0RnfoXUktEsWLxGrRuqU5DD4EcNGQCkQS3ho+Jc1x/Zl7Es68/ixE0MGDyletHilipWGDRmGwcD25N4i4JqY0vmEPzYiKax14/qNHdt39OvbT72UrU50BRBO+7btt2/bzteCAoPElK6kOh8lY/7QfMnipfCt+kNQMH/Bfn37r1u7Dts2MjQiPWN8CU/0PK8Y2GObx3o39VatWAU5kxJofqZkpyOG0/nnPN098Q5xgEQHVZ5WySCiH+bNnY8k+O3X39RSBT5SqUKlVi1ade7YGWrSxgJMvXGjxhvWbcAMvDy8xNM5U4HI8Ei6aPOmzQSRXDk1SyJkzZy1aZNm06dNpz9xDRNjExpCcyBhT/7n5vHczh5XIhclpWnWpJnupDacaNfO3fA2nZma1P1rQ0hwCMJs3Zp1TRo3LVK46D+t26BwGLVjR4/R1YgizIzexovpZIbmodnD82fPYwOMda4316wgtxw6ZOi5s+cZ7ihkW1Ig7Ab4BSiF3YE5EtaQwpCqV62uiLc916/d4IjoUkgD/QZNsWF4fHjs6PHx48YXK6IRqCBnjlzVq9VYuWIlNubnm8QsRZSGeuEWg9dKCAi/fbv2ixYuOnjgIAH6gckDzIPD4cJsHIvG3rtruG/vvv79+v9c5mf1V0Al4Z3bdz6xfRoWGvGuhBl1hLudOX1G9zIAbSxapBjcuGH9xnNnzxnoGwjp8uSp3bPnfFlRL26oF9iPf3IC0AUubPbADHmDVzJMOGCSVPAfA1VmYW65dMlSpUAmGCChQHYeOZTKAhnRigYuXLBQG62ItpMmTkplgSw0ONTC3IJxr5xwm2eZUmVGjxp94/pNulHDYJ8CmDeKLsA/gNB/9co14iC8ivTlDIsWLtqjew8a6OPlo/m2xAcDBycEnD51ulfP3gULFFSD2rfkdLXrDBowaPGixXv37BX5oNF98lx8jah69vRZTOW3XzVaXRbIJL4mqAWynburVqmq3uOG6RPVxC2WSoHsy7o0/X5AKKAt0DcQBMnYkkVLUJbQBPmMyPCfO5Dm+fn6oVT82Xz9fX18iStITCR7967dEy3nUaRwkXlz56EYQoJCksxbCJnkUaiNFs1bqj+hz8uULjOg/4D1a9dzXKQA+gMiI3IQ6cNCw0mBCKXBQSGcJ5p7zqw5CH21oKmi1E+lNqzfQDYl1sF5c8RIzGjFqpWr0L6qRgdVq1QbNXLUrh27YDRrS2vUM43iWBHhkYRbsYWE+vv4PbayPnPi1KhhI35WVjbJnD5jhnTp832bd+TwkfAmqSPnlqiNAf6ByMSdO3YSzhGOGJLBLQNkIuaEmiHaBQcGI+tjomKiI6NR4d5ePg72joZ3DVcsX4Ho1J4hqFK5CpwrEgZ1JaMvU66jXbyUW2AwlZw5cmpTOyRO2zZtx48dj3iaMW1Gp46ddJdjq1Orzvat2+k3H2/lkUyp8EKshZxn6OCh5PmavaRLR2I2buz4I4eP0I2oEIZAM9BhEVgUyonx8vb0ZnROnTw1euToP/94va5Kg/oNODe8IDAgUB1lXTGHMCWaaqdeg/z58pPjLZi34OTxkyb3H2DDDBxDHBEeERURhR1iLVAKH5Jj4DtdOnfRXdGpSeMmiGnUpLJ0VNL5ISePVh47Zmz5cuWJ0/wqe9bsP5Us1bRJ02FDh2Nyy5ctHzZ0mLbSlzFDxubNmi9fuvy2wW18VhbI0gpGHLsy0L/dr28/7FM7XiRCrVq2wmCWLF4yZ/acgf0Hot21zzCpWrkqhAMHpr5ABufo3dSbMH6CWGlRPJRNVIphRUaT8HRLT9/G+rGzozPGAwkHBgRhVzBJUECQv58/rEiiOG3qtEoVK6knAIhokPktvVtwjjqvVrfqCrtCTbqzVvPlyVe3dt3ZM2cfPXLU2MiYsOju6u7j7cMhcBOcJVKxYf6JHx06eAi6zq5zT3TtWrVXr1qNwxIpkqxueLh5sOdePXppp0j8VPKn7t26r1u77tLFS6R2z+2eY6LeXt40kNihkHCYn4+f3VM7vRt6JKgVK1TkV6qoJfls3ar1xg0bSZzojdTfhf05AKOCEhka4h0jvmD+ApiEToCjSOTsntkRjxggeADmYWMEGWL6liS8T68+P5T4Qek/DTC8aVOn3zG4w09Esvd2mIh7xc9PnTjVtUs37QWt4sVKdOncVen8y+YPzckzPdw9oBf4kDgbGhKGyse0YDmoA2EAGao/ZPiwz/p1669ds5bOVwpJ8a9NCyNX1uJk4GjR2NFjvy/xvZpR5M71DV4DU40fN37RwsWLFy4e0H8gFq7uVrdARkOSmQ2nBeklXXTn9p2+ffrqTv6Fk4cPG7Ft67abN/SsLK0QG+wQu4V+ibxYMtaFYT998ky52X/a77/9nilBw/z159+zZ82GYzHXz6TE8FkBJfbsqR2OjD9OnjQZ+zl6+OjNGzdVhYOZ0dVYES4MD2ADuDNx8Ma1G8SgBvUa6C6uj9Rp2aLl5k1bHtvYBvoHJhnyoqNibG1sV61YVbtWHa00guUQb7gMw2RtZc1BVVZU9RuyCpriHBj6E8dPDBwwUPcG7Tzf5Bk6ZOjpk6ddnV2V6szrAYaisZC7d+7OnDFTu5onb4jLM6fPPHb02N079x7bKCTs4YUYDg0JVVREBC6A7+ALB/Yd6N2rt3YmL/jl518mTpiof8vAy9MnJirpmI674WIcVLvoJAKmRrUaw4YM275tO3LX9IHpU9unbi5ufoIQBBsTx2lmdFQ0Wpr3nIlgCW8fetvX25e4wFnhQUKufGoDFgWyRxZLFi+tUf31DLLRo0afO3uenoTkk8wREoEGQozvXSCjozASjLZRw8bqzwsXKtyxfccD+w/aWNnAdZ8ky4NeGFC85sb1GxvWb+zfr/8P3/+gTWog6l49e125dAXb1vxA4oNBYMJBSHWJQZUrVf7zjz/JCnv26EnGumvnLpIUw3uGOLIIwc4u9Dxmc/miWDBHe0tK1tStQSYLZBL/F3jrFkvQrm27hAJZyNdQICOIEu8JFWjlM6fPoGuNje7bWNvg6uh4VDKCkjhHxNVuqgS5d+fesqXLy5d7o1ZF1jRq5Gi4xlNZf0dzCB3QqybGJjOmz9SmZ8imRg0bEf/odpP7Johy1BXZESKAKIJyYiOO8sqH6DNOckC/ASV/1NxHBnLnyj1r5qzb+rc5W91kiV/xCYRIOqe7EEaHdh1WrlhJfEVgkcQicVBLtEs5ijgQKWVMZLS/j5+VueXu7Ts7te9YMF9+9V7LzBkydekk7jGxNCc3SxB2CWZCR3H+xobGhL27t+8S19XEj+5CwCHQdUtd/JY20r2IeMTcoIGDdGfG/fD9jyTeV69cU2fGfaGmGBUZ/eTxk5XLV1aqILL3zBkzFy1clODUt3dfRnzf3v3nz4kbXgYNHPxmvi0KZGamD5F9uj32LqCQ3Fzd9+870LFDR+1dSIUKFm7bpu2a1Wv0bt5CZzPQGAMSnx3SmWwvY19iogwK9m/+yHzL5q0d2nfUFnwxsMEDB586eYpgybCKwySMAIfDclYsX6F9iBXBsny58iOGjdize8+d23fJChhxzSLinLyymgbWxaER8Up6rE9ALauzcAnRevq0GXo39LCWt2/qBBwUstqza0/VKlXVKkPBAgWrVq7arWs3krod23dwqkcOHZk+bXq9uvXUOgKmnlAgu0P/0FLNviRSB8aL0d+3d5+65g7aiDSGgSYRmjd3PoHj3NlzvE6cMIkPtTTIAKWpQEaqj50zfKT6WZWRZfgK5i/YqkWrpUuWXb502crCyt3VXc3K4F6MVkvFbJgZko70DKmXOWHpPSyzc6cuhw4eem5nj80Lg0/IIkicnj19tnnTZt171cv+XBaSxIpIO6EsHxKtIBKtcJX5YSrx8zjBqLAlOdv6dRvIVLWPTC1bpuxohfbJWMjZ+Jp6LBXYszlp0qIlNarXUL+fKUOmhg0azpoxi2TV9IGZo70jPQCdqg2MVR5PiZyNiYrhNPgrLDF40ODvS3yfOeGIhOw5s+aQW+JN4nb+Lwfxca/ow8c2tjeu3yTkXbpwCV1OwKWZZNr+vv40mawvMgJuimZTc2BvLx8zU7PVq1aTsaveraJE8RJYIzGRgeabukV8FdFRMQ/uP1i8aDEBV52iixnXqVVnzuw5HP2+sQlD5uvjp9QXIjCt2Bh4SgRBepVs3NFBTG8ZN3ZcqZKltMVNhaymG+jf9nDzYP+JElSGz97OfvPGzU0aNYEYM6TPWKJYiZo1avXq0QumgiGPHzuOT02cMFFXAyQukKXE+fgmCczZ02dbt2qtvV+mSOEi7dq0W75s+flzFwjQcCmcTytoF43iPDEqTCsmOjY4MNjK0mr/vv3oPe09pOSlXbt0O3r46BPbp/SG1mUkVDAu3l7e2AwqUdyTe1PvgckD28dPCC5oNg1jKHbLK9TBK5aMgV29fHXShEm6q3qBCuUq4MJGhkbkoklqRWzy+tXr/fr2144vhNO+XXvEG6IOl4FgIQ0OwbGwB2GHjFi8eJqKn4+fWFhjyzY0gPbeOhyH4d66ZStD7+frr8sbmIe7mweECW3iIOr3//rzr4EDBm3bsg1tKSZneXgG+sNRwjfhNGwJd+MNpgJ9PTR9CO03bNBI655Imq5dup46edrhuWNocPjLF4mjQEz0i+fP7Ikg6Bbt9PmK5SsOHjQE96GNFo8s0JM+Xj6qCMfXhHtqA4pWV0THQpt0vsrYCn9+Fve+cDJKgew18ycUyM45palA9shi4fz3LJCJer2v383rN7EE9ee5cuaqXVNc0YFtiHQaDf+fgJNhpDDOx9aPr1y+sn7t+h7de9I537/5RJTiRYv36tmL0O/lIQtkHw14K5EXytqyecvIESOHDxtO2rhl05Yzp84ge0gBRLLm4oa7CTcPJuZ6X7tyjdj32y+yQCbxFeKNRfo1+fk/rducPH7y2ZNnxCQRh74CREVGIxcINoiAp0/E1SrSexQkgV/IHbHIi+abGognMb8kcp89c7Z/v/7qNbrsSgfCIKR5hw8dRiK/PZ8LIDIQ3Iha7brmpUuV6de3H7oZknpi+wRFSwjRpGSKCNBsIj0Ti/4ijNatXVe7Vm315yB7thwjho9U77jht5qDxqsPJHLevm278rw5DfJ/l3/UyFGHDh5G0Lg6uwYFBitZgXgag/aHrxj3l/EvkFlePrf19OfNmlM74QpY+nTpGjVoRLRGHSLs1LsstXZCR9Fq1BKdI6jW21cVcEKgv0OyIBGCAoLuGNyZOWOm7qP983ybp2XzliSQSs6Z9FLxnz9Qk6TTE8ZP+PP3P7NkzvLbr7+jUKdMmrJp4yZEkrGRMSoWe5gwboLuLRi1a9XZJgpkZqkskPEdLGfd2vWNGjbSqtv6detPmzLt+NHj5g/NGQtCI/aMdnzDmMVD9+IYHQ6EFuc8tTfKZUyfkb2tX7feytIa6a/7K2wMaTVt6jTtlzGq1i1bL1sqyhk2VjaE2DClEvfGiCfIWX5up1yHR7FpL1aTpHVo1wGzfPb0Gefz2hoTwN7E+i/LlpPFEaG/y/cd5jF+3HiySgL83Tt3TR+YXb1ybdHCReSlaifozCBTCmTJr+Qt8RYYCIZj1YpVNWvUzJwpCzqpzT/irqLNmzafO3PO6J4Rwv3CuQtzZs/5+6+/tfNQqlWtphTIUnuLJSOLj+/eubtd2/ba1etr1azF4B7Yd8DkvomzkzM0xfCplSNhiuwtYeMT7PPO7Tszps/UdaJKFSphLbCcMqtLyR4V0CjxzOJ5C7R3O2JOJAxz58w7f+481o71hoeGkz1CwkoSKKrJ2vPHMr09vfVu6A3oP0A7cwcyb9a02bat2x6ZPRKM+mZBn0T3yuWrAwcMLJyw5FO+vN8RJshUsVsihagmh2pTO6WBCWA/nIyN9WNELZ2vLcmV/KHkkEFDTp864+jgRFqYfA9/bsAqyJGIEeJ+tCfPXJxc+CehLSJMlKhIuekE+pmQodaq+GdMdIyvt++li5dGDB+h+0SXvHny4uP79uwj5w9+a9Y2YwfvwbT0tvYKRIniJXr16LVzx06DWwa2j22JYnSgYiE6nMMbxbQYu4dmDxmpli1aam/+ZdwJ2dAOPMboiB/qADmh3hJVpXKVb5SJY3C+uBdvvWCqe8qajBfPX5w9a075hKdmJy6QRaVcIMMdxNqp23agBLQ8/Ncff8H5Rw4fuW98HzGAXwiviUliPSZsjD7nZDixX8pqLlSgYSqUr0DmbGJsQr+JzPnLMar/AnGi2z3cPe2e2ZHhw1qEFfVSEC4v6ELhikQEhf6BRffu2de0SVO1n1V8X+IH0tTr1264uriKcuSbI86uvDy8du3YBRNqfqBc9BoxbASsaPbAjJjO+OIX+IhGK+qAQcdfsPDZs95YPAFrmT9XrC7q5uqG2WtZEfLBg8hytQtdZUiXAZucM2vO2dNnYUXMUjRTcU9YUfdwNJmfIyEunL8wbMgw3bnw9erWE0/ENrf09QmIjoyNe7MUExwUqn/LYPKkydpKMSG7Y4eOy5etuHD+IroFGw4MUHRLjHiMvmA5tW8TQbl0Qf8rQ5C0zvwk+BwKZIDvoEKhLPXnoEzpn6dOmXrxwkXN5c//oMfihE0G+AfiC3o3b23csJF+aNigYaJbcFTIAtm/AdwHV8JmbunpHz54+MihIxgAEcfS3PKZspqEr4+o8qtRGCkS6B9449qN8WPHvy6QZU5tgSxOFsgkvngkFMhqVKuhLZC1aN5CXaT/6ymQEVPRGcQh2IFWoxuQQVql/rb4UBEcGEzUEQ+XUW5MIzeDMrJkztK9W3f0unja9Nuzl+NeqTc8au/1QJLWqV1n5vSZJJzk/x5uHhz6nZe/4sQ1TGIGiRzx45uERVuJMR3bd9yxbQf5BkmCqtc5c84QkTFl8hStAs7zbZ6G9RuSN165fOWJ7RO0XWR4JHIniTbyzxdxEaHhzx4/2bVtR8e27bMk3GBVtkzZIYOHHj92HKoNDSHGJ1J2IhBCsmRBvKEP31bniUBXW5hbrFj2ekYSyJkjV/169Q/uP0gOw9B8oaZI/zx6+Gje3Hnt27anOQji1StXHz96HIVqZWFFOGFD6EyeNEW3OKgpkD0w8/byZsTp0uSBALpz+w6pjvaeR7LBjh06rV29lgMxTKhMpTT2jixasSuSupXLV+o+JvWP3/7gxO4Y3CGH1M2yyKxOnzzdp3df7YSdUj+V6t+v/949e42NjMl7MTxUlxB/7xi0AP8AAjO57k8lf1L3AIoWLrp44WIjQ6PAgEDOJ9GIYyQo+O1btzdt3LRRQ/HUP3Tn0cNH796+a21pTRsd7R3JPFeuWEkegieyQ3UNMlkge2+QqD+3e07e3rVL15rVaw4ZPAQLOXHsBEaFtTg6ODo6OCnPEp2PqajP4wPVq1ZftXJ16meQ8Z1HZo8WLVzED9U9ZMyQqWWLlosXLb5y6QruT+rF2KnJjyb51IW4XPHC1sZ27Zp1ugRSulTp0aPGINrEaejkAKHBobDf0CFDtfNVCxcq3Klj580bN+NEWBHWi7GpM27Er9RNi3hxDQAanzVj1h+/axaRBOSuxAJ6Bp9FhmqLJjHRsc5OLju278T91W+qZYjp06afOnnK2soa5yJS4F8i7UzK0/nc39f/0sVLw4cN152tzA5JM8RdyX7+wj2T7eTPCqS7xB0GgoBLwBJzUsIjcfnXpqI2RJTvlZRYAb163/g+XKpdbwtAm/XrNdi5YyeRDt7AEjTfVsA/XV1ct2zaou18UKliJWIiuYGlhRW2wdFFzyeCcg6cDKfk5uqGwYwYNgKWU/eA5VSrUm3j+o0PzR4SmzRnmND50ZHisT/r163v0rlLq5atGLV1a9ejqTBFwpyLk4vds+cG+gZ4zbsKZJjfu1SHBvGi6spOpk2Zpl3pH9SsUXP9ug0YIfKDbCcqMlp0qU4f6oKjcCarV62pXEmzOBHgTCZNnHzt6jVvT+UZqZ9TueFzAKaCRMQflSljQivSS5hZMiKHv3p7+dClA/sP1E7kB0UKFRk0cPClC5cgUnxBhEstIBlRFrfB2rXrHuTPl79J4yawIlTw7OkzvB5LS3JkBeLEEnVovF07d3Xu1EUbqWHFIYOGwOH2z+0xXQ1NxYunPejd1IPn1a8BVcpu2rj57p27To7OuKpGAyiukdgqlIdBmZqYQuPaJ0GB3379DQmhd1PfzdUzJvqF7tnC5J7uXnt27cXyNd9Oly5blmxoS4QEMsD+uQOdrDJ/IjHwpQDb+BwKZOq9ukuXLKtSqYq6Byi0T68+Bw8cJL4TfVLcwwcCy0GCogwN7xqSbyL8Sv5YMkf2HBl05gKDTBkyqVfItAUyyFCzC4kPB0op5gXaG7NBNhAxEVcMClmnr7dvUGBQpJKyYZPQAhsury58oV2DjExTGSNZIJP4GqApkO2BvrUFsmZNmxE+v6oCGcShSmEisciLlKnjGln57g6ICI+EX8gYVX2ZO1duKAMh8j/2zgIgqmWN4+/a3d3drdfu7u7u7u7u7u5ubEUsECUkVDoUQZQGA1vx/ebM7mFFwNVrXe/+3zzuCmfPzJn54v99ZwKSASmB3EBhNfxDQhw2/9rypuW0qdNVip8je44O7TqsXrkaUuvu5o7xijrH51PQNqiMxQ2LkSNGZsmcRd4EVChfYe6cubesbwUHhWAEpSmE43JbaJk60wGK379v/x3bd+CoHng9ELQslv1rIj6+ffnaz/fxiaPH+/fum0SRkDj/+ytJoiSNGjZev249AQYNjsbHR4gZ++LZRcdqfhcLeGS6a+WKlSl1NqKGZtWtU3f3rt2yJ/+1DOn1PY97Bw8cXLJ46ZzZc3mcixcuElZ5unv6PfZnKMUYXb46ZfIUdVtcoCTINumbIIv4CI88fOhwm9Zt1FkSBOE9uvdAte1s7R75PtLMMZGI4W7Iw/59+2tUq6HeJFfOXH379D118hSPgLRrMqERH4kYVyxfKU/ykihapOiwocNlwM8TvXj+QgT8MQdXr168cnFyWbRwUeWKGuIIkKvx48ZfNL4IK+IOQq50vs4/iS3568IFC/kiKnbuzDkEHhrN9SFBIfh4OhYpwoLJDXFx5GqCTCZrNPcyQD8w4n7KGVgM98zpM5WNKs5aWli6OLsiVKHBYn8oM9PrC+YtKF6suLpGplLFysuXLcfC6Jkgg4cxlD179EyfNr2c+pcgXoL27dqvW7vO4qaF9wPvyEAuZlAX4ofFUOeFZcuaTS6+w64q8q+5MjAgkAAMCyazqCBvbmEVUVLxigJleRauhGSa66NCbMH+DhXYvGkz0qWuaIbujxo5ir5CSokV1eclgEEp6KLSpTQ7xGdIn6FJ46Z00aWLl5BeTOjrV1EPV/kESvBpft188sTJko9KlBQ7Rs2gi5RcRjSTLn9b0Lf0MJaNnuSDdLtfSAkpK1WdHJ2ipEGTJklavVqNDes3oPtQfMyO5moFIld1x2HunHllS4sd3ABS2qRRkyWLl8i1tMLhfvqVz4F8Ymcw0brniiBdM6bP4CZyfqJuy3kcZODsmbNoDRXhbY0vGHMHVxdX34ePEGZ0ilHDHagi8Q0JMnzH8aPHdZcVA26ya8cuOb1I49wRY+4T3a1QTL/HfocOHm7bpq06By1hgoTowtEjR2UAL95v/UdIoJ5QTmBArl6JxdeKj1N+GRs+iIMIrSytRo0crb4ZBZkyZOrdq8+J4yfcXN2fhD75hEd9+BgcGHzdzHzwoMHqZhqQN9zx1i1bERLvBz6QIsH0YgZyKGZ1nRSzumRiHYfIQDdu1HjDug13lO0+oV7KE4nj7aD99evVl3WhJvnz5h8zeqy0itIjx5IEBFSHhK9fu15d0QkypMvQqmXrg/sPubl4vAzHRmkuBi/CXzs6OM+bO79UCU3eB+MGH5g/bwHuwNnRGTVBWeTcMc13/m349Qky5S8Mjdd9LyxDuzbtpIcV7w4bNiLu4M5YEn2a8W3gzrTf08PT9Jrp7l17pk2Z1rJFS93XoioQzoTxE8pl7NJ3nz97/rFhBtn3Bm4XcwRbJgDBeeE0RaL/WTg2jcESuoZJg0p8iMDxXbl8ZeyYsarj0zNB9saQIDPgT4A2QValUhU1QdagfoP/XILsm4Dzg9kQkMsTzWSCLF5ckSDbsnnrndt3sC+fxHUfBNW+ZHJp9MjRibVnEuHzhg4ZunfP3ltWtyC1wmXGcBSXBhHCXxInTJ86PW8esXe+RM7sOUeOGCm3pBH0+kMENA6neOzo8datIo8HKlOqzKyZs04Ynbhtf9vfT7wijp3bfXjz7lnok6sml8eOGpNcTJH7X2JleUvpUqXh97B8GFg0zlW8+VfmeiifvwhYmpOD06qVn0Q+RMutWrTav+8ADytEMVZy9tuCZsM/HO863rh+g2jK1saOqIywBEmQDBv/ZG5mPmPajBTJvzVB9kFsAU6IKOVQhv1Qjf79+h86eAjOGiSmEkTmhmLKNXAZHg4pUreOzpI5a4f2HRBOgkyGQM6zQLTu3/MaM3pMUp3lbIgxjO3c2XOe7p4875tXb7hYCACDJn9+Chib70Pf/Xv3E5upyeJECRINHTIM7vjA6wHsP0rYCWiDp8c9pO7mjZt2tnbubu7cRNmaSmzCgl7cvXN39ao1OgmyuDJBZiYSZI90O8EAPUFc5O7qbmVhhW0hyHe46wDZRSzlchvEmMBv6ZKlCIC6VoJgYMWyFfonyAIDgtRtzpImSYoAI73du/Xglw53HQMDAl/rscdWWEiYpYXlzOkz1SVCGTOIRbs7d+zE1tFOnfSu75JFS4rrTP4qVKAQYo/0ynkZyEls1oZHQamDQ4niBvQfmEO7ZzwOdGD/gYcPHnZ386DTNBcrkyVvmt/UXchGxNuzR88d23cgyTRGBLpf2gUGXbCztZ8/b76ulciXJ9+QwUOvXLryUDmA4l+UIBNQfERkg/VoOd1OQLh50xZ1SyZAwF+1StU1q9cgnNhSLI9uZhN/amZqhmlSthnWGEZCLxw0cuvj7cMFX7CuSkSBChDlyglf0sAmSZSEQPf0ydPcRHepGpChhYe7J1qjLP2+5eLkoixgCcRG8dShIWHY9nlz56mnan5DgiwoMHjHth1ymzN5E9C0SVPIm6OD0BpUL3b+RpvpMWzj+HHjI+cIxIvfqWNntMbF2YW/KjusfamD/pNAzHQlLXa8VM5KmjRxku5eS5kzZu7Vs9fRI8fw0WGhn3BF7oxSnzpxql3bduoOcSWKlZg8aYrRMaM79newwEhd7HkNRh8ZuG56HfmXCVC5Ar1M6bLz5szDhz7yfaysV3iPvYKWbFy/sWplzXLO1IpALl281Pi8sZuLG8L26rMT0qMi4iO6AFvQPRYgbpy4JUuUWrN6nZ3N7adhz9+9iXzGwABx/MuwocPViZmFCxUeNWLUvr37pW4q4vclRfi9gSv5UQmyMV+RIIOMwTmpdKA2VQoq/F1hxvQZmEc4vMiTfm/waLQNMba1sYWIEncQGWFCoxznmiB+ArFwT0m7JEyQUDZPSZD1OH/uvJ8hQfYDgMCILL+ylysfxG4ScqEP0iLLB3HNk9AnVy5fxXqomyfiHfRKkL3mbpq6/jkMCTIDfhHUJZZiBpnGbjZq2MiQINMHOD+ZIKtQvgL9piyR+yte3HidOnTavm2Hs6MzkY/u8kMIUKB/4PFjx2FFajqyYoWKE8ZPOGF0ksgTR/Vaj4kAGDX8ImG/6i9B+nQZ+vTue+b0WSyUCM+UV/RwsvXr1pcvV16d5sBAr1q56pLJZcZXhIKEr2+V8DUmvI948+KV9U3LmVOnp1SmZiRUNsEpWqQobA/nigOLJrpTLGzsT6ELGuDk4LRs6TLdBFn+fPmHDhl2+tRpOpme/PfSdDwN7YfRwhUIfuj2cLE/l6bTXoa/JH6eNmXatyfIlI3t1q5ZK+XwL+UshcQJEw8bMgwy7enhGRYSdWJFtHgS9pQgfMniperUsCyZs7Ru1Xrblm23rG4FBQRJOeFx7nnc69enHxfgL+WVcO7JkyYTq3t7eT8Xq251lkrJ8imQmcCAoMuXLtNINcWAlPbr2+/I4SP3793H+ERNkH0QiVQoFx2IHhEBQqD5J2qId0c84PrKyiZDgux7gnGEoAcHhWCdKP5+AQwcsRkCDO1+Ef5CzNpbvhLiq+4f/3mCLHZrwIDu2rmrerUafFe+ZoAo9+nd58C+Ay7Orkps9oVQH9AkbNq2rdtqVBf3AWnTpG3cSEx0tbxpifRqVOCDiOJmTJuRJVPk9NtCBQqNHjXG5KKJmFT7VFnr9IXaRHVWltYEGGqOA+nt0b3Hnl17nJ1cRD5OzsyNEMnrs2fO9uzeE9IvryxUsNCI4SMOHzx82/42Yoy51lwcCyI+urt58Czqnn0ga5ZsXbt0NTp+gj9Jpftis//diPiI48Mwpk4ZmSDDk1aqUGnVilUE/MgnoqJ6iogPYrbg6ZOn+/frr559mThR4sGDhhw8cNDhrmNQYNAXs0iAGyLJ69eul28g5FJihrt3z94E867OrqEhYZ/M5YmQlio8JDiEuDTAL4APYhmpsokef8cd2NnYzZ83/58kyHANGzdsrF61uryDRMsWLU+dPCVs/me5wmggFguHI4RQgoYNGslEW9w4cbkJD2tvZy/6R6yU/7d63t8HiIebi9u0qdN0k0dZM2ft3asPhNDr/gMogW4/4x8hkFs3b61bp25K7U4a+PelS5ZeMrnE+CJCyvjGKrpiE70PsAjx+k2Zny5JfrGixSBvpurJzsqhGbh4QlyVUmbMkLFVy1ZbNm9BrbgMPyto3pfMCwJjfMG4SeOmukdpp0+bYf68hTfNLYODQt+81hg64ucH932OHjnepnVb9fUtTHXRwkXG5415dpHhFbr877ZoPMJ3SZDZ292eM3uO+u6ncMHCY8eM1X+JJRYsODDYxNhkjM4ms0UKFxk5YiS+yVvuXPz9gNnhweWM/gP7D0ydMq1F8xbweXWXUgkMDtZGKfHkB4yqpJRZs2Q1JMh+HqKIjzJ9DHaHWbhy+YpIkGnfJhoSZAb8l6C7B5l249vGDRsbEmT6AB9ALy1bukwmFOTWpESJcm2/m6vbsyfP5KQbCaIgr/teWzZtadKoCc5A6ez/Va1Sbfq06RfOG3N9SHCo4Nlf6nIGBdq9Y/sOwj9JakHKFKkIliBbBEvyNfWrl68tbloQwmXPml1eA4geN2/acsP8Bi2ROYgvEvGIt+9dHZ3Xr1lXMF+B+NpthgoXEh76yqUrvj6+IoPzOb5GcF4rK0+nT52uLo8C4pi26TOIWiEB8ok0V/8LgRggLcRIYq7TC2XLEq1m8Xs46NQpU//JEkuC8JUrVupuJUMcKHiY0cn797wI1z+J32LAC2XLkg3rN1SprDmQIUP6DE2bNF23dv2N6zcQORnG03JPd89ePcSGr3hHKYHlypSbNkWcoyrmUyi7VosH5BHV8in4K61i0CdOmKjOrMH7du/Wfc/uPS7OrvjmqAky8S3xWpLAgE6jvHktzngVgqFcRlRJ0Lt61WpDguz7gh5GfpBDaDQRNePLZ2k36FJ7W/uVK1aVLlVGzcJ/vsQydgEOCgjavnW7PHVETZD169vv0MFDWLPQkFBGVsQAn0mRLqgIcgYdVw+zF2d1Va0mF9M98tWOfsRH7wc+UyZPUaMyIOONy5cu+zzQSK9yy9hADzjcdVi8aLE65wL236F9h80bN9MhYu2S1Dglp7Nrxy5iPzWbXKxIsQnjJ5w+dcYVOQ8Jo2H65CAIU/HLNWvUkpQUKFuntTt44KCTo7PQcSLYf7GN/DJQfw93kSXUDb+TJUmGU5PWUiZ0VJ+L4NFpdH6zps3VAyhx06NGjDI6boTDpfM1qajYESGmAR47cozxTaF9jcFwd+3cFS+MGAQHBcvDalRg34SlQmXCX6I11MLoMMrS7OPO7Gxlgkyz8POrE2QfPiLS69asq6IVPwkC0VMnT3t6eIbKR/sSf0NrsPlwktatWktOgvbVr9dgyeKlkAf/x/40XpfDGPBtQBKcHJwwO7oJshzZcw7oN0DOmI6SK+F6K0vruXPm5ssbuUqgetXqeGeZsWJc9MlYcQHGYdXKVQULFFTTE5C3MaPGXDQ2gQSKBNlHsZyTSJjGqM3Lni17l85d9+/bjzWDhAi10vrZWADjtbayHjN6TIH8mr1QQfJkKWbOmG167XqAX9Drlxo1effmw93bjqtWriH2VkkstGfD+o1yI8h/9TtRFfTbd0uQzYpMkBX6ygQZA8dlSA6MWp2wnye3WLGL+4DO8dfv4juwFc+fhSOft6xvHT96fMG8BR3bdyxWtJjuPokSDHrcv+Iq2Za4FD7H+SuOyL8oUkrM0qN7j/PnLhgSZL8AKPp7mSATSyzHjR2nTrdPEC+BngkyscTyi9ZJPxgSZAb8IugkyIhJpA6IBNl/bJP+bwPc18nRSWwuU1KsvJDni+H/BvQfQAd6ekRN67x9/RYyPWvmrBLFNbuugpo1as6dPffqlav3hWX5ZMZZLCAcOnP6DDGkOu8vcaIk7du2P3TgEHxXBkvPnz43vnBx8KDBSbTLOUGd2nV27dxta2P72Pcx3Eiv8Y34+PCBz9FDR+rVrptCu5E8fGvk8JF4aDjWyxf/6BCc92/fE9icMDrZp3efxNqJdalSpGrWpNmqFauum5l7P/AmLP9yGPN7AxLz7s07iuZBtE8Dhfo8QQYV1j9Bxg1hJMuXLtfdFCxxosTDhmqWK+qZIEM+Iabbtm6vXk0zKyF1ytR169Rbvmz51SvXfB9qMqHIDGFqzx49uUA9r6pc2XLTp80wM73+0PuhPgkyEP78BVGiWBNXXEP74saJJ1IMm7bctr8dGhz6eYJMQFmZJe4vA0idC2ieo5Iga1C/obyhIUH2PaH0PNqqhPqayUqvX762t7NfuULMINNJkFVCGnU36Y9NgCM+BvgHbN28VZ60qybI+vfrf+TQkXse95BeRlYMNzeJTpAkXr967YOZOny0QT3NUXHx48ZHtLC3mCm0QLPsMeKjt5f31MlTM2bQLFwCIt0/euwlk8veeifIuMbNxY3Is3at2jLAixsnbovmLekK1Bm1lXOF0AJHB8eli5di0GRdgDhn+rTpl00ui825nz57o98qtsCAQNzEyBEjC+QvIO+TIb2Y5bFn9x6xnVBQiOilP9pf4xydHZ1XLl+pO9E4Teq0TRo3pRMc7jhoc6mazqRDoDdLlyzTfXNAfDh+7Hi5M7qYhiOPLvkScEDXza5PHD+xeDFNqKAaK2JXhiaaVcDSUsn9TD+tQpsgW/DtCbKIjxi0tWvWqi8zJFo0b4HNd3d1Rx4wd198NLrI08Nzx/YdkAe5ORHA/oto54o43QKt0Uc4DYgdyA/efOyYsdmzRb6tRJGHDxtx7uw5uUm/biLy5YuXl0wuDR0yVCV4APK2Y/tOJAeDycDpOS4P7j/Yv+9A/Xr11dwu9Q4bMuz0ydP4cRrGNX6P/U4YncByqiQkT648ffv0NTpm5OTgBD1TbIu8X2xA5JC9NavXVNQetwKSJU0+dQrm7upjX/9XL95IqX754rXpNfNxY8brbtTQpFETFNnaytpXnKjzJzjrX58g0/4FfwStggupQ5w5U2Ys2JbNW+X7lX+u5jwsgnT3zt3Tp04vXrQYioh10t2QDsSLEw+/HEeschAZljh/xdEUyJqyQY1MkOXIlkOTIHtsSJD9dMgZZO8/qEssIxNk8RPgJvRKkBFwfMH56AtDgsyAXwRtgoyQRjdBRpgB+zckyGLH86fPbW7ZTJ40WT0EFyRNnHT0yNF4CHiJ4roivQ7+w9zMvGuXroRSMrOAialbpx6+5Ka5eCuoZ2wGcJnXrl6bMH6CSnpA08ZNd+3cdff23eCgYBh2aHDokcNHcYGS+Eqm1aB+g0MHDzk7OSvXaMjKFxDx8fFD37MnT3fr1CVbZs0Ws3nz5B3Qf+DxY8ddXVzFKWCxeOjYobzaIoZcuGBh+b81J+wAuT38wf0HcerKC8wv7X/xr4P2cZAKmSDTnT1HiPJVCTIiGYWVitPc8V78TJww8dDBQ2G9+ifIkD2Crr179tauWVtphQgmq1apOm/OvIsXLvo88HmlZEJhWgy6TJCpRuPvcuVnTp+JeKtiLEyHfMYYBu71y9eQb91xp+UtW7QkSoQiK5MylIBf73HnekOC7CcDO2Nna79i+cpSJUvLNwTg6xJkygyynTt21qwu9iCDvmMVkasB/QccO3KM0DFM2YlGkagYZQkg4Y8fPcbwNm7URDYD5M2Tb8K4CSeNTnp6eIpQUMlZeN33mjljZq4ckVM5iBhHjhhpfN7Y28tbXyMc8ZG2bdqwCXcp19whvQ3rN1w4fyGWmZa8UawrP7HtkyZOkgZfbj1Zrkw5xF7MsPPxfRH+QiTN9fCzaLHtLdv5cyPX5WVIn7FF8xZbt4jttAgk6GqRVflzgRjwpLqTIECO7Dm6d+uBU3O464jLw6mpnfn8Wbidrd3Y0WMLFtDMUQV8d/q0GVcuX3nk+0h0fiynMahQDkngVnhqKaVAY6xWC2Pl98jvq+J5JUFmT9hctsy3JsiU5WwbN2zEPss7SLRt3fbMqTNuru7BgcFi8heSHOtN3r8Vk+wO7D/QtXNX3QT31MlTUQcxzTz2Y3wM0AMMJYN1yeRS/77906WJnEqD48PvX74kEuX0s67ZQdkPHzrcrm07ubGjJG8NGzTct3cfZCkkOESRW72UPTAgyOTipV49e6lLvPPkztOvT7/DBw/jf8VErXcf7nne27J5i27yLk/uvIMGDpLHZYYEKQdZ6FEbt0Kt9uzaU6tG5KGxyZImHzd2wrkzF7y9HoY/fyXfcwQFhhw9crxrl+6q1yiQv+AwZQdSHjAwIFDQHnnP95rjsyAe/FIp4qA9PR//1+LXJ8i0oCInRyc8tfp2AdGqW6fuiuUriGIQEnpYc+nXA/EIDQl1uOtgdMyIh+3RvWeJ4iXUkZXArfOD2IeC8Yzzvzhi4pj2s0y4xI8Xn8LF2bNm7961+/lz5wP8AzR1GPDTgOcRM6Ajl1gaEmQG/CehmyDTrkEwJMj0RIB/ICSyT+8+6hmRmIyCBQrOnjn70sVL8E4Iui7pUd4KXoZVcyVeSk4qblC/wfJly29Z3ZLLGfSMcODrlhZWs2bO1k2QwbC3bt4K8w70D+QCbrhrxy51GabKsY4eOeru5h4WEiYoiH7DG+QfeO3SlWGDhuTPrdlONXfO3L179VZ2cnHAjAoO/fWS8u7t++CgYPjQoYOHO3XspGaIaDBxiOxGuW22mI7xh0mi9nEiE2Ta2XngqxJk/NXvsT9xslykJpEoQaKB/Qcy1vc87z8J1TdBRph9YN+BOrXryJvg/CpVqDRr5izk3Mfb52X4S5rNWN/zuDdx/MQM6TLAb+SVULeJEybiTdVFasJ0xDpkBIEuzi5LFi9VD7JEIwj4V69abW11i4hCSYsYEmS/Nd68emMvEmQrSpUoJakt+NoEWUhw6KGDh+TSSOXdsmaDp/379ru6uBINyiMaY3dG8DkMMjFDs6bNlFYI5M2Tl0DC6PgJJFYmyCiPHz0mTlDTTCBv7rxDBg85c/rMAy+xGZCu0Y4JER8+et33Iqps2qSpTJChC/XrNSA8uHb1mjgpRTkTiuiFAHjE8BGJEyb+639xpLn+u9zfixctxoD7PRJZLWE8v1yhWL7kcMcB8a6k1Zf06dI3adxkw7oNoquVXJs+Lf/3ghG8cunKyBEj1W10ANR87GgxxK7Ors+fPteN5J+EPbG4adG/b+QGZCB5shRz58w1v26uTPvSY32lAlyz7HzsCV6b+yCoDD2++6b5TTHTSrGNekImyBbOX/jPEmTBO3fsxKFL8ZNA+I8fPY5dlS/Jvmg/ERhcDG6iR/ceCbWbbFQoX2HSxEnKzCYvulTPLjIgJmAHYINYs+ZNm0syBvBNTRs3XbZ0GSOO08RQ6No3hJPBhbxJDysFvmH9hjAuTKLmyEv9dB2mZ25mPnzYCHW1JuStV89e+/buu21/B+uKnDg5Oq9csVJ35TIXDxsyzPiCsYe7Z2hwqJ7ZE6xiYECQ0XGj1i1bCx6nABYxasToUyfO3Pd88Pzpiwio4nsYS8DOHbubNmlOP3AN2gTlmzljJjWiyFhy7DB9gmuAk6Bf0A9vL2/sM4XPj3wfIbchQcr5v7+xzft9EmT0ErR/3dp1qXQ2cCxdqsy0KdOumwmbI97ofCWwDDidR76P79y+Q2PWrlmLXOFYs2XNHi+OZjqqBGKvLZrcSnRFLLGULCJLpiwdO3RUtufzEonRV28Y6P9ieSkKUvTyxavXr97o9TrneyCmBJk4TuFLCTKIytvXhiWWBvwBiGkG2RFDguzL8HCn63bUrVNXXT6TLk26Rg0br12z7oa52LPpZfgnCS9c/vlzF2DVXJkyeUqoD7aGf65ZvUbZEFcwWj3NH1fylUULF6dJHTmBuUb1muvXrb9lfYuq8amwro0bNtaupZkNJGl9y+YtoS+eHp5wLLFtin7D+yQkzPqm5aRxE4oWLCzvliN7zu7duu/dsxf3D8cSYUlMLVdeR+DC4eIiyn0fQYEWYPRpp5Wl1e5de0YMG4HLl3cGmTNlHtBvwK6du2xtbHkKZeXpH/cSW9vz0SbIalSrsWnjplt670EWFBh06OAh+LTm+yLFkLBnj5779uyDT4eGKMsVvwQ8ov9j/4P7D9atXVd7kwSlSpaaPnU67AeKDxkS1334+ND74drVa5U1cRoSLFZtDB1+5vQZ4SDVTfpjxauXIkG2dMnSypU0q4TQCEKIVStXyzMBZFpEfy9rSJD9fNDnGKIVy1fA3dVTLEWC7Gv2IHsS9hTJadOqjfw6iCfOAu60ZdMWe1t7giXN3KhYJYELMKEmxiYtmrXQ3EU5L3L0qNHKURXaBJkSMe7ZvQdlkSYR5Myes2+fvng9ZV38J9N+YwLXEKpt3bK1WZNmMojlZ7269ebPm296VRwlTJvpnNCQsPPnzg8aOEi6VxnoVqlclcDYxtomwD8ASy76Rw8hx6QTx27ZvEWeZgDSpE5LjatWrLp29Zpch65Py/+lwJ4EBwUzRl06d1Vf5iVOlLh+vfqLFy2+aHwRy0Ms8U5nuhPRNYrfrUu3zBkzy+tB1sxZly5eit/Rf14MwBY5OzlvWL+hebPmchEQ4VxDbMsiYVt8vB+KBbx6Wyol4rVfuGBRuTLlZKu+IUEWHBh85PCRzp26qL0B6tSqg2zfvXMXXeDp9NMakdHo3bO3fIUGypUtN37ceFTy/r37qtYY8M3A76C5Ih+qXVELiC179+q9Y/sOm1s2jx8Jrqj2M6KODGzetAVuKW2UzBo0b9bi6OGj7m4eMHM9jQZ4EvbE0sJywvgJhQtpKFbOHLkgb3KrjcAAkYqyt7sNmZTpe4lCBQuNGTVGzm7jDnADze1ixwexW5/xBfHaOG2atPJWiRIkHjZk+PGjJzzc7z97Ev7hHUwj4pGv36YNW2rXrCMpBDoFNYUMmFy85HDXkUq97ns5Ojha3rSkDdwQK3ru7LlzZ86dO3seNnLp4qWrV67yXNg9tEnI+W8Jhv53SZB9/IjD2r51e7YsmomEAP84aMCgixcuKvv0fw07ivj49s07TIezo/OF88aEMMOGDGvSuKnu0TcAnygWVGr9bCz4S1luiZzL9S7p0qbDQa9fux5n6uriBlF0cdIWPv9HipOLs/K8cHh3N3eUAsKgayh+HDBBnyTItBsLQGP0SJA9f/uGGE8IyXeBIUFmwC9CtAmyRo2PHjlmSJDFjpcvXsJlo2z2nDtXnr69+x48cOju7bsQBd1NJTAWMHL8YqOGjbgyqTArfyWIn6Bzx87btm6D0RJKvRX7oWgujx3v3r5zEAf2rdbdDLVC+YrEXTfMRVz6JPSJp7snfquGdkkIEHteDB1+9sxZ3CqkR//w4FnoE1trm1nTZpQqptk9LWuWrB07dNy5Y6edjZ3ysjq67W8iRDvx7nRFUEAQxh02hk+l0EInRydaAnUgMM6UMZO8LciZQ6TeNqzbADHCK4SGhIoM0Z8nhtonUhNkuuuGRIJsw1ckyOilSyaXhg0djgTKO+DG2rRus27tulvWtwL8RByuuThmEF1T3eGDh+tptzkHaVKnGTdmnMh83X+gzsHxeyQmmnVs31GyGZA9W46ePXru37cfd85wv0EeYiFtyk1evRBhAxGmul8JHrd+3fow9RvXb9ASVEz/MAAYEmQ/H2qCrETxkupLYyVB9tkpljEDim9uJmxp6VJiM0eAJDRp3GTJ4iWm18SxD5rMrA6wNlGTQR/EaZgXjS/KKboS6NSggYMPHjgI1xRxFDZKrOkOP3/2fL++/dTMQpbMWTq077h50+Y7t8WUCn2iQQw1QeyO7TubNW2mHt9ZtUrVaVOnE86JmWjPw9+9eRcSHHr61Ol+ffqp69cyps/YtnVbtJu6lJcib/ScfksvoVyEteo7j6RJklWqUGnBvAXi/M378vxN/fzHvxBYA1zGwvkLdTcUy5Y1G85i967dRKGabKNOggx3QyDdoX2HDOkzyOtTp0zdsH7DrZu32tyykSkkzaVfAnJOfLJj+w6Mqna4/6pbp+7cOXMvm1wWR/c++4qZVlxMgxct/EcJMjy4jF6S6eziVKliZQygxU0Lv8d+mgSZRAxywQXBgcHQkj69+6oJshLFS4wYPkI58EecH63/cxkQLfBlF85d6NSxUyadRG2qlKnGjxt/wuiE3O9Cd/4Olg3LuXH9xlo1IxcqFipQaMTwkefOnrvnce+rEmSMIERixvQZJSLJW7b2bdtv2bwFbkDVSKPtLVvMiO4MMiLeWTNn4Tcfej8kJtc38/4BKhKG0R4yeEjmTJqHTRA/Yf9+Aw8dPOLu5vnsSfj7d2KHfp8HvuvXbapVQ2PK4isnnCxfthymce3qtQvnL8AlYLMTJ0wcNGBQ/34D+vfrP6DfgAH9KQMHDhg4aOCgkcNHzpwx88D+g4ouB6nHgv9W+K0SZFjIk0Yna9eqo1LNjBkytm/X/qiypkQ4WT1uQ110NT7U674XnHPtmrXQzgrlKyROlFidyhrnrzhx48SL8z/xM66yiBKHjsGUWRXdIly9Aj5zmdwAnn/SS0UKF0FleEwefLZOmTObMle3YIT/3DJv/rz5C+YvXLJoCdGcnNX7TxbD6glDgswAA4Q/kwmyihUq6ibIjh055uZqSJDFCLyazwOfA/sPdOvaTb7cAxgOvKAMkDzcPQSz1Ok9PsPXjx45Vl+7hzSeAw6B+4cKQJKUjJUexxIpkAmylStWqqs7wd9l/168cPF10+s+3g+hKfg8uHKN6prpBgA3NnXyVKIpfNsT5QhLPat7FvrEztpmzsxZpbT7qWfJlAWOheRIdvLqZdQDswggMa9uLm6ErHhlo2NGx44eh3MbHTeiHNx/cMO6DSNHjKpTuw63wtTis3PnzF2qRCkCHjyB8iLRQZw9J47h19zzj4K2t6JPkFWvsXHDRvirXgkyZTs8a0truEKlipGb45Yr+/e4MeNOnTjl7uqOdMXGopS/vHn91vuB945tO2pop6gAXCDE9OCBQyJjLoOlCDEHB3I2bMgwNaYi/q9Zo+a8ufMgx3IySyxhv9y4+sXzF/a29rBw9Wh5QMQ4ZdIUvDJR4ovwl2I+iN6jb0iQ/XzoJMhKyIlUACFc8TUJMqyHo4Pj2jXrmjRuKvkxgJMRBe3dsw87EE0uA9GS91Q2lOW/mETMxbGjx5QzTDUg7urWpdvOHTudHJzENtiEeR/E6RDmZuaTJ05WNQ7TXali5cmTJiPV9z3vx/aSlt8rhQcnUl2/dn29uvXUNufLm2/IoCGnTp7iJuHPwmlSSHDIqZOn+/TuqybIChUsRLC3b88+RwcnGRjrGesSCLm6uO7ZvUddAY32lStbjoBBNFtZ2vCnJsjoogC/gHNnz+MddHfoL/93eXkeKM6OrkbBdYOHAP/Ai8Ymugmy7Nmy47J379pjZ2unnDSqb4KMKx94Pdi1c1e7Nu3UvXWweGJR2HljzQE7Orm52CESZPa3Fy9azPDJW31DgoyA1k4cILsyf7788iZA2fd9OH7WxVnsDRpjKCU24xPzuLkJz4U0du7YWWUyqVOlbt+uA6rn4uyCqddneb4BMQFD4XDHYe2atcWKFpPdC5IkTlKlcpWVy1deu3rtwf0HUTZ6w0w99Hm4Yf2GWjVrKUkEASg6JMHE2OSe5/2vSpBhFmxtbAlf1fQKtLN1q9YbN2ySe30+e/rslrXNvLnz1QRZ4oSJG9RvgA23uGEhOJicyq0PFNYHBR02dFiWzJrJRAniJ+zTu9+BfVAIj6dhz9+/jXj7+r3XPe81q9fXqBa5o1+L5i0mTZi0fNnypUuW8qR9evWhiwoXKpw7V26YoSi5cufJnSdP7rx58+TNlydfoQKF/i73d9cuXZcsXmJ84aJcFRGjwP8i/FYJMnQZeevXt1/OHJol5+nSpGverMWBfQdcnFy4T+xuGtBaBIbYkCHGPgwfOhxfny9v/kTa1dkS+FMxF0yTHdMkyJSifogsOokzsSuZdKZx/hcnedLkmOuCBQqWKFbik1KcUpKu+LSU+iMLARH0uHSp0sRuTZs0g8ra3LJFHzXj8cMApzIkyAz4z0M3QaazB5khQRYVut0QITjHzRs3sQi4PblpDsCad+rYCdphZWEld4TR9Tfw3QD/gMOHDsOD5fXwBuzO+HHjNa9qw54KJqpff8MDHO46Ll+2In3ayPlr5cqUWzB/oelVkaEIDQn9PEEmTsycM/falWtwYqrTPx8XmSDTvoTMlDFTm9Ztt27Zdsv6VmCAsgbqU1Hh5jQAQRo1clSvnr169ejVs0dPivjcs1fXzl2bN2tevGhxde9qLGyXzl2IUbdu3nrJ5BLU3PfhIzy6vszsXwdtb0UmyHQmAnxtgowwG4qzYd2GZk2aqRN50qZO27Rx06WLlwoW7vUAgfxkSqMW9PDb129fvnhFXdaW1uou4NIgEA127tR5+7YdxPP4S8nnXr98zZWzZs7WXeGbNUvWDu067Ni2A7Ytl8WJcP0zAaO6F+Ev4Xwwb2LLoUOG5sqZW3MLZdOoYUOHG18wZvRfPNd3/3IJQ4Ls50OTIFu2AlNGb8tu/9oEGRcQEB48cKh7t+5YRXmTFMlS1KheE724aGzi4e6B7IngR8qCKhERYm/+ly9eUoICg27b316zao3coksmpGByrVq23rRxk6ODo4wqESfEj6BlxfIVuptSZ8wgNrxfvWqNuZl5gF9AtEkBvqtU9wrpffzosZmp2YzpMyr8XUFzC6XNKMuxo8fElmcxJMiw0mNGjcHma2aOvH4jtFIPGQ9/Ho5T3rN7r5og455Q55kzZmnmleh9CPK/CUrPELwxgghV+XKRB7kQxrdr0w59Z8h8HvggIYiBboQc6B9octGkU4dO6omlxHKDBw7ev+8AASedr//Wloz75wmyalWrIZ9nz5yVwbn+/lQmyJYsWvJPEmQ0nvD40MFDugcUpkqRqlbNWosWLrpy6Qrah83/3H7ym7dv3qIFoSFh9NtN85tLFi9tUL+BEqyK93b8xAFt3SKOt0OA9T3Mx4DPESGWHJ4/d37YkGGJE2lO6AZFChUZNnQYbBDjibXBpOgOk26CTOYLACMye+ZszY7+X5Uge/rMzsZutk56JWOGTC2bt+T+VpZWQQFB2A1rq1tz58xTtwrJnSt31y5dxSYPVrf8Hvnh7v9Rgixegl49++zbc8DFye1J6LN3bz+8fvXW3c1zxfJVVatozsvmMdGm1q1at2vbrnGjxpUrVVF3TJOQAbnmHzrImD5jnVp1xo0df/TIUbluQ/889U/Ab5Ug40pbG1v8hXqMPvxNnhxKNCHCvVjvg1F6/MjP4qbFzh07J02cBF1X1ytIMIjxxTGUIi8WV92AXymMHYGS/BB74Rr1TZsBusiWJRts+dpVUxFa/mBgjgwJMgP+8zAkyL4er16+9rrvtWP7job1GyoGXWPNYTAzps+8cN7YXVkYGCXEkgkyvLg6gyxRgkRlSpeBYZ8+eRqGDU3R//UXd3Nxdlm3dl3ePJpd80GZUmXmzp4LhaJ50SXI/mrYoOGSxUugLzJBpn91z8KeRkmQZUifsWWLllAoOBZxCJFJFOdKYHzzhgXOOFfOXFhVYrn48RJAlQiA5T91d/EsUaxExw4diTa3b9thfMGY4OGh98PQ4FBuorndnwdtb2kSZJOnylyhRM3qNb8qQQa40uiYkRKKaxQZQFJbNBPb3l+9chWpUELoTwgZkRK0CY7ucNfh1MlTixYsatWylbo4AuAO4axQIkT0ubo9U8RHD3fPrVu2lSpRCmepuVTZOaJf3367d+2+c/uO3NwEbq1SeYzJm9dvnz155uP9EMpudNxo8qQpFStUQok031eoOSRAJMh8fMOfh9M8/U2QIUH28xGZICtaXH1V8LUJMsQDKmZibDJyxEjdMDJt6rQ1qtdctnQZ0ksk/yTsCdUhD0IkEIoIkVlDpBEVRwdHk4smhHzdu3ZHhPgucstPmtSieYsN6zci3iHByk58HzSzgRC/Zk2apdE5hD51ytSI+sb1G4lG0AhoKPdXk7xCel+9oQ20xOaWjdHxExhbbKDuHN7kSZN37tT5+LHjxC26CbK+vfuq7rV8ufJjRo89dvSYs5Oz2Abr9Vs9E2Qvnr9wd3XXTZDxjMWKFsODoLniFcsfmSBT9kb0fuBzwuhEm9Zt1A0NMBr4PuK0k0YnXZ1dg4OCMRdRl1h+liArWqQYgeXhQ0fuiFg6lAHVM7ZkKD9PkFWuWJkGnD512sPd46tmr2gSZIuX/F1Ws1z0GxJktBxGcfXKtYH9B0qZl0iRPEWzps1XLF+JayaglWKM3dZojWLzUTdvL28099zZc8uWLOvUsZM6DU1a42pVq2/ZtMXJ0QkvLByQXp1kwKeIEFwRxVy1clXNGjVVN4eJa9yoMWNtes1MZLs+I36RCTKdsyDr1qk7b+68y5eufH2C7LmdrZ1uegU33bRJU9ijxU0LDF1Y6BNLC6s5s+dgAOUFeXLl6dG9h1wfgDTC7v5Jgix+3ATdu/bYtWOPo4NzWMjTt28+vAx/ffeO46IFSypXqvqX4jWSJUlG/I8WxI0TV3YUP9OmSVuwQMFKFSrVrlW7fr369erWr1a12t/l/s6fN3LKpETmTFl69ugJIcF0Y6Lh3vrThh+K3ypBhi/G6SxbulxdpZ4qZar6detv27rNztZe5BZjakyEWKMAqdu/78D4seOrVK6SNEky9ZVPfGVnfVW8GTqRINPJjukWLou9aO7xP3FkE5FCooSJoyuJREnwHygJEym78QgUyF9g9KgxptcMCTIDDPgpQA3w39jHCuUrqHF1o4aNjho26Y8B796+J9Imlhs4YJBucgpv0atnrx3bd9rcsoXcfH72k5IgCyQualBfkyBLkihJubJ/T5syTSyCcxOL4PRn2HgyJ0fntWvW6r5nK11KGKlLFy9hpD5PkGHOGFlIuZmpmUiQfc3O988/S5ARqDRv2nzDug2WNy2JQ+ABURZCYsSvm12fNGGS7srBmFCmVBkCj1EjRy1etBgfzBdx/GEhyuGYfyq00vG9EmTPn4Vzn3lz5sEp1VdwiGWObDm6de3GuCN70GuiJmKzO/Z3oDtQNygyLpDgc83qNYTxCGSWTFnwyvLrgDv07tn7wP4Dnu5KgkwbgUOn+GL/fv1z5cyluVRB3tx5e3bvuXnjZtgbwR7VQbKJxG7b37G1saO6y5cuHz50mIHu07tPmdJlkyeL3BgYlCxecsL4icr0h0fhz5QEmX7kDxgSZD8fMkG2fNmKYkWLy1AHfHWCTNlhivsQSRIDqMw7Xpx4GdNn7NC+45JFS04anUTeLC0sofIUxAkBtrG2QVSOHD6yft36IYOHVq9WA2nU1SMUoX27Dlu3bHV0cNQsFovA64ntILkVtreE1qBJZM2StVPHTpi1s6fPml+/gTGX0nvn9l07pPeGxSWTS4cOHFq2ZNmggYMqVqiIsqjpEpA7V+4hg4bwXYLYKAky1b2W/7s8McYJo5MuTi6aBBnBpx4yjkV1d3Xfq5Mg4+mKFC4yaeIk9NfN1Q0P8kcmyJ6EPrl29dq0qdN1HS7Bs9jFed0GxOyhjy8x5OtXr+lw3UmyOCa5xFInQVaUwPLI4aNi08/g0NciQaZXj+H3P0+QIedKguyMpzJ9L9r5udHiuyTIAPdBsJctXYZQyfsAApjMmTK3a9sOenDm1BnEGNHF1FMjWnP39l1sssnFSxhhbP7Y0WPxNTlz5EycMDIxjctu3bI1D+vs5EKMpD8tMUAXL8Nfet33wu1269JNd6o1Qjh0yFCsFl7YT2QwlfSTzlhHmyATJ+TOW4C5+6YEmb1uekXqDuJx84YFBENJkFlCHVMk1yxezpkjF5yBuADr98j3UfjzcH1l+4NYxwfDHDZkmLpfe7y48bt27rZj+27HuzJB9v7F81d2tnfmzV1YsbxmR4ikiZOqpCVVilQIZIniJeCrPXv0HDN6zMzpM2nezBkzJ02cPHLEyO7duhOwqOumJXJkz9G7V5/Dh47QP5rEk77E4Qfi90qQvXzl4uyKk1VnPadMkbJunbqbN22+ZS12SolJ0wkDsQOYpuXLlrdp3UYdWYkkiZMkTJBQN7el5MK+JUGm+b4C7BiuPEXyFKlSpoos/EtTUqZMnpK//tmFx8Q10G90CHZj3JhxuEJDgswAA34GIGFuru7btmzDYqphScMGjY4eNiTIogdc4Zb1reVLl5cpXUaXU+Ke586Za3JRrAaSM6qiWAe6mt/Dlhpqo3es/9/lyk+dMpXwxtXFFWMk1mjoB+JSeer8ZwmyOYRwsSXIFol9r+H6X7VhTbQJsmZNm69fu97ipkVgQKDYYvbT58WIW1tZL5i/ME/uPGLKWLwE8ePFlxOwtXsTaMJpGsZTEGw0atCoY4eOE8ZP2Lpl2w3zm3BE4gTN7f48aLvr+yTIlPMQ7nncI+whIMyZXewxQbfLu0GnmjVtNnDAwNGjxkyZPGXWzFlyr1Nc2uRJk0eNHNW3T98mjZpkyxp5vBHDJD/ARbjA6LiRh5sHRE2VGaq773l/545djRs1EWOoA3ShbZu2I4aPoC6oLbyWiubOnssHfjN65Oge3XvWrFEzR7YcUb4I+P38ufOvm11/7Pv4qxNkrwwJsp8NkSCztYc3Fyta7AsJsliH8f1bscry/NnziGKhAoUU7qXJ0ubNkxcZGzxoMOxw2pRpyJIQpzlz582dN2P6DMSpV49eiLfuTC411kKniJr27t7r5Cg2eVQT7kgCcdSRQ0fatm6rOj4JtKBli5ZEsKgGmqJI7xyqmzljFr9RwrMe9erWK5i/II2UX1E/VKxQcdrUaeIVxf0Hugky3SWWuNoJ4yeePnVaHGfxjxNkhQsVmTThD02QKX1CH7q7eaxZvUZ9agn87/hx44kznRyd6EYGlMGFrugyFhzTReOL7du2z5hekyArXKjwqJGjlQSZmFGoyUPpgWgTZAS9iITMh4pXYnqTpe+VIOOR/R75IUsd2nfEvcpbSdOdPVv21q1aDx2MGE/B1KMsFGXX57lQDsS4V8/eaA2cQTX1qv4WKVQEdcOVQAKfhD3VM/w2IAr8H/tfNrmM98RWyI4FBPltWrfFYF69ctXTw1NM0FMOtBGiq+3nyASZdpN+LAxObcH8Bd86g0wkyEqV0Oz1mTZ12sYNG69dvRbiAcHAblhZWM2aOVt9l4nwdOncZesWcZYFflPJ4+hnWGSC7JoZ9lOdhy4SZGIjyN1Oji5hIU/evn4X/vylzS27ObPnlddmalSdon9q16rdvVv3MaPH8LybNm46dPDQ2TNncQ1nTp/B0B08cHDzpi1YfqRXnaQmUapkKVyDhZL1w67+DsELdun3SZARlTg7OYsEWXltgix5SuwqkmZpYenvFyBmWEeLCNEG+DxXMpRFCheR1gaLkTC+WA4iybzqB/nIn/jl54VrYimabyvgn0hFksRJkidNLgvymSxJZMG5J038p5ckPHZy2TN0O0qB3Qh//vslyJTYUyTI7otT7A0JMgP+BOCSIxNkWhcVNUH2673M7wKIS6B/IA67U8fOajojbpx4OGYIJeGWna3dI1+FT3w+9ekDfD3o2NHjROzyi4kTJf67nDKDTFkgExoSilPXXPwlQKoc7jquX7u+uJi4ofErZcuUnT93/iWTyzElyJo2aQYzg4Ir65WeisyLfoP7eYIsU4ZMrVq23rh+o5hBFl2CjMAGWwmzGT92fO9evbt17da5U+eOHTq2b9e+Tes2rVq2atakWe1adYir06VNJwNazG78uPHz5MrTvGnzpUuWXjQWhwn8sTkybXd9rwQZqhoW+uTunbvr162nq6Ns4UHfwsxgGxALPK58PUXhs3gBGF+4vbh/xYXrpE+XXke24xYtUnTi+ImnToh9x/F8kUQ5QhyPZWNts2jh4po1IvcSluBuiDf3gdOkTCFe9CXD0Su0hurkMXA0CQ5NSaGdRBbnf3GaN2uxeuVqK0srv8d+X5sgQ1QMCbKfDPoco7d86RcSZPr4kefPwjFZe/fsHdBvQNEikRtaA0V6hTjpii5ig1AlSZREEHRt1VmzZE2fNj3Xy3/mzZN39KjRuDNX50/fQChrRlCWdWvWtWjegvvI6yVEdQkSieokKU+aTH6AsCZOmDi+Jjb4C8OVMUNGdeMegCLMmT0HTvnAK8YEWaUKlcaPG2903Mj5m2eQ1YpcYglznT5tOqGjp7tYpP8nJchQfDonwD8AJ9K+bXtdC4NRGtB/wO6duzEUynafYusxYSh4ep2eVBNkGdJpJpsQY4waOVpsV3THgc5//fIfJciqVqk6dcrUc2fOCdv45NnPn0HGBeHPw12cXbds3opvzZ4tu5oaBnxGXJMqBl8UbZyJYKNNPAVyDntJnSp1poyZdDczlZMcoSUe7p481++QaPjX4cP7CMwLhlF39WvaNGkb1G8we+Zs1N/hroPwcc/DNakuWTTfjTqDjJFqKBNkJpfved6T63n1HJfIBJn2MBzNEss160SC7LE/PB89olUIibwgW9bsXbt027F9h+0tW79HfvhNYaP0gZIgk6dYqkd2Imm9e/XZt3e/q7MbFOXN67eYettbdnN1EmQgW9Zs1atV792z99w5czdv2oLRNrlocvOGBZri5urm6eFJwYw7OTrZ29lfvnR57eq18Bzdt9RZMmdBCw7sP+Di7BLZsb8Uv2eCrGL5ivI+uFFkjN9cN7tO5CKoZgxA2PAvHu4e58+ex3D17NET65cuTTp5Hwk8o/Ygy79kggyjLbceUwu/iaWIbyqH+ys3MeATZM+WY+jgoVcuX4VaaEblh4Hh1jNBBini92VKlYH5XL0ijhx5/hTmI05D+l4wJMgM+DWAhBkSZHri/dv3EG4zU7Mpk6fonrtHZNinV5/NGzfjy2VmKvqMxoePQQFBx48d1z1kLVeOXGNHjzU6ZsQoKF/8igSZo5IgI1TQ3Es5xXLRgkVYNK/7XqHBoa4urqtXrdbZ51W7B5mZuY+3D95O5OP0G9zPE2SZM2Vu26bt5k2boVaaBFmUR474+CTsKRGd8Xnjw4cO79m9Z8f2ndu2bt+6eevGDZvWr1u/auVqmNCQQUOaNG5SqGAh3b2H0qVND0enZ86cPvvHziPT9vz3SZApePvmbVBgkMUNC77bv1//v8uJ9ZL6sI2UKVISI8G6YE7VqlRT3/1C5sqVFcdKEuTfEwmyZ7p8DvmBVMFi4X+NGzUuWrgoAYD8YixgoOFVObLlKFakWL269SGO6plKcf6K27J5S4TWysIKXv4NCTIHQ4Ls50IkyGy+T4Lsw7sPBH6EQ7t37h4xbESVylUI+NVZkDGBIU6VMhWhUd48eYkfGtRrkC+PJjUMgStYoKDIRgkD6yaiSp0pukSYAf4B5tfN16xe265tu1IlSukjvSB50uSZMmQqkK9A7Vq1q1SumldbHahTuw42jSAWmqibIBN7kGnP+fq7XPnRo0YfOXzE2VG7B9nXJMj27NpDvfJWdE7ZMmVnz5p94ZzmFEv9czS/OyKEww3wC7hpfpPIsHTJ0vKRGVPMRdcuXVHzq1euMqxyr33Rhzz6p92oSZC1a6+uxiqQv+DQIUMPHTx05/YdvohB0DPLEG2CTOw6Om0GnS/WlXxqG2PHd0uQKZstwBxuWdts37ajf78BNarVyJE9Z/y4mtlksSBZkmQZ02dEa/gKBWus+cP//ofqQXLOnjlH+M1z/ZmnSP9QRAiyZ3TcqHfP3urmgzi+qpWrjh87ft/efRY3Lby9vIk/xUB/ZhsjE2Q6M8jq1qk7d868SyaX/nmCDHWQOzPSDL/H/lBBK0trJUGmeVOVNUvWjh06ik36rW24gEbqO4vww8dQ5ajEwYMGYyTl3WAg/fr2O3jgoDTC8JnnT8Vu8ZhKdWkwD4jX4FtrVq+BJJteNb1td9vT3fOh90MoEFY0LCSMgqgHBwb7Pfa7f+++6TVTOGS1qtWS6RxGXLRIscWLFkPFuVKQh18tur95gowRh2quWL6CzvT18WWgNZdGC7Gn3qtHvo9vWd06cujIvDnzMK10uPJG6pO8PAMRL048fsmwxvlfnLg6yy35zWcl6i/lTSCl+fPmxy/DY3FzZUuXLfM1hev5Vrky5f7FpaxSlA+VK1aGG+MyCArE+qQfDGzL1yXISosEmTz/7blgPoYEmQH/fmBYcVrbtmwr/3cFOa0DNGzQ0JAg+xyChlrdwtVBZFNoD41Kmzpt506dVy5faXLRxNPDE86N8Yr+bduHj0GBgjOpe5CBJImSDOw/EOrg4uyi7Iarb8ZKziBT9iCL3K+0wt8Vli5Zeu2q6QMv75DgUGcnF6IIYjb1rXL1ajWEFbt6zeeBD04X0q+53ZfweYIsa+asHdp33LZ1G30SfYJM4XkEdQH+gYSLri6uTo7Ojncd7965S2wAY7O2ssb4EqssW7qcTiBUiJLKwfVOmTTF3Mzc3y+ApuoZRv5roH2W75ggA/BmxMze1p4IfPq06TCY0qVKp0ieUng1Tf5C805PISJ/4fDy5s5bs0atli1a9uvTj9Cdn9Av5Uqxu0TFChWnT5tx5vQZqJg4jV6HzxHCMb4+3j60HxuCH23SqEnGDBkZR21dAnyW3pTfZ8mcFdbSuFFjQtwhg4eOHzceIq4meRFUiDsEDuL+WE2Q6RcGAOidIUH2k0Gff68EGcAfEQU5OjieOnkaS9utazeoIcYW6VVeTX8yS5HBhd8XzF+wdq3aHdp3GNB/4JhRY0aPHF1KJ5lSsEChiRPEPu7uyh72aIemJhAhGk+sRai2d8/eyRMnN23SlKCOgBbt4NvyHbi8lYK/kidNnitnrurVqrdp3bZf3/5Ib/du3cuW0RxECOrVrU8Qiy/wuu/1SYKsT1/1BUChAoUIFwmSHR3E2kCR3Hmnb4IMZ71r5+5aNTUJMixG5UpV5s+bT43eD7z1j5R+X2Do6IwPIu8Dz7aztcMMNm3cNF1azVQFQnf+uWjhYiwScvLY97F46ncfRCT82aN/niDLmT1nzx49GW4sJHbyaxJk0WzSj28lajUxNvH2Ep2v//Q9Lv5eCTIgc2RQCHnKClpTongJekxM6NBueQ74IM0+v+evVSpXadG8ZY/uPcePHY8w43HUK5FwbD7h9/17XjRVf+9jAJDDYWlhOXPGTMyX7NL4ceOXLF5yQL8B27ZuNzM1wxwhfi+FbYxG93UTZOqgVKlUBYd+0Rie+S0Jstk6SyzF283Wbbds3mJlaQ3BwK1bW1rPnjVbncqdNk26ZspqAzmV+6tOseTZr165OmjgIHVdMxwDgnf40GF3V3dNgkw5TlE3QYZO4foXLlh09sxZaI+nu2eAXwAcFTpN7RhJvkWhb/n54vkL/uT9wIeKJk6YiOuRNwGJEyYeNXLU+bPn5eGb+r9d+0H47RNkyWtUr8FAExQgcoIgfelOWNrw5+G+Pr6WFlYYUih6s6bN8uXNh4+W95TZMSwP1oaC41Y+K//8LBdGUYyS5vdczE9uAvMsXbJ0/379Z82cRfMwlYsXfV1ZQlm8dOm/uiyhLFN+LoVQ4QqNLxhDLWDFmsH4YcC2GBJkBvzXAbN0dXHbunlr+XLloU1SBxrWb0h0ze8NCTLFTLzHPRPt4OfWrl5bolgJdbvltGnSQmpnTJ9x5PBRHBhUA1+F/472tRWuOjgoGAorl1hiWfiJuenSqcv2bdsJ7CEW4rv6uTqRILvjsGrFKt1dGIhLV61cfcP8Bq6Ou7k6u4qtW7TrcQCNHztm3MULF328fTRT0PXD5wmy7NmyQ8R379pNDBMcGEzLozWIVEGEDAMjUAwKDCZiCfQPDPAP8PcLIAwgriDku2UtjoTD/Tdu1ER6RxVEv6tXrba9Zassj/rhXuGnQjvO3zdBhsQiG4z+fc/7pldNd+7YOWP6zF49e7Vp3aZxo8YQbviQUmpSRd06ddu1bT982IgF8xasX7t+7+69+/funzdnnkpbUyRPWatGrYULFhJn4piVfet0EmQ4wfcfXoa/ZEDv3rl77uw5OP34ceN7dO/RvGlzbk4VxFqiumo1ataoieTzJxjtsqXLd2zbcfDAQX4OHTJUpX2YoPbtOmxYt8HaylouP/mq46gMCbKfj++bIOMa1JwgCmG7bma+f9/+hfMXwpJbtWxVt3bdWjVrI0XIUrWq1apXq1Gndt3WrVoPGTxk3tx5mzZu4uJDBw6tVuYUyGYkVI4Jnjl9JkGXp4cnYYZmqpEWCDBBFHbJ0cER6okfnDplau+evZHeBvUbIMDoi1JXdarGLXbq2GnkiJGLFy3etnXbwf0H9+zeg7RXqVxFVgdrbKasDZc0MUqCLEmiJFwj30JxZxqMyuAR0O6vS5Dt2KXOK0mZImXtWrWVlyLXHvk+Ei+W9dWV3xWy/RHKdDk3d/xL927d1Zl9aVKlqVO7zuRJk3G4hPREmFAUzazA6B5cJMguXGzTum067fpBegyXrWxKLd7riASZfg6XWqIkyHBVjRo2WrRwEZ2vHLn7Qt8kwvdOkAFUjHvSIXh/FIGoEq1p3bJ1/Xr1MeAIsJDhGrUQPGxj546dEeM5s+euXbN2987daA02v2mTpuqLNC7jN5cvXfZ+4C32u/m3C9VPBCqPXCGc8+fNr1q5quxP/FqhAoW6dumKnUQgnZ2c8W5KXiN6geH3mgSZzib9eXPnHTZ02Pmz5z3dPb8+QWY3e+bsksU1fjZH9hxdOndBmG1tbPHdT8Ke0mDi2+Q6K83LlS2H5bxpfhNpxLAIv69PbR8+hgSHXjK5hPipi3YTJUxEy48fO+7h5gGRewOdfv4iaoIsfsK2rduKbdHMb3q4e4rk9QuxrpNnFHSaqmVRIB78w0cMrFj+snUbHkHeBGBgYTsY53ue918gunoTpx+E3ypB9iI8ugRZtRrKOdEiQfbyRdSztqJHhLCH1EscYWVhBcmcMH5Cy+YtixcrHuXMpXhx4yH84v2Wki+TWRX55kn+k2tk1kx+kBfzOUP6DC1btCQysrK0wvDev+d1/979ry2wiH99ueelLC6+x+PQ29AJMRfhxwMVMyTIDPivAx1wdXElMPhbJ0FGbHDkkCFBJoD3ImDDP7k4u8AnunXtliSxiHNAimQpqletPnb02F07d5uZXseEYU1wh2JalurRdQDfDQkKOX3qdOOGjfk6jgSfkSB+gjat2mxcv/GO/Z3QEKiDvodqYSWJr4hCdZcFEaqtW7sOj0KwFBYSRjQF4SCiUN1PiuQpiDfOnT0nphs8fa674Ch2fJ4gy5kjV88evfbv3Q/RDw4KiTGJA5N5/wEyxwWQfsJRWV69fI0zhuJA9fz9/N1c3HD2CxcsrFK5atIkkadeJk6UeOCAgUbHjRTn/e8P/3ShfZbvmyATUDbsF2/5HvoyOiYXTeCLWzZtWbl85by585Q9zudAl6GnhPoE6ocPHTa+YGx2zczypiXBHjKjphjSpUnXqEGjlStWylmHCp/TaQoflRwZLUTecOE0mHHct3cfcsjNqQ6vKcu8ufOXL1sOnT129DgE2tLC0sba5sK5C5MmTi5buqysLmH8hD179NyxfYedrT0PLhJkeocBwJAg+/n4zgkyBQw6QR3j5XjX0fSaKQKzedNmxGn+3PlE9Qgw8f/cOfP4DRE+wnb+3Pkb5jdvWd3CDiNg6gQrYaKrVZ8/b4HxBZHexeIhqGJ3SJ2W0DApvVxAGHnZ5DLKgvQiq4sWLhICjLIoZwIsWbxk08bNhw+iLBeJ4qytrNEs/oQXkNXFixtfOTpQ7OyDskRJkMk3ItJ9VKxQccXylYrlDMaSf0WCzMUN7cA4KBWKrEr9evVRz+tm1+VKKP07+feEkJMPIn/k4e6BXerTu4+6/hrQb8OGDt++dbu5mTneLcAvAOmKxT4EBgSaGJt0bN9RPcUSFCxQkBARLxngHyASZPqZl7efJciUfGizZUuX0xgcLsGnnrk2wAN+3wQZ4EEwmI8ePoIYIMb03uaNmwl958+br9j82XxYsmjJ8mUrtm7ZevTwUQw1+oIdNr1mtmb1mtatWsvQ9H/KVgyLFiy6dtUUt8tz/duF6qeBIUOjUX9UslrV6mq+KUumLK1atJo7e+6xo8fsbe2ximKDi5jZV7QJskQJEyHJJ46fcHfz0CbINNfHDpkgmzVjlnpib+6cufGzWM7bdrfRkSdhT6wtrTFxulsxFi5UmMDYzBS/6Stepn5qNmOESJCFXLxwsW/vvio1xfSNHD7yhNFJQn2ZIMOU2drY6SbIcP1t27Rdt2YdJOSBlzehxxdrhIoE+AeeO3OuV89e6gxTZFgeWwwTwKrrk376ofj9E2TVq9VYumTp1StXJcfW34gBZJjhdnZyuXzpMo5p4oSJmMT8+Qok0+HwgEEh0uGnzKroJsgokZmyvzRb/vM5a5ZsRFunTp7Ck9JF31bQo399eSeiJ3SBz8JV/SxTTF2GBJkB/3UYEmSxA9uE+3lw/wGEctDAQYW1S88A1HbwoCF03bWr1+QrwfDnL3AYwldhGui0T/uNnsSXnDl9tok49U/MzYkXR7xdwaNAT+1s7XHnUAfsoD4dDoEWDHvRkpTak7kBdEpmVfwe+T0JewodWb92fd3adTFn/FXuS9KkcZPTJ08TDULR9F/R+Sz0yS0Lq+lTphXX7lSSJ1ceor5DBw5Bx0Pk4tAvGsTP+oSv0MNwCBiA1z2vSyaXpk2dpm43I1G3Tt1VK1c7OTrR4E+yM/92aLvi+yfIFCBvxN5wXySTvqUDuRuxEEyIAqEh/rG4YQHxcnV2vX/Py/uBN1Jhb2dPWFVDe7BDpoyZWrZouXH9Rlr42PfxCzFLQmcIpZxLRIjJOMgwlxHcIpwWNy2I202vmcpy3czc2sqa36Ms9+/dh3Z7P/C5YX5TrEPRLlKDO6JlBw8cdHRwhLhDo5UwIIrQxAhDguzn40ckyACM8PWrN6h8gH8AxB2ZsbK0um56HaHF3iLAiJOVhZXNLRtG/J7HvUe+j328fZCunTt2qlt0EaEx+rSE62XGCjMVTdxF095HIBvQQf/H/pjNO7fv3LK2uWl+E30xvWoqVQZZ5UmdHJ093DyUd9r3kfCF8xdWr6ZJkCWIn7Brl27btm6ztbGVUSXSGxoShs3v37c/zJL+SaGszS9XttzCBQu5LCgwCCUVZk2PzuGGLk4umzdt/iR/3bCRTMnRUW8xwv9y0BUEaQzBqROnhg0Zll9nA4F0adP36d0Hj2Zy0QR5wM5opo/F3HV0L4aOQCtr5qyauyjH5C1csEj0mN9XJcjeMuLbt21v3bK19KRx48Rt2aIV0ebNGxZilk34S/0t1Y9IkAEaIMUYm49JlzafG6IyFKyx5U1La6tb2Hw6EGvv6yOMsLT5bdu0hZDQEsIecZjPUnGYD5388sWXV10ZIBDx8dmTZwzrmtVrmzVpJmN+iQp/V5g8cfKBfQewGJBJZZlhNNRLTXgxjhgQCEBtba5frlqoX6/B4UOH3VzdNQfy6jcuT588w5pNnTJV3cogb+68fXtryFtQYDDN5oJ5c+fpziDLlzffsKHDr16+ioRAzzBl+lSH0AYGBJ09c7Zb1+7qlv+JEyUeM2rM6VOn73mKt8iYKZQFqZs/d756nGKCeAnatG6D/KOYWHIl6fNlq0goTpfOmjlLzfiglS2at+A+t6xuYRIFd/qlQB9/xwRZBW2CLKlYYrls6TLsg8yGi27/KiiTvvHUEEho3qaNm4YPHc49s2XJpt2wXyBeXLHcG+sSR5MdkxPKRJ5FWVYpmAO/TJQgEY6Sz9mzZe/dszcPiEfWVGTATwS26IMmQXZ13NjxMSXIxCEwhgSZAX8qDAmy2AGPgawbHTPq16dfwQKRZ3VDkTt26AiJPHfmnMNdh0e+jySHiK27Ij5ibrD4kCfukCJ5ShwGlLRxo8Yrl6+UqwhF/KbfVHb8LhHjzBkz1Q1KUyRL0bpV661btsKJxbvxF69o1ZbNW+vVrS8TZHITnAb1Ghw5fMTdzT0s9IlYtKjf4Ab7B142NhkyYFDenJojmfLnyz9k8JDjR4/jcaFr4lbfZhCV6JQ4h5vQqgP7D8KT1H1tQdHCRSeMn4DrFZtK/Em79Wt7nqH8EQkygQgxBZJOw2NByoODxO62vg8fQUC9lIwYEoKohASF0Pkvwl/wQZ78oK4ay5ola4f2HXbt3GVnYxcUECT6X1dg+KzzT4QfMYD7oguhwaF+j/0JwKjr0cNHVESsRe0EpUStoSGhT8Ke8mjXTa9PmjhJ9b5wxxHDRhgdN3J38+AaekZPdZCgeYYE2U8Gff4jEmQSuKfXL4X0YhsRG+Tn8aPHoiBLj/ygzohQYEBgSHCIkN7gECdH5x3bdtSsoZlglTF9xmZNm23etBn9Uti/yLeKWCK6lmCFkF4k5PnT58get6WKhz6+BLTeXt5IMrWjAtTCX/GMXEBsNnfOXFVZEiZIBKffs3uPo4MjV/LgVEfjL5tcJiJCtumflCnE+4xyZcsRjt4wv0kVIkFGrKsHCHQJv+lYNapMlzZ982bNt23dJm2+MML/cvAIdPUJoxME5xgf+ZggY4aMLZu3XL5s+ZnTZ+kEH++HoSFhyEbshhGxuW52vUe3Hrq3wlHOmD7T9KrpFyeg6QI5d3Z0Xr1qTf16DWTugzihXdt269ett7K0FjPIorw8iBU/KEEGhDN9+46eCX8ejlVHDlET9AVNlIWmojX4Aqw0tprIVmZdW7ZoKXkCtKRdm3Yb1m24ZW2DkL/+7HxqA6IFHe7o4ITXhj/rZsdKlSw9cMDAbVu2wWHcXN2DA4MZHTG4sQLvuXXLNthaHMWoymk1DeuL3YGhSZiCmOzY58BkmZma4VjVg63z5c0/sP/AY0ePOTk4ya1v7965u3DBIt31cXnz5IPgXThvrNnyLNZMtAq4Crzi0MHDTRqL18ASSRInwcufP3f+/j1xzg86jilG6pYtXaauQsVTt2guDrC2tLBE/sV8TD1cBgJ85/bdxYsWV62ieWeADDdp3JQ73zC/gcUW0vtLgUP5DRNklSpUkvfBGNaqUWvNaszODSzDy5g2UP4SGCyeNDAgyM3F7drVa5s3bh4xfET9evULFyysrrmRwGwSafITOyPVRN13DFFPoJ1Bli1rth7de4i95B77aeow4GdCLP2JwINcvXJ1/LjxJYprJp8ivQwfY4eiURInSiJX/BgSZAb8gTAkyGLBh3cfCO9PGp0cO3ps0cJFlRcgAgQ51atVJzQikre1sSP0gkBEzR1EB8ioycVLhDTcJEnipHgFTAxeBKIMLRDM6dVrvTICyhYtVy5dgfSop1ynT5u+c8fOhGd3b98leCDoghjt3rW7UcNGkmNhy/hZp3advXv2OTk68Vcx40C/wfV7+Oj44aMtmjRLl1ozbb5A/oK4QNy8OF4gJFTc6p8YxAhxJCL+FSY3cMCgNNpaQPZs2eGXZ0+fhU+ITSX+GGnUPgjE4kclyCTEjteaVa4QSugU9Dos9AnSGP4sHEpEA+Q6L0TC2sp6xvQZqjvMmSNXr569Dh864nDHgZgq6ppcHiHKcChuFRkWuYYXr5BSwgZRxYtXorykvEbIKXzm0c6eOTug34BsWbPL6pIkSgLtO3f2nI/y1poG6zmhUoLbGhJkPxn0+Y9LkAlErtEWEoUsqUUjVC9eEXAi4WEhYfZ29oRG5f/W5I8g2eLU/30HCFH8/QIIlr7QDP6ovDiVmTJlK+jncEQdTdFILwVluXL5yvhxE1RlSZwo8aCBg46ICFakd5FewmDug03Dg8g9yGS0UKpEqRnTZ143FSfrcys9J4OEBIdiKCZNmKTOBMmUIVO7Nu327NpjZ2sfGBCo/5L53xNv37wjHDK5aDJqxKgC+QvIZwSpU6ZuUK/B7JmzTxidtLWx9VaOoGE4vhhbYutuWdvgUHLlzKW51//+lyxp8qlTpsH75WskIRJ6gNgSH41tjNx2PV78Th07w52QOkzZV02++HEJMg0QY63WcCuEEMuPKabelxo7/Io/KQnc53CYxYsWq2nl+PES9OjWY9eOXQ53HZS3aHplRv7jQIXd3dz37tnbpHGT1KnSyJ7E++TPV6BP7z4M60XjizAlRE5POQkKDNq9c3eTxk1l1pK4lJ8Kedvr7OQcFhqGmfryuCgX4PhOnTjVrm179VjJgvkLDhs6TCFvrnBX9Ii2rVi+InWq1PICgMr069Pv1MlTrs6ugivq9zIVo3fP497mTVuqaReeA4jN1ClT6QGCZ7FV37sPyCRxBzWq028lE164YFHkok49HhAjADNZtmSZOued+zRp1GTp4qXXza4/9n2MnGsu/UWgAb9PgozuYsTXrF6Dg5b3SZkiVd06dTes22AhzjP1wx7qb8Q+ByOL08QYMiiwuHVr1xMjYNZwxLI6CZEIi6dZcck/lUyZEHL+mSB+ArmAPVuWbHI3GL9HhgTZrwDOJzJBFklyoiTIYDVyOa0hQWbAHwhDgiwmwB0DA4Jw6pMmTq6gjbgApAenPmvmbKPjRja3bLwf+MAw8IL6+DkMB4F6505dpCfgbnyoVbPWvDnz+D3+CRYr7vPFDv/wkaE5dvQY4Z96oHvmTJl79ehFeObm6vb86XMiPRzn0cNH27RuI1N7OCR+woO3b9sOOw8KCNKT9IAH97y2bdpSunjJhNrqChcqTNR37sw55CdE7EGm761iRMRHyBOedfy48ZkzRZ48kD5devi6eHHqKl6cfkez+4uh7S6E58cmyCSoTjkbjoCHGzJefIDWw4dgV1LNkcDz584jn+qKpEIFCo0cMfLsmbNYA2J+Qcp1wT1jGnSRa1BuyzfkZbpXRggm7ePts2P7jmZNm0v2DzJlzDx92vQrl6/QEjnf56vsD7TbMeYE2SNDguwHgD5XE2QyEQ++Z4JMBTfgNtq9OfiMiZNFagch5bWr1wYPGpw3T17ZjLx58g0aMOj0qdPYKKRXz4laApqsnFCWd5S373gEUamyYzRV80+8Axa4Z4+eGF5ZHZZq3NhxZ0+fhSNin2V12FhLC8upU6alSpmKa2RIUKxIscmTJtNaXx9f4Tve8mCy4tjg/9j//NnzHdp3yJRRE+gSeHTt0u3QwUN3Zf5a94zOfx0ixJZh5tdvzJwxUz1uDyRJnKRWzdqTJ04+euSozI4xlFKovihRr1+KaV+TJk4qXKiI5nb/+x+Ent9cNrmMaVU2pdZLLp8+eUq01r9f/+zabD6BHI5p967dTg5OyJ4SW+or4rjmH5sg+xzKqwtkWPMvxeZjz+lME2OTkcNHqhnJ1KnSDBs6jN52d/OgnWiBnl30n4VI7D7yO37seJ/efVVfBjBEaOuqlatRW4e7DvpnxzBosMojh4+0b9dekjdJF2GeWzZvsbe7jbyJxGXsUFwwauLu5g7lq1ihYhJlMRSAvI0ZPebsmXMebh7PlMlo9zzvcefcuTTrAwC2pXvX7rQBl4ptEdXpIQXIrbOT8/y580uVjFThtGnSQphx6w99HqIm3AehcnN1X7VylXreCChXptykCZOg3OJM2KfPhf38Uo1yBtmyJcvU9C7d1bRJU34jdwZ8+as3rv2tEmTqDDJ1DjLK3rBBo82bNltbWSOfYm7jP1Z2noinDg4KQfAIEJYtXda9W/ecOXLqqobIsGjZQtw44ohqPCOFIFSeYxOZIDPMIPslUOiWIUFmwH8ahgRZtKBbfB8+gkPDpNU3xgAL3qBeg5nTZ0KGbG7ZPrj/ICQ4BJKtD1kHuI079nfkzguS9wCIC8ESrk5YFmiBHrfiGiLPtWvWVqmkWd0DChUUuQw8iqeHJ6QHCoKdumRyafjQ4XLygkT1qtXXrV2vbNAQqH/E6HjHYcGceelTpyW8S6g4sFIlS0+bOg3Sg4cOCw3TcwZ+7KB/8N8Tx09UY06QNnXaTh0779+738lRrOX8c6RR+yA89c9IkOkihj70cPfYsH5jrhyRsy0qV6y8YN4CYjZlW5DwqF/8B2MBc71z+w6SX0x7Rnv6tOmbNW22fu16eoOn1qxD+Zoq3rx6E1uCzPcR99RcasB3gpogK16sOIRJdvsPSZB9CQ99fPfu3qtmxwBB2swZM69cEjYK06FXaKofeCLMNdRffRUvz8tfvGgxhBJJQ1lkNhkZdnJ0Qibz54vcTou+mjhhovF5cWQ7iiCu/GLnRHzkKbZu2Zpbu8gdEND279v/1MlTbq5uGOGvyAD+fsBnofjz5s7Pl0ezEAxg/GvXqj150pT9+/ZbKceZhQTrmx0DXIbhWr9uva6jTJI4KT5RbP/s7fMi/IVeAWGEyE7u2L6jbp263EGGcAnjJ6TzDx045ObiFhIU8lWx5S9IkEUH4mo0FKGSzwUSJ0pSsUKl+fPmy2OLaefbN2+jvhcxQAdI4wMv73NnznXp1EWmsSSKFC7SrWu35cuWQ8nsbe2lsOlpghiXF+EvsSQwOnm4h4Q4hUnZcFDYVf182bu37+xs7RfMX6jLqYoVLT5l0hT4rRxixMzvkd/pU6dbtWytHj3J9R3ad9i7Zy9uWkxY06/lT588vWF+o2+fvtmz5ZD3iR83PsHzqpWrLG5aBIhpvEqzP3xElzeu31ivbn35zgAkTpS4a5euZ0+fvX9PtEokfb4k/5/PIIsXN17LFi3lUk1YhOilH6xEseO3SpAxOlDKGdNnqsc1YGCbNmm6c8dOhCQoMEhQze/UXTxXuHJOlL2d/elTZxYtXNS7V++qVapmSJ9BVq1CWXSZADlBEvgsX+RnzZK1W1dDguzXAeUzJMgM+I/DkCD7HPTJY9/HxheMcSQVyldQs0vJkiarVLHy1ClT4cTijPl7XngUfMC7N/oeJ/T29dt7Hvfg2e3atlN7u2yZsri6kydOidO79Ti7B8BZ3V3d582dV7yoZvMmgO/Bg5pdM8NCPVMSbfhmWxtbWHihgoU0F/3vfzwRvxHz2H189XKHER/fvHx98/qNyeMnJlfeQMb7K27SxEnr16tPVAzpeejzUFb3z+WE9ri7uU+aODlTxkgyh0OFNh3Yf8BZbHb29M+RRu2D/IIE2eeIoBmvCUFnzpiZQrsRSYb0GRHUzZs229nYiYzVd90ALjgo+JLJpa6du2bWjjURxeiRo48cPnLH/k5wYLD+0xtV0FGODtElyBYtRuBl2Km51IDvhDev3tjZ2hEHwrnpbdntPz9BRvzmeNdx6eKl6qElSRInadywMcJApISNCv88vfsP8PypWJg2ZtQYdd5Nzuw5e3bvuWvnLhtrG+LAF8/F/EfUlgcnCj144CBeVW5ABgooS5xOGJ3EjIc/f6GXdn/4iAGkn1OljFwGVa5MuQnjJ5hcNLnvef/Zk2f6xFq/Ieii0OBQhmnhgoW1atZS06w8Kf+cMG7C/n37za/f8HD3DA4KISQWj6mfPUQqGIvjR493aNdB9eMJEyQkVDu4/6CnhyexpT5ZLZwyXnXlipXqoXtECDlz5Jo4YaKy9t9LHLDzNXt1Ue+XEmRfWg78PYBuOjk6QSRKl9IcjIM1btem3aaNm2+Y33jo8zXHF/4ngZO6f8/rxPET3bp2U9eRYQbz5s7brUs3xvfkiZO2t2zhiiHBIfpP8PzwPgIBsLezh2LhFtUUUrmy5RbMX3D18lWk8aV6umiso/P65WskCkFNoRwPAjCMdevUwydeN7vu/cCbIeYymsc/x4weo3LFtKnTNm7UZMP6DbAC3LGetiXAP+DcmXP4XLW6jBkytm7ZGtKLmxBLDeSmYBFcGQipa9+2vUyISDRr0uzY0WMe7h5PxYlMXxY8Gk/zZkyfAYuWd+BukJYN6zdCfWn2L191/lslyAhYzp09hydSz09InzZ9i+Yt9uzee/e2OGtLkK7vCGXjlCehTxAz3OLRI0cXzl/YvWv3ihUqRkmTYfMTxk8YN048dQ8ykSDr0k1JkBk26f8VMCTIDDDAkCCLAowCZNf0qumsmbOqV6uuTgMGFcpXmDRxEk795o2b9zzu4X2VY9HERjOaL38JcE2/x364xoH9ByZKoJlvTIjVv19/bqvZF0yPvMCL8Be3rG1wkDmya17TQQtat2qzfu16fk9QSnjGwL198w6qsX/vfgJFucAHFC9WnKc4e+Ysf4JefDk8ePchyC/g3KkzwwYNSap9mQn/69mj584dO+/Y3/H384er6fmCMXa8eS0SfzRPN0EG7ySeOaosHSUI/HOkUfsgaoJMehqJmjVqbtqwCVbxYxNk2jYgKv5+AadOnBKSqcyEh5T/Xe7vUSJjddTZ0RnyFDk/5Z8PwYePnu6eyE/VKlXVTfRgkMuWLLty+QqRcFiockrXVwI2FlOCDPbv94cd8vB7AOGUCbKSxUuqs2IrVVASZOZKgkwsP/8gXiH8OM2N+AiTu2RyefTI0WoepEihIthVsSfjnbuB/oE043s1AFvn4+2DGW/dKnLCBXZ1yqQpEHqx5Dw45JWyQz9X8uCoMG0bNHBQntx55MUZM2Rq27otbXO44yCWjX+xYREfifSwBnglNbZJkzpNk8ZNCMJloKvEWj/ITPxA4IAIm21u2SxauKhOrTrS+AA+VK1SbcyoMXv37LO0sMRcEHuLLQgwC3rLEq45NCTU9Jrp6FFj1B3KCcMIobds3qLssRWmT6fhTzEsdL56nEjyZCkw0cuWLjNVpqYSz39VbKlNkC2NkiBbvWqNuZlIkAle8eOpV2BA4JVLV/r17ZdTO2s4f778Q4cMPXzoMAG58OwvvuJozv8WlMP7/B/7Xzh/YczoMapWglw5c6PdS5csPWF04pb1rfv37sMVMQj6j6ZC3sTL1EMHD7Vo1iJdmnTyzoULiqWRZ06f8RCrX2Mlb/IvH8SkoQvnLgweOFie0QQKFSgEoZInezx6+Egk2pQUDAKJPKuL77i+/N/l582dd9nkMhKuSWzFBERVWc7Jw2LW8AWCQSgoVrTYqBGjxIEAjk5PQp+I+yj6iwpcNL44bOgw3Y3PateqLdYsCyYcqs+iTm5ofMEY06rLhLt07rJ923bMPtqtPzn/QfitEmSMI6OTNk3kDr8ifdmqtYg+HJzEQpAfs0if22JJHvs+hiocPXJ0zuw5bdu0y5I5i9xuTELmXBImSCgjo6xZsnbt0tWQIPtlUJbkaxNksW/SL97rlyklEmRXr1x7gFQ/NSTIDPgjYEiQ6YKHDQ4KtrK0mjdnXmWdRRkA9wbJ3rN7r5npdRdnV7jji/CXBC0iMaR3/3xQzs29fOkyLEflK6Bm9ZpEmBY3LfTZJolG+j32O3XydNs2bTXfVw5QgyXs27vP3s4+UDltUL6EfOj98Py58926dsMbySuzZc1GeLB92w57W/vYPCIPpZR3r996urrv2Lq9feu26gZk1atWnzJ5yumTYnMfekzzultPCC4lqJumCh0Qh9B+HL/aWpAnVx7oHc8rqMDT57GZ3c+boHejfgG0bRMJMvObU6dMTZlCk8QEtWrU2rRxE3EjYaE+OdNvgbLRkvjvh4hnT5/fsb+zYvmKenXqyQZANLEDc+fMlXvrChJGJCkHTjsEX8568Ff1Ap0rMSwEZuPGjiPIl9WBOrXrbNuyjUd+6PNQ8wL5K0FUCc/7NEEWp2GDhosXKgmyx34v/9ketAI/YiD+jdD2gyZBtnR5qZKlVL5bsUJFJUF2Uy5r/bKR/Ge9irlzcXbZuH5j86bN1VcaGHB0Cuvn7uYeGiLejesZRXwR4c/DebSZ02eqkx9BpYqVsOHm182RXrFqUhUzcXjxE6R62tRp6mpigIlbMH8h99FMc6BpuuVToAshwSFEC4MHDVZTSPnz5ifQ3bljp+0tWxwHrdJrqeZvhQ8fw0LCrC2tkZZCBQuhrfLRkiVNVrF8xZEjRmIQzK6Zebh7BgUEyU0J6VjslbZE01dRwFgQ+RNbwuDlzZEQ4nBCVs1cLT2WqmE6MIMDBwxSN2nKkT1nj249dmzfYW1l7e8XQOe/+5qEPtffuX1HN0GWOlXqunXqrV65+ro2QRabp/sHUCUToXJ2cl67Zq3uCQYli5ecPm06D+vh5gE9iNH16P/LPxT0XmBAoOk1s4njJ+rqdY5sOVo0bzF71uzjx44jG173xdwxIWNf0znINjYBqbtscrm7zhmsGdKLdMYOyJudvTjF9Uvve96/FUuM9+ze075d5EStGtVrTJ08Vey+7+JG22QqFjWBX3FndTMvkCplKqjXkcNHUEBC5UiPzLPoPo72M0zG5pbtgnkL0moPWcJYwSKWLV1OmH3PQ6xzfyUOVHkfoRxcbm+nOZNXfTUoHcfNG2LDeEFNv9Rp/o/9ebr6deuLupTESoL4Cfr26bt/335YOiyCR9Nc+ovwWyXIEAaYf7q0mnwryJQxc8f2HY8dPSbDvW94K6kvxInqYgt/2mBrY3vqxKl5c+d16dxFd686iYQJxBH2WTNrEmSEWpo7GPATgW+V4eqVy1fHjR2vvhlidLAkeOq/lD3jEidMnFRZV1S6VOnZs+ZcvXwVi0c08fYNOv6plfgHMCTIDPg1MCTIVEAc8d+WNy2Jc6pVrQZHl72BRcAtQda3b9tues3U2cnF9+EjDV34yp6hM2HGt6xtiNjVPRpA0cJFR48afe7MOQ93D5EDiuW2hFshYURE8+fNV7k1SJk85YTxE04YnRDndsszJZV3eiFBIRY3LMaOHlswf0F5Zfy48TF2c+fMvXL5ymPfx7HvUhzx9n1IYPDli5eGDx6aR/uSOe5fcVq3bLVi+QrTq6YPvB7QFaI6LZt/q+wBr29OR+ca+hNWRCd06thJPXkAlCldZsL4icYXjDVpmuioAL8kfILtBQUGBQcFY9bhJRCsX06P9AFDcMP8Bpw1hXZ1GKhVs9bmTZtFgswvQI7mV0Pv/oe+07dHDh/t1rV7+nSaqe+Q8j69+mzZvMXKwgoa+iqKnPBRzyZ9dln4s3BHB8f16zY0b9ZcDYmzZc02oN8AeWZWoH8gRCoyxaA3CBju3rm7asUqLJhclqJJkC1aTDAs9qB99VoE1V8DmoFooVPo3ZPQJ1BVfYj7fwdvXr2B7y5bsqxE8RLx4mhisIoVKmEfbsoEmZKs/3E9xnD4PfI7c/pMv7791MR66lSpiQnXrl6L9YORw9i+QZw0UFuurJckknR3dd+xfWeH9h3VmJN6e3bveWD/gTv2d6SYRVannDjs5upGY9QYCcAshw4ZhsXWJ0yiUmcnZ7pUN3wtU7rsmNFjThw/4ezojMposnKf9jO35fdPwp4GBQThC5DeH5Vt/3oQJEMw6LH169a3atEqntbm43DLlSk3cMDATRs3mVw0cXJ0Ikaii6LRO8XHaT7GMLz4o/v37lNF3dp11aVqBfIVGDJ4KEGa2K8z9pcuioQT4q5euZpIXl1+XrRI0bFjxhkdN8KUiQmDL78u844N5MF1E2SpUqaihatEguy6JkH2Y4aJHqO8U6YMozVDBg9RU67p0qRr07rNhvUbLOWqZJlyjQ7cgY7lKUKCQ4XDDQkTA/Q99iH9V4CxRibNTM2mTplapVIVdeuxTBkyNW7UeIqyZR6WB+mCkGgU86ugZBPoVQjAxAkTCxcqLO8P+Dxv7ryrV65C3l6Ev4zFnfEn7mB2zQzuqm5cCMlv0bzFsqXLTa+ZeT/wFoZRGWJGE6k7eeIk7EuetAuw561btUZ37GzseBDBQ6KF0gbUGf529PDRHt17qKFE5kyZu3TuIvPIYmVD+AsNbVYe8J7HvQP7D7Zs0UpdcIdawWPPnz1/3/M+/aZqd7SQWWaorJpkSZwoccECBSdNnCTep3rcU84f+Mqe/974rRJkXve8Nm/crKYvQd7ceQcOGIQdEOvN5U4pPxhIGmYfp0yotX/v/unTpjdr0gypVgMuCUOC7NcC1RMmSCTIxJvsmBJkiRImlkd/lC5Zevas2SJBds/r2RNDgsyAPwKGBJkGESIIIYzZvGlzi+Yt1bgdFC9aHLK+fet2SImLswshX2hIGBd/S7coh/d5uHns3bO3erXq6nuzjBkyNm/WfPu27XLfhFhe21Kvh7sHLATioruMP3/e/AvnL7xkcsnT497TJ09FLKGA6+XONVUqR06Io94B/QcePHDQ1dk1trfEfP35C3dn103rNlSrXFXzZah88pT9+/TbtWOXrY2d/2N/8fJcYcaIyquXr6FZXve9Hng9EKtOdBJn0UOn3idhT+zt7AkC1Un+QCY4FimbrMuNhKKh7BGCQODg8bjXrl4zvWZqZWkNwWKY/hW5jBfPX5hfN58yeYouRahVU8wgu2VtQw/Ld7yaq/WGntQQSkQVdBrEtIj2rLeUKVJVq1oNQnb61BnsAzxbCIkOvtksvAx/iYgiwOiUun8TjLxFsxYrV6y0uGkBaxcLMb5pAsWrF6/ES+nlK9QEGT/lEktzM02C7KuaTecgRW4ubjfMb1w3vU7cSDwcFBAE6/2GEfkjQZditZYuWVqsaDE1ASH2INMzQfZPelHYHLGZHeMya+YsNXhIED8hIRPyfPTIUSdHJzle/7AiCr6SAM/H++Gpk6dGjRylVof0NmvabMniJVevXCMqE8ry+i2So0oIukM/HDtyrFXLVmoXEXy2bNFy3Zp19F6AX0AsK5hQ5MCAwPPnzvfu1UddbBU/bvy6deoSKl9R3tlixrmDWE+k85h8kd/jL6wsrK5duYYK3LG/w61Eb/zisFGAzqRtB/cf7N6tu7qDeJy/4iJIPXv0XLt67UVjk7t37j70FvNJYzIIPKN86hhTOe8jggKDjxw+SqCeML6YmwAIpInKNm7YaHPLNtA/MBY38f7te75++tRpPKZMHMh1xJjHhQsWKWfU3NfL030KYlrNEstymgRZyhQp69Sus2rlqsgEGTdUBE9f6NcAVAaV5KkxtshPtSrVZAMATmfqlGknjE7CGYICg17L1XDRgebRSIe7jubXb8CLEDCMJJL/A2eg/DZAr/FQ1pbWK1esKv93eXUpQPp06enAieMn7t65m0GETCqJ3fBvJCEfNAqybu06uKKsAhCgDho46NDBw5A3+DnUS+TIors/ZIyvb960pWqVSPKWOlVqlAuqaWdrT/PEwk+JDx9DQ0LhIZMmTNKdEAcZmzxp8sULF1FD2hPV6ynyyS9RQ54U/kaQXFo7VRMQV48YPuL4seMOdx2wPLopNr7i99j/8qXLA/oPUOcwyi3wdu7YqUyRC1V5bFQoRFru/oZeq7u/QaQhEqtXrr521RRDrWf66YfiN0qQRXx0d3XHrqbW2cWybJmy06ZOI3CgMeKtZAxW9LuDkeWhIHtWllb79u4fN3Yc1i9D+oxxte/YDAmyXwusCsJgSJAZ8J+GIUEmQQwjX6D17d0X0yz7AaD2/fr2g6NcNL545/YdH2+fkKAQzdZjSs9gR6DgOHusCa5OFIKjWHYGjRBb0hDVEGIV0M7qAhnSZxg/bjxEXE5Eh0kotCOCm2sI0AexDQ1/IuycO3uuyglA3jx5iZ0O7D8Aq/D3CxBv3rT+ksZQHZSXp1C3aYDiN2zQcOGChdeuXoNGyGkF6lc0IOR4+97v4aMrFy+NHDaiUD5NLiNZ4qQVypWfPXP22TNn5dolTQCs+Dw4EPfcs3vPtq3brK2sZbJD9IZ8BLUG2W+SbInI8/1LZbfgXTt2tWjeMoN2EhOATPTt0w/GCZ8Te9BE9zKWegkRjx09NnXKVMhWvz79MOhHDh/hhuHPw385Q4oGOl1BJxBfmZlenzJ5iu4m/TWq1UDq6EO/x2LnLDE6uh34T6C9D6NGfz56+IjAfv68Tw6PK1yw8JDBQ4ld7WztFImKLh+krNCk8yliUL7YtoiP4c9fEEdBakeOGKm7qUG5suWmT5su5z8irtEQ8Zggn0Vb+CJysmL5iob1G8ocNy68YYNGhLJEcT4PfJRIW2gWBYWNvRYkJyQ45JbVrU0bN40YNmLggIHI1coVK2WuVpfr/4fwWYchnPZKn0Oh/opc3liZ6PHmja+cQSaO/3+HLRIS9aXRAVzGABHnL128VPeMyNy5cosgcOt2GsBIxRaEUAPmRNgijUXS2NvoQKiD/YcvThg/oUxpzZ7QCUUyrjQx5NEjR+/euasxv59JF21Al2fOmKluJg3ExOThI4keccHi+JHP6pVNwubftr+zeNHiihU0J2aCVClTYdJ37dylaKg/sQ29EaWT8VPCqO7cPWb0GKQXpVu0YBER6QOvBwyK5qJfh8eP/IzPGw8fOlzNyyeIn6BggYI9uvdYsmgJVoJHw7AHBQbT8/Rn9CKkdBECJh4/WihmQUzRFWvYI6foFitabOSIUUbHjFycXfCAkZkdrU/ntojNs6fPHe46EnLXrxd53F7hQkXo/J07djGmcif7WGqPFtRI2Lx0ydLy5TS7/qdInrJ2rcgEmbIS7YOwqzFIoy6wRa9fveHnF+ywQiGgLn6P/OiQxYuWVK+mOfsP0Pm9e/XesmmLuZm5fKjPXa3E2zdizibB+fJlywn1Bw8aPGP6DMRM2ec7RFfs/0ggTsgM5qVTh07qO62UyVNWr1p99KjRO7btuHzpCo4MyxMaHPoy/CXjgiAhotEW0V0xdBjfglCdOnmqT68+agYZIWzUoBGKjEd76C1eGXKZrsniszR3AX4BKPuI4SNV25gkcRJc7bQp006dPO3hrl1Cq4V4merojAC0bd1W3U0SO9Oyecv169bb2thCRXh2xFLzBSWEfvcW0vsBefZw85A7pskvAprapJHYJPHaVdN7nvfgihrarAWNx2YSV6tkAGTMkHHCuAlnz5x74OX9/KkyLfEzMeQ+9AxPh1Jnz5pd883//S9f3nyDBw4+fPAwXD0oMOjVP99R4R/j90mQobZoKKZVNYN8aNakGTbn5g0LPLUwsz+ru6SfRTVwfBh5gpr9+/ZPnzajdavW+ZVYQ92DLMA/UPMdA34m5B5koU+UJZaGBJkB/0kYEmQAr4B7wN1OHD8RAiE7AaRInqJZ02bwid27dhtfuGhlaUW8gUOCl0AQ4R8U/8f+0Fm+/ugh/xEffB+KEhwY/CL8ZbTsFuoJwdqwbkPDBg3VXXswOs2bNV+4YCE+z93VPUQ5Nh7/AfOmQJcJk6jX2tJ6w/oN7du1Vwcrfdr0cv6CyUUTOAqXwR7UIcMPPX3yjJbPmztP50XiX9myZuvUsdPmjZtxjcRLUCWoD2wJbw2rgLiEhYQ+uOd12dhk4dz55cuUS6LdST13jlw9u/WAHcKw+aLI5WmzgQRduLp9e/cP6D8AEaJGCJN4leriRudAnXHz8EUuo4VvXr3BH/PPkOBQ7wfet+1v79m9hyguZ46csiKALZZno+Am3VxFMk730VTQUYRS8+fNr1WzVr48+XJmz1m2TLlpU6cxZFA6Ga9qLv2lgOox9PQYXoefKNdTfoSE+T70vXBObPQrF/NLVK1cdcWyFSYXL7k4uSBj9B5XhoU+YTSRK8FrP3smxJhxpDM9Pe4RyQcGBFELkTMdTtUyYkceuEy2JMA/ADk8e+YsPYwoqpw4bZq0iOKK5StMr5ndv+dFO5FDTR06QCblHRhfKg0KCOJx6G3EVYaXVIQ48U8aQJzJWECy9+3dx5OWLlUamiirY8QJiXfu2GmhiKJIub58HWNYqEmnvkSWND2pU9DK62bmC+YtqF2rtrw5qFen3uyZsxEhJ0dnupp4myoo9BXMkrbFRArfvH5LN54wOtGvTz9ijNy5csNKiZOxlogrDfjjDaMuIqUX0eV/YU+ePXnGB3+/ANNrpnPnzFPnA4IK5SssmC9MmbOTM0aS3pbf4ivYmShhkgZio/2nCAAS5enhiSHFMiA2L1+8omqZLJAShfDzS+Ifdzd3CBmC2rpVG9UeErIyRsjAhfPG1E4cxRB/Xh1iiQAQJXITKqWRqBgtxChh0HTTMfB4NM7fz5+gl2B11sxZf5f7Wz0KIFuWbMTJmzZuksoiYk6pLHxdp04eGcexa+euDu076Da1bu26hD3ooJIje6JKIw3mK8gYWnPL+pY8+Fg9uiR50uRE48JZnLsgDaPMp+jWyCOgnibGJkMHDy1YoGDunLmR4Zo1aq5etRp3QDv1Ccx+EGgqDcA1YLTLlf1bNQXp0qarU6vOhPETNm/afOb0Wcublg53HaQw0P88jsbniuJP8cP5+j6mCHfsH4C0iIeKOtTCMSFUWJjaNWvj02VdyZIkK/93hZkzZp4+dRqqI5fCiZdbuFwc78vXBOfUa2tjxxc7d+ycIX1G+cW4ceI1bdwU73b29Fn4QKC/ELBoA1SGkj9xH0yoUBxpphRFwLDw+GgNDk7eNnmy5NWriTE9f+4CwsAzIpBCcYTNf4pHpmGfPxpAoRAtjPA9j3v0A1+R2VJqF3kTvkL5gMC/x9zRabAL4wvGixctxl3qHvlaqWIlfonO4nGCoR8xT7bFDvDga1avadu6bb68+XLnykPLhw0ddub0GVpCN8b0xT8AdAvO7tjR431698meLTI1g3Kh2gvnLzyw/+Alk0voLMaH3mCgYYMwQ4YmSuGX+CNkmIGOPjchdrIP51bz587XXQGQKaM44oP+v3bVFO1Q1P8VoovKYzQYZYSZRl65fAVxwljpuNpc3bt137xpC+SNqjEvmFZNXYqFR5VwlKNGjlZPzgFFixSFmEHPsBtQUGGmsDZvscPvYHEIG0zD4Y6D0XEjAmku1nxNWdYwcvjI/Xv329nac2eR7RK7XmiqA7TW54HPrp274RvqMtW//henUYNGC+YvuHTxEvYZJoxx08qzyFlzH75lZnp90YJFmHp1XT+qzT/pK5gw3YLWREuTfjIYmt8iQaYcU25zywbDpdpAnFeXzl22bd0GMcMyiDnIP58qK5MBQ0PC7t+7f930+pbNW5GZ2rXqNKzfcOiQoRcvXMSwa6404GeCuF/ZpF/fBFmp0sjn1SuGPcgM+INgSJDxdFBMfP+SxUuqVammUsY4f8XNkS1H+3Ydpk6eun7d+j279hw9fBQyDbm8bHIZQyAK/710BUdOHIJX5vPlS5dN+OfFSzdv3ISUY18+d138hij9/LnzI4aNUA/VBvCJtm3aETNQi52tHWEbTisoIIifnh738GF8ZdWKVd26diPgkV+JGydutarVJ46feOTwUZyfssuDyFBoaqJmZT0FTnTv7r3dunTTPSexYP6C/fr227xxM+0nDsE/QWKoi4uhv9YWViePn5g9Y2bDuvUjl5v+7381qlRbSPB57gJf4XolJtFQHqJWV2dX+kqSOQhBzx49iUCgVnSapYUlLAphg7tgQyn3Pe+7OLvS88SHG9dv7N+3v+r+JYoUFufQ7d65m+/GMhOE4SNEJw7Mop36B9kipIF4EQwQYOiywF8CPA1Ml0dwvOvIMFGIuxhQOxs7m1u2sNXtW7f37tlb99wG8aZ36rQd23YQhhFKWVlY3bK6xRft7exhjYT9Yk3Wp5LFQEPKieF58GNHj129ck3QdEdnulqycCgjcSns2dfHl2jfzNRs/74D48aMq1WjVhrtthTx48Yn9kaiiAGclL2NPpEoHRBE0Z5NGzfT+FMnT5tdM+OJGF+EMDgoWNYVHBj8+JEf0kuzLxqbrF2zlgHVzUGDmtVrLlq4mKDCzdUNaaejCFBjImq05EnYU2QV8ZM9qVvoyYMHDo4ZPbZC+YqauytyKDcQNL5wEa2kT6ytbvETFcPESeIerVxBKOnqbVu300LNvf73v9QpUzMukAZ4mz7U9g8AkUn48xePHj7CLDDE9DM/6UDZ53Tp3j17Rwwfofsmv2TxkmNGj9myeQuqfdNc9Ln8FmLAKBMZElaJOTs6g8zIYnkwFJs2btq3Zx/yYG1pjcVgCPwe+yFRxIGhwaF0O0Gam4sbSrFv7/5pU6Y1a9pczarD2MqULoNdRQyojjgKCyyk9zNpevbkGfaZlu/asev4seMYc1Ts7p27SmY5MCwkjJiEa6iU+BZhu2Ryecf2nTyU7nIngK2bPXP26VNnuCbAL0A8V3RSQeyKLuAdJk+arG65DTJnyty8WYu5s+ceP3ocgUSwUVWu5JFR27t3HPjK6lVrunftru4iBOje0SNHHzp4iI4VhvHp8zefzR7iN3iQfXv31aldR/M1ZWkhI4VJYTSJ3H5BOKQAT4GlWrd2XZNGTdTTnEH2bNlbNG85ccLEVStX7d61G4eLYSEIJNRngFA6PKziZK/ggikICQJDYXTQfbyPmDYiD4XQAXEyVgiBQVrg8ZrKxGaacaE6M6bPOHbkmKWFlae7J+6PQUQ+6ToGlPAMd9aze0/dzmfIhg0dhleyuGnBGCFgUSRZgjYgQozOHfs7UlNsrLXlls21q6YH9h8YNXKUur1U0iTJypcrT9C7dctWHhm1srbCVCk239ZeSfWKR4tS0bu377G3EAYs+ZHDR+gTtAa77eP9ULwgUZJrtBD1oSXOTi7m128c2HdgyuQp9evVV9+IgNKlyuAIThw/cef2Hb9HfrjaaG2+BNphccNi4oRJOGj59ZQpUtarWw99R4ZRmd8hMfGDgBtlaMaPG6/L3DA7dGCP7j3mzZ0Hk9mze+/RI8fOnD7DOOL14FfIJ4ocpQjpPW+MbDPQmB1G6nPTQU96P/A+uP8gVEr3oMwc2XN07tR55YpV1IJ4eN1/gMXANnIxo2xx0xKbNmvmrEYNG9E2zXeUdcEL5i84f/Y84iTe4Mppp1rASxl3TDS31T23QUkllx85fOTWLdsgFRjJB/cFNaUge+5u7ubXzdHWCeMmcH81+ZI5Y+bWrdqg4zygh5tHZBJQRzCgjkgL5G382PGqLIFsWbK1bN4SJgyZQaIw4+g1V4YEhUBdaMC5s+fmzpnbuFET3dUGFcpXwLjBNtEa7NvLb9j67Qfg90mQ4cRv3rCYPm2GKkj58uQjBMAQ0aWCUn7TvhbfCzgjqB2enUhq44aN8+fOX7JoCaKFHdNcYcDPRGSCTFliWTSmBFkimSD79BRLQ4LMgD8ChgQZThRPDwXp1LETPA/NlzvEJ4ifABZCbNy6Vese3XoM6Ddg8KDBQwYPHTZk2LChw/FwmjJ0OHRZluHDRlD4IBYdTJtB6OVw1zEsNCyq11FSci5OLhDKNq3bqJsTgyyZs9SuVXvQwMFzZs/dtHHzCaMTp0+eJhBatXL11CnT+vXpx191F1cmTJBIntgNYb1/zwsOgZOLpAXKwEWI3SXCxOEDS5cTPapv6gD0onGjxjzRwgULd+7YaXTciOp2bNuxdMnSSRMm9ures0yJUvG0y6ZA5fIVx40ac4jg85YNdhDSo/uemc9Es1s2b4UnyeuRqEwZM7Vq0Yo+mT51+vx5CxYvXLxk8dLly5avWL5ixfKVVER8MmjgIPi6ugJUIl/efF06d1mzeg1UEhGF4gv/HZ0ohj8PJzAYOmSYyuqg/m1atYGqwvZgjaKRvw4MB27mtv1tiAisbvq06XQFP6dMmjJ1ytRpU6dNmjiJGKxyxcoEbLL9IGf2nM2aNIO+wPlgQlzDxXyR7tq+Tawd47lEh2iBnsKwIdwTxk+gMxFahJOvLFu6jMD+7JmzZqZmlhZijzao86aNm2CfRPvt27Yn3lMP/uNDwQIFqXGXTEp6P8QCfCJRKiI+EsxDi0sUK1GpQqW+ffryrZnTZ65etZqYnGYgkDfNb140voj0MoioQ/9+A2rVrKWbHQA1qtcgWiMwg6IRlz4Xi5c/2b8pCsKfhbu7umOdEGbC3SiF0Bo9xXzlyZ1HU4EyQ416iV7oRupCj+gWPtDaDes2EKV4K0s5Pn9GGLabqxt9Va1qZE6EGH70qNE0+L7nfQKMX5Vi+GmAeSNXzo7OiA2ElXGkEHrxExmehkhOFuuaETl1eyyAjWIUevbohRASOE2ZLDp88qTJfIX+JFx84PUA0v/+beTiIHobqZ49azYSWL1adcQJmV84f+HmjZsJk65euQpXvnLpCs3AwmCvkN62bdpmz5pd90APbEivnr02rN9w3ew6tkimS6Ih/RHi+DOii3Zt22EAu3bpivUQ1S1YiEifO3Puupm5xU0LqCHVcTfUlviwdcvWurPkQJXKVQiVjxw+gp0hJBNpBbElUHQiIV7gv8KOHdh3oH279rrHXyZPmrxqlarIJ9pN5xw9chRtPXjgIMJJbwwZPKT83xV0nxEJ7NyxM60isOQZMYw84+cqQ3Ue7p47tu9AxTTfVJxan159uLnnz9qSORooUwUvXbzUtXNX2LamZYqzYPjo0hbNW3bu1AW/hhuVXpXOV8sITRkhi+JthwwdMhQZw/JgRkRKNMqyLMXhYq+wwB3adVBjeIDJLV6sBAKATdi4YRPDjQc8sP/g+nXrZ8+c3b9f/zq166gvD0DmTFlatWyFQdMk9JV5Z9GMuJj785zGHD50eN7cedLOU5B/FGfmjJkI26ABg/Dm6dOll3dOkihJvrz50aOePXoi21yAvkyaSJmEuq1bsw7TTUTNg+jm4/inrY0tlq1D+w4YczzpxAlCjLdv3X7m9Jkb5jfQqSuXr548cQqSgLedMH5i2zbtChUspJs3KVa0OI5m6xbJIu6HBos5vERHmjo+A34fbzJ61Bj1RZ2Y0litOj6dGuWcTbWFfxIY6HvKUY/qkUfSZUMaoSt4GaSrW9dufXv3ZSDQ3KGDhyKZShkmeOOnhd8j4Yj0nFlzLpy74O7mjkmMkumgRn5pbWW9XDntUZ0LBlKnSt2kURP454L5CxncY0ePnT51ZveuPYwCfhATUaxI5KaQgAiWi/fv24/A+D70xZO+jWKslBXuj3wfIds0Pm+evJpvCruRsHSp0gjYuDHjhHRt2w41pWBeFi1YNHrkaJSiWNFiagQBoJp4WIRQ69mJmT9776VYxXse92h2506dda1B2tRpK5av2L9vf6pDryGBpldNL5w33r1z94L5CzDy2bJk03061AeLsXnT5uum173kTN43X7ct4A/C75Mgw48zsqNGjlJXKhQtXJSWMI6uzq4hQSG/NkEmECGCiOCgEHThlvUtzNEDL29YluavBvxkfBCeGtKFpKn7EkIhCK9U1SMClbPpDadYGvAHwpAgwz/5+vhu2bylQf2G0B00HwKNCcCNQUEypM9AsJc7V27oAhwo5pI/PyVfgQL5CuTPl5+L69SqM3bMuIvGJoSCCofWVCcBEQkODMaXL164mJBAd/OpVClT8fXSJUvDnvv26TdwwMAunbpUqVy1aJFiOXPk4q/yMgaL4JBriFpxk3i4AH/t/IXPnNybV298vH0uXrhIOFHh7wq6EQJEJF+efJAn4ihIFdXVr1v/77J/FylUJGe2HAm1gVmieAlKFCk2ZODgrRs3X79m5qk9d1+X8VC13yM/o2NGkHXdyVAZ0mWgc4oXK04tZcuULVe23N/l/i7/d3kIHz9LFC+RJ3ce9bkAvVG4UOGOHTouXLCIWNHhriMECz6nTlWLAv500fgilE5NkMWLG69dm3YbN2yEC/opqyx/mQwrLh8+SogCG4bf4GkoxYsWh50wpnzmAyObOlUamo3gEQzHixMvWdJkGTNkomeIyQsWKFSkcBH4Lt8qUawEEdTO7TsdHRxDQ8JEnyi9QjyDtsK6oIlZMmUh7qLPuTlDWa9uPZg64fec2XMmjJvQqWNnAnL8GWESV8oeA2nTpEM2RL51yzbIqIebB5GSZjrG570X8ZHwmygdHYHX5hILuAowlNyZ+F+Q/tlzIYVEsK1atIIaEoXyLOrmF3wF6a1WtdrkiZOJWiFD6CAEDoqGFInYLAai5v/YXzrs+vUa0HtRCkJLLZkyZpYqTEWELohT+rTpc+bIST8jhKLzlZ/0TKeOnVatXGVpYenvF00W9dWLV9hAdUYkwDgwHAQJRseNeHyFmMbQ0D8FROOB/oGXLl4aM2pMuTLl6DpKSf5XrITSjaInsVeZMmRKniw55IkOR4yTJUmG1qOPdBeiy5VydLiYPl+zeo2VpbWfcvqEpgMjxFEVV69cJdbCdCRJnIQQtGiRokRZmDgUZ+rkqbNmzNKVXoLzTBkzyXEB2DFsC1HWmlVrsAYu4jSVxzIHpzzHp4j46Pvw0eFDh2lPmtRps2bJyiPQvPLlyrdu1RplmTF9xuxZs8eMHtO1c1ektGSJUhh2fIHcZA3pzZI5C/EbF4hU8k1LOQFERICIbgymhicNCgxG1JcvW968WXN1yR5A2bNny46CI2ltWrch/GvUsBFaQz/nzZ1XNyomLOS78+bOO3f2PBZARJ6ahUtR630ZLtK7RM66U95oeb8+YsqAG879yTN9YrPvjw8iw4IGNWrYmCbhyGgVhU7AC6CqPGOO7DkQHrwq3f7FwthRsI14t/Pnzmsnj3zSHTxpaEgonb9k8VL6VtfuYW+zZ8uBXa1fr363rt0G9BvAEND5WLNcOXLp+koGvUnjJjNnzDx18pScaRUew+5jjDXumMZg36pUqoIkI/8IGwVdKFWyFK2FNqRLk47BRagwVpiptGnSokc8OJYZaURx+IkrRAwaNmiIIbK0sFLmkUVO/WP0zc3MMbmFChTKmCFjnlx5sHJly5SrUa2GmL49fSZ2eOL4iX1698EL4G25J+YRJZVPhJ6i1P379V+3Zh12lbgUZRcP9Sa2feUR42tXr40aOVrdRBXDXrtm7RXLVlw3u46JVlqoufhPwod3HxzvOi5dsixVCg1dSRA/ISOYKEEifkP/o8U4GkbhU3IYQ+GqPHkRYCzMiuUrzK/fQGY0WSSd3kPAHno/NL5gjDOFMiVLGjmPDPmBbZYpXbZWzVqYvgH9B0LdsUtYkqyZs6rv25DwIoWLDug/AEYkV2UqrzaxvdEYK0gdFxzYdwD50X1nSRiM/COZsLjmTZtzNwofMMUYeaw9Zl9eiSMoXLBw3z59d+8Sr9kImMNCw3Cv0RIJfslfuQxHXKd2HZUhAGqEeNM58FK49KSJk1BwlJQa6WfNRVyWOAkdDh+gD40vXJQLhJFAjWf51fh9EmRI1/59B9q1bYfJlTfBIEyZNAV3ef/e/SehnxxG/wuB/NNpyrzXEKRRbHdgwK8AAyFmkMkEWZGYEmQJEysJMpza7Jmzr1y+gixBLd69Ud59fkkq9YQhQWbArwHWhyBw6+atxAaq3WxQv+F/KkHm4/1w08ZNMMg4CqXAwaP2ui/tvwGZM2aGth46cMjJwSns8+MUI8SWmb4+vhgUWCwkQDcKUgFxz50rj/qSWQXUAYZNrLhw/kIcrZ2tmL8g8wvRj5fyCh2mQkw4buw46JQuEVHBg8NINP/QQcK48cuWLD2o/8CNa9dfMjZxc3YN8AuINmMFX7e4aUkIUbFCJUIL3Vd8egLjS9QNOVu6ZCmPBrd45MujPRPOOwY5hD2cP3dh4ICBKp/DiHfp1GXrlq32tvZ+YmfZ6DeD+wnASdDz9zzu0RhGWTYvJsSLEw8xEAkC7Q5H0aJ0qTK4IkIU34e+0Nx3b0VKlHGHJxE2w5IJtDSXakGoCRmqXLEy4ZluyCdBvATVbtyw8fhx47dv20GQ4+YqIqXY9rhVZpDt2L4Doq+5ixapUqaGRlepXLV2rdpQZ3WLEBWIGRwXQj9vzrxjR45ZWVo/UM48lemSiJj3LeZPVHrwwEHC1NSpIk9iihbx4yWgM5EEzb+jA0o0csTI06dO0wDkOQoVg6W5uriuWb2mUkXN5ujYBBjq9GnTz5w+y5j+FxJkGK7Hvo+xG/Xr1pedEBMIkESsmDCRbrr/cxA7wbfOnzvPUL588VKEB4x1hEjomJmaTZowSTftJZFfK710fopk0UhvmtRpiAzHjBqzedPma1euuTi7+j32Dw0JYwSjESTlN48fPT5y+EjRIkV1p22CZEmTIdIV/q7AoBcpVIQ7a/6gBdJboniJtq3bTp08dd+efebXzRVGqGTHkIUYbJTEm9dv/f38r165tnjh4pYtWmbKmDlK7QAvrDsXTwXdSzhNRIruHzt67Lb9nYc+D8NCxbZl0WblMDsiQbZlm+5G7ASTQ4cMPXL4KIJNm39JggztDgoMOnr4aIN6DWgS5g6B4afk2f8EtWrW3rVzF7YrmtyfstONv18A4oFnofM/93QIUto06XLmyKn7dkcibpx4GTNkbNOqzcwZs7A/NrdslZToM7H/ZnQjjk32fuC9d8/ejh06fm4Ao4AHpyRKkEjNW30OugjHfe7sOW6ra3b4fOP6jQ7tO+jOK5fAC1QoXwGnU6pk6SjzdgFPhDBUrVJ1/LgJ27dtv3r5qjs2PyAo/Hk4khy7WeMyZHjUiFGYd3m3dGnTNWnUZO2adTfMb8g3UsKG/3FAqG7bi2RHcq0Vgq4kSpg4oc4y4W8A7h43dObUGYQKk0Utov91+k9QCM97hw4eGqMs8f7cgwMYnbrSXBeIH06/d68+mzZsumRyydnJBROEsxO0IdohihAszsnRCefeo3vPLJmzfG6jUBCZlY6iKfA9rkfkhg8bLkzx1WuCSAQEioQ1vjUGiXj/VrxYNb9+Y8miJXAG8ZZFZ9UCyJA+A4aaCBwao/mVFuhF2TJle3TvgVJfOH/h7p27j3wfa3jL7yGAv0mCDH3ET+F3sAbyDohuvbr1Fy1cjM76aqc//yadZsCvB5xC2aT/st4JslkzZl2+dBmBfBr29N1bvY6X0ROGBJkBvwYYVkmjxToO7YbxDRv8txJkvj6+u3bsatmilfoS7J9DTZA5OjiGBCuzl6NASVr5PPC5euXqurXrBg8cXLN6zc9TG1FAfFiyeMnWLVsTDfKtc2fO2drYQpqfhD0R1Com0kNtyjZY8BVC0xXLV3bv1iN3rshlaDEhdYqUFf+u0KldhxlTp+/dteeqyWXnu47+j/yeKemMSAuorZRojbDtovHFJYuX9OzRk6Bad9PW2EEsWqVSlRbNW4waOWr92vUEAzzaA+UAAc2jRQeC0uAgcQx/3959IWfyVlCQPr3FC0zo7C+eQaZM3/O670UQEmX3om9G2dJlZ82cZXzeGFcU/lwcrSCVlM63vWW7etXqZk2b6e7NETsQJ/p86JBhK1esNDpmZGVh5eHmEeivkNqYwyS4FEyUsIrBqiUWTkYNz6JFjmw5KlWs1LZN28mTJm/dvNX4grG9ndg/JSRYOQtVHCOASVJKdOPFYyIPRw4fada0eVqddU/fjJIlStF+qKpw6k/Ekfm69cKzXZxdVq1cpe5oRkiJiC5buuzK5asipxbzQW9/ApSuYFD8HvsfO3qsYYNGshP+IQoWKDhyxKhTJ0+5u7mLJLvWZL17+46oDDVp17adPqZJokjhoo0bNh7Qf8CSxUsRDIsbFh7uHgFiv/ZnmqjsMwgZ+/gxNDjU4qbF1ClTGzdqHO1bgc+ROVMWvGSb1m0IU7G9Z06fsbK0ktMxNG8m9ABy/uD+AxRn44aNwubXqKVarZiQNHFS4qLmTZuPGD4CJT1hdOKWtQ2xNPXGoqRIr7ubB1pWXWeBcPJkycePG3/q5GmxnusXzSDDEwUHBp8+ebpJ4yaaZn0n1KhWY+uWbXfvONAziBM9Q12RWcsIcWia70NfAsItm7YMGzpMnRkaO4oVLda0cdPBgwavXbPW6LjRDfObwiuFaCfFRAdqZ4D27d3XqWPn70IqEidMPHL4SMVS3VcGTlOvMsvVdfWqNV27dKOdmqt18Pk7qnRp0hHMNG3SrH+/AYsWLjp65ChijAFU1urGfFqoDoICg65cvjJ0yFD17UjWLFk7deyEw8Vlo32x+45/L3goFyfhEVKn/MLrma8CEeawIcOMjp+AJ8AJER6hmDqjQL34GnT2wrkLK5av6Na1m+6R0zEhVcrUlStW7tih45RJU2QO1NHBSbxuDHsai+gCGoCG3ra7jUXFQrZs0bKA9hDzmBA/bvw8ufLABHr17D1n9pz9+/abmZrBNsVOZ8oTxS5UiLHvw0fm12+gYr179UaR06WN5iWBLjKmz1imdBnaRvSOLb144aLDXQeY/JOwX5P3jwm/SYLs9Utx2DR9K78OEiZIiCBt37qd5jFMGt03wACJr0yQIZkzps8wuXjJ090zLPSJSJB9yY/oD0OCzIBfA3QAN7Zty7YKf1dQT1SMmiD7o0EPQPiI1adPnV6vbr2ypcuWKF5CU5RlRJpSVKeov1QKl4lSvETJ4iUxEyWKlyxWtHjTJk3hJWdPi+PJsBdvdY7TVgFHwbfh1G9Z3zpy+OjsWbPbtmlL0F6kcJF8efPnzJEze7bs2bPlyJE9p1islK9A6VKlCeeGDB6ydMlSsS+DyeU7t8WGqVBbedYbzxKLVWIo4db37903v26+a8cuwrOKFSph+ArkLwjfyp0zNzUqdeXOnzd/0cJFSpcs1bJp87EjR69btebk8RPWNy3dnV39H/mFP32ubKOuua0u5BPhs6FHe/fsXbxo8YhhIxCncmXKFSpQCD6dN3deiBSPQ10UuYSQ56XTWrVsNWnipJUrVh3Yf+Dypct379z1fuBNqAPBEltQx+C8xUS8h767du5u1qSZGorkyJ5j7Jhxx48dd3F2YXAhB5qrfwXev33v7+d/9sxZQrIypcowvgiJlBN+EquULlWmdMnS8jeKyAlBihRCncI13KF7t+7r1q6nh729vF+Gi5PXhJIqh7vTFdeumq5asYprypcrz+BCpBhfBjdHthzIEh3OKOTPl79ggYLUAqOFqy1buow+h0DfvS36PDAgUPM6MWYw0E+fPMUXGh0zmj9vfo/uPSpVqMQ4cmdkKVeOXNmyIrrZlaVSYvVloYKFypYpC1kfN2YcFJ+oDCFENWhwSHAoQ0zj5VNEJsg+k2REjujL7JrZxAkTGzdsrNE7RfVE5yj9qZRSoldLluanpld1OlD+pmiRYvRk+3btFy1YdOnipQde3nDQKPnl0JDQmzduTtLZizp9uvQtmrfctnUbISWRxovwPzMO1AUPiA6KuV0TJ1WsUJE+xADysxRiLBZaKtZP271y3aXmn5+PjrIwkz5fsngpwoYh0oQH2j5H8CxvWm5Yt2Fg/4E1a9TkuxgHLEbuXLmRKGExFEvIbxAzblWjeo0B/QYgfkTmJsYm9nb2D7weBGlDsiijGQnll8TwqM+5s+ewpX1696lauSo3RErz5lGqy5mLwgfqQlMKFyqMX2jTuu2okaOWL12OraZDiDa5g0grvHglDK/ewAgTCVtZWB06eJhgskunLuXKlqMKKkJ3cubIheJQNXqqrDMthlfiMRctXLRn956LxhftbO2IrEKDQ4mZYwmukGciHzoH8yKlFy6LHeY+WFc6StP5Px30FQ7xpvnNaVOnV6tajShXq7aagnoiXTg7IWMxlsiLEbliRYtx8aCBgzAsjEtIkEiQRTso6Cw2x8ba5vDBwzOnz8Q3URG+SUhanryacc+Zm/7Pkzsv9rNm9Zo4XKzE7l176Lfb9rfpOsIGue+bsFTRAW8VFBDEYEEqqlWtjmipuqC2nAaXwuxLJdJokOZP/FJ7pViMyec6teosXrgYj+/j7cPAqd6QNlCRmen1TRs3jRg+om7tuuJxFDHGz6qSrPpZxLhJoyaDBg6WT0SAbXPLRvGzofqLMR2Ib8XhpkmlmV/JzYcOGWp03MjJwUkucPsqjfgX4aHPwxNGJzq071ipYmVcDEyPYdUYw6LFERg+KCOrTymN8FMY3IULFhJb+jzweSHeeEVNkAFG/EnYE2zmjes3oOtDBg2pXq0GgkHPM9D4WcyjFFrFPBbg/riqsaPHrl61GqW4bnZdWXX+CNEVZ1DGLLoAm495xNXyFWR+7WpxtE6VylUEL82TjyqQKEyxqDGn2HsEgoGQd+3cderkqcjhmdNnrK2s73mIlCumGK74RS+J6xfnwPg+srSw3Ld3/8wZMyUThvRSHc8ljT+2kerQVrhEqxatoC5LFi2BCV+5dMXhrgNDw9OJF7e/k+ihCzimBfMWVK746xJkEWIbYnxuq5at5df/+t9f9OT4ceNRZGgYoqVQ+j9TZw2ICYw4uhmlvH/3Ae+JHiG6ULJLJpf1SpAVF0srLhqbKCdyhL54/vL1y7dvsDRvuGHE+3cf+fAOEfsmxmFIkBnwawCP0STIykdNkCnblPz5CTKcB5GGs5PzmVNn1q9bT0QhdtLlf5pdqMXeulEKrJc/fV5mKDtY89cpk6csX7b88KHDFjctxEyTZzHONIH3vH3zlmgHs3Ll8lVib1j7uLHjIEC9e/Xu3q17ty7dunft3rtXn2FDh8M/CM/27dkHl7plfcvN1Q1KQRgvA0LhI9WxioA6R1Mjo0mEEOAX4OTodPrU6ZUrVk2eNHn4sBED+g/o3bN3j249unXt3rNHzwH9B44eOXrmtBlrV605cvCw2VVTR/iHt09oUMhLefxczOCJeF5/P3+ad/PGTXjA1i1bxS7XI0YOHjSYivr16cej9ezRi4oITSHW+Gk6fMP6DadOniJwunv7rqe7p99jv6dhT7HRb16/ffdW2ZdKhc5jwqtcnFzmz1tAYCClN0WyFETXhBOXTC5BQYTvjy47+TOgtJM+h9/cvXOXeHjB/AWQPx5W/pQfZs+aPWuGuuu5KmDir2pBKkRRLqajTp8Se9/KnbPomYgPohZ+vnzxyv+xv52NHZyYyH/SxEmjR41GcuhnZAlB6tdX7Go3eNAQhoOKVixfgZRevXL1jv0dgvYA/0BU/mX4S5GR/BKphdg9f/pc5FvNzPfv24/ijBs7fsjgoZBpRrZrl27duiJPPRjroYOH0gyqo+U0TJyEdfsuegGBhtsRaopoltroriglChjuZ+EwQiKxVStXyR5Tim5fiV6aNXO26NWZs/iNVluFbso+5JeIPWXJ4iU8PtGyXIeryzLpT+LGY0ePt2ndJkN6zXQ8Ik+iZTgldJy4lJb/8eaRccG8EO2cPX0WaaEPp02h32fMnjmbzlTEVTl0Qika6VUsobSf8rMcFAr/XLN6DRHmbXuxdFpMwdMxU4iBmLlgf9vo+ImVK1ZOmTwVKUVc+/Tqg0T16N6DgjgN6DeAUUC2ly5eKk/ItbWxQyqQfJRdz9kraA3P9cDL+4Zy8umypcumThHVDRo4qC8GqmfvXj17ozXURTCD9CItq1euPrj/4JXLVzA4hLJintqTZ7HPxYgWKA5hMPKDzUf1du7YSc/AQYcPHU51vXr0QlX79unLgw8bOmzC+AkEz/iFi8YXb1ndcnEWOWWxevTFq9jNGs3DTXA39XTRXDlz03s7t++0srRSBD76Azd/NBQfJJaM8UQbN2ycN3ce4oFESQnRlM9/o/wyShFfVASSsZs9aw49ed3suqeHZ1iosjljdKpJ7fiUkOAQ3BMRo/BNs+cyvjhcHFOvnr3ooj69+0o7OXH8xGVLlx/Yf9DkoglWwt3NHb/G2Cneltgi5tdRmOLwlzjZ40ePL1qwiGcRRTFTnzyC0IgZqIy8QLVjUneUC2bxdHzAmBsdM7K3FWfOcGddkRPrdrH5tnanTpxaLw52mDNm9BhcLY+g+FlEuXf/fgOkEYaZ4Bl379zNE/EVOkGexKK/GNOxkCWYUuGCmvM3QeVKlefMnnPZRLO+hiYJe/4ngqdzdHDEa2AN6GqNMZw1m6FkHKdMmiIsnhxrfcp0ceCJGNzjJxgO6YaiTZABfg/bQQCwkDCldWvXYXIxWThc/CwDjdFgoJFbTBaMYu2atQcPHMLC3La7fd/zPl98qtqrmOSW3yPUHyLgeK9fvoa38C2oJnZv0cJFE8ZNQK6oDomiRuHcewprDIHkKTau34hhh7+5urgqq7/DiLGFpsSgiVFAq7g+KDDI1dkV5rZ181Z6UlDTfgNEdRj/bj2wZtIgT544GQexf9+BS4IJ2xCqYBXlTmf61PUzgbWxs7WHHakbNfz8BJmcOXvsyLGG9RvKr6dOlaZunXoEKVcuXRHHDtKMmN4nGfAnAvIA1cedPX70+PEjP+XnYz/lwyPfx74PH/l4P4QAY+rhwLB6qK+UnATxPk2QiU0YxTrrokWKErfi7zAXhG9e9x54ez30eeD70OfRo4d+j3z9KQH+QWEhIkH/xQmPUWBIkBnwa6BJkG3dVqF8RXW/noYNGh05fATyRADwXzCa+OYnYU99vH0wBza3bAiZvrpcv2F+3ZwCQb9uyn/Mra2siaK97nvBxfFPsXWj2I/sLS4Q20QDbpjfxO0ZHTcibNu7Z9+e3Xv37tkLQeE3/N70minRIEMj0hl+Ac/FcSHKztB6g4dVIoRQr3te9nb2tJbbnjh+ghHfv3f/7l279+3dB//Df8OhLW9aOt51vOfuiel89uSpeJAvZgSUs5CI3+hS7O/9e14OdxwsblhAeoixeYojh47s37d/7+69BLcH9h04fuz4+XPnleeyhVo98BIHltM8gmcIE3RcGFPYdgzVKq84LhFSZsms2WalYIGCBJZ0GvGkso/yr4kDdfHuzbvQkFBIKhGOpYUl4mFmaqYIjJAcXflRi/w9F2h/Iz7LX9rcsoVE4tXk1mxqagleS0UvX7wMCwm7f+8+kkwwf/7s+ZNGJw8dPESf79u7/8D+A4cOHlZOvDptYmxibmYO2yakpM/DQkVyQTLa2GI/FQy0oOzhhGcwVJ7r8qXL3Ja6ECEGF9FFovgn0nXuzLnLl8R59kKcPDS5DORQhppfrksL5IEaUVWUy9LCCrm6eeOmppjfVHpM0UFtMTOlmClF/kbTvfwGkbO4aXHn9h36Cq4g9EgkGTVN4Z/0DKGLuno0VYpUzZs2X7VyFV+ElT6R00L1bvm/GCLx+vKR7yP6nB5WelL0IT91uzrWYo6kUfhsZWmFQRCGMUicgRuFKiFRGEy6F2tAPxufN0Z6sX5IFAUZlgKMGblofJERv2N/x8Pd49FD8Z5AWIxXwmLoOSiMNYGB32N/7oCyXLtqeu7sOVSDKpBe1RJS19kzZzEyPDsiwcUoi6wOARDt/3oZQMV4dtwrverk6Ixq8zinTp4+cvgotWO7KCgOVZ85fQa1QtRRMcJOAkjazHeJZ1RZ/Rz8yd3NfeOGjbl1Vo+WLVNu7px5WHvMLO3nJl/lOL4j6LTwZ+E8O/7O2tIal4dlU7QYdZZF1Wi1SGMoFVy3aGSMbzE6SA5dhLjG2jmKw30iHK6LkwuGC08njOSBQ3S7RsYOHDp65CjyYHbNjPjW1cXN54EPd5bH4HBzYXVj9kr8nmswccg5TtbKwopnke0UiqCYINl4aZqUf16nLuUa9aE0KsMHCxyxgyN2D9uO2RQ2UwsqQuwZUO8HPnfv3KUn0Rqj4ycQXR6Ex4FI8Cw8IGJ80diEC27b35FGODQ4FHFC6UR36ScLz54+x5KPGT1G3QUyf778fXr12bVjF46JMVUSiH9ssM3oY/kRM7qaUBAHhGSKopVMObjq+H6hmPK1G9xHJpXkqThCtaO1KuKt53uZ3oUmibE2v2F8wRgGJQf6wP6DDDox6qmTpxholAWNgOYx0IjNCzETXzkURZ+h4ZoPgiu+fvUGigXhxG5DJxChY0eOoR3798kaD0DnMFzYKITc2dGZoDooIEh5tRlrJi46cD3fQmsI0RWraI4C8nRUB3VBNzHI0NQTRidgjPQebIrgBaWghXhwmqq/8f9pgAnb2drNn/srE2TYQ9yH7nFDObLn6NK5Cz4Ox4d4IFS/yhcY8PMh5QE3Qfy1bw//Fz+lAUHFJP2AvcOCNm/aPGHchEYNGqnhVby48eRZdtp/xpd7l2fPlqNdm3bTpk6DIW/dsm3vbmK8g/v3UQ4d0JZTJ86Ym91A7IlcYpfYKDAkyAz4NYAYwaS3bd1eMZoEmTh2+nfzNz8EMI+371++eIXeQoJlNv1rC04dduj70NfXx/ex72N/P/+gwGC4lPA9MZN1DbTUB3LAF2HVdL6ToxOR5N3bd+/cvgsZIpYgNoMYUVdwYDCMR0ZoX775ZxCU+vVbQhSYlt8jPwwW1REqUAts/s7tO3BxGBuul2eBfHAZPvgr0gERgutAu1+/fE0joX34YHgMpJzbOjk48URQN+qCqTs6OLm7efh4P+Sa4CDRY3xFRIByzV2sNdIkmorjhzfIA+YSJUzcoH6DJYuXXjh3gR7TBuGR4cSvgRKSia4ICaM/6XNCegQGOYmxaN/nfP57JETOvRKPpssI6S2o9bv3xCfUhSTTq/c97zO49BKDe4extb8txveuGF9PD0/EiWYwvmqfi7vJog+UOJBRRm4D/AOoztPdk7oYVgaXwJLqkGF4s7urO0wdBeHxJVkXqb1v4mSMJqqKnHArukIWP3pFFD+hhg9RQ7X4qoXatUVew39EZyIk3FBwaxViSUIowcCgAYPk+zFQtEjRoYOHEoHwUAwEPabprv8ClB3uZMqbZ9fpya8uSp8H0OeiA6MLpEXy4umzwIAgBuj+PS9XFzdsIBKF3FL47HDXAWPl6XFPGA0/f0ZK6IIyD/Fr01WMoDJR4jnKgq3jnhgNarGzsbO1sb1td5u6+A0ahB5hwbBRIUpOIXLa4zfjw0f09GW4SGcjt2iih5sHdVEjDUB9UFgek6qxw1SNN3n25BnhliY1Futjol9mpmYTxk9Irj3zLm2adB3ad9ixbYelhRV3U96s/MotmdF9GQwH+AUob7D96AStFmt0WRR+rxT1LbcoWmMofS4fuABJCPQXrkokaL70aHSgfItDJB/gH+jzwMfN1Y2ep9sJRFFwYSSFY3JXHK4f9lZ0vlibpveQK++9EBUEhobRQmmOsDzyKVQrJE0TPx/68H9xgaosmsJXfB9j7lBALBW3FQKgAzpTOHTF1XI9AuPi7KKx+ajMnbs8i4uzK0YYF0wt2GpphFHqL/aVLqgaRdi2ZVvL5i21hw/8Vad2HUJ34wvG9CHMRONwf51o/Wjgc+m6sNCwoIAgYQ/FUH42ZHqWh4i1H/fBiCGKGpMYq4gx9Gjui/CXeEB0B/nElePQGWVpG/G2DIRir4R5RMXErLTXb/UhVJ+DrzCgT5+gJgFIDrfFKFGLwkuFNUbMxPvae16ILkabpyD81mTivh5IslBMxTKgMlQnns7BUZpEiqQTWEUenAvQd5wFNQql+Erj/3OAkcGVzJs77xcmyJCuG+Y3xoweU7CA5tjZksVLyp1AMQtI8hde4RvwBwGNxvXAY4cOGdqoYaNaNWvXrlWnds3amPG6/I//8s9a/FKU6lWrFytaLEvmLHIdJYj7V9w4f8VRE2Rx48SVO9vANHLmyFmqZCnkvEb1mrVrcat6n5Ra9Vq1bDtqxOhTJ08TyWKU9Bc5Q4LMgF+EDx/h5du3ba9YITJB1ug/NoNMA5HWgXy8ffXy1beUF6/w06g9hX++efWGWylBlN49+EGuuIQfvILlE8PASyAKODA8HD+fPnkW/owKXipnF+o90yda8L0PIpmCa+SGuFiixLDQJxCO0BCqpOJneGUYm3yWb8kFcL1S+C6ECWbP3bineKIQ8UQUAg9qVDjcCzqQYFUyudg5ogYfPnKfC+eNhw0dBueQoovjHzp46L69+6wsrLwfiI2l6Ci97vajoXQ4rBEGjGAwgjwsRDCmAisVJYbfMyJCtD5nhLLP+fFB5HyFIIW/QGYQJIY1JCiEDldK5Cgz9NyQPqdt3xjwK/llNR/KbYnTqCUokP+L8eWfSC/GRA3JvjaRERXKhmuICnIlCp2p9AlFaOKnBfGWJcrv1cJ3UTpdPaVvve57rVm9RjlXQVCBFMlSNGvSbNHCRVcuX5H7svMt0f//JdBF9Ey0nfy1RYhBzDs3CzOIJVDFCVsRLMyFlCWt6GIfnzOsXCks4TdLlMzmi6jsFbrAnakF0aWgL8LwhoQJ2yvCV0y8SE+8/yeGVxfcQwSEmEeNEdYa/CeK4oTyGa3BiEklFSqvjzf58JGoe8/uPa1btpYH7yRNkhTuO3P6zLNnzjo7OQcGBPIgdJrm+l8FZa6xYuKE5ecBv6UoX8QIMC7CDmgSl1/qJXr+g3ydIB2uWE3GKMuhJ87nJ0PPcEiHK2Tsa5M+yuBipmiPFGaNFcLN6TRe0gZ6gJ+YR3kB//yk8JsXwgtzKyxnNLKnTPahLsXmv0YvFCkKQ3R5IqE1IaFPQp88CcP7any6Roy/UmvwF9fNro8fN6FwIc22jGnTpO3dq/eO7TvsbOx8H/pyf8y7XlL6LwcdLkWODpcjG6XIUftiQXQZViEkb96KnLX+UNSHiuhzRpbhFnZSQxSfQiD5EzImhuMf+iktMeZukFtuLuoKFtZYES1RnVATwXu11f3D8afGd2LFJRqhCDPsRcMosMkYRhqASaT3aJWmut9V4hgF21v/OEH25Jm9nf03J8ge+jw8dvRY44aN5eESiRMlrl2rNk26ekWeNfTr11gY8NOAkXG86zhzxiz9z0+TiBsnLiXO/+LE+SsOP//6318UPsdTji/XXPQFxMmbJ/+c2XPNTM1QZ/2lzpAgM+AXQZsgq1ShUsL4CaUUN2rYSGcPMs2F/wkopBbq821FMFSxJFCET6Lfvs1tK3QEfsDdsGWwBIVMQ0/EVlxqXerF/wh8XXBrUR33hNxA+IjWBBEXOzUKws2HaBj510KpRekWJUkkOkpMdJKPpqHUBCCy0/QD7bzneX/D+g3169aXcpsxfcYe3XqsX7ve9JopUo0J5ubizr8naFfsJbprRFxHN+rJQbXyrMiSYPNIEUWJJwUpF0Wkq5TYT5Zvg2wbAaEiM1q6ry1KpbIiMRzfXIsulOrUoiNdX9ZfoaSKwPOBnuHDJ1ZO2ZTQ1saub59+uH/kKk3qNLVr1p4+bTos8+7tu498xZnofEtz/X8N9LzS1VGK7NvYi+71mrvFBEXOFSukFVQhVEKuECQpYxSGWyNO/0SopPQqLwzEbVENpSK1yPwLYkar/lFF0UJbtbT2UjFl9kTJiQiFony5x7QgbkRKJ06YlDNHTqQ3RfIUVatUmzBuwt49e60sxfQxwi2q+/4P8g0Qzk7jDnjALxXNSEVT+JMUGP0tjPwiP9RxV4Yel/FKpKuUHC4mSzEU4v7fBm3zZNukmdL8UudPyl+Vxmvt2OdFXBw75AXaLuVxhOiKlwfiLYJq8L8hLyZBGx4/erxn9x71QNvMmbK0btV6xfIVJsYmHu6eIcoKQaGS/xFoO1wdxMii5F6lYMdepMTK8m2DIu+jDLcoyhBLbeKv2kb+c3AfpWCLpElErqRo8RspupHW+LuA9nNPpRs1wqzYYVn45bdr5U/Ey3CRIJs7Z17FCt+eICMQs7f9xgQZXed413HlipVZs2hWyWXLmq1Tx06bNm62vGnp+9AXfyEMggH/DSAtynTCsXnz5JXykDRJ0sSJElOSJOZTUv4pfiolSaIkYtMxZU2lJh3G/5RJZJoiMmXip/yTvE+ihPzku8l0S9IkyeP8L16KZCn79e1/9MjRh94P8bB6qrAhQWbAL0KENkFW8ZME2eFDR1ycXcLkZrff0csaoCcULkIRREebBRAUSv7pBzEDeWf15to2/DhIGvdtVUAazM3Mx48dX7BAIYQ2dcrUdevUXTB/welTp+/ecXjk++jZZ+cS/qchZEnpapU3K0UI1U/oIlndj8C33Vl+K7rvvn391vuB98EDB+vXa4Bc4f7LlC4zbOiwXTt33bh+w+u+F1bxzetfdOyDAeqQRTd2Pwo/ui7l/mglcaY0v1qDr61a79oJHYl5jI4btWndBs6KABfIX7B/v/5bN2+9euWqm6tbUGCQiIikK/lN8DUP+GV8w62ifEWJzH+SYfzRkH0ryz/Di/AXt+1vz5wxs0SxEshViuQp69WtN2vmLITN3s7e75Efode7X7pu14CfB0WiFP6moyY/dOiVGj/58JuDRn4QL9tsbtkoCbKKaA1InDCxvgky5UnxAlAOWxvb2bNmx5AgC4/RnkeIhMh1s+tTJk1JljSZ/G6J4iXgM0cOHXFydAoOCobw/Dv604B/DOQkJCgEsRnQf4CaMFUSZElEgixRkiiFXyaInyBeXJEUEwmy/8WRSyz5Jx+Uz8o/+X2cuAniJRAJsoRKgiwh3+W2mpIkUbLkyVL9739xEsRP1KVT17179t33FDv/6ukvDAkyA34NUBh3N3dliWVkgqxh/YZy+0Yfbx9MM3L84rmywafuhkcG/GQozlKD//wovHv77qGP7+5de9q0apMyeUqEtmTxkmNGjzl08JCVpZXYAjw4xPBmTC8YeuhTPAl9cvPGzTGjx8JBkatMGTO1ad121crVl0wuOTs5B/gHvHr5KjKJbIAB3xH/WBmfhD2xtrKeOmVqsaLiXPZ4ceLVqV1nyaIlxheMHR0c/R77aXYfM8CArwTCc/rU6fbt2mdInxHRKlem3MjhI/fv229x08Lrnhdm8/XvsN2nAQb8QmjXvWJmnz19Rujk98jP9JrZ9GnT/y5XHq0BiROpCTKv8GfhYgpCFCjT9F6Ev+QOqBUhmLeXt+lV0ymTNVYdFNZJkHGTmBJk6COMxei4UZ/efWR8Fz9e/Dq1686eNdvE2MTngQ/fNejsfwcIm7+f//FjRt27dU+fLr2UpfjxEsSLGz9e3HhiA/44FLGUUi2aXJj4oDtf7JNrKDANna/zM75uiRc3YeJESakrXpz4Hdp33LVjl7ube3BgsODSenAeQ4LMgF8DrLmrs6tyimWFBMp+JWhL7Vq158yeA/U5f+7CtavXTK+Z2tvZez/w1mR8DTDgV4M48JbVLShCkcJiM5TMGTO3ad1m9arVVy9fdXVxhRO8CH9hmD5mwNfi/bv3nu6e2MN8efIJ7vC//8Frx4wec+TQEeTtwf0HYfLwSgMM+P1AmETMs3/vfnUz5lIlSg0dMnTf3v22NrYPvR9iNt+8/o1XnRvwuwKZuXvHYcnipXLeAcFSyxatli9bfuXyFWcnZ4Iu4nkxF8YgWQb8hwHnDAoIcnJ0kkeUEjpdOHdh04ZNfXr3lUwVyATZCaMT9+/df/70+ecJstevXvs/9re3u216zeyi8UWTiyZGx43Wr13fq2cv9VTiwoUKjxsz7vy58yJB9jw8pjfBcBUPd4+VK1ZWr1pdfjFLpix9+/SF4Vgrh7y/fKFXhsKAPwMf3n9AtI4dPdatS7d0adJJkZBzxJSslkxvfVYi11SKzzHlyHS+/lmCLE6CBPHEPmXx4sRv26bdls1bHR2cgpUj1PRhI4YEmQG/Bu/evnd1cd26ZevfZf+OH1cc1wry5M7ToF6DLp269OvTb/CgIcOHDpepB+8HPi/CX2i+aYABvwiY1Ic+D0+dPKW+za5Vs9bUyVOPHzOSW0Q9+3325jfgX4QPYhnRLatbc+fMlcf/5c6Vp0f3HuvWrjO7ZgbRhPsSBxreuBrwe+LNqzd37zgsX7Y8ZQoxqTZL5ixdOndduWLVJZPLHm4eQYFBL18oWQwDDPgqfPj4NOzplctXxo4ZmzRx0oQJEpYqWXrCuAmHDh62t7V/4OUdFhpmWFxpwH8dEYI/2NrYbd+2ffy4CcOGDhsyeMiA/gPatW1XtkxZaZNBkkRJhg8bobPEMiqdCAkOsblls27NurFjxvXp3Yc79OzRs1WLVqVKlkqeLIW8ScH8BUeNGHXu7DlPD8/nT2PYETVCvEi+YX5z0MDBqVOJ7fmTJE5SoXyFWTNnnT51mriPigxv+/5TkAmyE8dP9OrZO3OmzFKW4scT08fiyjli0RZl4pi615hmPzLlcwyFW8XTLXHjJEiUUMwgixsnfptWbTdv3Oxw1zEsJEy8rtNjlY8hQWbArwEK4+7msWP7zooVKsJ7pMIg38SHaVKlSZ8ufaaMmbJnzd6xQ0eucbjjABMy0CADfi3EtEcX1927drds0TJ3rjzI54jhI/bs2mNpYenzwOfpk6diDZFBSg34SuCqn4Q+uXb12rSp03Jkz1kgf4G2rdsuXbL07Jlz8uy/F89fGOJAA35bhD8PxwbOnzc/d87cOXPkbFC/wYL5C4jE7tjfeeT7+NnTZ4RDhuljBnwt3r977/vQ96TRyRHDRmTPloNof/Cgwdu3bje7ZubpcS/AP/BF+EuxX54BBvyXESE2Czt18vTQIUNLlSwNL82cKXOWTFkIo3SP+UuaOOnIESNPnzrj/cDn+bPnYuMaXUR89PXxPXP6TK+evUoWL5kmddpMGTJlTJ8xTeo0aoAGICcjh488f/a8p4cnhj3aBNmbV2+8H3gfPni4Xt168ltZM2ft0L7jtq3bLG5aUMtzw/rK/xjw/gF+AWdPnx00cBAkQUqFTHjJzz8McRLGT8x/xAyy1u22bN7i5Oj0NIxITTke+kswJMgM+DVAOr29vI8fO968WYu0adIiwX/9T+zsGwU1qtVYs3qNtZU1UaLBpBrwKxEhTs52cnQ+duTYrJmzR48aPXH8xN07d5teMxXL2sXJla8NKQwDvgEyQQZ33LRh08gRo8aPHb982XKoqr3d7UcPH4U/D9e4c4N0GfBbAhG1s7XbsX0n0othXLRw0ckTJ21u2eDiw0LF4kqD6BrwDXj/9j2R9oXzF5YtXT50yLCpU6Zt27Ltssllghx/P3+ZeDWIlgH/dUR8DA0JPXrkaM/uPbNnzS5iKS3i/hU3SeKk8eLG43PypMmhrBfOXdAkyD6dQQMJQdeMjht1bN9R3UZdIlmSZCmSpUiUQOTaihUtNmXyFGVZj/eL5y+iTU+HhYYRss2dPbdUyVLyDkWLFJ0wfsK5M+fk9LHX4sxZQzT3X0LER0IkTPeokaPVfRh+JuLFTdC5U5ddO3e5ubg9fSIchyFBZsDvi4gPEUGBQZYWlpjRDu06VKtarX7d+rVq1q5SuUrlipUrV6pcpVIVyuBBg/ft2Wdvax/gH2DY4teAXwsiPV8fX3z/mVNnjhw+cvzYcXMzcxdnF7/H/tFvemqAAfpALJF46eHmceXSFeQKpguLtbMV2y8+CRNbj4nZN4Y40IDfFa9fvfG672VmaoboIsDnzp6zs7UTJ5YEhbx88coQCxnwbSBohyXetr+NRB0+dPjkiZOmV00dHRwf+z4Ofx4uJtUaJMsAAyI+Pnv67NrVawvmL2jfrr0aRvGzTq06jRo2rl+vQe1atVu2aLlu7Trz6zceP3r86sVnB/5EfITHml4zJSLr2KEj361QviKBWM0aNRs1aNS4UeMG9RvWqF6jf9/+/2/vXn6iuuIAjqdpulHQuKurtsumjTb9Axo3bbf1T2jTReO+7U5eTU2jgjOD0NaqNbVoH4laNGksMGhhGF5SHBAYAXEeMO/Xnffj2t+ZAQQVHQUFM99PftxMJnPvLDjzO+f87r3nnvjhxOCAWkdM0v7ivqvJZO1y+2X50tJ6Ebt27tr/yf7WllaZ7jkdTi0Wz7FKb+XRopqMCg5/d3jfB/tKRasX5tVXXnvn7Xe/+vLrixcuFZ++qp4XRIEMW1jxehyXw9XZ0XX2l7PNpmbJ3SaDydBkMBqMJqOp2dgsb55rOyd5v/SQ+Mwa6Rh4MfSCHtcS0v3PzszeGrtlG7VJtvXMq1PZXCWB9cjn8qWHRk1OTErTmpqYkqGkvMPS5tj6ZKwZjUSdDpf01NJ6pQ27nK5QMCTTMJYew3qkkimfxzczPWuftE9N2qXDVU9EjWlkRWBZOpWetk93/NN55uczLcdbZQJlPGY0HDMYjhnVfMpgkunV6ZOnr/59dby4SPkjL72UHG6fsndc7Wg729ZyvKXpaFNTY5PsXjqUbFtbvj9/7jdzl1l+iaFAaK3cvlBcjn3vnr07qnfufn33Rx9+XHOw5kr7FekXAr7inRbUtSuPDGXvzt394/c/D3xx4M033qquqpaQFiLbqm1VVds3JKqrtu9YFdtUvLfn/c8+/fzEjz/1XO9x3nXKJC6nCmRP7kEokGHT6AUZ/aRdTvfE+MTw4PBA/2C/td/aJ3/9fRarpdciL0b/G5W8Lwk3Eo6W+eAJ4HnRVSFDGq2MJPw+v2fBGwwEtagmLZOrJLAeel7PprOJeEKaluS6WDSWSqTKvA4c2FzSL8uIM5lIRcNRmTgFAyEtplHbxfotJcakpERpXZIe1YKMWW4mAO6TcUIsqrkcrvGx8QHrQJ+lb3VYZWI1NDh02357YX6hdIuZSs6r03Mum4+EI3N35sZt40MDQ5Yei4Tsrra9fTIdGx4aHrONzUzPeD3eZDy51ilh+Z3abtpOnTzVeKTx6JGjrS2tFy9ckn3dTjerj1Us+b/LwODmqK39r3aT0XTo20MN9Q31dfW1NbU1B2vqauvqaus3Ihrqar9ZEQ21B+ubGg1tv57v+bfXPmn3eX3JRFJ6kHIGJxTIsKnUdWSpSCgirVYSt8vpdjrkT20dcw6X0yWJOBwMx7WEjLbVopKMt7HpdLU2SjqVljwr2zIv1gUep6AGEPlcXkauEqr/zuucaMXLQXrmvL7cgKWz5vY3bBiZyOd1SYnS1UpI58vC/MAD5AeSiCdCwfDCvGfePf9weBY84VAkUZxMrVUdkASuxeLBQNAz75H5l8zFZEd5oV673HJkv88vMzItqm5SW9znIalESr5ramJq5MbIgHWg39pvu2mbuzMXCobU5WNM4ipVOpmW9jMzPTMyPGLptVzrvtZt7jZ3mrs6u8xd5hXRLe8/U1zr7pK4vhhmFeau67091pEbo7Mzd7web+l2HzVlK6MdUiDDZpNpYF6XQU8mlZH8rsU02ca1eOmFvKmu42U8hC1IMiydPTaKdNkFXaaCavBKxsNLRNKgtNjlZEhixIYrNTCaFvBIpZnU0imKh0PeL+QKT7xwRj6Qy+TSqXQqKX+ZbDqbTqqTwYl4cumUsBz/cU8lzmVz8kn5Ri0WD/iDfq8/4A9EQhE5gkz0Fj+ECqQvtg1pDF6Pz+10u5wup0PCuTJcDlWQfaaQA84vh9u54HapWHB7fV5/JBy9X1IorxOhQIatpHiqULVd2awccAMAAAAA1iJTJ5lALUdxSvV086mVH1bTsaVTd09zKPl8Jp3NZnKZVCadSqvCBCqbNAlpBsUFGdRd80uhlV5oUW0xYs8U0XgxEvcjlojHkgktlUykpSnKVy824/JQIAMAAAAAABtHL9bpgCWFXKF4YWNxRRF177wqpMqL9UW+GIVVkS3ks3o+p+v5cgu7yyiQAQAAAAAA4Dl68JrE5x1PjwIZAAAAAAAAKhoFMgAAAAAAAFQ0CmQAAAAAAACoaBTIAAAAAAAAUNEokAEAAAAAAKCiUSADAAAAAABARaNABgAAAAAAgIpGgQwAAAAAAAAVjQIZAAAAAAAAKhoFMgAAAAAAAFSwe/f+B5Cqa0pPrsD6AAAAAElFTkSuQmCC)"
      ],
      "metadata": {
        "id": "fBmcbNnoRb50"
      }
    },
    {
      "cell_type": "markdown",
      "source": [
        "**5.3.1. Particiones de arrays con una sola dimension**"
      ],
      "metadata": {
        "id": "IIGiKZFVUDn1"
      }
    },
    {
      "cell_type": "code",
      "source": [
        "contador"
      ],
      "metadata": {
        "colab": {
          "base_uri": "https://localhost:8080/"
        },
        "id": "rzta20QlSGcb",
        "outputId": "3a6e503d-a09e-4572-cf34-f25c6d880214"
      },
      "execution_count": 209,
      "outputs": [
        {
          "output_type": "execute_result",
          "data": {
            "text/plain": [
              "array([0, 1, 2, 3, 4, 5, 6, 7, 8, 9])"
            ]
          },
          "metadata": {},
          "execution_count": 209
        }
      ]
    },
    {
      "cell_type": "code",
      "source": [
        "# contador[i:j:k]\n",
        "# contador[linea:columna:intervalo]\n",
        "contador[1:4:]"
      ],
      "metadata": {
        "colab": {
          "base_uri": "https://localhost:8080/"
        },
        "id": "7J2_MD8CR_mP",
        "outputId": "a409ca37-9b72-4a6e-e27b-68b983e26016"
      },
      "execution_count": 210,
      "outputs": [
        {
          "output_type": "execute_result",
          "data": {
            "text/plain": [
              "array([1, 2, 3])"
            ]
          },
          "metadata": {},
          "execution_count": 210
        }
      ]
    },
    {
      "cell_type": "code",
      "source": [
        "# copntador[i:j:k]\n",
        "contador[1:8:2]"
      ],
      "metadata": {
        "colab": {
          "base_uri": "https://localhost:8080/"
        },
        "id": "AHVYDzcASR5P",
        "outputId": "ec1f8976-30c4-40e1-fc1b-1d5fc8d03f50"
      },
      "execution_count": 211,
      "outputs": [
        {
          "output_type": "execute_result",
          "data": {
            "text/plain": [
              "array([1, 3, 5, 7])"
            ]
          },
          "metadata": {},
          "execution_count": 211
        }
      ]
    },
    {
      "cell_type": "code",
      "source": [
        "# copntador[i:j:k]\n",
        "contador[::2]"
      ],
      "metadata": {
        "colab": {
          "base_uri": "https://localhost:8080/"
        },
        "id": "2x-Tw0IwSd9b",
        "outputId": "420d1857-3984-45e9-e2d3-bf61e1e676d0"
      },
      "execution_count": 212,
      "outputs": [
        {
          "output_type": "execute_result",
          "data": {
            "text/plain": [
              "array([0, 2, 4, 6, 8])"
            ]
          },
          "metadata": {},
          "execution_count": 212
        }
      ]
    },
    {
      "cell_type": "code",
      "source": [
        "# copntador[i:j:k]\n",
        "contador[1::2]"
      ],
      "metadata": {
        "colab": {
          "base_uri": "https://localhost:8080/"
        },
        "id": "3BZJdc3_SqPd",
        "outputId": "36237c03-b218-470a-d615-d10952d51c6e"
      },
      "execution_count": 213,
      "outputs": [
        {
          "output_type": "execute_result",
          "data": {
            "text/plain": [
              "array([1, 3, 5, 7, 9])"
            ]
          },
          "metadata": {},
          "execution_count": 213
        }
      ]
    },
    {
      "cell_type": "markdown",
      "source": [
        "**5.3.2. Particiones de arrays mas de una dimension**"
      ],
      "metadata": {
        "id": "LGLvMFg-URhJ"
      }
    },
    {
      "cell_type": "code",
      "source": [
        "datos"
      ],
      "metadata": {
        "colab": {
          "base_uri": "https://localhost:8080/"
        },
        "id": "BvbVAM-5RIL7",
        "outputId": "9b6ff8ac-b571-4bfd-a606-221bbac8f681"
      },
      "execution_count": 214,
      "outputs": [
        {
          "output_type": "execute_result",
          "data": {
            "text/plain": [
              "array([[44410.,  5712., 37123.,     0., 25757.],\n",
              "       [ 2003.,  1991.,  1990.,  2019.,  2006.]])"
            ]
          },
          "metadata": {},
          "execution_count": 214
        }
      ]
    },
    {
      "cell_type": "code",
      "source": [
        "# datos[i:j:k , i:j:k]\n",
        "#datos[lineas:columnas]\n",
        "datos[::,1:3:]"
      ],
      "metadata": {
        "colab": {
          "base_uri": "https://localhost:8080/"
        },
        "id": "rW4mZIBXRkwq",
        "outputId": "f7bf6b95-ab2f-4c55-f1c1-18521c582da6"
      },
      "execution_count": 215,
      "outputs": [
        {
          "output_type": "execute_result",
          "data": {
            "text/plain": [
              "array([[ 5712., 37123.],\n",
              "       [ 1991.,  1990.]])"
            ]
          },
          "metadata": {},
          "execution_count": 215
        }
      ]
    },
    {
      "cell_type": "code",
      "source": [
        "datos[::,1:3:][0]"
      ],
      "metadata": {
        "colab": {
          "base_uri": "https://localhost:8080/"
        },
        "id": "UAYGDBc0TUrJ",
        "outputId": "78c596db-bd5c-4276-e959-4aaf7e003a36"
      },
      "execution_count": 216,
      "outputs": [
        {
          "output_type": "execute_result",
          "data": {
            "text/plain": [
              "array([ 5712., 37123.])"
            ]
          },
          "metadata": {},
          "execution_count": 216
        }
      ]
    },
    {
      "cell_type": "code",
      "source": [
        "datos[::,1:3:][1]"
      ],
      "metadata": {
        "colab": {
          "base_uri": "https://localhost:8080/"
        },
        "id": "-0DQQTytTdze",
        "outputId": "de90f85f-1a49-4292-b4aa-31796fe6f902"
      },
      "execution_count": 217,
      "outputs": [
        {
          "output_type": "execute_result",
          "data": {
            "text/plain": [
              "array([1991., 1990.])"
            ]
          },
          "metadata": {},
          "execution_count": 217
        }
      ]
    },
    {
      "cell_type": "code",
      "source": [
        "km_media = datos[::,1:3:][0] / (2023 - datos[::,1:3:][1])\n",
        "km_media"
      ],
      "metadata": {
        "colab": {
          "base_uri": "https://localhost:8080/"
        },
        "id": "tY5lreXJThLI",
        "outputId": "95f85966-ccbb-4b9a-f566-4ec073f45e6b"
      },
      "execution_count": 218,
      "outputs": [
        {
          "output_type": "execute_result",
          "data": {
            "text/plain": [
              "array([ 178.5       , 1124.93939394])"
            ]
          },
          "metadata": {},
          "execution_count": 218
        }
      ]
    },
    {
      "cell_type": "markdown",
      "source": [
        "**5.4. Selección condicional:** Puedes usar una expresión booleana para seleccionar elementos que cumplan con una condición específica."
      ],
      "metadata": {
        "id": "Dabd8huTUW70"
      }
    },
    {
      "cell_type": "markdown",
      "source": [
        "**Observacion:** Selcciona un grupo de lineas y columnas siguiendo las etiquetas o un array booleano."
      ],
      "metadata": {
        "id": "2HBoF_IhUdZQ"
      }
    },
    {
      "cell_type": "markdown",
      "source": [
        "**5.4.1. Una dimension**"
      ],
      "metadata": {
        "id": "L-J5SJhYU9cb"
      }
    },
    {
      "cell_type": "code",
      "source": [
        "contador = np.arange(10)\n",
        "contador"
      ],
      "metadata": {
        "colab": {
          "base_uri": "https://localhost:8080/"
        },
        "id": "OCIHmodjUnqj",
        "outputId": "7b1e29dd-edfd-48e8-91b4-4b267bc77510"
      },
      "execution_count": 219,
      "outputs": [
        {
          "output_type": "execute_result",
          "data": {
            "text/plain": [
              "array([0, 1, 2, 3, 4, 5, 6, 7, 8, 9])"
            ]
          },
          "metadata": {},
          "execution_count": 219
        }
      ]
    },
    {
      "cell_type": "code",
      "source": [
        "contador > 5"
      ],
      "metadata": {
        "colab": {
          "base_uri": "https://localhost:8080/"
        },
        "id": "VbxBrX_MUucn",
        "outputId": "484efbaa-f084-4094-dcba-c2ac12474bf6"
      },
      "execution_count": 220,
      "outputs": [
        {
          "output_type": "execute_result",
          "data": {
            "text/plain": [
              "array([False, False, False, False, False, False,  True,  True,  True,\n",
              "        True])"
            ]
          },
          "metadata": {},
          "execution_count": 220
        }
      ]
    },
    {
      "cell_type": "code",
      "source": [
        "contador [contador > 5]"
      ],
      "metadata": {
        "colab": {
          "base_uri": "https://localhost:8080/"
        },
        "id": "SY9vWJw5UuUA",
        "outputId": "38f6e85a-1371-4121-844b-a15737816994"
      },
      "execution_count": 221,
      "outputs": [
        {
          "output_type": "execute_result",
          "data": {
            "text/plain": [
              "array([6, 7, 8, 9])"
            ]
          },
          "metadata": {},
          "execution_count": 221
        }
      ]
    },
    {
      "cell_type": "markdown",
      "source": [
        "**5.4.2. Mas dimensiones**"
      ],
      "metadata": {
        "id": "ZGB0qlJkVCbR"
      }
    },
    {
      "cell_type": "code",
      "source": [
        "datos"
      ],
      "metadata": {
        "colab": {
          "base_uri": "https://localhost:8080/"
        },
        "id": "gNhLODdKUuLu",
        "outputId": "df5ac056-419a-477e-c0a4-3b5029b0860d"
      },
      "execution_count": 222,
      "outputs": [
        {
          "output_type": "execute_result",
          "data": {
            "text/plain": [
              "array([[44410.,  5712., 37123.,     0., 25757.],\n",
              "       [ 2003.,  1991.,  1990.,  2019.,  2006.]])"
            ]
          },
          "metadata": {},
          "execution_count": 222
        }
      ]
    },
    {
      "cell_type": "code",
      "source": [
        "datos[1] > 2000"
      ],
      "metadata": {
        "colab": {
          "base_uri": "https://localhost:8080/"
        },
        "id": "aGN24l1MUuC3",
        "outputId": "f68977f9-9854-4b2f-a711-ead8064b0581"
      },
      "execution_count": 223,
      "outputs": [
        {
          "output_type": "execute_result",
          "data": {
            "text/plain": [
              "array([ True, False, False,  True,  True])"
            ]
          },
          "metadata": {},
          "execution_count": 223
        }
      ]
    },
    {
      "cell_type": "code",
      "source": [
        "datos[:: , datos[1] > 2000 ]"
      ],
      "metadata": {
        "colab": {
          "base_uri": "https://localhost:8080/"
        },
        "id": "9qfR55oRUt6P",
        "outputId": "a46b3f2b-a0d8-4ac2-9b96-a7ee7454afe4"
      },
      "execution_count": 224,
      "outputs": [
        {
          "output_type": "execute_result",
          "data": {
            "text/plain": [
              "array([[44410.,     0., 25757.],\n",
              "       [ 2003.,  2019.,  2006.]])"
            ]
          },
          "metadata": {},
          "execution_count": 224
        }
      ]
    },
    {
      "cell_type": "markdown",
      "source": [
        "**5.5. Selección con índices de otro arreglo:** Puedes usar otro arreglo de índices para seleccionar elementos de un arreglo."
      ],
      "metadata": {
        "id": "8FaR7YszaD2Y"
      }
    },
    {
      "cell_type": "code",
      "source": [
        "arreglo = np.array([1, 2, 3, 4, 5])\n",
        "indices = np.array([0, 2, 4])\n",
        "\n",
        "# Seleccionar elementos utilizando los índices del arreglo 'indices'\n",
        "seleccion = arreglo[indices]  # [1, 3, 5]"
      ],
      "metadata": {
        "id": "G5XONmOEaEa9"
      },
      "execution_count": 225,
      "outputs": []
    },
    {
      "cell_type": "code",
      "source": [
        "seleccion"
      ],
      "metadata": {
        "colab": {
          "base_uri": "https://localhost:8080/"
        },
        "id": "1azvjBLTaN7i",
        "outputId": "81a026b3-39cd-48f0-c5a8-8b698077fca1"
      },
      "execution_count": 226,
      "outputs": [
        {
          "output_type": "execute_result",
          "data": {
            "text/plain": [
              "array([1, 3, 5])"
            ]
          },
          "metadata": {},
          "execution_count": 226
        }
      ]
    },
    {
      "cell_type": "markdown",
      "source": [
        "# **6. Estadistica con Arrays**"
      ],
      "metadata": {
        "id": "xIZjOegx7WLc"
      }
    },
    {
      "cell_type": "markdown",
      "source": [
        "Las funciones estadísticas en Numpy son para realizar cálculos en arreglos. Estas funciones facilitan el análisis de datos y el cálculo de estadísticas descriptivas. Aquí tienes algunos ejemplos de operaciones estadísticas comunes que puedes realizar con NumPy:"
      ],
      "metadata": {
        "id": "dXo8QkFYadRX"
      }
    },
    {
      "cell_type": "markdown",
      "source": [
        "Pero antes de eso vamos a cargar 3 archivos con datos externos para realizar los ejemplos"
      ],
      "metadata": {
        "id": "oSRo3B-aleOj"
      }
    },
    {
      "cell_type": "code",
      "source": [
        "años = np.loadtxt(fname='carros-años.txt')\n",
        "km = np.loadtxt(fname='carros-km.txt')\n",
        "valor = np.loadtxt(fname='carros-valor.txt')"
      ],
      "metadata": {
        "id": "UXbmTvHYUtwm"
      },
      "execution_count": 227,
      "outputs": []
    },
    {
      "cell_type": "code",
      "source": [
        "años"
      ],
      "metadata": {
        "colab": {
          "base_uri": "https://localhost:8080/"
        },
        "id": "aLJ7bxfe70Zw",
        "outputId": "7a7b837c-057c-43cd-ead6-19e979bdc4b8"
      },
      "execution_count": 228,
      "outputs": [
        {
          "output_type": "execute_result",
          "data": {
            "text/plain": [
              "array([2003., 1991., 1990., 2020., 2006., 2012., 2020., 2009., 2010.,\n",
              "       2011., 2002., 2007., 2001., 2020., 2009., 2016., 2012., 2020.,\n",
              "       2016., 2017., 2002., 2020., 1994., 1991., 2020., 2020., 2016.,\n",
              "       2020., 2002., 1991., 1997., 1995., 2018., 1991., 2014., 1995.,\n",
              "       2020., 2020., 2009., 2020., 2013., 2003., 2020., 2002., 2020.,\n",
              "       2002., 2004., 2001., 2020., 2003., 2009., 2006., 2000., 2006.,\n",
              "       2010., 1994., 2007., 2020., 2020., 2020., 2020., 2020., 2017.,\n",
              "       2011., 2001., 1996., 2020., 1994., 2020., 2007., 1994., 2007.,\n",
              "       1997., 2006., 2013., 1994., 2008., 2008., 2020., 2020., 1999.,\n",
              "       2007., 1993., 1995., 2020., 2020., 2016., 2011., 2020., 2002.,\n",
              "       2013., 2017., 2016., 2008., 2018., 2003., 2003., 2004., 2010.,\n",
              "       2020., 2006., 2001., 2020., 2015., 2018., 2017., 1992., 2001.,\n",
              "       1993., 1995., 2003., 2014., 2008., 2013., 2020., 2017., 2020.,\n",
              "       2020., 2006., 2015., 2007., 2005., 2017., 1998., 2020., 1999.,\n",
              "       2020., 2009., 2003., 1994., 2020., 1994., 2020., 2015., 1996.,\n",
              "       1997., 1993., 2020., 1992., 1995., 2020., 1990., 2020., 2020.,\n",
              "       1991., 1990., 2012., 2007., 2013., 2000., 2002., 1996., 1996.,\n",
              "       2015., 1993., 2013., 2013., 2009., 2020., 2020., 2002., 1997.,\n",
              "       1998., 2004., 1996., 2015., 2016., 2005., 1999., 1995., 1993.,\n",
              "       2004., 2013., 1998., 2018., 2020., 2018., 2020., 1990., 2009.,\n",
              "       1990., 2006., 2002., 1991., 1992., 2020., 2020., 2005., 2010.,\n",
              "       2020., 2016., 2020., 2010., 1994., 2001., 2014., 1996., 1993.,\n",
              "       1993., 2001., 2020., 2020., 2020., 2007., 2020., 2016., 2014.,\n",
              "       2020., 2015., 2015., 1996., 2002., 2005., 1995., 1999., 2005.,\n",
              "       2020., 1997., 1990., 2001., 2013., 2020., 2017., 2011., 2005.,\n",
              "       2007., 1993., 1991., 1991., 1997., 2000., 2007., 2006., 2015.,\n",
              "       2008., 2020., 1996., 2020., 2020., 2014., 2004., 2008., 2020.,\n",
              "       2020., 2012., 2020., 1996., 2011., 2020., 2010., 2007., 1994.,\n",
              "       2007., 2014., 1991., 2002., 1996., 1992.])"
            ]
          },
          "metadata": {},
          "execution_count": 228
        }
      ]
    },
    {
      "cell_type": "code",
      "source": [
        "km"
      ],
      "metadata": {
        "id": "gAmOhCduUtnP",
        "colab": {
          "base_uri": "https://localhost:8080/"
        },
        "outputId": "f20f080b-ccc2-4e41-cc01-1edcc8a298a9"
      },
      "execution_count": 229,
      "outputs": [
        {
          "output_type": "execute_result",
          "data": {
            "text/plain": [
              "array([4.44100e+04, 5.71200e+03, 3.71230e+04, 0.00000e+00, 2.57570e+04,\n",
              "       1.07280e+04, 0.00000e+00, 7.75990e+04, 9.91970e+04, 3.79780e+04,\n",
              "       1.28590e+04, 8.05200e+03, 8.97730e+04, 0.00000e+00, 4.14570e+04,\n",
              "       1.15607e+05, 4.64490e+04, 0.00000e+00, 3.70860e+04, 1.51730e+04,\n",
              "       1.01193e+05, 0.00000e+00, 9.80790e+04, 1.02959e+05, 0.00000e+00,\n",
              "       0.00000e+00, 5.79500e+03, 0.00000e+00, 5.88480e+04, 9.43810e+04,\n",
              "       3.01630e+04, 5.33320e+04, 1.77200e+04, 3.38080e+04, 9.06840e+04,\n",
              "       4.39750e+04, 0.00000e+00, 0.00000e+00, 5.52600e+03, 0.00000e+00,\n",
              "       9.34150e+04, 4.07620e+04, 0.00000e+00, 8.63020e+04, 0.00000e+00,\n",
              "       9.75500e+03, 6.99450e+04, 2.39500e+03, 0.00000e+00, 8.03490e+04,\n",
              "       8.55540e+04, 5.04960e+04, 6.77160e+04, 9.39470e+04, 3.53450e+04,\n",
              "       8.10070e+04, 1.19513e+05, 0.00000e+00, 0.00000e+00, 0.00000e+00,\n",
              "       0.00000e+00, 0.00000e+00, 1.18895e+05, 4.85090e+04, 1.00912e+05,\n",
              "       9.56490e+04, 0.00000e+00, 9.04950e+04, 0.00000e+00, 2.91320e+04,\n",
              "       2.38020e+04, 8.49920e+04, 5.43950e+04, 2.67310e+04, 4.43290e+04,\n",
              "       1.18236e+05, 1.13808e+05, 6.10000e+02, 0.00000e+00, 0.00000e+00,\n",
              "       1.28870e+04, 7.96070e+04, 9.09240e+04, 4.27330e+04, 0.00000e+00,\n",
              "       0.00000e+00, 1.17714e+05, 1.13885e+05, 0.00000e+00, 3.05110e+04,\n",
              "       7.48670e+04, 1.19760e+05, 8.35600e+03, 6.42470e+04, 8.86610e+04,\n",
              "       4.53900e+03, 1.10116e+05, 3.32150e+04, 9.20010e+04, 0.00000e+00,\n",
              "       8.17080e+04, 7.06410e+04, 0.00000e+00, 9.12770e+04, 2.65440e+04,\n",
              "       5.25960e+04, 4.75030e+04, 8.90560e+04, 2.88340e+04, 1.10564e+05,\n",
              "       5.66380e+04, 1.73570e+04, 7.40150e+04, 1.51960e+04, 0.00000e+00,\n",
              "       1.08210e+04, 0.00000e+00, 0.00000e+00, 9.59500e+03, 9.90520e+04,\n",
              "       5.23890e+04, 1.19945e+05, 9.60050e+04, 3.16390e+04, 0.00000e+00,\n",
              "       8.01870e+04, 0.00000e+00, 5.82120e+04, 6.16720e+04, 3.20170e+04,\n",
              "       0.00000e+00, 5.69440e+04, 0.00000e+00, 8.65190e+04, 4.82100e+03,\n",
              "       1.01025e+05, 3.07050e+04, 0.00000e+00, 3.25550e+04, 1.03389e+05,\n",
              "       0.00000e+00, 5.52890e+04, 0.00000e+00, 0.00000e+00, 1.15930e+05,\n",
              "       6.64370e+04, 9.68000e+04, 1.42370e+04, 1.98960e+04, 1.13045e+05,\n",
              "       1.14942e+05, 3.17300e+03, 8.36110e+04, 2.53560e+04, 8.86340e+04,\n",
              "       2.31400e+03, 2.62700e+03, 5.20340e+04, 0.00000e+00, 0.00000e+00,\n",
              "       7.95770e+04, 1.08201e+05, 7.64530e+04, 5.76830e+04, 9.66100e+04,\n",
              "       1.09001e+05, 2.62120e+04, 4.59710e+04, 4.91820e+04, 4.99070e+04,\n",
              "       3.86200e+04, 6.09960e+04, 7.39140e+04, 1.07392e+05, 9.14600e+03,\n",
              "       0.00000e+00, 1.79240e+04, 0.00000e+00, 1.16949e+05, 2.04760e+04,\n",
              "       5.28040e+04, 8.84900e+03, 9.17240e+04, 3.20560e+04, 7.48860e+04,\n",
              "       0.00000e+00, 0.00000e+00, 5.21890e+04, 8.35590e+04, 0.00000e+00,\n",
              "       2.03280e+04, 0.00000e+00, 7.55770e+04, 3.36590e+04, 1.04341e+05,\n",
              "       2.55100e+04, 1.89650e+04, 8.71610e+04, 6.65200e+03, 5.57380e+04,\n",
              "       0.00000e+00, 0.00000e+00, 0.00000e+00, 6.43200e+04, 0.00000e+00,\n",
              "       6.86780e+04, 7.16970e+04, 0.00000e+00, 3.47830e+04, 3.37720e+04,\n",
              "       8.51270e+04, 1.36060e+04, 3.56470e+04, 9.51280e+04, 1.40460e+04,\n",
              "       4.11940e+04, 0.00000e+00, 9.61000e+04, 1.03900e+05, 4.38140e+04,\n",
              "       2.46380e+04, 0.00000e+00, 1.10966e+05, 1.59870e+04, 5.33690e+04,\n",
              "       1.00770e+04, 7.15440e+04, 1.07000e+02, 8.39400e+03, 4.14980e+04,\n",
              "       1.16002e+05, 1.00858e+05, 6.74750e+04, 8.49700e+03, 4.42000e+03,\n",
              "       0.00000e+00, 5.85370e+04, 0.00000e+00, 0.00000e+00, 1.12016e+05,\n",
              "       9.18400e+04, 1.12787e+05, 0.00000e+00, 0.00000e+00, 9.29300e+03,\n",
              "       0.00000e+00, 5.50830e+04, 4.87960e+04, 0.00000e+00, 8.96850e+04,\n",
              "       8.53840e+04, 9.81080e+04, 7.12800e+04, 2.75050e+04, 2.99810e+04,\n",
              "       5.26370e+04, 7.68500e+03, 5.01880e+04])"
            ]
          },
          "metadata": {},
          "execution_count": 229
        }
      ]
    },
    {
      "cell_type": "code",
      "source": [
        "valor"
      ],
      "metadata": {
        "colab": {
          "base_uri": "https://localhost:8080/"
        },
        "id": "jnWo8_rC72ce",
        "outputId": "7daa98c0-aa5e-4cf8-fa36-c22b02840bd7"
      },
      "execution_count": 230,
      "outputs": [
        {
          "output_type": "execute_result",
          "data": {
            "text/plain": [
              "array([ 88078.64, 106161.94,  72832.16, 124549.07,  92612.1 ,  97497.73,\n",
              "        56445.2 , 112310.44, 120716.27,  76566.49,  71647.59,  73919.53,\n",
              "       112732.99,  53183.38, 127488.42,  59910.4 ,  61118.59,  88552.39,\n",
              "        62696.69, 101726.3 , 106147.38,  94564.4 , 133529.84, 125684.65,\n",
              "       121596.21,  71367.1 ,  95347.75, 105432.84,  57045.27, 120432.7 ,\n",
              "        70707.2 ,  69105.18,  59358.69,  65955.4 ,  60017.03, 118909.52,\n",
              "        51606.59, 123281.87,  69770.18, 102609.54,  67997.19, 135235.29,\n",
              "        86641.34, 136818.39, 117626.73,  56208.7 ,  84222.65,  90781.65,\n",
              "        64701.1 , 126350.49, 148152.89, 132298.83, 137627.63,  80422.71,\n",
              "        56373.99,  70846.03, 128694.23, 133329.19, 131961.43, 112033.27,\n",
              "        81399.35,  97163.1 ,  66007.16, 128776.22, 142623.02, 136930.13,\n",
              "        66526.61, 114154.87, 142392.75, 146716.91, 122485.68,  97951.03,\n",
              "        78283.49,  83434.04,  77836.23,  60813.92,  91353.86, 116281.21,\n",
              "       145197.7 ,  50742.1 ,  73033.53,  54332.87,  52207.45,  63578.5 ,\n",
              "        64507.72, 115075.59, 133030.6 , 141591.86, 100380.28,  96369.04,\n",
              "       142603.84, 117709.67, 102241.54,  96065.38,  53894.61, 123911.78,\n",
              "       101996.35,  83431.66, 122975.63,  93227.73,  58762.65, 139549.67,\n",
              "       122016.42,  72731.98,  88416.54,  73873.42,  70709.34, 115306.5 ,\n",
              "        55924.63,  85052.26,  56646.34, 138946.88, 108256.72,  58979.3 ,\n",
              "       114727.68, 139661.48,  80382.24, 149157.17,  87830.41, 143568.22,\n",
              "       138171.85, 115784.95, 146508.99, 137670.23, 138597.27, 147627.81,\n",
              "        62999.02,  91242.44, 149489.92,  63529.95,  58525.41,  90345.05,\n",
              "       147770.87, 106617.71, 104929.88, 100712.45, 141982.93, 104038.79,\n",
              "        88501.54,  79782.02,  86224.1 , 103596.18, 148996.47,  60948.01,\n",
              "        69535.44, 111130.33,  65847.69,  78096.06,  69219.89, 144118.91,\n",
              "        77397.05,  68974.25, 125231.3 ,  85501.12, 137116.21, 138823.81,\n",
              "       117961.95, 132662.32, 146405.79,  81999.21, 140934.6 ,  82366.81,\n",
              "        70424.11,  53620.31,  73389.18, 111618.12, 112187.37, 120812.57,\n",
              "       116031.04, 125398.11,  76101.47,  75263.24, 147387.76,  85311.4 ,\n",
              "        54388.11, 124156.65, 146203.34,  56453.94,  68873.79,  91667.61,\n",
              "        93776.52,  66433.82, 109059.27, 122069.97, 113090.32,  89401.1 ,\n",
              "        56842.79, 146676.71,  89511.96,  97290.18, 120673.56, 114434.94,\n",
              "       139546.69,  95078.16,  68091.77,  61496.97, 139669.3 ,  80661.39,\n",
              "        61783.65,  52805.91, 127024.75, 135543.  , 121708.73, 107342.68,\n",
              "        57888.1 , 118161.48, 142499.06, 128396.11, 112350.61, 124661.38,\n",
              "        54263.16,  62041.32, 129296.11,  60998.33,  58008.5 ,  82304.19,\n",
              "       114531.74, 128565.61, 126488.26, 119074.55, 130238.04, 115760.17,\n",
              "       121248.  ,  98156.35, 112146.8 , 102729.63, 141083.35, 102968.76,\n",
              "        76310.01, 120481.74,  54559.18,  92957.64, 127810.06,  73311.75,\n",
              "        65138.03,  90141.47,  71160.36,  67539.79,  67664.86,  68652.16,\n",
              "       114728.74, 141645.08, 126247.84, 128852.21, 132384.76, 129415.33,\n",
              "        89536.82,  87975.3 ,  77675.79,  58881.67,  55081.99, 118826.44,\n",
              "       137627.62,  51759.58,  51667.06,  68934.03, 122110.9 ,  90381.47])"
            ]
          },
          "metadata": {},
          "execution_count": 230
        }
      ]
    },
    {
      "cell_type": "code",
      "source": [
        "años.shape"
      ],
      "metadata": {
        "colab": {
          "base_uri": "https://localhost:8080/"
        },
        "id": "-5LlZLuJ78Ky",
        "outputId": "3d3c86f7-9476-46d8-8f3e-016ff7e9930e"
      },
      "execution_count": 231,
      "outputs": [
        {
          "output_type": "execute_result",
          "data": {
            "text/plain": [
              "(258,)"
            ]
          },
          "metadata": {},
          "execution_count": 231
        }
      ]
    },
    {
      "cell_type": "code",
      "source": [
        "km.shape"
      ],
      "metadata": {
        "colab": {
          "base_uri": "https://localhost:8080/"
        },
        "id": "P2FZSMw778EZ",
        "outputId": "68a4c7f9-5b82-4b67-e4bf-aa785f005ad7"
      },
      "execution_count": 232,
      "outputs": [
        {
          "output_type": "execute_result",
          "data": {
            "text/plain": [
              "(258,)"
            ]
          },
          "metadata": {},
          "execution_count": 232
        }
      ]
    },
    {
      "cell_type": "code",
      "source": [
        "valor.shape"
      ],
      "metadata": {
        "colab": {
          "base_uri": "https://localhost:8080/"
        },
        "id": "gsWEqKfe777q",
        "outputId": "2105bad6-7d0f-4147-d3d4-e297f5040240"
      },
      "execution_count": 233,
      "outputs": [
        {
          "output_type": "execute_result",
          "data": {
            "text/plain": [
              "(258,)"
            ]
          },
          "metadata": {},
          "execution_count": 233
        }
      ]
    },
    {
      "cell_type": "markdown",
      "source": [
        "Los tres arreglos que tenemos actualmente son unidimensionales y, para llevar a cabo cálculos estadísticos, necesitamos trabajar con arreglos bidimensionales. Para ello, crearemos una matriz llamada 'dataset' que contendrá la información de nuestros tres arreglos. En esta matriz, la primera columna representará los años, la segunda columna los kilómetros y, por último, la tercera columna contendrá los valores."
      ],
      "metadata": {
        "id": "XU721Lopa7ZF"
      }
    },
    {
      "cell_type": "markdown",
      "source": [
        "**6.1. column_stack**"
      ],
      "metadata": {
        "id": "SeDyL0M389Hv"
      }
    },
    {
      "cell_type": "markdown",
      "source": [
        "Es una función que se utiliza para apilar arreglos unidimensionales como columnas en un arreglo bidimensional"
      ],
      "metadata": {
        "id": "VvB8SYL1bNGp"
      }
    },
    {
      "cell_type": "code",
      "source": [
        "dataset = np.column_stack((años, km, valor))\n",
        "dataset"
      ],
      "metadata": {
        "colab": {
          "base_uri": "https://localhost:8080/"
        },
        "id": "EU-oFt5t77xo",
        "outputId": "66516783-1c50-4502-fd49-29dd1621d352"
      },
      "execution_count": 234,
      "outputs": [
        {
          "output_type": "execute_result",
          "data": {
            "text/plain": [
              "array([[2.0030000e+03, 4.4410000e+04, 8.8078640e+04],\n",
              "       [1.9910000e+03, 5.7120000e+03, 1.0616194e+05],\n",
              "       [1.9900000e+03, 3.7123000e+04, 7.2832160e+04],\n",
              "       [2.0200000e+03, 0.0000000e+00, 1.2454907e+05],\n",
              "       [2.0060000e+03, 2.5757000e+04, 9.2612100e+04],\n",
              "       [2.0120000e+03, 1.0728000e+04, 9.7497730e+04],\n",
              "       [2.0200000e+03, 0.0000000e+00, 5.6445200e+04],\n",
              "       [2.0090000e+03, 7.7599000e+04, 1.1231044e+05],\n",
              "       [2.0100000e+03, 9.9197000e+04, 1.2071627e+05],\n",
              "       [2.0110000e+03, 3.7978000e+04, 7.6566490e+04],\n",
              "       [2.0020000e+03, 1.2859000e+04, 7.1647590e+04],\n",
              "       [2.0070000e+03, 8.0520000e+03, 7.3919530e+04],\n",
              "       [2.0010000e+03, 8.9773000e+04, 1.1273299e+05],\n",
              "       [2.0200000e+03, 0.0000000e+00, 5.3183380e+04],\n",
              "       [2.0090000e+03, 4.1457000e+04, 1.2748842e+05],\n",
              "       [2.0160000e+03, 1.1560700e+05, 5.9910400e+04],\n",
              "       [2.0120000e+03, 4.6449000e+04, 6.1118590e+04],\n",
              "       [2.0200000e+03, 0.0000000e+00, 8.8552390e+04],\n",
              "       [2.0160000e+03, 3.7086000e+04, 6.2696690e+04],\n",
              "       [2.0170000e+03, 1.5173000e+04, 1.0172630e+05],\n",
              "       [2.0020000e+03, 1.0119300e+05, 1.0614738e+05],\n",
              "       [2.0200000e+03, 0.0000000e+00, 9.4564400e+04],\n",
              "       [1.9940000e+03, 9.8079000e+04, 1.3352984e+05],\n",
              "       [1.9910000e+03, 1.0295900e+05, 1.2568465e+05],\n",
              "       [2.0200000e+03, 0.0000000e+00, 1.2159621e+05],\n",
              "       [2.0200000e+03, 0.0000000e+00, 7.1367100e+04],\n",
              "       [2.0160000e+03, 5.7950000e+03, 9.5347750e+04],\n",
              "       [2.0200000e+03, 0.0000000e+00, 1.0543284e+05],\n",
              "       [2.0020000e+03, 5.8848000e+04, 5.7045270e+04],\n",
              "       [1.9910000e+03, 9.4381000e+04, 1.2043270e+05],\n",
              "       [1.9970000e+03, 3.0163000e+04, 7.0707200e+04],\n",
              "       [1.9950000e+03, 5.3332000e+04, 6.9105180e+04],\n",
              "       [2.0180000e+03, 1.7720000e+04, 5.9358690e+04],\n",
              "       [1.9910000e+03, 3.3808000e+04, 6.5955400e+04],\n",
              "       [2.0140000e+03, 9.0684000e+04, 6.0017030e+04],\n",
              "       [1.9950000e+03, 4.3975000e+04, 1.1890952e+05],\n",
              "       [2.0200000e+03, 0.0000000e+00, 5.1606590e+04],\n",
              "       [2.0200000e+03, 0.0000000e+00, 1.2328187e+05],\n",
              "       [2.0090000e+03, 5.5260000e+03, 6.9770180e+04],\n",
              "       [2.0200000e+03, 0.0000000e+00, 1.0260954e+05],\n",
              "       [2.0130000e+03, 9.3415000e+04, 6.7997190e+04],\n",
              "       [2.0030000e+03, 4.0762000e+04, 1.3523529e+05],\n",
              "       [2.0200000e+03, 0.0000000e+00, 8.6641340e+04],\n",
              "       [2.0020000e+03, 8.6302000e+04, 1.3681839e+05],\n",
              "       [2.0200000e+03, 0.0000000e+00, 1.1762673e+05],\n",
              "       [2.0020000e+03, 9.7550000e+03, 5.6208700e+04],\n",
              "       [2.0040000e+03, 6.9945000e+04, 8.4222650e+04],\n",
              "       [2.0010000e+03, 2.3950000e+03, 9.0781650e+04],\n",
              "       [2.0200000e+03, 0.0000000e+00, 6.4701100e+04],\n",
              "       [2.0030000e+03, 8.0349000e+04, 1.2635049e+05],\n",
              "       [2.0090000e+03, 8.5554000e+04, 1.4815289e+05],\n",
              "       [2.0060000e+03, 5.0496000e+04, 1.3229883e+05],\n",
              "       [2.0000000e+03, 6.7716000e+04, 1.3762763e+05],\n",
              "       [2.0060000e+03, 9.3947000e+04, 8.0422710e+04],\n",
              "       [2.0100000e+03, 3.5345000e+04, 5.6373990e+04],\n",
              "       [1.9940000e+03, 8.1007000e+04, 7.0846030e+04],\n",
              "       [2.0070000e+03, 1.1951300e+05, 1.2869423e+05],\n",
              "       [2.0200000e+03, 0.0000000e+00, 1.3332919e+05],\n",
              "       [2.0200000e+03, 0.0000000e+00, 1.3196143e+05],\n",
              "       [2.0200000e+03, 0.0000000e+00, 1.1203327e+05],\n",
              "       [2.0200000e+03, 0.0000000e+00, 8.1399350e+04],\n",
              "       [2.0200000e+03, 0.0000000e+00, 9.7163100e+04],\n",
              "       [2.0170000e+03, 1.1889500e+05, 6.6007160e+04],\n",
              "       [2.0110000e+03, 4.8509000e+04, 1.2877622e+05],\n",
              "       [2.0010000e+03, 1.0091200e+05, 1.4262302e+05],\n",
              "       [1.9960000e+03, 9.5649000e+04, 1.3693013e+05],\n",
              "       [2.0200000e+03, 0.0000000e+00, 6.6526610e+04],\n",
              "       [1.9940000e+03, 9.0495000e+04, 1.1415487e+05],\n",
              "       [2.0200000e+03, 0.0000000e+00, 1.4239275e+05],\n",
              "       [2.0070000e+03, 2.9132000e+04, 1.4671691e+05],\n",
              "       [1.9940000e+03, 2.3802000e+04, 1.2248568e+05],\n",
              "       [2.0070000e+03, 8.4992000e+04, 9.7951030e+04],\n",
              "       [1.9970000e+03, 5.4395000e+04, 7.8283490e+04],\n",
              "       [2.0060000e+03, 2.6731000e+04, 8.3434040e+04],\n",
              "       [2.0130000e+03, 4.4329000e+04, 7.7836230e+04],\n",
              "       [1.9940000e+03, 1.1823600e+05, 6.0813920e+04],\n",
              "       [2.0080000e+03, 1.1380800e+05, 9.1353860e+04],\n",
              "       [2.0080000e+03, 6.1000000e+02, 1.1628121e+05],\n",
              "       [2.0200000e+03, 0.0000000e+00, 1.4519770e+05],\n",
              "       [2.0200000e+03, 0.0000000e+00, 5.0742100e+04],\n",
              "       [1.9990000e+03, 1.2887000e+04, 7.3033530e+04],\n",
              "       [2.0070000e+03, 7.9607000e+04, 5.4332870e+04],\n",
              "       [1.9930000e+03, 9.0924000e+04, 5.2207450e+04],\n",
              "       [1.9950000e+03, 4.2733000e+04, 6.3578500e+04],\n",
              "       [2.0200000e+03, 0.0000000e+00, 6.4507720e+04],\n",
              "       [2.0200000e+03, 0.0000000e+00, 1.1507559e+05],\n",
              "       [2.0160000e+03, 1.1771400e+05, 1.3303060e+05],\n",
              "       [2.0110000e+03, 1.1388500e+05, 1.4159186e+05],\n",
              "       [2.0200000e+03, 0.0000000e+00, 1.0038028e+05],\n",
              "       [2.0020000e+03, 3.0511000e+04, 9.6369040e+04],\n",
              "       [2.0130000e+03, 7.4867000e+04, 1.4260384e+05],\n",
              "       [2.0170000e+03, 1.1976000e+05, 1.1770967e+05],\n",
              "       [2.0160000e+03, 8.3560000e+03, 1.0224154e+05],\n",
              "       [2.0080000e+03, 6.4247000e+04, 9.6065380e+04],\n",
              "       [2.0180000e+03, 8.8661000e+04, 5.3894610e+04],\n",
              "       [2.0030000e+03, 4.5390000e+03, 1.2391178e+05],\n",
              "       [2.0030000e+03, 1.1011600e+05, 1.0199635e+05],\n",
              "       [2.0040000e+03, 3.3215000e+04, 8.3431660e+04],\n",
              "       [2.0100000e+03, 9.2001000e+04, 1.2297563e+05],\n",
              "       [2.0200000e+03, 0.0000000e+00, 9.3227730e+04],\n",
              "       [2.0060000e+03, 8.1708000e+04, 5.8762650e+04],\n",
              "       [2.0010000e+03, 7.0641000e+04, 1.3954967e+05],\n",
              "       [2.0200000e+03, 0.0000000e+00, 1.2201642e+05],\n",
              "       [2.0150000e+03, 9.1277000e+04, 7.2731980e+04],\n",
              "       [2.0180000e+03, 2.6544000e+04, 8.8416540e+04],\n",
              "       [2.0170000e+03, 5.2596000e+04, 7.3873420e+04],\n",
              "       [1.9920000e+03, 4.7503000e+04, 7.0709340e+04],\n",
              "       [2.0010000e+03, 8.9056000e+04, 1.1530650e+05],\n",
              "       [1.9930000e+03, 2.8834000e+04, 5.5924630e+04],\n",
              "       [1.9950000e+03, 1.1056400e+05, 8.5052260e+04],\n",
              "       [2.0030000e+03, 5.6638000e+04, 5.6646340e+04],\n",
              "       [2.0140000e+03, 1.7357000e+04, 1.3894688e+05],\n",
              "       [2.0080000e+03, 7.4015000e+04, 1.0825672e+05],\n",
              "       [2.0130000e+03, 1.5196000e+04, 5.8979300e+04],\n",
              "       [2.0200000e+03, 0.0000000e+00, 1.1472768e+05],\n",
              "       [2.0170000e+03, 1.0821000e+04, 1.3966148e+05],\n",
              "       [2.0200000e+03, 0.0000000e+00, 8.0382240e+04],\n",
              "       [2.0200000e+03, 0.0000000e+00, 1.4915717e+05],\n",
              "       [2.0060000e+03, 9.5950000e+03, 8.7830410e+04],\n",
              "       [2.0150000e+03, 9.9052000e+04, 1.4356822e+05],\n",
              "       [2.0070000e+03, 5.2389000e+04, 1.3817185e+05],\n",
              "       [2.0050000e+03, 1.1994500e+05, 1.1578495e+05],\n",
              "       [2.0170000e+03, 9.6005000e+04, 1.4650899e+05],\n",
              "       [1.9980000e+03, 3.1639000e+04, 1.3767023e+05],\n",
              "       [2.0200000e+03, 0.0000000e+00, 1.3859727e+05],\n",
              "       [1.9990000e+03, 8.0187000e+04, 1.4762781e+05],\n",
              "       [2.0200000e+03, 0.0000000e+00, 6.2999020e+04],\n",
              "       [2.0090000e+03, 5.8212000e+04, 9.1242440e+04],\n",
              "       [2.0030000e+03, 6.1672000e+04, 1.4948992e+05],\n",
              "       [1.9940000e+03, 3.2017000e+04, 6.3529950e+04],\n",
              "       [2.0200000e+03, 0.0000000e+00, 5.8525410e+04],\n",
              "       [1.9940000e+03, 5.6944000e+04, 9.0345050e+04],\n",
              "       [2.0200000e+03, 0.0000000e+00, 1.4777087e+05],\n",
              "       [2.0150000e+03, 8.6519000e+04, 1.0661771e+05],\n",
              "       [1.9960000e+03, 4.8210000e+03, 1.0492988e+05],\n",
              "       [1.9970000e+03, 1.0102500e+05, 1.0071245e+05],\n",
              "       [1.9930000e+03, 3.0705000e+04, 1.4198293e+05],\n",
              "       [2.0200000e+03, 0.0000000e+00, 1.0403879e+05],\n",
              "       [1.9920000e+03, 3.2555000e+04, 8.8501540e+04],\n",
              "       [1.9950000e+03, 1.0338900e+05, 7.9782020e+04],\n",
              "       [2.0200000e+03, 0.0000000e+00, 8.6224100e+04],\n",
              "       [1.9900000e+03, 5.5289000e+04, 1.0359618e+05],\n",
              "       [2.0200000e+03, 0.0000000e+00, 1.4899647e+05],\n",
              "       [2.0200000e+03, 0.0000000e+00, 6.0948010e+04],\n",
              "       [1.9910000e+03, 1.1593000e+05, 6.9535440e+04],\n",
              "       [1.9900000e+03, 6.6437000e+04, 1.1113033e+05],\n",
              "       [2.0120000e+03, 9.6800000e+04, 6.5847690e+04],\n",
              "       [2.0070000e+03, 1.4237000e+04, 7.8096060e+04],\n",
              "       [2.0130000e+03, 1.9896000e+04, 6.9219890e+04],\n",
              "       [2.0000000e+03, 1.1304500e+05, 1.4411891e+05],\n",
              "       [2.0020000e+03, 1.1494200e+05, 7.7397050e+04],\n",
              "       [1.9960000e+03, 3.1730000e+03, 6.8974250e+04],\n",
              "       [1.9960000e+03, 8.3611000e+04, 1.2523130e+05],\n",
              "       [2.0150000e+03, 2.5356000e+04, 8.5501120e+04],\n",
              "       [1.9930000e+03, 8.8634000e+04, 1.3711621e+05],\n",
              "       [2.0130000e+03, 2.3140000e+03, 1.3882381e+05],\n",
              "       [2.0130000e+03, 2.6270000e+03, 1.1796195e+05],\n",
              "       [2.0090000e+03, 5.2034000e+04, 1.3266232e+05],\n",
              "       [2.0200000e+03, 0.0000000e+00, 1.4640579e+05],\n",
              "       [2.0200000e+03, 0.0000000e+00, 8.1999210e+04],\n",
              "       [2.0020000e+03, 7.9577000e+04, 1.4093460e+05],\n",
              "       [1.9970000e+03, 1.0820100e+05, 8.2366810e+04],\n",
              "       [1.9980000e+03, 7.6453000e+04, 7.0424110e+04],\n",
              "       [2.0040000e+03, 5.7683000e+04, 5.3620310e+04],\n",
              "       [1.9960000e+03, 9.6610000e+04, 7.3389180e+04],\n",
              "       [2.0150000e+03, 1.0900100e+05, 1.1161812e+05],\n",
              "       [2.0160000e+03, 2.6212000e+04, 1.1218737e+05],\n",
              "       [2.0050000e+03, 4.5971000e+04, 1.2081257e+05],\n",
              "       [1.9990000e+03, 4.9182000e+04, 1.1603104e+05],\n",
              "       [1.9950000e+03, 4.9907000e+04, 1.2539811e+05],\n",
              "       [1.9930000e+03, 3.8620000e+04, 7.6101470e+04],\n",
              "       [2.0040000e+03, 6.0996000e+04, 7.5263240e+04],\n",
              "       [2.0130000e+03, 7.3914000e+04, 1.4738776e+05],\n",
              "       [1.9980000e+03, 1.0739200e+05, 8.5311400e+04],\n",
              "       [2.0180000e+03, 9.1460000e+03, 5.4388110e+04],\n",
              "       [2.0200000e+03, 0.0000000e+00, 1.2415665e+05],\n",
              "       [2.0180000e+03, 1.7924000e+04, 1.4620334e+05],\n",
              "       [2.0200000e+03, 0.0000000e+00, 5.6453940e+04],\n",
              "       [1.9900000e+03, 1.1694900e+05, 6.8873790e+04],\n",
              "       [2.0090000e+03, 2.0476000e+04, 9.1667610e+04],\n",
              "       [1.9900000e+03, 5.2804000e+04, 9.3776520e+04],\n",
              "       [2.0060000e+03, 8.8490000e+03, 6.6433820e+04],\n",
              "       [2.0020000e+03, 9.1724000e+04, 1.0905927e+05],\n",
              "       [1.9910000e+03, 3.2056000e+04, 1.2206997e+05],\n",
              "       [1.9920000e+03, 7.4886000e+04, 1.1309032e+05],\n",
              "       [2.0200000e+03, 0.0000000e+00, 8.9401100e+04],\n",
              "       [2.0200000e+03, 0.0000000e+00, 5.6842790e+04],\n",
              "       [2.0050000e+03, 5.2189000e+04, 1.4667671e+05],\n",
              "       [2.0100000e+03, 8.3559000e+04, 8.9511960e+04],\n",
              "       [2.0200000e+03, 0.0000000e+00, 9.7290180e+04],\n",
              "       [2.0160000e+03, 2.0328000e+04, 1.2067356e+05],\n",
              "       [2.0200000e+03, 0.0000000e+00, 1.1443494e+05],\n",
              "       [2.0100000e+03, 7.5577000e+04, 1.3954669e+05],\n",
              "       [1.9940000e+03, 3.3659000e+04, 9.5078160e+04],\n",
              "       [2.0010000e+03, 1.0434100e+05, 6.8091770e+04],\n",
              "       [2.0140000e+03, 2.5510000e+04, 6.1496970e+04],\n",
              "       [1.9960000e+03, 1.8965000e+04, 1.3966930e+05],\n",
              "       [1.9930000e+03, 8.7161000e+04, 8.0661390e+04],\n",
              "       [1.9930000e+03, 6.6520000e+03, 6.1783650e+04],\n",
              "       [2.0010000e+03, 5.5738000e+04, 5.2805910e+04],\n",
              "       [2.0200000e+03, 0.0000000e+00, 1.2702475e+05],\n",
              "       [2.0200000e+03, 0.0000000e+00, 1.3554300e+05],\n",
              "       [2.0200000e+03, 0.0000000e+00, 1.2170873e+05],\n",
              "       [2.0070000e+03, 6.4320000e+04, 1.0734268e+05],\n",
              "       [2.0200000e+03, 0.0000000e+00, 5.7888100e+04],\n",
              "       [2.0160000e+03, 6.8678000e+04, 1.1816148e+05],\n",
              "       [2.0140000e+03, 7.1697000e+04, 1.4249906e+05],\n",
              "       [2.0200000e+03, 0.0000000e+00, 1.2839611e+05],\n",
              "       [2.0150000e+03, 3.4783000e+04, 1.1235061e+05],\n",
              "       [2.0150000e+03, 3.3772000e+04, 1.2466138e+05],\n",
              "       [1.9960000e+03, 8.5127000e+04, 5.4263160e+04],\n",
              "       [2.0020000e+03, 1.3606000e+04, 6.2041320e+04],\n",
              "       [2.0050000e+03, 3.5647000e+04, 1.2929611e+05],\n",
              "       [1.9950000e+03, 9.5128000e+04, 6.0998330e+04],\n",
              "       [1.9990000e+03, 1.4046000e+04, 5.8008500e+04],\n",
              "       [2.0050000e+03, 4.1194000e+04, 8.2304190e+04],\n",
              "       [2.0200000e+03, 0.0000000e+00, 1.1453174e+05],\n",
              "       [1.9970000e+03, 9.6100000e+04, 1.2856561e+05],\n",
              "       [1.9900000e+03, 1.0390000e+05, 1.2648826e+05],\n",
              "       [2.0010000e+03, 4.3814000e+04, 1.1907455e+05],\n",
              "       [2.0130000e+03, 2.4638000e+04, 1.3023804e+05],\n",
              "       [2.0200000e+03, 0.0000000e+00, 1.1576017e+05],\n",
              "       [2.0170000e+03, 1.1096600e+05, 1.2124800e+05],\n",
              "       [2.0110000e+03, 1.5987000e+04, 9.8156350e+04],\n",
              "       [2.0050000e+03, 5.3369000e+04, 1.1214680e+05],\n",
              "       [2.0070000e+03, 1.0077000e+04, 1.0272963e+05],\n",
              "       [1.9930000e+03, 7.1544000e+04, 1.4108335e+05],\n",
              "       [1.9910000e+03, 1.0700000e+02, 1.0296876e+05],\n",
              "       [1.9910000e+03, 8.3940000e+03, 7.6310010e+04],\n",
              "       [1.9970000e+03, 4.1498000e+04, 1.2048174e+05],\n",
              "       [2.0000000e+03, 1.1600200e+05, 5.4559180e+04],\n",
              "       [2.0070000e+03, 1.0085800e+05, 9.2957640e+04],\n",
              "       [2.0060000e+03, 6.7475000e+04, 1.2781006e+05],\n",
              "       [2.0150000e+03, 8.4970000e+03, 7.3311750e+04],\n",
              "       [2.0080000e+03, 4.4200000e+03, 6.5138030e+04],\n",
              "       [2.0200000e+03, 0.0000000e+00, 9.0141470e+04],\n",
              "       [1.9960000e+03, 5.8537000e+04, 7.1160360e+04],\n",
              "       [2.0200000e+03, 0.0000000e+00, 6.7539790e+04],\n",
              "       [2.0200000e+03, 0.0000000e+00, 6.7664860e+04],\n",
              "       [2.0140000e+03, 1.1201600e+05, 6.8652160e+04],\n",
              "       [2.0040000e+03, 9.1840000e+04, 1.1472874e+05],\n",
              "       [2.0080000e+03, 1.1278700e+05, 1.4164508e+05],\n",
              "       [2.0200000e+03, 0.0000000e+00, 1.2624784e+05],\n",
              "       [2.0200000e+03, 0.0000000e+00, 1.2885221e+05],\n",
              "       [2.0120000e+03, 9.2930000e+03, 1.3238476e+05],\n",
              "       [2.0200000e+03, 0.0000000e+00, 1.2941533e+05],\n",
              "       [1.9960000e+03, 5.5083000e+04, 8.9536820e+04],\n",
              "       [2.0110000e+03, 4.8796000e+04, 8.7975300e+04],\n",
              "       [2.0200000e+03, 0.0000000e+00, 7.7675790e+04],\n",
              "       [2.0100000e+03, 8.9685000e+04, 5.8881670e+04],\n",
              "       [2.0070000e+03, 8.5384000e+04, 5.5081990e+04],\n",
              "       [1.9940000e+03, 9.8108000e+04, 1.1882644e+05],\n",
              "       [2.0070000e+03, 7.1280000e+04, 1.3762762e+05],\n",
              "       [2.0140000e+03, 2.7505000e+04, 5.1759580e+04],\n",
              "       [1.9910000e+03, 2.9981000e+04, 5.1667060e+04],\n",
              "       [2.0020000e+03, 5.2637000e+04, 6.8934030e+04],\n",
              "       [1.9960000e+03, 7.6850000e+03, 1.2211090e+05],\n",
              "       [1.9920000e+03, 5.0188000e+04, 9.0381470e+04]])"
            ]
          },
          "metadata": {},
          "execution_count": 234
        }
      ]
    },
    {
      "cell_type": "code",
      "source": [
        "# La matriz es un array\n",
        "type(dataset)"
      ],
      "metadata": {
        "colab": {
          "base_uri": "https://localhost:8080/"
        },
        "id": "lzdxrBbu77qi",
        "outputId": "02eca60a-348e-42d6-81c8-5b4ac21ca049"
      },
      "execution_count": 235,
      "outputs": [
        {
          "output_type": "execute_result",
          "data": {
            "text/plain": [
              "numpy.ndarray"
            ]
          },
          "metadata": {},
          "execution_count": 235
        }
      ]
    },
    {
      "cell_type": "code",
      "source": [
        "# Los datos alamcenado en la matriz son de tipo float\n",
        "dataset.dtype"
      ],
      "metadata": {
        "colab": {
          "base_uri": "https://localhost:8080/"
        },
        "id": "imaUXsxd77j7",
        "outputId": "1d8944e8-76e9-41fa-93ae-c412cb841534"
      },
      "execution_count": 236,
      "outputs": [
        {
          "output_type": "execute_result",
          "data": {
            "text/plain": [
              "dtype('float64')"
            ]
          },
          "metadata": {},
          "execution_count": 236
        }
      ]
    },
    {
      "cell_type": "code",
      "source": [
        "# El array ahora es bidimensional\n",
        "dataset.shape"
      ],
      "metadata": {
        "colab": {
          "base_uri": "https://localhost:8080/"
        },
        "id": "vmWnX1gL77bK",
        "outputId": "0d6ff364-87ec-4b56-917a-e4418da5d925"
      },
      "execution_count": 237,
      "outputs": [
        {
          "output_type": "execute_result",
          "data": {
            "text/plain": [
              "(258, 3)"
            ]
          },
          "metadata": {},
          "execution_count": 237
        }
      ]
    },
    {
      "cell_type": "markdown",
      "source": [
        "**6.2. np.mean()**"
      ],
      "metadata": {
        "id": "pLJl1ZWz92kz"
      }
    },
    {
      "cell_type": "markdown",
      "source": [
        "**Media (promedio):** Puedes calcular la media de un arreglo NumPy utilizando la función **numpy.mean()**."
      ],
      "metadata": {
        "id": "QmnWLTdUbdzt"
      }
    },
    {
      "cell_type": "code",
      "source": [
        "np.mean(dataset)"
      ],
      "metadata": {
        "colab": {
          "base_uri": "https://localhost:8080/"
        },
        "id": "1Np0aOLT77SA",
        "outputId": "91c0a10f-01ae-453e-c869-b88f03fa263a"
      },
      "execution_count": 238,
      "outputs": [
        {
          "output_type": "execute_result",
          "data": {
            "text/plain": [
              "48489.225297157616"
            ]
          },
          "metadata": {},
          "execution_count": 238
        }
      ]
    },
    {
      "cell_type": "code",
      "source": [
        "# Promedio del año, km y valor (Vertical)\n",
        "np.mean(dataset, axis = 0)"
      ],
      "metadata": {
        "colab": {
          "base_uri": "https://localhost:8080/"
        },
        "id": "OwsdR34977Jm",
        "outputId": "f4c94feb-6bcf-4c16-d13a-fa03d7b95482"
      },
      "execution_count": 239,
      "outputs": [
        {
          "output_type": "execute_result",
          "data": {
            "text/plain": [
              "array([ 2007.74806202, 44499.41472868, 98960.51310078])"
            ]
          },
          "metadata": {},
          "execution_count": 239
        }
      ]
    },
    {
      "cell_type": "code",
      "source": [
        "# Promedio del año, km y valor (Horizontal)\n",
        "np.mean(dataset, axis = 1)"
      ],
      "metadata": {
        "colab": {
          "base_uri": "https://localhost:8080/"
        },
        "id": "0-D08kSg-KSC",
        "outputId": "c92cdee6-6fa4-45c2-af40-1edeb68484d8"
      },
      "execution_count": 240,
      "outputs": [
        {
          "output_type": "execute_result",
          "data": {
            "text/plain": [
              "array([44830.54666667, 37954.98      , 37315.05333333, 42189.69      ,\n",
              "       40125.03333333, 36745.91      , 19488.4       , 63972.81333333,\n",
              "       73974.42333333, 38851.83      , 28836.19666667, 27992.84333333,\n",
              "       68168.99666667, 18401.12666667, 56984.80666667, 59177.8       ,\n",
              "       36526.53      , 30190.79666667, 33932.89666667, 39638.76666667,\n",
              "       69780.79333333, 32194.8       , 77867.61333333, 76878.21666667,\n",
              "       41205.40333333, 24462.36666667, 34386.25      , 35817.61333333,\n",
              "       39298.42333333, 72268.23333333, 34289.06666667, 41477.39333333,\n",
              "       26365.56333333, 33918.13333333, 50905.01      , 54959.84      ,\n",
              "       17875.53      , 41767.29      , 25768.39333333, 34876.51333333,\n",
              "       54475.06333333, 59333.43      , 29553.78      , 75040.79666667,\n",
              "       39882.24333333, 22655.23333333, 52057.21666667, 31725.88333333,\n",
              "       22240.36666667, 69567.49666667, 78571.96333333, 61600.27666667,\n",
              "       69114.54333333, 58791.90333333, 31242.99666667, 51282.34333333,\n",
              "       83404.74333333, 45116.39666667, 44660.47666667, 38017.75666667,\n",
              "       27806.45      , 33061.03333333, 62306.38666667, 59765.40666667,\n",
              "       81845.34      , 78191.71      , 22848.87      , 68881.29      ,\n",
              "       48137.58333333, 59285.30333333, 49427.22666667, 61650.01      ,\n",
              "       44891.83      , 37390.34666667, 41392.74333333, 60347.97333333,\n",
              "       69056.62      , 39633.07      , 49072.56666667, 17587.36666667,\n",
              "       29306.51      , 45315.62333333, 48374.81666667, 36102.16666667,\n",
              "       22175.90666667, 39031.86333333, 84253.53333333, 85829.28666667,\n",
              "       34133.42666667, 42960.68      , 73161.28      , 79828.89      ,\n",
              "       37537.84666667, 54106.79333333, 48191.20333333, 43484.59333333,\n",
              "       71371.78333333, 39550.22      , 72328.87666667, 31749.24333333,\n",
              "       47492.21666667, 70730.55666667, 41345.47333333, 55341.32666667,\n",
              "       38992.84666667, 42828.80666667, 40068.11333333, 68787.83333333,\n",
              "       28917.21      , 65870.42      , 38429.11333333, 52772.62666667,\n",
              "       61426.57333333, 25396.1       , 38915.89333333, 50833.16      ,\n",
              "       27467.41333333, 50392.39      , 33143.80333333, 81545.07333333,\n",
              "       64189.28333333, 79244.98333333, 81510.33      , 57102.41      ,\n",
              "       46872.42333333, 76604.60333333, 21673.00666667, 50487.81333333,\n",
              "       71054.97333333, 32513.65      , 20181.80333333, 49761.01666667,\n",
              "       49930.29      , 65050.57      , 37248.96      , 67911.48333333,\n",
              "       58226.97666667, 35352.93      , 41016.18      , 61722.00666667,\n",
              "       29414.7       , 53625.06      , 50338.82333333, 20989.33666667,\n",
              "       62485.48      , 59852.44333333, 54886.56333333, 31446.68666667,\n",
              "       30376.29666667, 86387.97      , 64780.35      , 24714.41666667,\n",
              "       70279.43333333, 37624.04      , 75914.40333333, 47716.93666667,\n",
              "       40867.31666667, 62235.10666667, 49475.26333333, 28006.40333333,\n",
              "       74171.2       , 64188.27      , 49625.03666667, 37769.10333333,\n",
              "       57331.72666667, 74211.37333333, 46805.12333333, 56262.85666667,\n",
              "       55737.34666667, 59100.03666667, 38904.82333333, 46087.74666667,\n",
              "       74438.25333333, 64900.46666667, 21850.70333333, 42058.88333333,\n",
              "       55381.78      , 19491.31333333, 62604.26333333, 38050.87      ,\n",
              "       49523.50666667, 25762.94      , 67595.09      , 52038.99      ,\n",
              "       63322.77333333, 30473.7       , 19620.93      , 66956.90333333,\n",
              "       58360.32      , 33103.39333333, 47672.52      , 38818.31333333,\n",
              "       72377.89666667, 43577.05333333, 58144.59      , 29673.65666667,\n",
              "       53543.43333333, 56605.13      , 23476.21666667, 36848.30333333,\n",
              "       43014.91666667, 45854.33333333, 41242.91      , 57889.89333333,\n",
              "       19969.36666667, 62951.82666667, 72070.02      , 43472.03666667,\n",
              "       49716.20333333, 53482.79333333, 47128.72      , 25883.10666667,\n",
              "       55649.37      , 52707.11      , 24684.5       , 41834.39666667,\n",
              "       38850.58      , 75554.20333333, 77459.42      , 54963.18333333,\n",
              "       52296.34666667, 39260.05666667, 78077.        , 38718.11666667,\n",
              "       55840.26666667, 38271.21      , 71540.11666667, 35022.25333333,\n",
              "       28898.33666667, 54658.91333333, 57520.39333333, 65274.21333333,\n",
              "       65763.68666667, 27941.25      , 23855.34333333, 30720.49      ,\n",
              "       43897.78666667, 23186.59666667, 23228.28666667, 60894.05333333,\n",
              "       69524.24666667, 85480.02666667, 42755.94666667, 43624.07      ,\n",
              "       47896.58666667, 43811.77666667, 48871.94      , 46260.76666667,\n",
              "       26565.26333333, 50192.22333333, 47490.99666667, 72976.14666667,\n",
              "       70304.87333333, 27092.86      , 27879.68666667, 41191.01      ,\n",
              "       43930.63333333, 47520.49      ])"
            ]
          },
          "metadata": {},
          "execution_count": 240
        }
      ]
    },
    {
      "cell_type": "code",
      "source": [
        "# Otra forma de sacar el promedio o media en este caso de la segunda columna\n",
        "np.mean(dataset[::,1])"
      ],
      "metadata": {
        "colab": {
          "base_uri": "https://localhost:8080/"
        },
        "id": "-HsEwFci-Mxx",
        "outputId": "4ee64490-8d44-422b-c855-c578b1bb17da"
      },
      "execution_count": 241,
      "outputs": [
        {
          "output_type": "execute_result",
          "data": {
            "text/plain": [
              "44499.41472868217"
            ]
          },
          "metadata": {},
          "execution_count": 241
        }
      ]
    },
    {
      "cell_type": "code",
      "source": [
        "# el promedio o media en este caso de la tercer columna\n",
        "np.mean(dataset[::,2])"
      ],
      "metadata": {
        "colab": {
          "base_uri": "https://localhost:8080/"
        },
        "id": "B9mdVQKs_DTR",
        "outputId": "bb75d4cf-60a5-470f-863e-de803ab95b59"
      },
      "execution_count": 242,
      "outputs": [
        {
          "output_type": "execute_result",
          "data": {
            "text/plain": [
              "98960.51310077519"
            ]
          },
          "metadata": {},
          "execution_count": 242
        }
      ]
    },
    {
      "cell_type": "markdown",
      "source": [
        "**6.3. np.median()**"
      ],
      "metadata": {
        "id": "MExSznmgbtMY"
      }
    },
    {
      "cell_type": "markdown",
      "source": [
        "**Mediana:** Puedes calcular la mediana de un arreglo utilizando la función **numpy.median()**."
      ],
      "metadata": {
        "id": "6F_4znD3bpLb"
      }
    },
    {
      "cell_type": "code",
      "source": [
        "#Mediana de todo el dataset\n",
        "np.median(dataset)"
      ],
      "metadata": {
        "colab": {
          "base_uri": "https://localhost:8080/"
        },
        "id": "HCHF5H4Wb0Kt",
        "outputId": "d78b98f0-61a4-4d6c-a259-5cc514096c48"
      },
      "execution_count": 243,
      "outputs": [
        {
          "output_type": "execute_result",
          "data": {
            "text/plain": [
              "37104.5"
            ]
          },
          "metadata": {},
          "execution_count": 243
        }
      ]
    },
    {
      "cell_type": "code",
      "source": [
        "# Mediana de los años\n",
        "np.median(dataset[::,0])"
      ],
      "metadata": {
        "colab": {
          "base_uri": "https://localhost:8080/"
        },
        "id": "jm0fZADzcDlc",
        "outputId": "7417882c-36b3-4516-d42e-a2e92fadc71a"
      },
      "execution_count": 244,
      "outputs": [
        {
          "output_type": "execute_result",
          "data": {
            "text/plain": [
              "2008.0"
            ]
          },
          "metadata": {},
          "execution_count": 244
        }
      ]
    },
    {
      "cell_type": "code",
      "source": [
        "# Mediana del km\n",
        "np.median(dataset[::,1])"
      ],
      "metadata": {
        "colab": {
          "base_uri": "https://localhost:8080/"
        },
        "id": "2CgG42v7cKMW",
        "outputId": "cec1891d-6f82-47d6-e36d-ffcbdc42775d"
      },
      "execution_count": 245,
      "outputs": [
        {
          "output_type": "execute_result",
          "data": {
            "text/plain": [
              "37104.5"
            ]
          },
          "metadata": {},
          "execution_count": 245
        }
      ]
    },
    {
      "cell_type": "code",
      "source": [
        "# Mediana del valor\n",
        "np.median(dataset[::,2])"
      ],
      "metadata": {
        "colab": {
          "base_uri": "https://localhost:8080/"
        },
        "id": "3ArdwDEocKlE",
        "outputId": "6e143b84-83e1-460e-82d1-2d3abeef6b5d"
      },
      "execution_count": 246,
      "outputs": [
        {
          "output_type": "execute_result",
          "data": {
            "text/plain": [
              "97724.38"
            ]
          },
          "metadata": {},
          "execution_count": 246
        }
      ]
    },
    {
      "cell_type": "markdown",
      "source": [
        "**6.4. np.std()**"
      ],
      "metadata": {
        "id": "HN_iptv__J-A"
      }
    },
    {
      "cell_type": "markdown",
      "source": [
        "**Desviación estándar:** Para calcular la desviación estándar de un arreglo, puedes usar **numpy.std()**."
      ],
      "metadata": {
        "id": "Md5bD82q_mHY"
      }
    },
    {
      "cell_type": "code",
      "source": [
        "# la desviacion estandar en este caso de la tercer columna (valor)\n",
        "np.std(dataset[::,2])"
      ],
      "metadata": {
        "colab": {
          "base_uri": "https://localhost:8080/"
        },
        "id": "WkYojewM_Vsa",
        "outputId": "952eb976-fc5f-4c3d-e6dc-06d760f53ccd"
      },
      "execution_count": 247,
      "outputs": [
        {
          "output_type": "execute_result",
          "data": {
            "text/plain": [
              "29754.101150388564"
            ]
          },
          "metadata": {},
          "execution_count": 247
        }
      ]
    },
    {
      "cell_type": "markdown",
      "source": [
        "**6.5. np.var()**"
      ],
      "metadata": {
        "id": "72bR-dXxcjGl"
      }
    },
    {
      "cell_type": "markdown",
      "source": [
        "**Varianza:** La varianza se puede calcular con **numpy.var()**.\n",
        "\n"
      ],
      "metadata": {
        "id": "RwLgOvFYci2x"
      }
    },
    {
      "cell_type": "code",
      "source": [
        "#La varianza del valor de los automoviles\n",
        "np.var(dataset[::,2])"
      ],
      "metadata": {
        "colab": {
          "base_uri": "https://localhost:8080/"
        },
        "id": "-vXi1B2Ccrhf",
        "outputId": "108f7d9d-4479-49cd-fac2-dfa456dde3c1"
      },
      "execution_count": 248,
      "outputs": [
        {
          "output_type": "execute_result",
          "data": {
            "text/plain": [
              "885306535.267554"
            ]
          },
          "metadata": {},
          "execution_count": 248
        }
      ]
    },
    {
      "cell_type": "markdown",
      "source": [
        "**6.6. np.cumsum() y np.cumprod**"
      ],
      "metadata": {
        "id": "QFuumapQdzTB"
      }
    },
    {
      "cell_type": "markdown",
      "source": [
        "**Suma y producto acumulativo:** NumPy permite calcular la suma acumulativa (**numpy.cumsum()**) y el producto acumulativo (**numpy.cumprod()**) de un arreglo.\n",
        "\n"
      ],
      "metadata": {
        "id": "4XfXAvnsdt1l"
      }
    },
    {
      "cell_type": "markdown",
      "source": [
        "**np.cumsum():** En la suma acumulativa, en la posición \"n\", obtienes la suma de los valores desde la posición 0 hasta la posición \"n\" en el arreglo original. Esto significa que cada elemento en el nuevo arreglo es la suma acumulativa de los elementos anteriores en el arreglo original. La suma acumulativa se utiliza comúnmente en estadísticas y análisis de datos para calcular totales acumulativos o acumulaciones parciales.\n",
        "\n",
        "Por ejemplo, si tienes el arreglo [1, 2, 3, 4, 5], la suma acumulativa sería [1, 3, 6, 10, 15], donde cada elemento es la suma de los elementos anteriores."
      ],
      "metadata": {
        "id": "FaEIpJB4eB-M"
      }
    },
    {
      "cell_type": "markdown",
      "source": [
        "**np.cumprod:** El producto acumulativo es similar a la suma acumulativa, pero en lugar de sumar, multiplica los valores a medida que avanzas en el arreglo. En la posición \"n\", obtienes el producto de los valores desde la posición 0 hasta la posición \"n\" en el arreglo original. Esto crea un nuevo arreglo en el que cada elemento es el producto acumulativo de los elementos anteriores en el arreglo original.\n",
        "\n",
        "Por ejemplo, si tienes el arreglo [1, 2, 3, 4, 5], el producto acumulativo sería [1, 2, 6, 24, 120], donde cada elemento es el producto de los elementos anteriores."
      ],
      "metadata": {
        "id": "MYiHS--DeE1F"
      }
    },
    {
      "cell_type": "code",
      "source": [
        "np.cumsum(dataset[::,2])"
      ],
      "metadata": {
        "colab": {
          "base_uri": "https://localhost:8080/"
        },
        "id": "bDvP2eI7dOiq",
        "outputId": "9091f1f5-617b-473a-bae0-d1c84fdf1eed"
      },
      "execution_count": 249,
      "outputs": [
        {
          "output_type": "execute_result",
          "data": {
            "text/plain": [
              "array([   88078.64      ,   194240.58      ,   267072.74      ,\n",
              "         391621.81      ,   484233.91      ,   581731.64      ,\n",
              "         638176.84      ,   750487.28      ,   871203.55      ,\n",
              "         947770.04      ,  1019417.63      ,  1093337.16      ,\n",
              "        1206070.15      ,  1259253.53      ,  1386741.95      ,\n",
              "        1446652.35      ,  1507770.94      ,  1596323.33      ,\n",
              "        1659020.02      ,  1760746.32      ,  1866893.7       ,\n",
              "        1961458.1       ,  2094987.94      ,  2220672.59      ,\n",
              "        2342268.8       ,  2413635.9       ,  2508983.65      ,\n",
              "        2614416.49      ,  2671461.76      ,  2791894.46      ,\n",
              "        2862601.66      ,  2931706.84      ,  2991065.53      ,\n",
              "        3057020.93      ,  3117037.96      ,  3235947.48      ,\n",
              "        3287554.07      ,  3410835.94      ,  3480606.12      ,\n",
              "        3583215.66      ,  3651212.85      ,  3786448.14      ,\n",
              "        3873089.48      ,  4009907.87      ,  4127534.6       ,\n",
              "        4183743.3       ,  4267965.95      ,  4358747.6       ,\n",
              "        4423448.7       ,  4549799.19      ,  4697952.08      ,\n",
              "        4830250.91      ,  4967878.54      ,  5048301.25      ,\n",
              "        5104675.24      ,  5175521.27      ,  5304215.5       ,\n",
              "        5437544.69      ,  5569506.12      ,  5681539.39      ,\n",
              "        5762938.74      ,  5860101.84      ,  5926109.        ,\n",
              "        6054885.22      ,  6197508.24      ,  6334438.37      ,\n",
              "        6400964.98      ,  6515119.85      ,  6657512.6       ,\n",
              "        6804229.51      ,  6926715.19      ,  7024666.22      ,\n",
              "        7102949.71      ,  7186383.75      ,  7264219.98      ,\n",
              "        7325033.9       ,  7416387.76      ,  7532668.97      ,\n",
              "        7677866.67      ,  7728608.77      ,  7801642.3       ,\n",
              "        7855975.17      ,  7908182.62      ,  7971761.12      ,\n",
              "        8036268.84      ,  8151344.43      ,  8284375.03      ,\n",
              "        8425966.89      ,  8526347.17      ,  8622716.21      ,\n",
              "        8765320.05      ,  8883029.72      ,  8985271.26      ,\n",
              "        9081336.64      ,  9135231.25      ,  9259143.03      ,\n",
              "        9361139.38      ,  9444571.04      ,  9567546.67      ,\n",
              "        9660774.4       ,  9719537.05      ,  9859086.72      ,\n",
              "        9981103.14      , 10053835.12      , 10142251.66      ,\n",
              "       10216125.08      , 10286834.42      , 10402140.92      ,\n",
              "       10458065.55      , 10543117.81      , 10599764.15      ,\n",
              "       10738711.03      , 10846967.75      , 10905947.05      ,\n",
              "       11020674.73      , 11160336.21      , 11240718.45      ,\n",
              "       11389875.62      , 11477706.03      , 11621274.25      ,\n",
              "       11759446.1       , 11875231.05      , 12021740.04      ,\n",
              "       12159410.27      , 12298007.54      , 12445635.35      ,\n",
              "       12508634.37      , 12599876.81      , 12749366.73      ,\n",
              "       12812896.68      , 12871422.09      , 12961767.14      ,\n",
              "       13109538.01      , 13216155.72      , 13321085.6       ,\n",
              "       13421798.05      , 13563780.98      , 13667819.77      ,\n",
              "       13756321.31      , 13836103.33      , 13922327.43      ,\n",
              "       14025923.61      , 14174920.08      , 14235868.09      ,\n",
              "       14305403.53      , 14416533.86      , 14482381.55      ,\n",
              "       14560477.61      , 14629697.5       , 14773816.41      ,\n",
              "       14851213.46      , 14920187.71      , 15045419.01      ,\n",
              "       15130920.13      , 15268036.34      , 15406860.15      ,\n",
              "       15524822.1       , 15657484.42      , 15803890.21      ,\n",
              "       15885889.42      , 16026824.02      , 16109190.83      ,\n",
              "       16179614.94      , 16233235.25      , 16306624.43      ,\n",
              "       16418242.55      , 16530429.92      , 16651242.49      ,\n",
              "       16767273.53      , 16892671.64      , 16968773.11      ,\n",
              "       17044036.34999999, 17191424.11      , 17276735.50999999,\n",
              "       17331123.61999999, 17455280.26999999, 17601483.60999999,\n",
              "       17657937.54999999, 17726811.33999999, 17818478.94999999,\n",
              "       17912255.46999999, 17978689.28999999, 18087748.55999999,\n",
              "       18209818.52999999, 18322908.84999999, 18412309.94999999,\n",
              "       18469152.73999999, 18615829.44999999, 18705341.40999999,\n",
              "       18802631.58999999, 18923305.14999999, 19037740.08999999,\n",
              "       19177286.77999999, 19272364.93999999, 19340456.70999999,\n",
              "       19401953.67999999, 19541622.97999999, 19622284.36999999,\n",
              "       19684068.01999999, 19736873.92999999, 19863898.67999999,\n",
              "       19999441.67999999, 20121150.40999999, 20228493.08999999,\n",
              "       20286381.18999999, 20404542.66999999, 20547041.72999999,\n",
              "       20675437.83999999, 20787788.44999999, 20912449.82999999,\n",
              "       20966712.98999999, 21028754.30999999, 21158050.41999999,\n",
              "       21219048.74999999, 21277057.24999999, 21359361.43999999,\n",
              "       21473893.17999999, 21602458.78999999, 21728947.04999999,\n",
              "       21848021.59999999, 21978259.63999999, 22094019.80999999,\n",
              "       22215267.80999999, 22313424.15999999, 22425570.95999999,\n",
              "       22528300.58999999, 22669383.93999999, 22772352.7       ,\n",
              "       22848662.71      , 22969144.45      , 23023703.63      ,\n",
              "       23116661.27      , 23244471.32999999, 23317783.07999999,\n",
              "       23382921.11      , 23473062.57999999, 23544222.93999999,\n",
              "       23611762.72999999, 23679427.58999999, 23748079.74999999,\n",
              "       23862808.48999999, 24004453.56999999, 24130701.40999999,\n",
              "       24259553.61999999, 24391938.37999999, 24521353.70999999,\n",
              "       24610890.52999999, 24698865.82999999, 24776541.61999999,\n",
              "       24835423.28999999, 24890505.27999999, 25009331.71999999,\n",
              "       25146959.33999999, 25198718.91999999, 25250385.97999999,\n",
              "       25319320.00999999, 25441430.90999999, 25531812.37999999])"
            ]
          },
          "metadata": {},
          "execution_count": 249
        }
      ]
    },
    {
      "cell_type": "code",
      "source": [
        "np.cumprod(dataset[::,2])"
      ],
      "metadata": {
        "colab": {
          "base_uri": "https://localhost:8080/"
        },
        "id": "HpItZG4JfuiG",
        "outputId": "85eebd4b-4307-4fff-999c-a38c415d025b"
      },
      "execution_count": 250,
      "outputs": [
        {
          "output_type": "execute_result",
          "data": {
            "text/plain": [
              "array([8.80786400e+004, 9.35059929e+009, 6.81024344e+014, 8.48209487e+019,\n",
              "       7.85544618e+024, 7.65888171e+029, 4.32307110e+034, 4.85526017e+039,\n",
              "       5.86108898e+044, 4.48763011e+049, 3.21527882e+054, 2.37671899e+059,\n",
              "       2.67934638e+064, 1.42496697e+069, 1.81666787e+074, 1.08837299e+079,\n",
              "       6.65198225e+083, 5.89048927e+088, 3.69314180e+093, 3.75689650e+098,\n",
              "       3.98784721e+103, 3.77108378e+108, 5.03552214e+113, 6.32887838e+118,\n",
              "       7.69567625e+123, 5.49218096e+128, 5.23667097e+133, 5.52117093e+138,\n",
              "       3.14956686e+143, 3.79310841e+148, 2.68200075e+153, 1.85340145e+158,\n",
              "       1.10015482e+163, 7.25611512e+167, 4.35490479e+172, 5.17839638e+177,\n",
              "       2.67239379e+182, 3.29457703e+187, 2.29863233e+192, 2.35861606e+197,\n",
              "       1.60379264e+202, 2.16889363e+207, 1.87915850e+212, 2.57103441e+217,\n",
              "       3.02422370e+222, 1.69987683e+227, 1.43168131e+232, 1.29970392e+237,\n",
              "       8.40922732e+241, 1.06250999e+247, 1.57413926e+252, 2.08256782e+257,\n",
              "       2.86618874e+262, 2.30506666e+267, 1.29945805e+272, 9.20614438e+276,\n",
              "       1.18477766e+282, 1.57965446e+287, 2.08453461e+292, 2.33537229e+297,\n",
              "       1.90097787e+302, 1.84704903e+307,             inf,             inf,\n",
              "                   inf,             inf,             inf,             inf,\n",
              "                   inf,             inf,             inf,             inf,\n",
              "                   inf,             inf,             inf,             inf,\n",
              "                   inf,             inf,             inf,             inf,\n",
              "                   inf,             inf,             inf,             inf,\n",
              "                   inf,             inf,             inf,             inf,\n",
              "                   inf,             inf,             inf,             inf,\n",
              "                   inf,             inf,             inf,             inf,\n",
              "                   inf,             inf,             inf,             inf,\n",
              "                   inf,             inf,             inf,             inf,\n",
              "                   inf,             inf,             inf,             inf,\n",
              "                   inf,             inf,             inf,             inf,\n",
              "                   inf,             inf,             inf,             inf,\n",
              "                   inf,             inf,             inf,             inf,\n",
              "                   inf,             inf,             inf,             inf,\n",
              "                   inf,             inf,             inf,             inf,\n",
              "                   inf,             inf,             inf,             inf,\n",
              "                   inf,             inf,             inf,             inf,\n",
              "                   inf,             inf,             inf,             inf,\n",
              "                   inf,             inf,             inf,             inf,\n",
              "                   inf,             inf,             inf,             inf,\n",
              "                   inf,             inf,             inf,             inf,\n",
              "                   inf,             inf,             inf,             inf,\n",
              "                   inf,             inf,             inf,             inf,\n",
              "                   inf,             inf,             inf,             inf,\n",
              "                   inf,             inf,             inf,             inf,\n",
              "                   inf,             inf,             inf,             inf,\n",
              "                   inf,             inf,             inf,             inf,\n",
              "                   inf,             inf,             inf,             inf,\n",
              "                   inf,             inf,             inf,             inf,\n",
              "                   inf,             inf,             inf,             inf,\n",
              "                   inf,             inf,             inf,             inf,\n",
              "                   inf,             inf,             inf,             inf,\n",
              "                   inf,             inf,             inf,             inf,\n",
              "                   inf,             inf,             inf,             inf,\n",
              "                   inf,             inf,             inf,             inf,\n",
              "                   inf,             inf,             inf,             inf,\n",
              "                   inf,             inf,             inf,             inf,\n",
              "                   inf,             inf,             inf,             inf,\n",
              "                   inf,             inf,             inf,             inf,\n",
              "                   inf,             inf,             inf,             inf,\n",
              "                   inf,             inf,             inf,             inf,\n",
              "                   inf,             inf,             inf,             inf,\n",
              "                   inf,             inf,             inf,             inf,\n",
              "                   inf,             inf,             inf,             inf,\n",
              "                   inf,             inf,             inf,             inf,\n",
              "                   inf,             inf,             inf,             inf,\n",
              "                   inf,             inf,             inf,             inf,\n",
              "                   inf,             inf])"
            ]
          },
          "metadata": {},
          "execution_count": 250
        }
      ]
    },
    {
      "cell_type": "markdown",
      "source": [
        "**6.7. ndarray.sum() y np.sum()**"
      ],
      "metadata": {
        "id": "urpblfZZgZPX"
      }
    },
    {
      "cell_type": "markdown",
      "source": [
        "En NumPy, existen dos formas comunes de calcular la suma de los elementos en un arreglo (array), y estas son ndarray.sum() y np.sum(). Ambos métodos realizan la misma operación, pero con algunas diferencias sutiles:"
      ],
      "metadata": {
        "id": "2_gRfz0YgZz2"
      }
    },
    {
      "cell_type": "markdown",
      "source": [
        "**ndarray.sum()**"
      ],
      "metadata": {
        "id": "fvHwAZkT_jYt"
      }
    },
    {
      "cell_type": "code",
      "source": [
        "# Sumatoria (Vertical)\n",
        "dataset.sum(axis = 0)"
      ],
      "metadata": {
        "colab": {
          "base_uri": "https://localhost:8080/"
        },
        "id": "hSUJnoL8_XiV",
        "outputId": "39f79bf5-201c-47df-f6e7-caef1c1caf36"
      },
      "execution_count": 251,
      "outputs": [
        {
          "output_type": "execute_result",
          "data": {
            "text/plain": [
              "array([  517999.        , 11480849.        , 25531812.37999999])"
            ]
          },
          "metadata": {},
          "execution_count": 251
        }
      ]
    },
    {
      "cell_type": "code",
      "source": [
        "# Sumatoria del kilometraje\n",
        "dataset[::,1].sum()"
      ],
      "metadata": {
        "colab": {
          "base_uri": "https://localhost:8080/"
        },
        "id": "_4rZxrqM_Xao",
        "outputId": "9fd7a401-c0b1-4a94-a1cc-345dc06021c8"
      },
      "execution_count": 252,
      "outputs": [
        {
          "output_type": "execute_result",
          "data": {
            "text/plain": [
              "11480849.0"
            ]
          },
          "metadata": {},
          "execution_count": 252
        }
      ]
    },
    {
      "cell_type": "markdown",
      "source": [
        "**np.sum()**"
      ],
      "metadata": {
        "id": "U1oZjUObA_qO"
      }
    },
    {
      "cell_type": "code",
      "source": [
        "np.sum(dataset,axis = 0)"
      ],
      "metadata": {
        "colab": {
          "base_uri": "https://localhost:8080/"
        },
        "id": "r2U3zdno_XRh",
        "outputId": "8ea718fc-427b-4513-dad4-30328d2acc8b"
      },
      "execution_count": 253,
      "outputs": [
        {
          "output_type": "execute_result",
          "data": {
            "text/plain": [
              "array([  517999.        , 11480849.        , 25531812.37999999])"
            ]
          },
          "metadata": {},
          "execution_count": 253
        }
      ]
    },
    {
      "cell_type": "code",
      "source": [
        "# Sumatoria del valor\n",
        "np.sum(dataset[::,2])"
      ],
      "metadata": {
        "colab": {
          "base_uri": "https://localhost:8080/"
        },
        "id": "X3NAcBD0_XDw",
        "outputId": "9e82a2a1-9cf0-46a1-a1f4-efcd0e0f4f70"
      },
      "execution_count": 254,
      "outputs": [
        {
          "output_type": "execute_result",
          "data": {
            "text/plain": [
              "25531812.38"
            ]
          },
          "metadata": {},
          "execution_count": 254
        }
      ]
    },
    {
      "cell_type": "markdown",
      "source": [
        "**6.8. np.percentile()**"
      ],
      "metadata": {
        "id": "6mSBo_NMf-Ev"
      }
    },
    {
      "cell_type": "markdown",
      "source": [
        "**Cuantiles y percentiles:** Puedes calcular cuantiles y percentiles utilizando **numpy.percentile()**.\n",
        "\n"
      ],
      "metadata": {
        "id": "amH8ipbqf9KX"
      }
    },
    {
      "cell_type": "code",
      "source": [
        "arreglo = np.array([1, 2, 3, 4, 5, 6, 7, 8, 9])\n",
        "\n",
        "percentil_25 = np.percentile(arreglo, 25)  # Percentil 25\n",
        "cuantil_75 = np.percentile(arreglo, 75)    # Cuantil 75"
      ],
      "metadata": {
        "id": "JznfbHku_W8d"
      },
      "execution_count": 255,
      "outputs": []
    },
    {
      "cell_type": "code",
      "source": [
        "percentil_25"
      ],
      "metadata": {
        "colab": {
          "base_uri": "https://localhost:8080/"
        },
        "id": "tOaxu-g-_W0N",
        "outputId": "4d0c4170-9cac-4a04-f703-e9542993cd5e"
      },
      "execution_count": 256,
      "outputs": [
        {
          "output_type": "execute_result",
          "data": {
            "text/plain": [
              "3.0"
            ]
          },
          "metadata": {},
          "execution_count": 256
        }
      ]
    },
    {
      "cell_type": "code",
      "source": [
        "cuantil_75"
      ],
      "metadata": {
        "colab": {
          "base_uri": "https://localhost:8080/"
        },
        "id": "liyQnMPq_WrV",
        "outputId": "4ba7f4d5-8db6-4cb6-f944-e729d058ec71"
      },
      "execution_count": 257,
      "outputs": [
        {
          "output_type": "execute_result",
          "data": {
            "text/plain": [
              "7.0"
            ]
          },
          "metadata": {},
          "execution_count": 257
        }
      ]
    }
  ]
}